{
 "cells": [
  {
   "cell_type": "code",
   "execution_count": null,
   "id": "389c5195",
   "metadata": {},
   "outputs": [],
   "source": [
    "import os\n",
    "import pandas as pd\n",
    "import numpy as np\n",
    "from datetime import datetime\n",
    "import matplotlib.pyplot as plt\n",
    "import seaborn as sns"
   ]
  },
  {
   "cell_type": "code",
   "execution_count": null,
   "id": "aa415ae7",
   "metadata": {},
   "outputs": [],
   "source": [
    "\n",
    "file=pd.read_excel(\"Merged files.xlsx\",header=0)"
   ]
  },
  {
   "cell_type": "code",
   "execution_count": null,
   "id": "b5a50321",
   "metadata": {},
   "outputs": [],
   "source": [
    "file.head(3)"
   ]
  },
  {
   "cell_type": "code",
   "execution_count": null,
   "id": "925ee23d",
   "metadata": {},
   "outputs": [],
   "source": [
    "file['Datum i vrijeme'] = pd.to_datetime(file['Datum i vrijeme'],yearfirst=True)"
   ]
  },
  {
   "cell_type": "code",
   "execution_count": null,
   "id": "46c22587",
   "metadata": {},
   "outputs": [],
   "source": [
    "#Merged files has been manually modified \n",
    "file[\"Sat\"]=file[\"Datum i vrijeme\"].dt.hour\n",
    "file[\"Dan u sedmici\"]=file[\"Datum i vrijeme\"].dt.dayofweek\n",
    "file[\"Mjesec\"]=file[\"Datum i vrijeme\"].dt.month\n",
    "file[\"Godina\"]=file[\"Datum i vrijeme\"].dt.year\n",
    "file['Kvartal'] =file['Datum i vrijeme'].dt.quarter\n",
    "file['Dan u godini'] =file['Datum i vrijeme'].dt.dayofyear\n",
    "file['Dan u mjesecu'] = file['Datum i vrijeme'].dt.day\n",
    "file['Sedmica'] = file['Datum i vrijeme'].dt.weekofyear"
   ]
  },
  {
   "cell_type": "code",
   "execution_count": null,
   "id": "658d4dac",
   "metadata": {},
   "outputs": [],
   "source": [
    "file[:46].describe()"
   ]
  },
  {
   "cell_type": "code",
   "execution_count": null,
   "id": "b36e9ec6",
   "metadata": {},
   "outputs": [],
   "source": [
    "file=file.drop(['Vodomjer hidrant 10058705Voda (m3)', 'Brojilo el.energije ko 46621646El.energija VT (kWh)', 'Brojilo el.energije ko 46621646El.energija MT (kWh)','Brojilo el.energije po 38878959El.energija VT (kWh)',\n",
    "       'Brojilo el.energije po 38878959El.energija MT (kWh)',\n",
    "       'Brojilo el.energije kl 46868995El.energija VT (kWh)',\n",
    "       'Brojilo el.energije kl 46868995El.energija MT (kWh)', 'Kalorimetar 2 39024724Topl.energija (MWh)'],axis=1)"
   ]
  },
  {
   "cell_type": "code",
   "execution_count": null,
   "id": "a61149d1",
   "metadata": {},
   "outputs": [],
   "source": [
    "file.to_excel(\"Merged files_1.xlsx\", index=False)"
   ]
  },
  {
   "cell_type": "code",
   "execution_count": null,
   "id": "5816e9b3",
   "metadata": {},
   "outputs": [],
   "source": [
    "file=file.sort_values(by=[\"Godina\",\"Dan u godini\",\"Sat\"])"
   ]
  },
  {
   "cell_type": "code",
   "execution_count": null,
   "id": "78ea5add",
   "metadata": {},
   "outputs": [],
   "source": [
    "file[\"Temp sr_K1\"]=(file['Kalorimetar 1 39024788Temp.pol.voda (°C)']+file['Kalorimetar 1 39024788Temp.pov.voda (°C)'])/2\n",
    "file[\"Temp sr_K3\"]=(file['Kalorimetar 3 39024787Temp.pol.voda (°C)']+file['Kalorimetar 3 39024787Temp.pol.voda (°C)'])/2"
   ]
  },
  {
   "cell_type": "code",
   "execution_count": null,
   "id": "43d1346a",
   "metadata": {},
   "outputs": [],
   "source": [
    "def heat(val):\n",
    "    if val>=40:\n",
    "        return 1\n",
    "    else: \n",
    "        return 0"
   ]
  },
  {
   "cell_type": "code",
   "execution_count": null,
   "id": "359f8ba2",
   "metadata": {},
   "outputs": [],
   "source": [
    "file[\"Grijanje_K1\"]=list(map(heat,file[\"Temp sr_K1\"].values))\n",
    "file[\"Grijanje_K3\"]=list(map(heat,file[\"Temp sr_K3\"].values))"
   ]
  },
  {
   "cell_type": "code",
   "execution_count": null,
   "id": "76f6bed3",
   "metadata": {},
   "outputs": [],
   "source": [
    "aa=file.groupby([\"Godina\",\"Dan u godini\"], axis=0)\n"
   ]
  },
  {
   "cell_type": "code",
   "execution_count": null,
   "id": "9c8d8018",
   "metadata": {},
   "outputs": [],
   "source": [
    "values_tot=[]\n",
    "for name,group in aa:\n",
    "\n",
    "    values=[-1]*len(aa.get_group(name))\n",
    "    if aa.get_group(name)[\"Grijanje_K1\"].empty==False:\n",
    "        b=np.argwhere(aa.get_group(name)[\"Grijanje_K1\"].values==1)\n",
    "        enum=list(enumerate(b))\n",
    "        for k,val in enumerate(b):\n",
    "            values[val[0]]=enum[k][0]  \n",
    "    else:pass\n",
    "    values_tot.append(values)"
   ]
  },
  {
   "cell_type": "code",
   "execution_count": null,
   "id": "64b99aed",
   "metadata": {},
   "outputs": [],
   "source": [
    "file[\"Broj sati grijanja_K1\"]=np.concatenate(values_tot)"
   ]
  },
  {
   "cell_type": "code",
   "execution_count": null,
   "id": "171c57d3",
   "metadata": {},
   "outputs": [],
   "source": [
    "values_tot=[]\n",
    "for name,group in aa:\n",
    "\n",
    "    values=[-1]*len(aa.get_group(name))\n",
    "    if aa.get_group(name)[\"Grijanje_K3\"].empty==False:\n",
    "        b=np.argwhere(aa.get_group(name)[\"Grijanje_K3\"].values==1)\n",
    "        enum=list(enumerate(b))\n",
    "        for k,val in enumerate(b):\n",
    "            values[val[0]]=enum[k][0]  \n",
    "    else:pass\n",
    "    values_tot.append(values)"
   ]
  },
  {
   "cell_type": "code",
   "execution_count": null,
   "id": "5be3d789",
   "metadata": {},
   "outputs": [],
   "source": [
    "file[\"Broj sati grijanja_K3\"]=np.concatenate(values_tot)"
   ]
  },
  {
   "cell_type": "code",
   "execution_count": null,
   "id": "7b7dcda7",
   "metadata": {},
   "outputs": [],
   "source": [
    "aa=file.groupby([\"Godina\",\"Dan u godini\"], axis=0)"
   ]
  },
  {
   "cell_type": "code",
   "execution_count": null,
   "id": "b0962af6",
   "metadata": {},
   "outputs": [],
   "source": [
    "values_xbefore=[]\n",
    "values_xafter=[]\n",
    "for name,group in aa:\n",
    "    values_before=[None]*len(aa.get_group(name))\n",
    "    values_after=[None]*len(aa.get_group(name))\n",
    "    if aa.get_group(name)[\"Grijanje_K1\"].empty==False:\n",
    "        \n",
    "        b=np.argwhere(aa.get_group(name)[\"Grijanje_K1\"].values)\n",
    "        if b.size==0:\n",
    "            values_before=values_before\n",
    "            values_after=values_after\n",
    "        else:\n",
    "            values_before[b[0][0]]=b[0][0]\n",
    "            values_after[b[-1][0]]=24-b[-1][0]\n",
    "        \n",
    "    values_xbefore.append(values_before)\n",
    "    values_xafter.append(values_after)"
   ]
  },
  {
   "cell_type": "code",
   "execution_count": null,
   "id": "6750750f",
   "metadata": {},
   "outputs": [],
   "source": [
    "val_xbefore=np.concatenate(values_xbefore)\n",
    "val_xafter=np.concatenate(values_xafter)"
   ]
  },
  {
   "cell_type": "code",
   "execution_count": null,
   "id": "2d3c4bad",
   "metadata": {},
   "outputs": [],
   "source": [
    "file[\"Negrijano_K1_prije\"]=np.concatenate(values_xbefore)\n",
    "file[\"Negrijano_K1_poslije\"]=np.concatenate(values_xafter)"
   ]
  },
  {
   "cell_type": "code",
   "execution_count": null,
   "id": "cdfab956",
   "metadata": {},
   "outputs": [],
   "source": [
    "bb=file.groupby([\"Godina\",\"Mjesec\",\"Dan u mjesecu\"], axis=0)"
   ]
  },
  {
   "cell_type": "code",
   "execution_count": null,
   "id": "ddfdf878",
   "metadata": {},
   "outputs": [],
   "source": [
    "start_date_s1=file[file[\"Datum i vrijeme\"]=='10/01/2015  00:00:00 AM'].index.values\n",
    "end_date_s1=file[file[\"Datum i vrijeme\"]=='05/09/2016  11:00:00 PM'].index.values\n",
    "start_date_s2=file[file[\"Datum i vrijeme\"]=='09/30/2016  00:00:00 AM'].index.values\n",
    "end_date_s2=file[file[\"Datum i vrijeme\"]=='04/25/2017  06:00:00 AM'].index.values\n",
    "start_date_s3=file[file[\"Datum i vrijeme\"]=='10/01/2017  00:00:00 AM'].index.values\n"
   ]
  },
  {
   "cell_type": "code",
   "execution_count": null,
   "id": "814734aa",
   "metadata": {},
   "outputs": [],
   "source": [
    "S1=file.loc[start_date_s1[0]:end_date_s1[0]]\n",
    "S2=file.loc[start_date_s2[0]:end_date_s2[0]]\n",
    "S3=file.loc[start_date_s3[0]:]"
   ]
  },
  {
   "cell_type": "code",
   "execution_count": null,
   "id": "dd86a7e2",
   "metadata": {},
   "outputs": [],
   "source": [
    "values_1=[None]*len(S1[\"Negrijano_K1_prije\"].values)\n",
    "values_1[0]=\"-5\"\n",
    "num_before=np.argwhere(S1[\"Negrijano_K1_prije\"].values)\n",
    "num_after=np.argwhere(S1[\"Negrijano_K1_poslije\"].values)\n",
    "values_1[1:]=[num_before[val][0]-num_after[val-1][0] for val in range(1,len(num_before))]\n",
    "\n",
    "values_2=[None]*len(S2[\"Negrijano_K1_prije\"].values)\n",
    "values_2[0]=\"-5\"\n",
    "num_before=np.argwhere(S2[\"Negrijano_K1_prije\"].values)\n",
    "num_after=np.argwhere(S2[\"Negrijano_K1_poslije\"].values)\n",
    "values_2[1:]=[num_before[val][0]-num_after[val-1][0] for val in range(1,len(num_before))]\n",
    "\n",
    "values_3=[None]*len(S3[\"Negrijano_K1_prije\"].values)\n",
    "values_3[0]=\"-5\"#pocetak sezone\n",
    "num_before=np.argwhere(S3[\"Negrijano_K1_prije\"].values)\n",
    "num_after=np.argwhere(S3[\"Negrijano_K1_poslije\"].values)\n",
    "values_3[1:]=[num_before[val][0]-num_after[val-1][0] for val in range(1,len(num_before))]"
   ]
  },
  {
   "cell_type": "code",
   "execution_count": null,
   "id": "256fa19d",
   "metadata": {},
   "outputs": [],
   "source": [
    "val_unheat=np.concatenate([values_1,values_2,values_3])"
   ]
  },
  {
   "cell_type": "code",
   "execution_count": null,
   "id": "b0434660",
   "metadata": {},
   "outputs": [],
   "source": [
    "file[\"Negrijano\"]=np.empty(len(file[\"Negrijano_K1_prije\"].values))\n",
    "for val,k in list(enumerate(np.argwhere(file[\"Negrijano_K1_prije\"].values))):\n",
    "    file[\"Negrijano\"].values[[k][0]]=val_unheat[val]"
   ]
  },
  {
   "cell_type": "code",
   "execution_count": null,
   "id": "2067f3ad",
   "metadata": {},
   "outputs": [],
   "source": [
    "file.to_excel(\"Merged files_1.xlsx\", index=False)"
   ]
  },
  {
   "cell_type": "code",
   "execution_count": null,
   "id": "681b1c80",
   "metadata": {},
   "outputs": [],
   "source": []
  },
  {
   "cell_type": "code",
   "execution_count": null,
   "id": "00b7f71b",
   "metadata": {},
   "outputs": [],
   "source": []
  },
  {
   "cell_type": "code",
   "execution_count": null,
   "id": "bc0af58d",
   "metadata": {},
   "outputs": [],
   "source": [
    "values_xbefore=[]\n",
    "values_xafter=[]\n",
    "for name,group i:\n",
    "    \n",
    "    \n",
    "    values_unheatbef=\n",
    "    \n",
    "    \n",
    "    \n",
    "    \n",
    "    if aa.get_group(name)[\"Grijanje_K1\"].empty==False:\n",
    "        \n",
    "        b=np.argwhere(aa.get_group(name)[\"Grijanje_K1\"].values)\n",
    "        if b.size==0:\n",
    "            values_before=values_before\n",
    "            values_after=values_after\n",
    "        else:\n",
    "            values_before[b[0][0]]=b[0][0]\n",
    "            values_after[b[-1][0]]=24-b[-1][0]\n",
    "        \n",
    "    values_xbefore.append(values_before)\n",
    "    values_xafter.append(values_after)"
   ]
  },
  {
   "cell_type": "code",
   "execution_count": null,
   "id": "bf6374bf",
   "metadata": {},
   "outputs": [],
   "source": []
  },
  {
   "cell_type": "code",
   "execution_count": null,
   "id": "971aca9d",
   "metadata": {},
   "outputs": [],
   "source": [
    "X=file[file.columns[18:20]]"
   ]
  },
  {
   "cell_type": "code",
   "execution_count": null,
   "id": "7070d5fa",
   "metadata": {},
   "outputs": [],
   "source": [
    "X[\"Temp_vanj\"]=file['Temp.senzor vanj.1 25000099Temperatura (°C)']"
   ]
  },
  {
   "cell_type": "code",
   "execution_count": null,
   "id": "e3088830",
   "metadata": {},
   "outputs": [],
   "source": [
    "X.set_index(file[\"Datum i vrijeme\"])"
   ]
  },
  {
   "cell_type": "code",
   "execution_count": null,
   "id": "d8649c54",
   "metadata": {},
   "outputs": [],
   "source": [
    "X[\"Datum i vrijeme\"]=file[\"Datum i vrijeme\"].values"
   ]
  },
  {
   "cell_type": "code",
   "execution_count": null,
   "id": "e8b7f4d7",
   "metadata": {},
   "outputs": [],
   "source": [
    "Y=file.loc[:, ['Temp.senzor un.4 24004658Temperatura (°C)']]"
   ]
  },
  {
   "cell_type": "code",
   "execution_count": null,
   "id": "81d04a66",
   "metadata": {},
   "outputs": [],
   "source": [
    "feat_and_lab=pd.concat([X,Y],axis=1)"
   ]
  },
  {
   "cell_type": "code",
   "execution_count": null,
   "id": "4dbf854d",
   "metadata": {},
   "outputs": [],
   "source": [
    "feat_and_lab.head(2)"
   ]
  },
  {
   "cell_type": "code",
   "execution_count": null,
   "id": "7df54e86",
   "metadata": {},
   "outputs": [],
   "source": [
    "feat_and_lab.isna().sum()"
   ]
  },
  {
   "cell_type": "code",
   "execution_count": null,
   "id": "ee390d12",
   "metadata": {},
   "outputs": [],
   "source": [
    "for col in feat_and_lab.columns:\n",
    "    feat_and_lab[col] = feat_and_lab[col].interpolate(method=\"bfill\")"
   ]
  },
  {
   "cell_type": "code",
   "execution_count": null,
   "id": "b749690b",
   "metadata": {},
   "outputs": [],
   "source": [
    "feat_and_lab.isna().sum()"
   ]
  },
  {
   "cell_type": "code",
   "execution_count": null,
   "id": "dd95a65a",
   "metadata": {},
   "outputs": [],
   "source": [
    "feat_and_lab.columns"
   ]
  },
  {
   "cell_type": "code",
   "execution_count": null,
   "id": "e8048caf",
   "metadata": {},
   "outputs": [],
   "source": [
    "columns1=feat_and_lab.columns\n",
    "downsample=feat_and_lab[columns1].resample(\"1D\", on=\"Datum i vrijeme\").mean()\n",
    "\n",
    "feat_and_lab_1= downsample.copy()"
   ]
  },
  {
   "cell_type": "code",
   "execution_count": null,
   "id": "bce63c9d",
   "metadata": {},
   "outputs": [],
   "source": [
    "feat_and_lab.isna().sum()"
   ]
  },
  {
   "cell_type": "code",
   "execution_count": null,
   "id": "06d51330",
   "metadata": {},
   "outputs": [],
   "source": [
    "#Merged files has been manually modified \n",
    "feat_and_lab_[\"Dan u sedmici\"]=pd.DatetimeIndex(feat_and_lab_1.index).dayofweek\n",
    "feat_and_lab_[\"Mjesec\"]=pd.DatetimeIndex(feat_and_lab_1.index).month\n",
    "feat_and_lab_[\"Godina\"]=pd.DatetimeIndex(feat_and_lab_1.index).year\n",
    "feat_and_lab_1 ['Kvartal'] =pd.DatetimeIndex(feat_and_lab_1.index).quarter\n",
    "feat_and_lab_1 ['Dan u godini'] =pd.DatetimeIndex(feat_and_lab_1.index).dayofyear\n",
    "feat_and_lab_1 ['Dan u mjesecu'] = pd.DatetimeIndex(feat_and_lab_1.index).day\n",
    "feat_and_lab_1 ['Sedmica'] =pd.DatetimeIndex(feat_and_lab_1.index).weekofyear\n",
    "feat_and_lab_1 ['Sezona'] = feat_and_lab_1 ['Mjesec'] % 12 // 3 + 1\n",
    "\n",
    "feat_and_lab_1 [[ \"Dan u sedmici\", \"Mjesec\", \"Godina\", 'Kvartal', 'Dan u godini', 'Dan u mjesecu', 'Sedmica',\"Sezona\"]].head()"
   ]
  },
  {
   "cell_type": "code",
   "execution_count": null,
   "id": "47a2e646",
   "metadata": {},
   "outputs": [],
   "source": [
    "for col in feat_and_lab_1.columns:\n",
    "    feat_and_lab_1[col] = feat_and_lab_1[col].interpolate()\n",
    "feat_and_lab_1.isna().sum()"
   ]
  },
  {
   "cell_type": "code",
   "execution_count": null,
   "id": "9f7cee74",
   "metadata": {},
   "outputs": [],
   "source": [
    "from statsmodels.tsa.seasonal import seasonal_decompose\n",
    "\n",
    "core_columns =  [\"Temp.senzor vanj.1 25000099Temperatura (°C)\",\"Plinomjer ist.zgrada 00062313Plin (m3)\",\"Plinomjer zap.zgrada 20526377Plin (m3)\",\"Plin, m3\",\"Kalorimetar 1 39024788Topl.energija (MWh)\",\"Kalorimetar 3 39024787Topl.energija (MWh)\",\"Kalorimetar, (MWh)\"\n",
    "]\n",
    "\n",
    "for column in core_columns:\n",
    "    decomp = seasonal_decompose(feat_and_lab_1[column], period=27, model='additive', extrapolate_trend='freq')\n",
    "    feat_and_lab_1[f\"{column}_trend\"] = decomp.trend\n",
    "    feat_and_lab_1[f\"{column}_seasonal\"] = decomp.seasonal"
   ]
  },
  {
   "cell_type": "code",
   "execution_count": null,
   "id": "56ee8ec4",
   "metadata": {},
   "outputs": [],
   "source": [
    "fig, ax = plt.subplots(ncols=len(core_columns), nrows=4, sharex=True, figsize=(20,8))\n",
    "\n",
    "for i, column in enumerate(core_columns):\n",
    "    \n",
    "    res = seasonal_decompose(feat_and_lab_1[column], freq=52, model='additive', extrapolate_trend='freq')\n",
    "\n",
    "    ax[0,i].set_title('Decomposition of {}'.format(column), fontsize=16)\n",
    "    res.observed.plot(ax=ax[0,i], legend=False, color='dodgerblue')\n",
    "    ax[0,i].set_ylabel('Observed', fontsize=7)\n",
    "\n",
    "    res.trend.plot(ax=ax[1,i], legend=False, color='dodgerblue')\n",
    "    ax[1,i].set_ylabel('Trend', fontsize=7)\n",
    "\n",
    "    res.seasonal.plot(ax=ax[2,i], legend=False, color='dodgerblue')\n",
    "    ax[2,i].set_ylabel('Seasonal', fontsize=7)\n",
    "    \n",
    "    res.resid.plot(ax=ax[3,i], legend=False, color='dodgerblue')\n",
    "    ax[3,i].set_ylabel('Residual', fontsize=7)\n",
    "\n",
    "plt.show()"
   ]
  },
  {
   "cell_type": "code",
   "execution_count": null,
   "id": "dd93461e",
   "metadata": {},
   "outputs": [],
   "source": [
    "feat_and_lab"
   ]
  },
  {
   "cell_type": "code",
   "execution_count": null,
   "id": "4dcc3ec9",
   "metadata": {},
   "outputs": [],
   "source": [
    "from statsmodels.tsa.arima_model import ARIMA\n",
    "#aa=feat_and_lab.index.values\n",
    "aa=feat_and_lab.index"
   ]
  },
  {
   "cell_type": "code",
   "execution_count": null,
   "id": "adad8656",
   "metadata": {},
   "outputs": [],
   "source": [
    "#univariate_df[\"Datum i vrijeme\"]=aa\n",
    "univariate_df=pd.DataFrame(aa)\n",
    "#univariate_df[\"Temp.senzor vanj.1 25000099Temperatura (°C)\"]=feat_and_lab_1[\"Temp.senzor vanj.1 25000099Temperatura (°C)\"].values\n",
    "univariate_df[\"Temp pol\"]=feat_and_lab['Temp.senzor un.1 24003403Temp.pol.voda (°C)'].values\n",
    "univariate_df[\"Temp pov\"]=feat_and_lab['Temp.senzor un.1 24003403Temp.pov.voda (°C)'].values\n",
    "univariate_df[\"Temp vanj\"]=feat_and_lab['Temp_vanj'].values\n",
    "univariate_df[\"Temp \"]=feat_and_lab['Temp.senzor un.4 24004658Temperatura (°C)'].values\n",
    "#univariate_df[\"Plin, m3\"]=feat_and_lab_1[\"Plin, m3\"].values"
   ]
  },
  {
   "cell_type": "code",
   "execution_count": null,
   "id": "d4dcc41c",
   "metadata": {},
   "outputs": [],
   "source": [
    "univariate_df"
   ]
  },
  {
   "cell_type": "code",
   "execution_count": null,
   "id": "792c3432",
   "metadata": {},
   "outputs": [],
   "source": [
    "train_size = int(0.85 * len(feat_and_lab))\n",
    "test_size = len(feat_and_lab) - train_size\n",
    "\n",
    "\n",
    "train = univariate_df.iloc[:train_size, :]\n",
    "\n",
    "x_train, y_train = pd.DataFrame((univariate_df.iloc[:train_size, :4])),  pd.DataFrame((univariate_df.iloc[:train_size,4 ]))\n",
    "x_valid, y_valid = pd.DataFrame((univariate_df.iloc[train_size:,:4])), pd.DataFrame((univariate_df.iloc[train_size:, 4]))\n",
    "\n",
    "print(len(train), len(x_valid))"
   ]
  },
  {
   "cell_type": "code",
   "execution_count": null,
   "id": "1a5f3c59",
   "metadata": {},
   "outputs": [],
   "source": [
    "y_valid"
   ]
  },
  {
   "cell_type": "code",
   "execution_count": null,
   "id": "1f9b626c",
   "metadata": {},
   "outputs": [],
   "source": [
    "from sklearn.metrics import mean_absolute_error, mean_squared_error\n",
    "import math"
   ]
  },
  {
   "cell_type": "code",
   "execution_count": null,
   "id": "8d0ae366",
   "metadata": {},
   "outputs": [],
   "source": [
    "y_train"
   ]
  },
  {
   "cell_type": "code",
   "execution_count": null,
   "id": "5d053e3a",
   "metadata": {},
   "outputs": [],
   "source": [
    "y_train.isna().sum()"
   ]
  },
  {
   "cell_type": "code",
   "execution_count": null,
   "id": "f93a51dd",
   "metadata": {},
   "outputs": [],
   "source": [
    "y_train.interpolate()"
   ]
  },
  {
   "cell_type": "code",
   "execution_count": null,
   "id": "af5d34e5",
   "metadata": {},
   "outputs": [],
   "source": [
    "# Fit model\n",
    "model = ARIMA(y_train.interpolate(), order=(2,0,1))\n",
    "model_fit = model.fit()\n",
    "\n",
    "# Prediction with ARIMA\n",
    "y_pred, se, conf = model_fit.forecast(2270)\n",
    "\n",
    "# Calcuate metrics\n",
    "score_mae = mean_absolute_error(y_valid, y_pred)\n",
    "score_rmse = math.sqrt(mean_squared_error(y_valid, y_pred))\n",
    "\n",
    "print('RMSE: {}'.format(score_rmse))"
   ]
  },
  {
   "cell_type": "code",
   "execution_count": null,
   "id": "8f0af1fc",
   "metadata": {},
   "outputs": [],
   "source": []
  },
  {
   "cell_type": "code",
   "execution_count": null,
   "id": "c540deea",
   "metadata": {},
   "outputs": [],
   "source": [
    "from statsmodels.tsa.arima_model import ARIMA\n",
    "import pmdarima as pm\n",
    "model = pm.auto_arima(y_train.interpolate(), start_p=1, start_q=1,\n",
    "                      test='adf',       # use adftest to find optimal 'd'\n",
    "                      max_p=3, max_q=3, # maximum p and q\n",
    "                      m=1,              # frequency of series\n",
    "                      d=None,           # let model determine 'd'\n",
    "                      seasonal=False,   # No Seasonality\n",
    "                      start_P=0, \n",
    "                      D=0, \n",
    "                      trace=True,\n",
    "                      error_action='ignore',  \n",
    "                      suppress_warnings=True, \n",
    "                      stepwise=True)\n",
    "\n",
    "print(model.summary())"
   ]
  },
  {
   "cell_type": "code",
   "execution_count": null,
   "id": "fcf45798",
   "metadata": {},
   "outputs": [],
   "source": [
    "model.plot_diagnostics(figsize=(16,8))\n",
    "plt.show()\n"
   ]
  },
  {
   "cell_type": "code",
   "execution_count": null,
   "id": "349f3e25",
   "metadata": {},
   "outputs": [],
   "source": [
    "y_valid.columns\n"
   ]
  },
  {
   "cell_type": "code",
   "execution_count": null,
   "id": "cf29e178",
   "metadata": {},
   "outputs": [],
   "source": [
    "f, ax = plt.subplots(1)\n",
    "f.set_figheight(6)\n",
    "f.set_figwidth(15)\n",
    "\n",
    "model_fit.plot_predict(1, 2270, ax=ax)\n",
    "sns.lineplot(x=x_valid.index, y=y_valid['Temp '], ax=ax, color='orange', label='Ground truth') #navajowhite\n",
    "\n",
    "ax.set_title(f'Prediction \\n MAE: {score_mae:.2f}, RMSE: {score_rmse:.2f}', fontsize=14)\n",
    "ax.set_xlabel(xlabel='Date', fontsize=14)\n",
    "ax.set_ylabel(ylabel='Depth to Groundwater', fontsize=14)\n",
    "\n",
    "plt.show()"
   ]
  },
  {
   "cell_type": "code",
   "execution_count": null,
   "id": "63ada679",
   "metadata": {},
   "outputs": [],
   "source": [
    "from datetime import date\n",
    "d0 = date(2015, 10, 15)\n",
    "d1 = date(2016, 4, 15)\n",
    "delta = d1 - d0\n",
    "print(delta.days)"
   ]
  },
  {
   "cell_type": "code",
   "execution_count": null,
   "id": "9dcb037e",
   "metadata": {},
   "outputs": [],
   "source": [
    "from sklearn.preprocessing import MinMaxScaler\n",
    "\n",
    "data = univariate_df.filter([\"Temp \"])\n",
    "#Convert the dataframe to a numpy array\n",
    "dataset = data.values"
   ]
  },
  {
   "cell_type": "code",
   "execution_count": null,
   "id": "60af31c0",
   "metadata": {},
   "outputs": [],
   "source": [
    "dataset"
   ]
  },
  {
   "cell_type": "code",
   "execution_count": null,
   "id": "b488a72b",
   "metadata": {},
   "outputs": [],
   "source": [
    "scaler = MinMaxScaler(feature_range=(-1, 0))\n",
    "scaled_data = scaler.fit_transform(dataset)\n",
    "\n",
    "scaled_data[:10]"
   ]
  },
  {
   "cell_type": "code",
   "execution_count": null,
   "id": "68ce19eb",
   "metadata": {},
   "outputs": [],
   "source": [
    "x_train.shape[1]"
   ]
  },
  {
   "cell_type": "code",
   "execution_count": null,
   "id": "0e175e1f",
   "metadata": {},
   "outputs": [],
   "source": [
    "train"
   ]
  },
  {
   "cell_type": "code",
   "execution_count": null,
   "id": "426966ea",
   "metadata": {},
   "outputs": [],
   "source": [
    "\n",
    "look_back = 0\n",
    "# Split into train and test sets\n",
    "train, test = scaled_data[:train_size-look_back,:], scaled_data[train_size-look_back:,:]\n",
    "\n",
    "def create_dataset(dataset, look_back=0):\n",
    "    X, Y = [], []\n",
    "    for i in range(len(dataset)):\n",
    "        a = train[i, :4]\n",
    "        X.append(a)\n",
    "        Y.append(dataset[i, 0])\n",
    "    return np.array(X), np.array(Y)\n",
    "\n",
    "x_train, y_train = create_dataset(train, 0)\n",
    "x_test, y_test = create_dataset(test, 0)\n",
    "\n",
    "x_train, y_train = create_dataset(train)\n",
    "x_test, y_test = create_dataset(test)\n",
    "# reshape input to be [samples, time steps, features]\n",
    "x_train = np.reshape(x_train, (x_train.shape[0], 1, x_train.shape[1]))\n",
    "x_test = np.reshape(x_test, (x_test.shape[0], 1, x_test.shape[1]))\n",
    "\n",
    "print(len(x_train), len(x_test))"
   ]
  },
  {
   "cell_type": "code",
   "execution_count": null,
   "id": "1ec67e36",
   "metadata": {},
   "outputs": [],
   "source": [
    "x_train, y_train = pd.DataFrame((univariate_df.iloc[:train_size, :4])),  pd.DataFrame((univariate_df.iloc[:train_size,4 ]))\n",
    "x_valid, y_valid = pd.DataFrame((univariate_df.iloc[train_size:,:4])), pd.DataFrame((univariate_df.iloc[train_size:, 4]))\n",
    "x_train = np.reshape(x_train, (x_train.shape[0], 1, x_train.shape[1]))\n",
    "x_test = np.reshape(x_test, (x_test.shape[0], 1, x_test.shape[1]))\n",
    "\n",
    "print(len(x_train), len(x_test))"
   ]
  },
  {
   "cell_type": "code",
   "execution_count": null,
   "id": "91e077e7",
   "metadata": {},
   "outputs": [],
   "source": [
    "x_train.shape\n"
   ]
  },
  {
   "cell_type": "code",
   "execution_count": null,
   "id": "bf07c5ea",
   "metadata": {},
   "outputs": [],
   "source": [
    "from tensorflow import keras\n",
    "from tensorflow.keras.models import Sequential\n",
    "from tensorflow.keras.layers import Dense, LSTM\n",
    "\n",
    "model = Sequential()\n",
    "model.add(LSTM(128, return_sequences=True, input_shape=(x_train.shape[0], x_train.shape[1])))\n",
    "model.add(LSTM(64, return_sequences=False))\n",
    "model.add(Dense(25))\n",
    "model.add(Dense(1))\n",
    "\n",
    "# Compile the model\n",
    "model.compile(optimizer='adam', loss='mean_squared_error')\n",
    "\n",
    "#Train the model\n",
    "model.fit(x_train, y_train, batch_size=1, epochs=5, validation_data=(x_test, y_test))\n",
    "\n",
    "model.summary()"
   ]
  },
  {
   "cell_type": "code",
   "execution_count": null,
   "id": "fb62d640",
   "metadata": {},
   "outputs": [],
   "source": [
    "# Lets predict with the model\n",
    "train_predict = model.predict(x_train)\n",
    "test_predict = model.predict(x_test)\n",
    "\n",
    "# invert predictions\n",
    "train_predict = scaler.inverse_transform(train_predict)\n",
    "y_train = scaler.inverse_transform([y_train])\n",
    "\n",
    "test_predict = scaler.inverse_transform(test_predict)\n",
    "y_test = scaler.inverse_transform([y_test])\n",
    "\n",
    "# Get the root mean squared error (RMSE) and MAE\n",
    "score_rmse = np.sqrt(mean_squared_error(y_test[0], test_predict[:,0]))\n",
    "score_mae = mean_absolute_error(y_test[0], test_predict[:,0])\n",
    "print('RMSE: {}'.format(score_rmse))"
   ]
  },
  {
   "cell_type": "code",
   "execution_count": null,
   "id": "323e5cf0",
   "metadata": {},
   "outputs": [],
   "source": []
  }
 ],
 "metadata": {
  "kernelspec": {
   "display_name": "Python 3",
   "language": "python",
   "name": "python3"
  },
  "language_info": {
   "codemirror_mode": {
    "name": "ipython",
    "version": 3
   },
   "file_extension": ".py",
   "mimetype": "text/x-python",
   "name": "python",
   "nbconvert_exporter": "python",
   "pygments_lexer": "ipython3",
   "version": "3.8.11"
  }
 },
 "nbformat": 4,
 "nbformat_minor": 5
}
