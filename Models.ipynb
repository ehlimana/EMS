{
 "cells": [
  {
   "cell_type": "code",
   "execution_count": 1,
   "metadata": {},
   "outputs": [
    {
     "name": "stderr",
     "output_type": "stream",
     "text": [
      "\n",
      "Bad key \"text.kerning_factor\" on line 4 in\n",
      "C:\\Users\\EhlimanaJugo\\anaconda3\\envs\\Ehlimana\\lib\\site-packages\\matplotlib\\mpl-data\\stylelib\\_classic_test_patch.mplstyle.\n",
      "You probably need to get an updated matplotlibrc file from\n",
      "https://github.com/matplotlib/matplotlib/blob/v3.1.3/matplotlibrc.template\n",
      "or from the matplotlib source distribution\n"
     ]
    }
   ],
   "source": [
    "import os\n",
    "import pandas as pd\n",
    "import numpy as np\n",
    "from datetime import datetime\n",
    "import matplotlib.pyplot as plt\n",
    "import seaborn as sns\n",
    "from sklearn.metrics import mean_absolute_error, mean_squared_error\n",
    "import math"
   ]
  },
  {
   "cell_type": "code",
   "execution_count": 2,
   "metadata": {},
   "outputs": [],
   "source": [
    "file=pd.read_excel(\"Merged files_2.xlsx\",header=0)"
   ]
  },
  {
   "cell_type": "code",
   "execution_count": 3,
   "metadata": {},
   "outputs": [],
   "source": [
    "X=file.loc[:,[\"Datum i vrijeme\",#'Kalorimetar 1 39024788Temp.pol.voda (°C)',\n",
    "       #'Kalorimetar 1 39024788Temp.pov.voda (°C)', \n",
    "        'Temp.senzor vanj.1 25000099Temperatura (°C)',\n",
    "       #'Temp.senzor vanj.1 25000099Vlažnost (%)', \n",
    "        'Grijanje_K1','Broj sati grijanja_K1','Negrijano',\n",
    "       'Sat', 'Dan u sedmici',\n",
    "       'Mjesec', 'Godina', 'Kvartal', 'Dan u godini', 'Dan u mjesecu',\n",
    "       #'Sedmica',\n",
    "        \"T prost (t-1)\",\"T vanj(t-1)\",\"T pol (t-1)\",\"T pov (t-1)\",\"Praznik\",\"Radni sati\"]]"
   ]
  },
  {
   "cell_type": "code",
   "execution_count": 4,
   "metadata": {},
   "outputs": [
    {
     "data": {
      "text/html": [
       "<div>\n",
       "<style scoped>\n",
       "    .dataframe tbody tr th:only-of-type {\n",
       "        vertical-align: middle;\n",
       "    }\n",
       "\n",
       "    .dataframe tbody tr th {\n",
       "        vertical-align: top;\n",
       "    }\n",
       "\n",
       "    .dataframe thead th {\n",
       "        text-align: right;\n",
       "    }\n",
       "</style>\n",
       "<table border=\"1\" class=\"dataframe\">\n",
       "  <thead>\n",
       "    <tr style=\"text-align: right;\">\n",
       "      <th></th>\n",
       "      <th>Datum i vrijeme</th>\n",
       "      <th>Temp.senzor vanj.1 25000099Temperatura (°C)</th>\n",
       "      <th>Grijanje_K1</th>\n",
       "      <th>Broj sati grijanja_K1</th>\n",
       "      <th>Negrijano</th>\n",
       "      <th>Sat</th>\n",
       "      <th>Dan u sedmici</th>\n",
       "      <th>Mjesec</th>\n",
       "      <th>Godina</th>\n",
       "      <th>Kvartal</th>\n",
       "      <th>Dan u godini</th>\n",
       "      <th>Dan u mjesecu</th>\n",
       "      <th>T prost (t-1)</th>\n",
       "      <th>T vanj(t-1)</th>\n",
       "      <th>T pol (t-1)</th>\n",
       "      <th>T pov (t-1)</th>\n",
       "      <th>Praznik</th>\n",
       "      <th>Radni sati</th>\n",
       "    </tr>\n",
       "    <tr>\n",
       "      <th>Datum i vrijeme</th>\n",
       "      <th></th>\n",
       "      <th></th>\n",
       "      <th></th>\n",
       "      <th></th>\n",
       "      <th></th>\n",
       "      <th></th>\n",
       "      <th></th>\n",
       "      <th></th>\n",
       "      <th></th>\n",
       "      <th></th>\n",
       "      <th></th>\n",
       "      <th></th>\n",
       "      <th></th>\n",
       "      <th></th>\n",
       "      <th></th>\n",
       "      <th></th>\n",
       "      <th></th>\n",
       "      <th></th>\n",
       "    </tr>\n",
       "  </thead>\n",
       "  <tbody>\n",
       "    <tr>\n",
       "      <th>2015-10-01 01:00:00</th>\n",
       "      <td>2015-10-01 01:00:00</td>\n",
       "      <td>11.12</td>\n",
       "      <td>0</td>\n",
       "      <td>-1</td>\n",
       "      <td>0.000000e+00</td>\n",
       "      <td>1</td>\n",
       "      <td>3</td>\n",
       "      <td>10</td>\n",
       "      <td>2015</td>\n",
       "      <td>4</td>\n",
       "      <td>274</td>\n",
       "      <td>1</td>\n",
       "      <td>21.11</td>\n",
       "      <td>11.14</td>\n",
       "      <td>18.3</td>\n",
       "      <td>19.5</td>\n",
       "      <td>0</td>\n",
       "      <td>0</td>\n",
       "    </tr>\n",
       "    <tr>\n",
       "      <th>2015-10-01 02:00:00</th>\n",
       "      <td>2015-10-01 02:00:00</td>\n",
       "      <td>10.88</td>\n",
       "      <td>0</td>\n",
       "      <td>-1</td>\n",
       "      <td>3.702330e-212</td>\n",
       "      <td>2</td>\n",
       "      <td>3</td>\n",
       "      <td>10</td>\n",
       "      <td>2015</td>\n",
       "      <td>4</td>\n",
       "      <td>274</td>\n",
       "      <td>1</td>\n",
       "      <td>21.06</td>\n",
       "      <td>11.12</td>\n",
       "      <td>18.3</td>\n",
       "      <td>19.4</td>\n",
       "      <td>0</td>\n",
       "      <td>0</td>\n",
       "    </tr>\n",
       "  </tbody>\n",
       "</table>\n",
       "</div>"
      ],
      "text/plain": [
       "                        Datum i vrijeme  \\\n",
       "Datum i vrijeme                           \n",
       "2015-10-01 01:00:00 2015-10-01 01:00:00   \n",
       "2015-10-01 02:00:00 2015-10-01 02:00:00   \n",
       "\n",
       "                     Temp.senzor vanj.1 25000099Temperatura (°C)  Grijanje_K1  \\\n",
       "Datum i vrijeme                                                                 \n",
       "2015-10-01 01:00:00                                        11.12            0   \n",
       "2015-10-01 02:00:00                                        10.88            0   \n",
       "\n",
       "                     Broj sati grijanja_K1      Negrijano  Sat  Dan u sedmici  \\\n",
       "Datum i vrijeme                                                                 \n",
       "2015-10-01 01:00:00                     -1   0.000000e+00    1              3   \n",
       "2015-10-01 02:00:00                     -1  3.702330e-212    2              3   \n",
       "\n",
       "                     Mjesec  Godina  Kvartal  Dan u godini  Dan u mjesecu  \\\n",
       "Datum i vrijeme                                                             \n",
       "2015-10-01 01:00:00      10    2015        4           274              1   \n",
       "2015-10-01 02:00:00      10    2015        4           274              1   \n",
       "\n",
       "                     T prost (t-1)  T vanj(t-1)  T pol (t-1)  T pov (t-1)  \\\n",
       "Datum i vrijeme                                                             \n",
       "2015-10-01 01:00:00          21.11        11.14         18.3         19.5   \n",
       "2015-10-01 02:00:00          21.06        11.12         18.3         19.4   \n",
       "\n",
       "                     Praznik  Radni sati  \n",
       "Datum i vrijeme                           \n",
       "2015-10-01 01:00:00        0           0  \n",
       "2015-10-01 02:00:00        0           0  "
      ]
     },
     "execution_count": 4,
     "metadata": {},
     "output_type": "execute_result"
    }
   ],
   "source": [
    "X.set_index(file[\"Datum i vrijeme\"]).head(2)"
   ]
  },
  {
   "cell_type": "code",
   "execution_count": 5,
   "metadata": {},
   "outputs": [],
   "source": [
    "X[\"Negrijano\"]=X[\"Negrijano\"].fillna(0)"
   ]
  },
  {
   "cell_type": "code",
   "execution_count": 6,
   "metadata": {},
   "outputs": [],
   "source": [
    "Y=file.loc[:, ['Temp.senzor un.4 24004658Temperatura (°C)']]"
   ]
  },
  {
   "cell_type": "code",
   "execution_count": 7,
   "metadata": {},
   "outputs": [],
   "source": [
    "feat_and_lab=pd.concat([X,Y],axis=1)"
   ]
  },
  {
   "cell_type": "code",
   "execution_count": 8,
   "metadata": {},
   "outputs": [
    {
     "data": {
      "text/html": [
       "<div>\n",
       "<style scoped>\n",
       "    .dataframe tbody tr th:only-of-type {\n",
       "        vertical-align: middle;\n",
       "    }\n",
       "\n",
       "    .dataframe tbody tr th {\n",
       "        vertical-align: top;\n",
       "    }\n",
       "\n",
       "    .dataframe thead th {\n",
       "        text-align: right;\n",
       "    }\n",
       "</style>\n",
       "<table border=\"1\" class=\"dataframe\">\n",
       "  <thead>\n",
       "    <tr style=\"text-align: right;\">\n",
       "      <th></th>\n",
       "      <th>Datum i vrijeme</th>\n",
       "      <th>Temp.senzor vanj.1 25000099Temperatura (°C)</th>\n",
       "      <th>Grijanje_K1</th>\n",
       "      <th>Broj sati grijanja_K1</th>\n",
       "      <th>Negrijano</th>\n",
       "      <th>Sat</th>\n",
       "      <th>Dan u sedmici</th>\n",
       "      <th>Mjesec</th>\n",
       "      <th>Godina</th>\n",
       "      <th>Kvartal</th>\n",
       "      <th>Dan u godini</th>\n",
       "      <th>Dan u mjesecu</th>\n",
       "      <th>T prost (t-1)</th>\n",
       "      <th>T vanj(t-1)</th>\n",
       "      <th>T pol (t-1)</th>\n",
       "      <th>T pov (t-1)</th>\n",
       "      <th>Praznik</th>\n",
       "      <th>Radni sati</th>\n",
       "      <th>Temp.senzor un.4 24004658Temperatura (°C)</th>\n",
       "    </tr>\n",
       "  </thead>\n",
       "  <tbody>\n",
       "    <tr>\n",
       "      <th>0</th>\n",
       "      <td>2015-10-01 01:00:00</td>\n",
       "      <td>11.12</td>\n",
       "      <td>0</td>\n",
       "      <td>-1</td>\n",
       "      <td>0.000000e+00</td>\n",
       "      <td>1</td>\n",
       "      <td>3</td>\n",
       "      <td>10</td>\n",
       "      <td>2015</td>\n",
       "      <td>4</td>\n",
       "      <td>274</td>\n",
       "      <td>1</td>\n",
       "      <td>21.11</td>\n",
       "      <td>11.14</td>\n",
       "      <td>18.3</td>\n",
       "      <td>19.5</td>\n",
       "      <td>0</td>\n",
       "      <td>0</td>\n",
       "      <td>21.06</td>\n",
       "    </tr>\n",
       "    <tr>\n",
       "      <th>1</th>\n",
       "      <td>2015-10-01 02:00:00</td>\n",
       "      <td>10.88</td>\n",
       "      <td>0</td>\n",
       "      <td>-1</td>\n",
       "      <td>3.702330e-212</td>\n",
       "      <td>2</td>\n",
       "      <td>3</td>\n",
       "      <td>10</td>\n",
       "      <td>2015</td>\n",
       "      <td>4</td>\n",
       "      <td>274</td>\n",
       "      <td>1</td>\n",
       "      <td>21.06</td>\n",
       "      <td>11.12</td>\n",
       "      <td>18.3</td>\n",
       "      <td>19.4</td>\n",
       "      <td>0</td>\n",
       "      <td>0</td>\n",
       "      <td>21.04</td>\n",
       "    </tr>\n",
       "  </tbody>\n",
       "</table>\n",
       "</div>"
      ],
      "text/plain": [
       "      Datum i vrijeme  Temp.senzor vanj.1 25000099Temperatura (°C)  \\\n",
       "0 2015-10-01 01:00:00                                        11.12   \n",
       "1 2015-10-01 02:00:00                                        10.88   \n",
       "\n",
       "   Grijanje_K1  Broj sati grijanja_K1      Negrijano  Sat  Dan u sedmici  \\\n",
       "0            0                     -1   0.000000e+00    1              3   \n",
       "1            0                     -1  3.702330e-212    2              3   \n",
       "\n",
       "   Mjesec  Godina  Kvartal  Dan u godini  Dan u mjesecu  T prost (t-1)  \\\n",
       "0      10    2015        4           274              1          21.11   \n",
       "1      10    2015        4           274              1          21.06   \n",
       "\n",
       "   T vanj(t-1)  T pol (t-1)  T pov (t-1)  Praznik  Radni sati  \\\n",
       "0        11.14         18.3         19.5        0           0   \n",
       "1        11.12         18.3         19.4        0           0   \n",
       "\n",
       "   Temp.senzor un.4 24004658Temperatura (°C)  \n",
       "0                                      21.06  \n",
       "1                                      21.04  "
      ]
     },
     "execution_count": 8,
     "metadata": {},
     "output_type": "execute_result"
    }
   ],
   "source": [
    "feat_and_lab.head(2)"
   ]
  },
  {
   "cell_type": "code",
   "execution_count": 9,
   "metadata": {},
   "outputs": [
    {
     "data": {
      "text/plain": [
       "Datum i vrijeme                                0\n",
       "Temp.senzor vanj.1 25000099Temperatura (°C)    2\n",
       "Grijanje_K1                                    0\n",
       "Broj sati grijanja_K1                          0\n",
       "Negrijano                                      0\n",
       "Sat                                            0\n",
       "Dan u sedmici                                  0\n",
       "Mjesec                                         0\n",
       "Godina                                         0\n",
       "Kvartal                                        0\n",
       "Dan u godini                                   0\n",
       "Dan u mjesecu                                  0\n",
       "T prost (t-1)                                  0\n",
       "T vanj(t-1)                                    0\n",
       "T pol (t-1)                                    0\n",
       "T pov (t-1)                                    0\n",
       "Praznik                                        0\n",
       "Radni sati                                     0\n",
       "Temp.senzor un.4 24004658Temperatura (°C)      3\n",
       "dtype: int64"
      ]
     },
     "execution_count": 9,
     "metadata": {},
     "output_type": "execute_result"
    }
   ],
   "source": [
    "feat_and_lab.isna().sum()"
   ]
  },
  {
   "cell_type": "code",
   "execution_count": 31,
   "metadata": {},
   "outputs": [],
   "source": [
    "feat_and_lab=feat_and_lab.interpolate(method =\"bfill\")"
   ]
  },
  {
   "cell_type": "code",
   "execution_count": 41,
   "metadata": {},
   "outputs": [],
   "source": [
    "from statsmodels.tsa.seasonal import seasonal_decompose\n",
    "\n",
    "core_columns =  [\n",
    "    'Temp.senzor vanj.1 25000099Temperatura (°C)',\"T prost (t-1)\", 'T vanj(t-1)', \n",
    "    'T pol (t-1)', 'T pov (t-1)',\"Temp.senzor un.4 24004658Temperatura (°C)\"\n",
    "]\n",
    "\n",
    "for column in core_columns:\n",
    "    decomp = seasonal_decompose(feat_and_lab[column], period=24, model='additive', extrapolate_trend='freq')\n",
    "    feat_and_lab[f\"{column}_trend\"] = decomp.trend\n",
    "    feat_and_lab[f\"{column}_seasonal\"] = decomp.seasonal"
   ]
  },
  {
   "cell_type": "code",
   "execution_count": 42,
   "metadata": {},
   "outputs": [
    {
     "name": "stderr",
     "output_type": "stream",
     "text": [
      "C:\\Users\\EhlimanaJugo\\anaconda3\\envs\\Ehlimana\\lib\\site-packages\\ipykernel_launcher.py:6: FutureWarning: the 'freq'' keyword is deprecated, use 'period' instead\n",
      "  \n",
      "C:\\Users\\EhlimanaJugo\\anaconda3\\envs\\Ehlimana\\lib\\site-packages\\ipykernel_launcher.py:6: FutureWarning: the 'freq'' keyword is deprecated, use 'period' instead\n",
      "  \n",
      "C:\\Users\\EhlimanaJugo\\anaconda3\\envs\\Ehlimana\\lib\\site-packages\\ipykernel_launcher.py:6: FutureWarning: the 'freq'' keyword is deprecated, use 'period' instead\n",
      "  \n",
      "C:\\Users\\EhlimanaJugo\\anaconda3\\envs\\Ehlimana\\lib\\site-packages\\ipykernel_launcher.py:6: FutureWarning: the 'freq'' keyword is deprecated, use 'period' instead\n",
      "  \n",
      "C:\\Users\\EhlimanaJugo\\anaconda3\\envs\\Ehlimana\\lib\\site-packages\\ipykernel_launcher.py:6: FutureWarning: the 'freq'' keyword is deprecated, use 'period' instead\n",
      "  \n",
      "C:\\Users\\EhlimanaJugo\\anaconda3\\envs\\Ehlimana\\lib\\site-packages\\ipykernel_launcher.py:6: FutureWarning: the 'freq'' keyword is deprecated, use 'period' instead\n",
      "  \n"
     ]
    },
    {
     "data": {
      "image/png": "[encoded data removed]",
      "text/plain": [
       "<Figure size 1152x576 with 24 Axes>"
      ]
     },
     "metadata": {
      "needs_background": "light"
     },
     "output_type": "display_data"
    }
   ],
   "source": [
    "fig, ax = plt.subplots(ncols=6, nrows=4, sharex=True, figsize=(16,8))\n",
    "\n",
    "for i, column in enumerate(['Temp.senzor vanj.1 25000099Temperatura (°C)',\"T prost (t-1)\", 'T vanj(t-1)', \n",
    "    'T pol (t-1)', 'T pov (t-1)',\"Temp.senzor un.4 24004658Temperatura (°C)\"]):\n",
    "    \n",
    "    res = seasonal_decompose(feat_and_lab[column], freq=24, model='additive', extrapolate_trend='freq')\n",
    "\n",
    "    ax[0,i].set_title('Decomposition of {}'.format(column), fontsize=16)\n",
    "    res.observed.plot(ax=ax[0,i], legend=False, color='dodgerblue')\n",
    "    ax[0,i].set_ylabel('Observed', fontsize=14)\n",
    "\n",
    "    res.trend.plot(ax=ax[1,i], legend=False, color='dodgerblue')\n",
    "    ax[1,i].set_ylabel('Trend', fontsize=14)\n",
    "\n",
    "    res.seasonal.plot(ax=ax[2,i], legend=False, color='dodgerblue')\n",
    "    ax[2,i].set_ylabel('Seasonal', fontsize=14)\n",
    "    \n",
    "    res.resid.plot(ax=ax[3,i], legend=False, color='dodgerblue')\n",
    "    ax[3,i].set_ylabel('Residual', fontsize=14)\n",
    "\n",
    "plt.show()"
   ]
  },
  {
   "cell_type": "markdown",
   "metadata": {},
   "source": [
    "#XGB"
   ]
  },
  {
   "cell_type": "code",
   "execution_count": 10,
   "metadata": {},
   "outputs": [],
   "source": [
    "split_date = '10/01/2017  00:00:00 AM'\n",
    "feat_train = feat_and_lab.loc[feat_and_lab[\"Datum i vrijeme\"] <= split_date].copy()\n",
    "feat_test = feat_and_lab.loc[feat_and_lab[\"Datum i vrijeme\"]> split_date].copy()"
   ]
  },
  {
   "cell_type": "code",
   "execution_count": 11,
   "metadata": {},
   "outputs": [
    {
     "data": {
      "text/plain": [
       "19"
      ]
     },
     "execution_count": 11,
     "metadata": {},
     "output_type": "execute_result"
    }
   ],
   "source": [
    "len(feat_train.columns)"
   ]
  },
  {
   "cell_type": "code",
   "execution_count": 12,
   "metadata": {},
   "outputs": [],
   "source": [
    "import xgboost as xgb\n",
    "from xgboost import plot_importance"
   ]
  },
  {
   "cell_type": "code",
   "execution_count": 13,
   "metadata": {},
   "outputs": [
    {
     "data": {
      "text/plain": [
       "XGBRegressor(base_score=0.5, booster='gbtree', colsample_bylevel=1,\n",
       "             colsample_bynode=1, colsample_bytree=1, gamma=0, gpu_id=-1,\n",
       "             importance_type='gain', interaction_constraints='',\n",
       "             learning_rate=0.300000012, max_delta_step=0, max_depth=6,\n",
       "             min_child_weight=1, missing=nan, monotone_constraints='()',\n",
       "             n_estimators=10000, n_jobs=8, num_parallel_tree=1, random_state=0,\n",
       "             reg_alpha=0, reg_lambda=1, scale_pos_weight=1, subsample=1,\n",
       "             tree_method='exact', validate_parameters=1, verbosity=None)"
      ]
     },
     "execution_count": 13,
     "metadata": {},
     "output_type": "execute_result"
    }
   ],
   "source": [
    "reg = xgb.XGBRegressor(n_estimators=10000)\n",
    "reg.fit(feat_train.iloc[:,1:18], feat_train.iloc[:,18],\n",
    "        eval_set=[(feat_train.iloc[:,1:18], feat_train.iloc[:,16]), (feat_test.iloc[:,1:18], feat_test.iloc[:,18])],\n",
    "        early_stopping_rounds=50,\n",
    "       verbose=False) # Change verbose to True if you want to see it train"
   ]
  },
  {
   "cell_type": "code",
   "execution_count": 14,
   "metadata": {},
   "outputs": [
    {
     "data": {
      "image/png": "[encoded data removed]",
      "text/plain": [
       "<Figure size 432x288 with 1 Axes>"
      ]
     },
     "metadata": {
      "needs_background": "light"
     },
     "output_type": "display_data"
    }
   ],
   "source": [
    "plot_importance(reg, height=0.9)\n",
    "plt.show()"
   ]
  },
  {
   "cell_type": "code",
   "execution_count": 41,
   "metadata": {},
   "outputs": [
    {
     "data": {
      "text/plain": [
       "Index(['Datum i vrijeme', 'Temp.senzor vanj.1 25000099Temperatura (°C)',\n",
       "       'Grijanje_K1', 'Broj sati grijanja_K1', 'Negrijano', 'Sat',\n",
       "       'Dan u sedmici', 'Mjesec', 'Godina', 'Kvartal', 'Dan u godini',\n",
       "       'Dan u mjesecu', 'T prost (t-1)', 'T vanj(t-1)', 'T pol (t-1)',\n",
       "       'T pov (t-1)', 'Praznik', 'Radni sati',\n",
       "       'Temp.senzor un.4 24004658Temperatura (°C)'],\n",
       "      dtype='object')"
      ]
     },
     "execution_count": 41,
     "metadata": {},
     "output_type": "execute_result"
    }
   ],
   "source": [
    "feat_test.columns"
   ]
  },
  {
   "cell_type": "code",
   "execution_count": 43,
   "metadata": {},
   "outputs": [],
   "source": [
    "feat_test['Prediction'] = reg.predict(feat_test.iloc[:,1:18])"
   ]
  },
  {
   "cell_type": "code",
   "execution_count": 44,
   "metadata": {},
   "outputs": [
    {
     "data": {
      "image/png": "[encoded data removed]",
      "text/plain": [
       "<Figure size 1080x360 with 1 Axes>"
      ]
     },
     "metadata": {
      "needs_background": "light"
     },
     "output_type": "display_data"
    }
   ],
   "source": [
    "feat_test[['Temp.senzor un.4 24004658Temperatura (°C)','Prediction']].plot(figsize=(15, 5))\n",
    "plt.show()"
   ]
  },
  {
   "cell_type": "code",
   "execution_count": 45,
   "metadata": {},
   "outputs": [],
   "source": [
    "feat_test['error'] =feat_test['Temp.senzor un.4 24004658Temperatura (°C)'] - feat_test['Prediction']\n",
    "feat_test['abs_error'] = feat_test['error'].apply(np.abs)\n",
    "error_by_day = feat_test.groupby(['Godina','Mjesec','Dan u mjesecu']) \\\n",
    "    .mean()[['Temp.senzor un.4 24004658Temperatura (°C)','Prediction','error','abs_error']]"
   ]
  },
  {
   "cell_type": "code",
   "execution_count": 46,
   "metadata": {},
   "outputs": [
    {
     "data": {
      "text/html": [
       "<div>\n",
       "<style scoped>\n",
       "    .dataframe tbody tr th:only-of-type {\n",
       "        vertical-align: middle;\n",
       "    }\n",
       "\n",
       "    .dataframe tbody tr th {\n",
       "        vertical-align: top;\n",
       "    }\n",
       "\n",
       "    .dataframe thead th {\n",
       "        text-align: right;\n",
       "    }\n",
       "</style>\n",
       "<table border=\"1\" class=\"dataframe\">\n",
       "  <thead>\n",
       "    <tr style=\"text-align: right;\">\n",
       "      <th></th>\n",
       "      <th></th>\n",
       "      <th></th>\n",
       "      <th>Temp.senzor un.4 24004658Temperatura (°C)</th>\n",
       "      <th>Prediction</th>\n",
       "      <th>error</th>\n",
       "      <th>abs_error</th>\n",
       "    </tr>\n",
       "    <tr>\n",
       "      <th>Godina</th>\n",
       "      <th>Mjesec</th>\n",
       "      <th>Dan u mjesecu</th>\n",
       "      <th></th>\n",
       "      <th></th>\n",
       "      <th></th>\n",
       "      <th></th>\n",
       "    </tr>\n",
       "  </thead>\n",
       "  <tbody>\n",
       "    <tr>\n",
       "      <th rowspan=\"10\" valign=\"top\">2017</th>\n",
       "      <th rowspan=\"9\" valign=\"top\">11</th>\n",
       "      <th>22</th>\n",
       "      <td>19.597083</td>\n",
       "      <td>19.822567</td>\n",
       "      <td>-0.225485</td>\n",
       "      <td>0.285446</td>\n",
       "    </tr>\n",
       "    <tr>\n",
       "      <th>20</th>\n",
       "      <td>20.067500</td>\n",
       "      <td>20.179567</td>\n",
       "      <td>-0.112068</td>\n",
       "      <td>0.177921</td>\n",
       "    </tr>\n",
       "    <tr>\n",
       "      <th>1</th>\n",
       "      <td>19.775417</td>\n",
       "      <td>19.882971</td>\n",
       "      <td>-0.107555</td>\n",
       "      <td>0.303288</td>\n",
       "    </tr>\n",
       "    <tr>\n",
       "      <th>27</th>\n",
       "      <td>20.142083</td>\n",
       "      <td>20.248308</td>\n",
       "      <td>-0.106225</td>\n",
       "      <td>0.145147</td>\n",
       "    </tr>\n",
       "    <tr>\n",
       "      <th>18</th>\n",
       "      <td>20.427917</td>\n",
       "      <td>20.528276</td>\n",
       "      <td>-0.100361</td>\n",
       "      <td>0.169846</td>\n",
       "    </tr>\n",
       "    <tr>\n",
       "      <th>21</th>\n",
       "      <td>20.451667</td>\n",
       "      <td>20.551859</td>\n",
       "      <td>-0.100192</td>\n",
       "      <td>0.224718</td>\n",
       "    </tr>\n",
       "    <tr>\n",
       "      <th>19</th>\n",
       "      <td>19.424583</td>\n",
       "      <td>19.510302</td>\n",
       "      <td>-0.085718</td>\n",
       "      <td>0.131321</td>\n",
       "    </tr>\n",
       "    <tr>\n",
       "      <th>23</th>\n",
       "      <td>20.015417</td>\n",
       "      <td>20.096075</td>\n",
       "      <td>-0.080659</td>\n",
       "      <td>0.294644</td>\n",
       "    </tr>\n",
       "    <tr>\n",
       "      <th>25</th>\n",
       "      <td>20.878750</td>\n",
       "      <td>20.956081</td>\n",
       "      <td>-0.077332</td>\n",
       "      <td>0.109799</td>\n",
       "    </tr>\n",
       "    <tr>\n",
       "      <th>12</th>\n",
       "      <th>24</th>\n",
       "      <td>19.735417</td>\n",
       "      <td>19.800388</td>\n",
       "      <td>-0.064972</td>\n",
       "      <td>0.095249</td>\n",
       "    </tr>\n",
       "  </tbody>\n",
       "</table>\n",
       "</div>"
      ],
      "text/plain": [
       "                             Temp.senzor un.4 24004658Temperatura (°C)  \\\n",
       "Godina Mjesec Dan u mjesecu                                              \n",
       "2017   11     22                                             19.597083   \n",
       "              20                                             20.067500   \n",
       "              1                                              19.775417   \n",
       "              27                                             20.142083   \n",
       "              18                                             20.427917   \n",
       "              21                                             20.451667   \n",
       "              19                                             19.424583   \n",
       "              23                                             20.015417   \n",
       "              25                                             20.878750   \n",
       "       12     24                                             19.735417   \n",
       "\n",
       "                             Prediction     error  abs_error  \n",
       "Godina Mjesec Dan u mjesecu                                   \n",
       "2017   11     22              19.822567 -0.225485   0.285446  \n",
       "              20              20.179567 -0.112068   0.177921  \n",
       "              1               19.882971 -0.107555   0.303288  \n",
       "              27              20.248308 -0.106225   0.145147  \n",
       "              18              20.528276 -0.100361   0.169846  \n",
       "              21              20.551859 -0.100192   0.224718  \n",
       "              19              19.510302 -0.085718   0.131321  \n",
       "              23              20.096075 -0.080659   0.294644  \n",
       "              25              20.956081 -0.077332   0.109799  \n",
       "       12     24              19.800388 -0.064972   0.095249  "
      ]
     },
     "execution_count": 46,
     "metadata": {},
     "output_type": "execute_result"
    }
   ],
   "source": [
    "error_by_day.sort_values('error', ascending=True).head(10)"
   ]
  },
  {
   "cell_type": "code",
   "execution_count": 47,
   "metadata": {},
   "outputs": [
    {
     "data": {
      "text/html": [
       "<div>\n",
       "<style scoped>\n",
       "    .dataframe tbody tr th:only-of-type {\n",
       "        vertical-align: middle;\n",
       "    }\n",
       "\n",
       "    .dataframe tbody tr th {\n",
       "        vertical-align: top;\n",
       "    }\n",
       "\n",
       "    .dataframe thead th {\n",
       "        text-align: right;\n",
       "    }\n",
       "</style>\n",
       "<table border=\"1\" class=\"dataframe\">\n",
       "  <thead>\n",
       "    <tr style=\"text-align: right;\">\n",
       "      <th></th>\n",
       "      <th></th>\n",
       "      <th></th>\n",
       "      <th>Temp.senzor un.4 24004658Temperatura (°C)</th>\n",
       "      <th>Prediction</th>\n",
       "      <th>error</th>\n",
       "      <th>abs_error</th>\n",
       "    </tr>\n",
       "    <tr>\n",
       "      <th>Godina</th>\n",
       "      <th>Mjesec</th>\n",
       "      <th>Dan u mjesecu</th>\n",
       "      <th></th>\n",
       "      <th></th>\n",
       "      <th></th>\n",
       "      <th></th>\n",
       "    </tr>\n",
       "  </thead>\n",
       "  <tbody>\n",
       "    <tr>\n",
       "      <th rowspan=\"7\" valign=\"top\">2017</th>\n",
       "      <th rowspan=\"2\" valign=\"top\">11</th>\n",
       "      <th>12</th>\n",
       "      <td>20.853333</td>\n",
       "      <td>20.858566</td>\n",
       "      <td>-0.005232</td>\n",
       "      <td>0.045965</td>\n",
       "    </tr>\n",
       "    <tr>\n",
       "      <th>5</th>\n",
       "      <td>19.843750</td>\n",
       "      <td>19.831667</td>\n",
       "      <td>0.012082</td>\n",
       "      <td>0.048120</td>\n",
       "    </tr>\n",
       "    <tr>\n",
       "      <th rowspan=\"5\" valign=\"top\">10</th>\n",
       "      <th>7</th>\n",
       "      <td>20.397500</td>\n",
       "      <td>20.382183</td>\n",
       "      <td>0.015318</td>\n",
       "      <td>0.053523</td>\n",
       "    </tr>\n",
       "    <tr>\n",
       "      <th>4</th>\n",
       "      <td>21.644167</td>\n",
       "      <td>21.651804</td>\n",
       "      <td>-0.007637</td>\n",
       "      <td>0.057293</td>\n",
       "    </tr>\n",
       "    <tr>\n",
       "      <th>5</th>\n",
       "      <td>21.560417</td>\n",
       "      <td>21.557003</td>\n",
       "      <td>0.003413</td>\n",
       "      <td>0.067129</td>\n",
       "    </tr>\n",
       "    <tr>\n",
       "      <th>6</th>\n",
       "      <td>21.147500</td>\n",
       "      <td>21.122875</td>\n",
       "      <td>0.024624</td>\n",
       "      <td>0.067137</td>\n",
       "    </tr>\n",
       "    <tr>\n",
       "      <th>14</th>\n",
       "      <td>20.917500</td>\n",
       "      <td>20.923235</td>\n",
       "      <td>-0.005735</td>\n",
       "      <td>0.067349</td>\n",
       "    </tr>\n",
       "    <tr>\n",
       "      <th>2018</th>\n",
       "      <th>1</th>\n",
       "      <th>14</th>\n",
       "      <td>20.757083</td>\n",
       "      <td>20.759214</td>\n",
       "      <td>-0.002132</td>\n",
       "      <td>0.072591</td>\n",
       "    </tr>\n",
       "    <tr>\n",
       "      <th rowspan=\"2\" valign=\"top\">2017</th>\n",
       "      <th>11</th>\n",
       "      <th>26</th>\n",
       "      <td>19.983333</td>\n",
       "      <td>20.003946</td>\n",
       "      <td>-0.020612</td>\n",
       "      <td>0.073360</td>\n",
       "    </tr>\n",
       "    <tr>\n",
       "      <th>10</th>\n",
       "      <th>28</th>\n",
       "      <td>21.263750</td>\n",
       "      <td>21.291965</td>\n",
       "      <td>-0.028215</td>\n",
       "      <td>0.073613</td>\n",
       "    </tr>\n",
       "  </tbody>\n",
       "</table>\n",
       "</div>"
      ],
      "text/plain": [
       "                             Temp.senzor un.4 24004658Temperatura (°C)  \\\n",
       "Godina Mjesec Dan u mjesecu                                              \n",
       "2017   11     12                                             20.853333   \n",
       "              5                                              19.843750   \n",
       "       10     7                                              20.397500   \n",
       "              4                                              21.644167   \n",
       "              5                                              21.560417   \n",
       "              6                                              21.147500   \n",
       "              14                                             20.917500   \n",
       "2018   1      14                                             20.757083   \n",
       "2017   11     26                                             19.983333   \n",
       "       10     28                                             21.263750   \n",
       "\n",
       "                             Prediction     error  abs_error  \n",
       "Godina Mjesec Dan u mjesecu                                   \n",
       "2017   11     12              20.858566 -0.005232   0.045965  \n",
       "              5               19.831667  0.012082   0.048120  \n",
       "       10     7               20.382183  0.015318   0.053523  \n",
       "              4               21.651804 -0.007637   0.057293  \n",
       "              5               21.557003  0.003413   0.067129  \n",
       "              6               21.122875  0.024624   0.067137  \n",
       "              14              20.923235 -0.005735   0.067349  \n",
       "2018   1      14              20.759214 -0.002132   0.072591  \n",
       "2017   11     26              20.003946 -0.020612   0.073360  \n",
       "       10     28              21.291965 -0.028215   0.073613  "
      ]
     },
     "execution_count": 47,
     "metadata": {},
     "output_type": "execute_result"
    }
   ],
   "source": [
    "error_by_day.sort_values('abs_error', ascending=True).head(10)"
   ]
  },
  {
   "cell_type": "code",
   "execution_count": 48,
   "metadata": {},
   "outputs": [
    {
     "data": {
      "image/png": "[encoded data removed]",
      "text/plain": [
       "<Figure size 720x360 with 1 Axes>"
      ]
     },
     "metadata": {
      "needs_background": "light"
     },
     "output_type": "display_data"
    }
   ],
   "source": [
    "f, ax = plt.subplots(1)\n",
    "f.set_figheight(5)\n",
    "f.set_figwidth(10)\n",
    "_ =feat_test[['Prediction','Temp.senzor un.4 24004658Temperatura (°C)']].plot(ax=ax,\n",
    "                                              style=['-','.'])\n",
    "ax.set_xbound(lower=feat_test[feat_test[\"Datum i vrijeme\"]=='11/12/2017  00:00:00 AM'].index.values, upper=feat_test[feat_test[\"Datum i vrijeme\"]=='11/12/2017  11:00:00 PM'].index.values)\n",
    "plot = plt.suptitle('Oct 4, 2017 - Best Predicted Day')\n",
    "plt.show()"
   ]
  },
  {
   "cell_type": "code",
   "execution_count": 49,
   "metadata": {},
   "outputs": [
    {
     "data": {
      "image/png": "[encoded data removed]",
      "text/plain": [
       "<Figure size 720x360 with 1 Axes>"
      ]
     },
     "metadata": {
      "needs_background": "light"
     },
     "output_type": "display_data"
    }
   ],
   "source": [
    "f, ax = plt.subplots(1)\n",
    "f.set_figheight(5)\n",
    "f.set_figwidth(10)\n",
    "_ =feat_test[['Prediction','Temp.senzor un.4 24004658Temperatura (°C)']].plot(ax=ax,\n",
    "                                              style=['-','.'])\n",
    "ax.set_xbound(lower=feat_test[feat_test[\"Datum i vrijeme\"]=='11/22/2017  00:00:00 AM'].index.values, upper=feat_test[feat_test[\"Datum i vrijeme\"]=='11/22/2017  11:00:00 PM'].index.values)\n",
    "plot = plt.suptitle('Nov 22, 2017 - Worst Predicted Day')\n",
    "plt.show()"
   ]
  },
  {
   "cell_type": "code",
   "execution_count": 50,
   "metadata": {},
   "outputs": [
    {
     "name": "stdout",
     "output_type": "stream",
     "text": [
      "RMSE: 0.43776497169369566\n"
     ]
    }
   ],
   "source": [
    "# Calcuate metrics\n",
    "\n",
    "\n",
    "score_mae = mean_absolute_error(feat_test['Temp.senzor un.4 24004658Temperatura (°C)'], feat_test['Prediction'])\n",
    "score_rmse = math.sqrt(mean_absolute_error(feat_test['Temp.senzor un.4 24004658Temperatura (°C)'], feat_test['Prediction']))\n",
    "\n",
    "print('RMSE: {}'.format(score_rmse))"
   ]
  },
  {
   "cell_type": "code",
   "execution_count": 57,
   "metadata": {},
   "outputs": [],
   "source": [
    "for col in feat_and_lab.columns:\n",
    "    feat_and_lab[col] = feat_and_lab[col].interpolate(method=\"bfill\")"
   ]
  },
  {
   "cell_type": "code",
   "execution_count": 51,
   "metadata": {},
   "outputs": [
    {
     "data": {
      "text/plain": [
       "Index(['Datum i vrijeme', 'Temp.senzor vanj.1 25000099Temperatura (°C)',\n",
       "       'Grijanje_K1', 'Broj sati grijanja_K1', 'Negrijano', 'Sat',\n",
       "       'Dan u sedmici', 'Mjesec', 'Godina', 'Kvartal', 'Dan u godini',\n",
       "       'Dan u mjesecu', 'T prost (t-1)', 'T vanj(t-1)', 'T pol (t-1)',\n",
       "       'T pov (t-1)', 'Praznik', 'Radni sati',\n",
       "       'Temp.senzor un.4 24004658Temperatura (°C)'],\n",
       "      dtype='object')"
      ]
     },
     "execution_count": 51,
     "metadata": {},
     "output_type": "execute_result"
    }
   ],
   "source": [
    "feat_and_lab.columns"
   ]
  },
  {
   "cell_type": "code",
   "execution_count": 113,
   "metadata": {},
   "outputs": [],
   "source": [
    "columns1=feat_and_lab.columns\n",
    "downsample=feat_and_lab[columns1].resample(\"1D\", on=\"Datum i vrijeme\").mean()\n",
    "\n",
    "feat_and_lab_1= downsample.copy()"
   ]
  },
  {
   "cell_type": "code",
   "execution_count": null,
   "metadata": {},
   "outputs": [],
   "source": []
  },
  {
   "cell_type": "code",
   "execution_count": null,
   "metadata": {},
   "outputs": [],
   "source": []
  },
  {
   "cell_type": "code",
   "execution_count": 116,
   "metadata": {},
   "outputs": [
    {
     "data": {
      "text/plain": [
       "Datum i vrijeme                                0\n",
       "Temp.senzor vanj.1 25000099Temperatura (°C)    0\n",
       "Grijanje_K1                                    0\n",
       "Broj sati grijanja_K1                          0\n",
       "Negrijano                                      0\n",
       "Sat                                            0\n",
       "Dan u sedmici                                  0\n",
       "Mjesec                                         0\n",
       "Godina                                         0\n",
       "Kvartal                                        0\n",
       "Dan u godini                                   0\n",
       "Dan u mjesecu                                  0\n",
       "T prost (t-1)                                  0\n",
       "T vanj(t-1)                                    0\n",
       "T pol (t-1)                                    0\n",
       "T pov (t-1)                                    0\n",
       "Temp.senzor un.4 24004658Temperatura (°C)      0\n",
       "dtype: int64"
      ]
     },
     "execution_count": 116,
     "metadata": {},
     "output_type": "execute_result"
    }
   ],
   "source": [
    "feat_and_lab.isna().sum()"
   ]
  },
  {
   "cell_type": "code",
   "execution_count": 52,
   "metadata": {},
   "outputs": [],
   "source": [
    "\n",
    "\n",
    "feat_and_lab ['Sezona'] = feat_and_lab['Mjesec'] % 12 // 3 + 1\n"
   ]
  },
  {
   "cell_type": "code",
   "execution_count": 59,
   "metadata": {},
   "outputs": [],
   "source": [
    "from statsmodels.tsa.arima_model import ARIMA\n",
    "#aa=feat_and_lab.index.values\n",
    "aa=feat_and_lab.index"
   ]
  },
  {
   "cell_type": "code",
   "execution_count": 60,
   "metadata": {},
   "outputs": [
    {
     "data": {
      "text/plain": [
       "Index(['Datum i vrijeme', 'Temp.senzor vanj.1 25000099Temperatura (°C)',\n",
       "       'Grijanje_K1', 'Broj sati grijanja_K1', 'Negrijano', 'Sat',\n",
       "       'Dan u sedmici', 'Mjesec', 'Godina', 'Kvartal', 'Dan u godini',\n",
       "       'Dan u mjesecu', 'T prost (t-1)', 'T vanj(t-1)', 'T pol (t-1)',\n",
       "       'T pov (t-1)', 'Praznik', 'Radni sati',\n",
       "       'Temp.senzor un.4 24004658Temperatura (°C)', 'Sezona'],\n",
       "      dtype='object')"
      ]
     },
     "execution_count": 60,
     "metadata": {},
     "output_type": "execute_result"
    }
   ],
   "source": [
    "feat_and_lab.columns"
   ]
  },
  {
   "cell_type": "code",
   "execution_count": 62,
   "metadata": {},
   "outputs": [],
   "source": [
    "#univariate_df[\"Datum i vrijeme\"]=aa\n",
    "univariate_df=pd.DataFrame()\n",
    "#univariate_df[\"Temp.senzor vanj.1 25000099Temperatura (°C)\"]=feat_and_lab_1[\"Temp.senzor vanj.1 25000099Temperatura (°C)\"].values\n",
    "univariate_df['T pol (t-1)']=feat_and_lab['T pol (t-1)'].values\n",
    "univariate_df['T pov (t-1)']=feat_and_lab['T pov (t-1)'].values\n",
    "univariate_df['T vanj(t-1)']=feat_and_lab['T vanj(t-1)'].values\n",
    "univariate_df['T prost (t-1)']=feat_and_lab['T prost (t-1)'].values\n",
    "univariate_df['Grijanje_K1']=feat_and_lab['Grijanje_K1'].values\n",
    "univariate_df[ 'Broj sati grijanja']=feat_and_lab[ 'Broj sati grijanja_K1'].values\n",
    "univariate_df[ 'Negrijano']=feat_and_lab[ 'Negrijano'].values\n",
    "univariate_df[ 'Sat']=feat_and_lab[ 'Sat'].values\n",
    "univariate_df[ 'Dan u sedmici']=feat_and_lab[ 'Dan u sedmici'].values\n",
    "univariate_df[  'Mjesec']=feat_and_lab[ 'Mjesec'].values\n",
    "univariate_df[ 'Godina']=feat_and_lab[ 'Godina'].values\n",
    "univariate_df[ 'Kvartal']=feat_and_lab[ 'Kvartal'].values\n",
    "univariate_df[ 'Dan u godini']=feat_and_lab['Dan u godini'].values\n",
    "univariate_df[ 'Dan u mjesecu']=feat_and_lab[ 'Dan u mjesecu'].values\n",
    "univariate_df[ 'Praznik']=feat_and_lab[ 'Praznik'].values\n",
    "univariate_df['Radni sati']=feat_and_lab[ 'Radni sati'].values\n",
    "univariate_df[\"Temp \"]=feat_and_lab['Temp.senzor un.4 24004658Temperatura (°C)'].values\n",
    "\n",
    "\n",
    "\n",
    "#univariate_df[\"Plin, m3\"]=feat_and_lab_1[\"Plin, m3\"].values"
   ]
  },
  {
   "cell_type": "code",
   "execution_count": 63,
   "metadata": {},
   "outputs": [
    {
     "data": {
      "text/html": [
       "<div>\n",
       "<style scoped>\n",
       "    .dataframe tbody tr th:only-of-type {\n",
       "        vertical-align: middle;\n",
       "    }\n",
       "\n",
       "    .dataframe tbody tr th {\n",
       "        vertical-align: top;\n",
       "    }\n",
       "\n",
       "    .dataframe thead th {\n",
       "        text-align: right;\n",
       "    }\n",
       "</style>\n",
       "<table border=\"1\" class=\"dataframe\">\n",
       "  <thead>\n",
       "    <tr style=\"text-align: right;\">\n",
       "      <th></th>\n",
       "      <th>T pol (t-1)</th>\n",
       "      <th>T pov (t-1)</th>\n",
       "      <th>T vanj(t-1)</th>\n",
       "      <th>T prost (t-1)</th>\n",
       "      <th>Grijanje_K1</th>\n",
       "      <th>Broj sati grijanja</th>\n",
       "      <th>Negrijano</th>\n",
       "      <th>Sat</th>\n",
       "      <th>Dan u sedmici</th>\n",
       "      <th>Mjesec</th>\n",
       "      <th>Godina</th>\n",
       "      <th>Kvartal</th>\n",
       "      <th>Dan u godini</th>\n",
       "      <th>Dan u mjesecu</th>\n",
       "      <th>Praznik</th>\n",
       "      <th>Radni sati</th>\n",
       "      <th>Temp</th>\n",
       "    </tr>\n",
       "  </thead>\n",
       "  <tbody>\n",
       "    <tr>\n",
       "      <th>T pol (t-1)</th>\n",
       "      <td>1.000000</td>\n",
       "      <td>0.975526</td>\n",
       "      <td>-0.156268</td>\n",
       "      <td>0.294100</td>\n",
       "      <td>0.709569</td>\n",
       "      <td>0.671721</td>\n",
       "      <td>-0.027382</td>\n",
       "      <td>0.196047</td>\n",
       "      <td>-0.236728</td>\n",
       "      <td>-0.037135</td>\n",
       "      <td>0.060949</td>\n",
       "      <td>-0.063420</td>\n",
       "      <td>-0.033673</td>\n",
       "      <td>0.042537</td>\n",
       "      <td>-0.056705</td>\n",
       "      <td>0.542715</td>\n",
       "      <td>0.345322</td>\n",
       "    </tr>\n",
       "    <tr>\n",
       "      <th>T pov (t-1)</th>\n",
       "      <td>0.975526</td>\n",
       "      <td>1.000000</td>\n",
       "      <td>-0.122887</td>\n",
       "      <td>0.345683</td>\n",
       "      <td>0.699916</td>\n",
       "      <td>0.696692</td>\n",
       "      <td>-0.055929</td>\n",
       "      <td>0.192070</td>\n",
       "      <td>-0.227348</td>\n",
       "      <td>-0.055994</td>\n",
       "      <td>0.097513</td>\n",
       "      <td>-0.079739</td>\n",
       "      <td>-0.052744</td>\n",
       "      <td>0.039491</td>\n",
       "      <td>-0.056461</td>\n",
       "      <td>0.587146</td>\n",
       "      <td>0.391244</td>\n",
       "    </tr>\n",
       "    <tr>\n",
       "      <th>T vanj(t-1)</th>\n",
       "      <td>-0.156268</td>\n",
       "      <td>-0.122887</td>\n",
       "      <td>1.000000</td>\n",
       "      <td>0.524344</td>\n",
       "      <td>-0.263466</td>\n",
       "      <td>-0.212524</td>\n",
       "      <td>-0.065933</td>\n",
       "      <td>0.190910</td>\n",
       "      <td>0.014894</td>\n",
       "      <td>0.001266</td>\n",
       "      <td>-0.004168</td>\n",
       "      <td>0.051633</td>\n",
       "      <td>-0.005902</td>\n",
       "      <td>-0.084084</td>\n",
       "      <td>-0.040358</td>\n",
       "      <td>0.154258</td>\n",
       "      <td>0.504294</td>\n",
       "    </tr>\n",
       "    <tr>\n",
       "      <th>T prost (t-1)</th>\n",
       "      <td>0.294100</td>\n",
       "      <td>0.345683</td>\n",
       "      <td>0.524344</td>\n",
       "      <td>1.000000</td>\n",
       "      <td>0.072784</td>\n",
       "      <td>0.177589</td>\n",
       "      <td>-0.075871</td>\n",
       "      <td>0.218840</td>\n",
       "      <td>-0.028383</td>\n",
       "      <td>-0.204366</td>\n",
       "      <td>0.387024</td>\n",
       "      <td>-0.178270</td>\n",
       "      <td>-0.201047</td>\n",
       "      <td>0.060024</td>\n",
       "      <td>-0.084157</td>\n",
       "      <td>0.280720</td>\n",
       "      <td>0.979419</td>\n",
       "    </tr>\n",
       "    <tr>\n",
       "      <th>Grijanje_K1</th>\n",
       "      <td>0.709569</td>\n",
       "      <td>0.699916</td>\n",
       "      <td>-0.263466</td>\n",
       "      <td>0.072784</td>\n",
       "      <td>1.000000</td>\n",
       "      <td>0.817594</td>\n",
       "      <td>0.243998</td>\n",
       "      <td>-0.006658</td>\n",
       "      <td>-0.168368</td>\n",
       "      <td>-0.028307</td>\n",
       "      <td>0.062861</td>\n",
       "      <td>-0.053811</td>\n",
       "      <td>-0.026535</td>\n",
       "      <td>0.018524</td>\n",
       "      <td>-0.022794</td>\n",
       "      <td>0.444571</td>\n",
       "      <td>0.164618</td>\n",
       "    </tr>\n",
       "    <tr>\n",
       "      <th>Broj sati grijanja</th>\n",
       "      <td>0.671721</td>\n",
       "      <td>0.696692</td>\n",
       "      <td>-0.212524</td>\n",
       "      <td>0.177589</td>\n",
       "      <td>0.817594</td>\n",
       "      <td>1.000000</td>\n",
       "      <td>0.002433</td>\n",
       "      <td>0.090174</td>\n",
       "      <td>-0.157187</td>\n",
       "      <td>-0.044248</td>\n",
       "      <td>0.063985</td>\n",
       "      <td>-0.062408</td>\n",
       "      <td>-0.043356</td>\n",
       "      <td>0.003975</td>\n",
       "      <td>-0.022540</td>\n",
       "      <td>0.441534</td>\n",
       "      <td>0.221569</td>\n",
       "    </tr>\n",
       "    <tr>\n",
       "      <th>Negrijano</th>\n",
       "      <td>-0.027382</td>\n",
       "      <td>-0.055929</td>\n",
       "      <td>-0.065933</td>\n",
       "      <td>-0.075871</td>\n",
       "      <td>0.243998</td>\n",
       "      <td>0.002433</td>\n",
       "      <td>1.000000</td>\n",
       "      <td>-0.070456</td>\n",
       "      <td>-0.044596</td>\n",
       "      <td>-0.041996</td>\n",
       "      <td>0.023739</td>\n",
       "      <td>-0.044947</td>\n",
       "      <td>-0.041404</td>\n",
       "      <td>0.007593</td>\n",
       "      <td>-0.011418</td>\n",
       "      <td>-0.058755</td>\n",
       "      <td>-0.037796</td>\n",
       "    </tr>\n",
       "    <tr>\n",
       "      <th>Sat</th>\n",
       "      <td>0.196047</td>\n",
       "      <td>0.192070</td>\n",
       "      <td>0.190910</td>\n",
       "      <td>0.218840</td>\n",
       "      <td>-0.006658</td>\n",
       "      <td>0.090174</td>\n",
       "      <td>-0.070456</td>\n",
       "      <td>1.000000</td>\n",
       "      <td>-0.000625</td>\n",
       "      <td>0.001230</td>\n",
       "      <td>-0.000993</td>\n",
       "      <td>0.000919</td>\n",
       "      <td>0.001286</td>\n",
       "      <td>0.000748</td>\n",
       "      <td>0.000171</td>\n",
       "      <td>0.168570</td>\n",
       "      <td>0.185139</td>\n",
       "    </tr>\n",
       "    <tr>\n",
       "      <th>Dan u sedmici</th>\n",
       "      <td>-0.236728</td>\n",
       "      <td>-0.227348</td>\n",
       "      <td>0.014894</td>\n",
       "      <td>-0.028383</td>\n",
       "      <td>-0.168368</td>\n",
       "      <td>-0.157187</td>\n",
       "      <td>-0.044596</td>\n",
       "      <td>-0.000625</td>\n",
       "      <td>1.000000</td>\n",
       "      <td>0.010856</td>\n",
       "      <td>-0.009017</td>\n",
       "      <td>0.010446</td>\n",
       "      <td>0.010842</td>\n",
       "      <td>0.001140</td>\n",
       "      <td>0.079911</td>\n",
       "      <td>0.000309</td>\n",
       "      <td>-0.036996</td>\n",
       "    </tr>\n",
       "    <tr>\n",
       "      <th>Mjesec</th>\n",
       "      <td>-0.037135</td>\n",
       "      <td>-0.055994</td>\n",
       "      <td>0.001266</td>\n",
       "      <td>-0.204366</td>\n",
       "      <td>-0.028307</td>\n",
       "      <td>-0.044248</td>\n",
       "      <td>-0.041996</td>\n",
       "      <td>0.001230</td>\n",
       "      <td>0.010856</td>\n",
       "      <td>1.000000</td>\n",
       "      <td>-0.509434</td>\n",
       "      <td>0.981146</td>\n",
       "      <td>0.997753</td>\n",
       "      <td>0.030781</td>\n",
       "      <td>0.013652</td>\n",
       "      <td>0.000467</td>\n",
       "      <td>-0.205073</td>\n",
       "    </tr>\n",
       "    <tr>\n",
       "      <th>Godina</th>\n",
       "      <td>0.060949</td>\n",
       "      <td>0.097513</td>\n",
       "      <td>-0.004168</td>\n",
       "      <td>0.387024</td>\n",
       "      <td>0.062861</td>\n",
       "      <td>0.063985</td>\n",
       "      <td>0.023739</td>\n",
       "      <td>-0.000993</td>\n",
       "      <td>-0.009017</td>\n",
       "      <td>-0.509434</td>\n",
       "      <td>1.000000</td>\n",
       "      <td>-0.508221</td>\n",
       "      <td>-0.509017</td>\n",
       "      <td>-0.011859</td>\n",
       "      <td>-0.042400</td>\n",
       "      <td>-0.000368</td>\n",
       "      <td>0.387494</td>\n",
       "    </tr>\n",
       "    <tr>\n",
       "      <th>Kvartal</th>\n",
       "      <td>-0.063420</td>\n",
       "      <td>-0.079739</td>\n",
       "      <td>0.051633</td>\n",
       "      <td>-0.178270</td>\n",
       "      <td>-0.053811</td>\n",
       "      <td>-0.062408</td>\n",
       "      <td>-0.044947</td>\n",
       "      <td>0.000919</td>\n",
       "      <td>0.010446</td>\n",
       "      <td>0.981146</td>\n",
       "      <td>-0.508221</td>\n",
       "      <td>1.000000</td>\n",
       "      <td>0.979010</td>\n",
       "      <td>0.027523</td>\n",
       "      <td>0.012458</td>\n",
       "      <td>0.000362</td>\n",
       "      <td>-0.179035</td>\n",
       "    </tr>\n",
       "    <tr>\n",
       "      <th>Dan u godini</th>\n",
       "      <td>-0.033673</td>\n",
       "      <td>-0.052744</td>\n",
       "      <td>-0.005902</td>\n",
       "      <td>-0.201047</td>\n",
       "      <td>-0.026535</td>\n",
       "      <td>-0.043356</td>\n",
       "      <td>-0.041404</td>\n",
       "      <td>0.001286</td>\n",
       "      <td>0.010842</td>\n",
       "      <td>0.997753</td>\n",
       "      <td>-0.509017</td>\n",
       "      <td>0.979010</td>\n",
       "      <td>1.000000</td>\n",
       "      <td>0.097442</td>\n",
       "      <td>0.012193</td>\n",
       "      <td>0.000456</td>\n",
       "      <td>-0.201745</td>\n",
       "    </tr>\n",
       "    <tr>\n",
       "      <th>Dan u mjesecu</th>\n",
       "      <td>0.042537</td>\n",
       "      <td>0.039491</td>\n",
       "      <td>-0.084084</td>\n",
       "      <td>0.060024</td>\n",
       "      <td>0.018524</td>\n",
       "      <td>0.003975</td>\n",
       "      <td>0.007593</td>\n",
       "      <td>0.000748</td>\n",
       "      <td>0.001140</td>\n",
       "      <td>0.030781</td>\n",
       "      <td>-0.011859</td>\n",
       "      <td>0.027523</td>\n",
       "      <td>0.097442</td>\n",
       "      <td>1.000000</td>\n",
       "      <td>-0.020606</td>\n",
       "      <td>-0.000192</td>\n",
       "      <td>0.060109</td>\n",
       "    </tr>\n",
       "    <tr>\n",
       "      <th>Praznik</th>\n",
       "      <td>-0.056705</td>\n",
       "      <td>-0.056461</td>\n",
       "      <td>-0.040358</td>\n",
       "      <td>-0.084157</td>\n",
       "      <td>-0.022794</td>\n",
       "      <td>-0.022540</td>\n",
       "      <td>-0.011418</td>\n",
       "      <td>0.000171</td>\n",
       "      <td>0.079911</td>\n",
       "      <td>0.013652</td>\n",
       "      <td>-0.042400</td>\n",
       "      <td>0.012458</td>\n",
       "      <td>0.012193</td>\n",
       "      <td>-0.020606</td>\n",
       "      <td>1.000000</td>\n",
       "      <td>0.000049</td>\n",
       "      <td>-0.084980</td>\n",
       "    </tr>\n",
       "    <tr>\n",
       "      <th>Radni sati</th>\n",
       "      <td>0.542715</td>\n",
       "      <td>0.587146</td>\n",
       "      <td>0.154258</td>\n",
       "      <td>0.280720</td>\n",
       "      <td>0.444571</td>\n",
       "      <td>0.441534</td>\n",
       "      <td>-0.058755</td>\n",
       "      <td>0.168570</td>\n",
       "      <td>0.000309</td>\n",
       "      <td>0.000467</td>\n",
       "      <td>-0.000368</td>\n",
       "      <td>0.000362</td>\n",
       "      <td>0.000456</td>\n",
       "      <td>-0.000192</td>\n",
       "      <td>0.000049</td>\n",
       "      <td>1.000000</td>\n",
       "      <td>0.324459</td>\n",
       "    </tr>\n",
       "    <tr>\n",
       "      <th>Temp</th>\n",
       "      <td>0.345322</td>\n",
       "      <td>0.391244</td>\n",
       "      <td>0.504294</td>\n",
       "      <td>0.979419</td>\n",
       "      <td>0.164618</td>\n",
       "      <td>0.221569</td>\n",
       "      <td>-0.037796</td>\n",
       "      <td>0.185139</td>\n",
       "      <td>-0.036996</td>\n",
       "      <td>-0.205073</td>\n",
       "      <td>0.387494</td>\n",
       "      <td>-0.179035</td>\n",
       "      <td>-0.201745</td>\n",
       "      <td>0.060109</td>\n",
       "      <td>-0.084980</td>\n",
       "      <td>0.324459</td>\n",
       "      <td>1.000000</td>\n",
       "    </tr>\n",
       "  </tbody>\n",
       "</table>\n",
       "</div>"
      ],
      "text/plain": [
       "                    T pol (t-1)  T pov (t-1)  T vanj(t-1)  T prost (t-1)  \\\n",
       "T pol (t-1)            1.000000     0.975526    -0.156268       0.294100   \n",
       "T pov (t-1)            0.975526     1.000000    -0.122887       0.345683   \n",
       "T vanj(t-1)           -0.156268    -0.122887     1.000000       0.524344   \n",
       "T prost (t-1)          0.294100     0.345683     0.524344       1.000000   \n",
       "Grijanje_K1            0.709569     0.699916    -0.263466       0.072784   \n",
       "Broj sati grijanja     0.671721     0.696692    -0.212524       0.177589   \n",
       "Negrijano             -0.027382    -0.055929    -0.065933      -0.075871   \n",
       "Sat                    0.196047     0.192070     0.190910       0.218840   \n",
       "Dan u sedmici         -0.236728    -0.227348     0.014894      -0.028383   \n",
       "Mjesec                -0.037135    -0.055994     0.001266      -0.204366   \n",
       "Godina                 0.060949     0.097513    -0.004168       0.387024   \n",
       "Kvartal               -0.063420    -0.079739     0.051633      -0.178270   \n",
       "Dan u godini          -0.033673    -0.052744    -0.005902      -0.201047   \n",
       "Dan u mjesecu          0.042537     0.039491    -0.084084       0.060024   \n",
       "Praznik               -0.056705    -0.056461    -0.040358      -0.084157   \n",
       "Radni sati             0.542715     0.587146     0.154258       0.280720   \n",
       "Temp                   0.345322     0.391244     0.504294       0.979419   \n",
       "\n",
       "                    Grijanje_K1  Broj sati grijanja  Negrijano       Sat  \\\n",
       "T pol (t-1)            0.709569            0.671721  -0.027382  0.196047   \n",
       "T pov (t-1)            0.699916            0.696692  -0.055929  0.192070   \n",
       "T vanj(t-1)           -0.263466           -0.212524  -0.065933  0.190910   \n",
       "T prost (t-1)          0.072784            0.177589  -0.075871  0.218840   \n",
       "Grijanje_K1            1.000000            0.817594   0.243998 -0.006658   \n",
       "Broj sati grijanja     0.817594            1.000000   0.002433  0.090174   \n",
       "Negrijano              0.243998            0.002433   1.000000 -0.070456   \n",
       "Sat                   -0.006658            0.090174  -0.070456  1.000000   \n",
       "Dan u sedmici         -0.168368           -0.157187  -0.044596 -0.000625   \n",
       "Mjesec                -0.028307           -0.044248  -0.041996  0.001230   \n",
       "Godina                 0.062861            0.063985   0.023739 -0.000993   \n",
       "Kvartal               -0.053811           -0.062408  -0.044947  0.000919   \n",
       "Dan u godini          -0.026535           -0.043356  -0.041404  0.001286   \n",
       "Dan u mjesecu          0.018524            0.003975   0.007593  0.000748   \n",
       "Praznik               -0.022794           -0.022540  -0.011418  0.000171   \n",
       "Radni sati             0.444571            0.441534  -0.058755  0.168570   \n",
       "Temp                   0.164618            0.221569  -0.037796  0.185139   \n",
       "\n",
       "                    Dan u sedmici    Mjesec    Godina   Kvartal  Dan u godini  \\\n",
       "T pol (t-1)             -0.236728 -0.037135  0.060949 -0.063420     -0.033673   \n",
       "T pov (t-1)             -0.227348 -0.055994  0.097513 -0.079739     -0.052744   \n",
       "T vanj(t-1)              0.014894  0.001266 -0.004168  0.051633     -0.005902   \n",
       "T prost (t-1)           -0.028383 -0.204366  0.387024 -0.178270     -0.201047   \n",
       "Grijanje_K1             -0.168368 -0.028307  0.062861 -0.053811     -0.026535   \n",
       "Broj sati grijanja      -0.157187 -0.044248  0.063985 -0.062408     -0.043356   \n",
       "Negrijano               -0.044596 -0.041996  0.023739 -0.044947     -0.041404   \n",
       "Sat                     -0.000625  0.001230 -0.000993  0.000919      0.001286   \n",
       "Dan u sedmici            1.000000  0.010856 -0.009017  0.010446      0.010842   \n",
       "Mjesec                   0.010856  1.000000 -0.509434  0.981146      0.997753   \n",
       "Godina                  -0.009017 -0.509434  1.000000 -0.508221     -0.509017   \n",
       "Kvartal                  0.010446  0.981146 -0.508221  1.000000      0.979010   \n",
       "Dan u godini             0.010842  0.997753 -0.509017  0.979010      1.000000   \n",
       "Dan u mjesecu            0.001140  0.030781 -0.011859  0.027523      0.097442   \n",
       "Praznik                  0.079911  0.013652 -0.042400  0.012458      0.012193   \n",
       "Radni sati               0.000309  0.000467 -0.000368  0.000362      0.000456   \n",
       "Temp                    -0.036996 -0.205073  0.387494 -0.179035     -0.201745   \n",
       "\n",
       "                    Dan u mjesecu   Praznik  Radni sati     Temp   \n",
       "T pol (t-1)              0.042537 -0.056705    0.542715  0.345322  \n",
       "T pov (t-1)              0.039491 -0.056461    0.587146  0.391244  \n",
       "T vanj(t-1)             -0.084084 -0.040358    0.154258  0.504294  \n",
       "T prost (t-1)            0.060024 -0.084157    0.280720  0.979419  \n",
       "Grijanje_K1              0.018524 -0.022794    0.444571  0.164618  \n",
       "Broj sati grijanja       0.003975 -0.022540    0.441534  0.221569  \n",
       "Negrijano                0.007593 -0.011418   -0.058755 -0.037796  \n",
       "Sat                      0.000748  0.000171    0.168570  0.185139  \n",
       "Dan u sedmici            0.001140  0.079911    0.000309 -0.036996  \n",
       "Mjesec                   0.030781  0.013652    0.000467 -0.205073  \n",
       "Godina                  -0.011859 -0.042400   -0.000368  0.387494  \n",
       "Kvartal                  0.027523  0.012458    0.000362 -0.179035  \n",
       "Dan u godini             0.097442  0.012193    0.000456 -0.201745  \n",
       "Dan u mjesecu            1.000000 -0.020606   -0.000192  0.060109  \n",
       "Praznik                 -0.020606  1.000000    0.000049 -0.084980  \n",
       "Radni sati              -0.000192  0.000049    1.000000  0.324459  \n",
       "Temp                     0.060109 -0.084980    0.324459  1.000000  "
      ]
     },
     "execution_count": 63,
     "metadata": {},
     "output_type": "execute_result"
    }
   ],
   "source": [
    "univariate_df.corr()"
   ]
  },
  {
   "cell_type": "code",
   "execution_count": 64,
   "metadata": {},
   "outputs": [
    {
     "data": {
      "text/plain": [
       "17"
      ]
     },
     "execution_count": 64,
     "metadata": {},
     "output_type": "execute_result"
    }
   ],
   "source": [
    "len(univariate_df.columns)\n"
   ]
  },
  {
   "cell_type": "code",
   "execution_count": 65,
   "metadata": {},
   "outputs": [
    {
     "name": "stdout",
     "output_type": "stream",
     "text": [
      "12832 2265\n"
     ]
    }
   ],
   "source": [
    "train_size = int(0.85 * len(feat_and_lab))\n",
    "test_size = len(feat_and_lab) - train_size\n",
    "\n",
    "\n",
    "train = univariate_df.iloc[:train_size, :]\n",
    "\n",
    "x_train, y_train = pd.DataFrame((univariate_df.iloc[:train_size, :16])),  pd.DataFrame((univariate_df.iloc[:train_size,16]))\n",
    "x_valid, y_valid = pd.DataFrame((univariate_df.iloc[train_size:,:16])), pd.DataFrame((univariate_df.iloc[train_size:, 16]))\n",
    "\n",
    "print(len(train), len(x_valid))"
   ]
  },
  {
   "cell_type": "code",
   "execution_count": 66,
   "metadata": {},
   "outputs": [
    {
     "data": {
      "text/html": [
       "<div>\n",
       "<style scoped>\n",
       "    .dataframe tbody tr th:only-of-type {\n",
       "        vertical-align: middle;\n",
       "    }\n",
       "\n",
       "    .dataframe tbody tr th {\n",
       "        vertical-align: top;\n",
       "    }\n",
       "\n",
       "    .dataframe thead th {\n",
       "        text-align: right;\n",
       "    }\n",
       "</style>\n",
       "<table border=\"1\" class=\"dataframe\">\n",
       "  <thead>\n",
       "    <tr style=\"text-align: right;\">\n",
       "      <th></th>\n",
       "      <th>Temp</th>\n",
       "    </tr>\n",
       "  </thead>\n",
       "  <tbody>\n",
       "    <tr>\n",
       "      <th>12832</th>\n",
       "      <td>22.12</td>\n",
       "    </tr>\n",
       "    <tr>\n",
       "      <th>12833</th>\n",
       "      <td>22.22</td>\n",
       "    </tr>\n",
       "    <tr>\n",
       "      <th>12834</th>\n",
       "      <td>21.67</td>\n",
       "    </tr>\n",
       "    <tr>\n",
       "      <th>12835</th>\n",
       "      <td>21.12</td>\n",
       "    </tr>\n",
       "    <tr>\n",
       "      <th>12836</th>\n",
       "      <td>20.83</td>\n",
       "    </tr>\n",
       "    <tr>\n",
       "      <th>...</th>\n",
       "      <td>...</td>\n",
       "    </tr>\n",
       "    <tr>\n",
       "      <th>15092</th>\n",
       "      <td>26.18</td>\n",
       "    </tr>\n",
       "    <tr>\n",
       "      <th>15093</th>\n",
       "      <td>26.07</td>\n",
       "    </tr>\n",
       "    <tr>\n",
       "      <th>15094</th>\n",
       "      <td>25.99</td>\n",
       "    </tr>\n",
       "    <tr>\n",
       "      <th>15095</th>\n",
       "      <td>25.89</td>\n",
       "    </tr>\n",
       "    <tr>\n",
       "      <th>15096</th>\n",
       "      <td>25.83</td>\n",
       "    </tr>\n",
       "  </tbody>\n",
       "</table>\n",
       "<p>2265 rows × 1 columns</p>\n",
       "</div>"
      ],
      "text/plain": [
       "       Temp \n",
       "12832  22.12\n",
       "12833  22.22\n",
       "12834  21.67\n",
       "12835  21.12\n",
       "12836  20.83\n",
       "...      ...\n",
       "15092  26.18\n",
       "15093  26.07\n",
       "15094  25.99\n",
       "15095  25.89\n",
       "15096  25.83\n",
       "\n",
       "[2265 rows x 1 columns]"
      ]
     },
     "execution_count": 66,
     "metadata": {},
     "output_type": "execute_result"
    }
   ],
   "source": [
    "y_valid"
   ]
  },
  {
   "cell_type": "code",
   "execution_count": 67,
   "metadata": {},
   "outputs": [],
   "source": [
    "from sklearn.metrics import mean_absolute_error, mean_squared_error\n",
    "import math"
   ]
  },
  {
   "cell_type": "code",
   "execution_count": 68,
   "metadata": {},
   "outputs": [
    {
     "data": {
      "text/html": [
       "<div>\n",
       "<style scoped>\n",
       "    .dataframe tbody tr th:only-of-type {\n",
       "        vertical-align: middle;\n",
       "    }\n",
       "\n",
       "    .dataframe tbody tr th {\n",
       "        vertical-align: top;\n",
       "    }\n",
       "\n",
       "    .dataframe thead th {\n",
       "        text-align: right;\n",
       "    }\n",
       "</style>\n",
       "<table border=\"1\" class=\"dataframe\">\n",
       "  <thead>\n",
       "    <tr style=\"text-align: right;\">\n",
       "      <th></th>\n",
       "      <th>Temp</th>\n",
       "    </tr>\n",
       "  </thead>\n",
       "  <tbody>\n",
       "    <tr>\n",
       "      <th>0</th>\n",
       "      <td>21.06</td>\n",
       "    </tr>\n",
       "    <tr>\n",
       "      <th>1</th>\n",
       "      <td>21.04</td>\n",
       "    </tr>\n",
       "    <tr>\n",
       "      <th>2</th>\n",
       "      <td>21.01</td>\n",
       "    </tr>\n",
       "    <tr>\n",
       "      <th>3</th>\n",
       "      <td>20.98</td>\n",
       "    </tr>\n",
       "    <tr>\n",
       "      <th>4</th>\n",
       "      <td>20.94</td>\n",
       "    </tr>\n",
       "    <tr>\n",
       "      <th>...</th>\n",
       "      <td>...</td>\n",
       "    </tr>\n",
       "    <tr>\n",
       "      <th>12827</th>\n",
       "      <td>20.28</td>\n",
       "    </tr>\n",
       "    <tr>\n",
       "      <th>12828</th>\n",
       "      <td>20.90</td>\n",
       "    </tr>\n",
       "    <tr>\n",
       "      <th>12829</th>\n",
       "      <td>21.43</td>\n",
       "    </tr>\n",
       "    <tr>\n",
       "      <th>12830</th>\n",
       "      <td>21.82</td>\n",
       "    </tr>\n",
       "    <tr>\n",
       "      <th>12831</th>\n",
       "      <td>21.98</td>\n",
       "    </tr>\n",
       "  </tbody>\n",
       "</table>\n",
       "<p>12832 rows × 1 columns</p>\n",
       "</div>"
      ],
      "text/plain": [
       "       Temp \n",
       "0      21.06\n",
       "1      21.04\n",
       "2      21.01\n",
       "3      20.98\n",
       "4      20.94\n",
       "...      ...\n",
       "12827  20.28\n",
       "12828  20.90\n",
       "12829  21.43\n",
       "12830  21.82\n",
       "12831  21.98\n",
       "\n",
       "[12832 rows x 1 columns]"
      ]
     },
     "execution_count": 68,
     "metadata": {},
     "output_type": "execute_result"
    }
   ],
   "source": [
    "y_train"
   ]
  },
  {
   "cell_type": "code",
   "execution_count": 69,
   "metadata": {},
   "outputs": [
    {
     "data": {
      "text/plain": [
       "Temp     0\n",
       "dtype: int64"
      ]
     },
     "execution_count": 69,
     "metadata": {},
     "output_type": "execute_result"
    }
   ],
   "source": [
    "y_train.isna().sum()"
   ]
  },
  {
   "cell_type": "code",
   "execution_count": 70,
   "metadata": {},
   "outputs": [
    {
     "data": {
      "text/html": [
       "<div>\n",
       "<style scoped>\n",
       "    .dataframe tbody tr th:only-of-type {\n",
       "        vertical-align: middle;\n",
       "    }\n",
       "\n",
       "    .dataframe tbody tr th {\n",
       "        vertical-align: top;\n",
       "    }\n",
       "\n",
       "    .dataframe thead th {\n",
       "        text-align: right;\n",
       "    }\n",
       "</style>\n",
       "<table border=\"1\" class=\"dataframe\">\n",
       "  <thead>\n",
       "    <tr style=\"text-align: right;\">\n",
       "      <th></th>\n",
       "      <th>Temp</th>\n",
       "    </tr>\n",
       "  </thead>\n",
       "  <tbody>\n",
       "    <tr>\n",
       "      <th>0</th>\n",
       "      <td>21.06</td>\n",
       "    </tr>\n",
       "    <tr>\n",
       "      <th>1</th>\n",
       "      <td>21.04</td>\n",
       "    </tr>\n",
       "    <tr>\n",
       "      <th>2</th>\n",
       "      <td>21.01</td>\n",
       "    </tr>\n",
       "    <tr>\n",
       "      <th>3</th>\n",
       "      <td>20.98</td>\n",
       "    </tr>\n",
       "    <tr>\n",
       "      <th>4</th>\n",
       "      <td>20.94</td>\n",
       "    </tr>\n",
       "    <tr>\n",
       "      <th>...</th>\n",
       "      <td>...</td>\n",
       "    </tr>\n",
       "    <tr>\n",
       "      <th>12827</th>\n",
       "      <td>20.28</td>\n",
       "    </tr>\n",
       "    <tr>\n",
       "      <th>12828</th>\n",
       "      <td>20.90</td>\n",
       "    </tr>\n",
       "    <tr>\n",
       "      <th>12829</th>\n",
       "      <td>21.43</td>\n",
       "    </tr>\n",
       "    <tr>\n",
       "      <th>12830</th>\n",
       "      <td>21.82</td>\n",
       "    </tr>\n",
       "    <tr>\n",
       "      <th>12831</th>\n",
       "      <td>21.98</td>\n",
       "    </tr>\n",
       "  </tbody>\n",
       "</table>\n",
       "<p>12832 rows × 1 columns</p>\n",
       "</div>"
      ],
      "text/plain": [
       "       Temp \n",
       "0      21.06\n",
       "1      21.04\n",
       "2      21.01\n",
       "3      20.98\n",
       "4      20.94\n",
       "...      ...\n",
       "12827  20.28\n",
       "12828  20.90\n",
       "12829  21.43\n",
       "12830  21.82\n",
       "12831  21.98\n",
       "\n",
       "[12832 rows x 1 columns]"
      ]
     },
     "execution_count": 70,
     "metadata": {},
     "output_type": "execute_result"
    }
   ],
   "source": [
    "y_train.interpolate()"
   ]
  },
  {
   "cell_type": "code",
   "execution_count": 71,
   "metadata": {},
   "outputs": [
    {
     "name": "stdout",
     "output_type": "stream",
     "text": [
      "RMSE: 2.2301562556268206\n"
     ]
    },
    {
     "name": "stderr",
     "output_type": "stream",
     "text": [
      "C:\\Users\\EhlimanaJugo\\anaconda3\\envs\\Ehlimana\\lib\\site-packages\\statsmodels\\tsa\\arima_model.py:472: FutureWarning: \n",
      "statsmodels.tsa.arima_model.ARMA and statsmodels.tsa.arima_model.ARIMA have\n",
      "been deprecated in favor of statsmodels.tsa.arima.model.ARIMA (note the .\n",
      "between arima and model) and\n",
      "statsmodels.tsa.SARIMAX. These will be removed after the 0.12 release.\n",
      "\n",
      "statsmodels.tsa.arima.model.ARIMA makes use of the statespace framework and\n",
      "is both well tested and maintained.\n",
      "\n",
      "To silence this warning and continue using ARMA and ARIMA until they are\n",
      "removed, use:\n",
      "\n",
      "import warnings\n",
      "warnings.filterwarnings('ignore', 'statsmodels.tsa.arima_model.ARMA',\n",
      "                        FutureWarning)\n",
      "warnings.filterwarnings('ignore', 'statsmodels.tsa.arima_model.ARIMA',\n",
      "                        FutureWarning)\n",
      "\n",
      "  warnings.warn(ARIMA_DEPRECATION_WARN, FutureWarning)\n"
     ]
    }
   ],
   "source": [
    "# Fit model\n",
    "model = ARIMA(y_train.interpolate(), order=(0,0,0))\n",
    "model_fit = model.fit()\n",
    "\n",
    "# Prediction with ARIMA\n",
    "y_pred, se, conf = model_fit.forecast(2265)\n",
    "\n",
    "# Calcuate metrics\n",
    "score_mae = mean_absolute_error(y_valid, y_pred)\n",
    "score_rmse = math.sqrt(mean_squared_error(y_valid, y_pred))\n",
    "\n",
    "print('RMSE: {}'.format(score_rmse))"
   ]
  },
  {
   "cell_type": "code",
   "execution_count": 72,
   "metadata": {},
   "outputs": [
    {
     "name": "stdout",
     "output_type": "stream",
     "text": [
      "Performing stepwise search to minimize aic\n",
      " ARIMA(1,0,1)(0,0,0)[0]             : AIC=4990.877, Time=1.49 sec\n",
      " ARIMA(0,0,0)(0,0,0)[0]             : AIC=114376.034, Time=0.09 sec\n",
      " ARIMA(1,0,0)(0,0,0)[0]             : AIC=inf, Time=0.47 sec\n",
      " ARIMA(0,0,1)(0,0,0)[0]             : AIC=inf, Time=0.88 sec\n",
      " ARIMA(2,0,1)(0,0,0)[0]             : AIC=4403.505, Time=0.93 sec\n",
      " ARIMA(2,0,0)(0,0,0)[0]             : AIC=inf, Time=0.33 sec\n",
      " ARIMA(3,0,1)(0,0,0)[0]             : AIC=4399.133, Time=1.85 sec\n",
      " ARIMA(3,0,0)(0,0,0)[0]             : AIC=inf, Time=1.42 sec\n",
      " ARIMA(3,0,2)(0,0,0)[0]             : AIC=4407.035, Time=6.96 sec\n",
      " ARIMA(2,0,2)(0,0,0)[0]             : AIC=4393.824, Time=1.42 sec\n",
      " ARIMA(1,0,2)(0,0,0)[0]             : AIC=4539.951, Time=0.84 sec\n",
      " ARIMA(2,0,3)(0,0,0)[0]             : AIC=4389.909, Time=2.34 sec\n",
      " ARIMA(1,0,3)(0,0,0)[0]             : AIC=4393.366, Time=1.03 sec\n",
      " ARIMA(3,0,3)(0,0,0)[0]             : AIC=4406.083, Time=10.46 sec\n",
      " ARIMA(2,0,3)(0,0,0)[0] intercept   : AIC=3933.195, Time=13.44 sec\n",
      " ARIMA(1,0,3)(0,0,0)[0] intercept   : AIC=4021.890, Time=9.26 sec\n",
      " ARIMA(2,0,2)(0,0,0)[0] intercept   : AIC=3931.324, Time=13.78 sec\n",
      " ARIMA(1,0,2)(0,0,0)[0] intercept   : AIC=4229.468, Time=8.16 sec\n",
      " ARIMA(2,0,1)(0,0,0)[0] intercept   : AIC=3929.423, Time=7.40 sec\n",
      " ARIMA(1,0,1)(0,0,0)[0] intercept   : AIC=4750.342, Time=4.37 sec\n",
      " ARIMA(2,0,0)(0,0,0)[0] intercept   : AIC=4105.304, Time=0.97 sec\n",
      " ARIMA(3,0,1)(0,0,0)[0] intercept   : AIC=3931.330, Time=14.72 sec\n",
      " ARIMA(1,0,0)(0,0,0)[0] intercept   : AIC=6605.911, Time=0.54 sec\n",
      " ARIMA(3,0,0)(0,0,0)[0] intercept   : AIC=3941.201, Time=1.41 sec\n",
      " ARIMA(3,0,2)(0,0,0)[0] intercept   : AIC=3933.298, Time=10.13 sec\n",
      "\n",
      "Best model:  ARIMA(2,0,1)(0,0,0)[0] intercept\n",
      "Total fit time: 114.762 seconds\n",
      "                               SARIMAX Results                                \n",
      "==============================================================================\n",
      "Dep. Variable:                      y   No. Observations:                12832\n",
      "Model:               SARIMAX(2, 0, 1)   Log Likelihood               -1959.712\n",
      "Date:                Wed, 08 Sep 2021   AIC                           3929.423\n",
      "Time:                        11:00:30   BIC                           3966.722\n",
      "Sample:                             0   HQIC                          3941.894\n",
      "                              - 12832                                         \n",
      "Covariance Type:                  opg                                         \n",
      "==============================================================================\n",
      "                 coef    std err          z      P>|z|      [0.025      0.975]\n",
      "------------------------------------------------------------------------------\n",
      "intercept      0.6000      0.018     33.603      0.000       0.565       0.635\n",
      "ar.L1          1.6062      0.009    169.911      0.000       1.588       1.625\n",
      "ar.L2         -0.6350      0.009    -67.330      0.000      -0.654      -0.617\n",
      "ma.L1         -0.2702      0.010    -26.294      0.000      -0.290      -0.250\n",
      "sigma2         0.0794      0.000    285.883      0.000       0.079       0.080\n",
      "===================================================================================\n",
      "Ljung-Box (L1) (Q):                   0.00   Jarque-Bera (JB):            686737.33\n",
      "Prob(Q):                              0.96   Prob(JB):                         0.00\n",
      "Heteroskedasticity (H):               1.21   Skew:                             1.72\n",
      "Prob(H) (two-sided):                  0.00   Kurtosis:                        38.67\n",
      "===================================================================================\n",
      "\n",
      "Warnings:\n",
      "[1] Covariance matrix calculated using the outer product of gradients (complex-step).\n"
     ]
    }
   ],
   "source": [
    "from statsmodels.tsa.arima_model import ARIMA\n",
    "import pmdarima as pm\n",
    "model = pm.auto_arima(y_train.interpolate(), start_p=1, start_q=1,\n",
    "                      test='adf',       # use adftest to find optimal 'd'\n",
    "                      max_p=3, max_q=3, # maximum p and q\n",
    "                      m=1,              # frequency of series\n",
    "                      d=None,           # let model determine 'd'\n",
    "                      seasonal=False,   # No Seasonality\n",
    "                      start_P=0, \n",
    "                      D=0, \n",
    "                      trace=True,\n",
    "                      error_action='ignore',  \n",
    "                      suppress_warnings=True, \n",
    "                      stepwise=True)\n",
    "\n",
    "print(model.summary())"
   ]
  },
  {
   "cell_type": "code",
   "execution_count": 73,
   "metadata": {},
   "outputs": [
    {
     "data": {
      "image/png": "[encoded data removed]",
      "text/plain": [
       "<Figure size 1152x576 with 4 Axes>"
      ]
     },
     "metadata": {
      "needs_background": "light"
     },
     "output_type": "display_data"
    }
   ],
   "source": [
    "model.plot_diagnostics(figsize=(16,8))\n",
    "plt.show()\n"
   ]
  },
  {
   "cell_type": "code",
   "execution_count": 74,
   "metadata": {},
   "outputs": [
    {
     "data": {
      "image/png": "[encoded data removed]",
      "text/plain": [
       "<Figure size 1080x432 with 1 Axes>"
      ]
     },
     "metadata": {
      "needs_background": "light"
     },
     "output_type": "display_data"
    }
   ],
   "source": [
    "f, ax = plt.subplots(1)\n",
    "f.set_figheight(6)\n",
    "f.set_figwidth(15)\n",
    "\n",
    "model_fit.plot_predict(1, 2270, ax=ax)\n",
    "sns.lineplot(x=x_valid.index, y=y_valid['Temp '], ax=ax, color='orange', label='Ground truth') #navajowhite\n",
    "\n",
    "ax.set_title(f'Prediction \\n MAE: {score_mae:.2f}, RMSE: {score_rmse:.2f}', fontsize=14)\n",
    "ax.set_xlabel(xlabel='Date', fontsize=14)\n",
    "ax.set_ylabel(ylabel='Depth to Groundwater', fontsize=14)\n",
    "\n",
    "plt.show()"
   ]
  },
  {
   "cell_type": "code",
   "execution_count": 83,
   "metadata": {},
   "outputs": [],
   "source": [
    "#univariate_df[\"Datum i vrijeme\"]=aa\n",
    "univariate_df=pd.DataFrame()\n",
    "#univariate_df[\"Temp.senzor vanj.1 25000099Temperatura (°C)\"]=feat_and_lab_1[\"Temp.senzor vanj.1 25000099Temperatura (°C)\"].values\n",
    "univariate_df['T pol (t-1)']=feat_and_lab['T pol (t-1)'].values\n",
    "univariate_df['T pov (t-1)']=feat_and_lab['T pov (t-1)'].values\n",
    "univariate_df['T vanj(t-1)']=feat_and_lab['T vanj(t-1)'].values\n",
    "univariate_df['T prost (t-1)']=feat_and_lab['T prost (t-1)'].values\n",
    "univariate_df['Grijanje_K1']=feat_and_lab['Grijanje_K1'].values\n",
    "univariate_df[ 'Broj sati grijanja']=feat_and_lab[ 'Broj sati grijanja_K1'].values\n",
    "univariate_df[ 'Negrijano']=feat_and_lab[ 'Negrijano'].values\n",
    "univariate_df[ 'Sat']=feat_and_lab[ 'Sat'].values\n",
    "univariate_df[ 'Dan u sedmici']=feat_and_lab[ 'Dan u sedmici'].values\n",
    "univariate_df[  'Mjesec']=feat_and_lab[ 'Mjesec'].values\n",
    "univariate_df[ 'Godina']=feat_and_lab[ 'Godina'].values\n",
    "univariate_df[ 'Kvartal']=feat_and_lab[ 'Kvartal'].values\n",
    "univariate_df[ 'Dan u godini']=feat_and_lab['Dan u godini'].values\n",
    "univariate_df[ 'Dan u mjesecu']=feat_and_lab[ 'Dan u mjesecu'].values\n",
    "univariate_df[ 'Datum i vrijeme']=feat_and_lab[ 'Datum i vrijeme'].values\n",
    "\n",
    "univariate_df[\"Temp \"]=feat_and_lab['Temp.senzor un.4 24004658Temperatura (°C)'].values\n",
    "\n",
    "\n",
    "\n",
    "#univariate_df[\"Plin, m3\"]=feat_and_lab_1[\"Plin, m3\"].values"
   ]
  },
  {
   "cell_type": "code",
   "execution_count": 84,
   "metadata": {},
   "outputs": [
    {
     "data": {
      "text/html": [
       "<div>\n",
       "<style scoped>\n",
       "    .dataframe tbody tr th:only-of-type {\n",
       "        vertical-align: middle;\n",
       "    }\n",
       "\n",
       "    .dataframe tbody tr th {\n",
       "        vertical-align: top;\n",
       "    }\n",
       "\n",
       "    .dataframe thead th {\n",
       "        text-align: right;\n",
       "    }\n",
       "</style>\n",
       "<table border=\"1\" class=\"dataframe\">\n",
       "  <thead>\n",
       "    <tr style=\"text-align: right;\">\n",
       "      <th></th>\n",
       "      <th>T pol (t-1)</th>\n",
       "      <th>T pov (t-1)</th>\n",
       "      <th>T vanj(t-1)</th>\n",
       "      <th>T prost (t-1)</th>\n",
       "      <th>Grijanje_K1</th>\n",
       "      <th>Broj sati grijanja</th>\n",
       "      <th>Negrijano</th>\n",
       "      <th>Sat</th>\n",
       "      <th>Dan u sedmici</th>\n",
       "      <th>Mjesec</th>\n",
       "      <th>Godina</th>\n",
       "      <th>Kvartal</th>\n",
       "      <th>Dan u godini</th>\n",
       "      <th>Dan u mjesecu</th>\n",
       "      <th>Datum i vrijeme</th>\n",
       "      <th>Temp</th>\n",
       "    </tr>\n",
       "  </thead>\n",
       "  <tbody>\n",
       "    <tr>\n",
       "      <th>0</th>\n",
       "      <td>18.3</td>\n",
       "      <td>19.5</td>\n",
       "      <td>11.14</td>\n",
       "      <td>21.11</td>\n",
       "      <td>0</td>\n",
       "      <td>-1</td>\n",
       "      <td>0.000000e+00</td>\n",
       "      <td>1</td>\n",
       "      <td>3</td>\n",
       "      <td>10</td>\n",
       "      <td>2015</td>\n",
       "      <td>4</td>\n",
       "      <td>274</td>\n",
       "      <td>1</td>\n",
       "      <td>2015-10-01 01:00:00</td>\n",
       "      <td>21.06</td>\n",
       "    </tr>\n",
       "    <tr>\n",
       "      <th>1</th>\n",
       "      <td>18.3</td>\n",
       "      <td>19.4</td>\n",
       "      <td>11.12</td>\n",
       "      <td>21.06</td>\n",
       "      <td>0</td>\n",
       "      <td>-1</td>\n",
       "      <td>3.702330e-212</td>\n",
       "      <td>2</td>\n",
       "      <td>3</td>\n",
       "      <td>10</td>\n",
       "      <td>2015</td>\n",
       "      <td>4</td>\n",
       "      <td>274</td>\n",
       "      <td>1</td>\n",
       "      <td>2015-10-01 02:00:00</td>\n",
       "      <td>21.04</td>\n",
       "    </tr>\n",
       "    <tr>\n",
       "      <th>2</th>\n",
       "      <td>18.3</td>\n",
       "      <td>19.3</td>\n",
       "      <td>10.88</td>\n",
       "      <td>21.04</td>\n",
       "      <td>0</td>\n",
       "      <td>-1</td>\n",
       "      <td>3.704228e-212</td>\n",
       "      <td>3</td>\n",
       "      <td>3</td>\n",
       "      <td>10</td>\n",
       "      <td>2015</td>\n",
       "      <td>4</td>\n",
       "      <td>274</td>\n",
       "      <td>1</td>\n",
       "      <td>2015-10-01 03:00:00</td>\n",
       "      <td>21.01</td>\n",
       "    </tr>\n",
       "    <tr>\n",
       "      <th>3</th>\n",
       "      <td>18.2</td>\n",
       "      <td>19.2</td>\n",
       "      <td>10.86</td>\n",
       "      <td>21.01</td>\n",
       "      <td>0</td>\n",
       "      <td>-1</td>\n",
       "      <td>3.706128e-212</td>\n",
       "      <td>4</td>\n",
       "      <td>3</td>\n",
       "      <td>10</td>\n",
       "      <td>2015</td>\n",
       "      <td>4</td>\n",
       "      <td>274</td>\n",
       "      <td>1</td>\n",
       "      <td>2015-10-01 04:00:00</td>\n",
       "      <td>20.98</td>\n",
       "    </tr>\n",
       "    <tr>\n",
       "      <th>4</th>\n",
       "      <td>18.1</td>\n",
       "      <td>19.1</td>\n",
       "      <td>10.80</td>\n",
       "      <td>20.98</td>\n",
       "      <td>0</td>\n",
       "      <td>-1</td>\n",
       "      <td>3.708027e-212</td>\n",
       "      <td>5</td>\n",
       "      <td>3</td>\n",
       "      <td>10</td>\n",
       "      <td>2015</td>\n",
       "      <td>4</td>\n",
       "      <td>274</td>\n",
       "      <td>1</td>\n",
       "      <td>2015-10-01 05:00:00</td>\n",
       "      <td>20.94</td>\n",
       "    </tr>\n",
       "    <tr>\n",
       "      <th>...</th>\n",
       "      <td>...</td>\n",
       "      <td>...</td>\n",
       "      <td>...</td>\n",
       "      <td>...</td>\n",
       "      <td>...</td>\n",
       "      <td>...</td>\n",
       "      <td>...</td>\n",
       "      <td>...</td>\n",
       "      <td>...</td>\n",
       "      <td>...</td>\n",
       "      <td>...</td>\n",
       "      <td>...</td>\n",
       "      <td>...</td>\n",
       "      <td>...</td>\n",
       "      <td>...</td>\n",
       "      <td>...</td>\n",
       "    </tr>\n",
       "    <tr>\n",
       "      <th>15092</th>\n",
       "      <td>20.8</td>\n",
       "      <td>21.1</td>\n",
       "      <td>22.14</td>\n",
       "      <td>26.29</td>\n",
       "      <td>0</td>\n",
       "      <td>-1</td>\n",
       "      <td>9.999239e-207</td>\n",
       "      <td>19</td>\n",
       "      <td>5</td>\n",
       "      <td>4</td>\n",
       "      <td>2018</td>\n",
       "      <td>2</td>\n",
       "      <td>118</td>\n",
       "      <td>28</td>\n",
       "      <td>2018-04-28 19:00:00</td>\n",
       "      <td>26.18</td>\n",
       "    </tr>\n",
       "    <tr>\n",
       "      <th>15093</th>\n",
       "      <td>20.9</td>\n",
       "      <td>21.1</td>\n",
       "      <td>21.04</td>\n",
       "      <td>26.18</td>\n",
       "      <td>0</td>\n",
       "      <td>-1</td>\n",
       "      <td>1.000422e-206</td>\n",
       "      <td>20</td>\n",
       "      <td>5</td>\n",
       "      <td>4</td>\n",
       "      <td>2018</td>\n",
       "      <td>2</td>\n",
       "      <td>118</td>\n",
       "      <td>28</td>\n",
       "      <td>2018-04-28 20:00:00</td>\n",
       "      <td>26.07</td>\n",
       "    </tr>\n",
       "    <tr>\n",
       "      <th>15094</th>\n",
       "      <td>20.9</td>\n",
       "      <td>21.2</td>\n",
       "      <td>20.28</td>\n",
       "      <td>26.07</td>\n",
       "      <td>0</td>\n",
       "      <td>-1</td>\n",
       "      <td>1.000920e-206</td>\n",
       "      <td>21</td>\n",
       "      <td>5</td>\n",
       "      <td>4</td>\n",
       "      <td>2018</td>\n",
       "      <td>2</td>\n",
       "      <td>118</td>\n",
       "      <td>28</td>\n",
       "      <td>2018-04-28 21:00:00</td>\n",
       "      <td>25.99</td>\n",
       "    </tr>\n",
       "    <tr>\n",
       "      <th>15095</th>\n",
       "      <td>20.9</td>\n",
       "      <td>21.2</td>\n",
       "      <td>20.12</td>\n",
       "      <td>25.99</td>\n",
       "      <td>0</td>\n",
       "      <td>-1</td>\n",
       "      <td>1.001418e-206</td>\n",
       "      <td>22</td>\n",
       "      <td>5</td>\n",
       "      <td>4</td>\n",
       "      <td>2018</td>\n",
       "      <td>2</td>\n",
       "      <td>118</td>\n",
       "      <td>28</td>\n",
       "      <td>2018-04-28 22:00:00</td>\n",
       "      <td>25.89</td>\n",
       "    </tr>\n",
       "    <tr>\n",
       "      <th>15096</th>\n",
       "      <td>20.9</td>\n",
       "      <td>21.2</td>\n",
       "      <td>19.38</td>\n",
       "      <td>25.89</td>\n",
       "      <td>0</td>\n",
       "      <td>-1</td>\n",
       "      <td>1.001916e-206</td>\n",
       "      <td>23</td>\n",
       "      <td>5</td>\n",
       "      <td>4</td>\n",
       "      <td>2018</td>\n",
       "      <td>2</td>\n",
       "      <td>118</td>\n",
       "      <td>28</td>\n",
       "      <td>2018-04-28 23:00:00</td>\n",
       "      <td>25.83</td>\n",
       "    </tr>\n",
       "  </tbody>\n",
       "</table>\n",
       "<p>15097 rows × 16 columns</p>\n",
       "</div>"
      ],
      "text/plain": [
       "       T pol (t-1)  T pov (t-1)  T vanj(t-1)  T prost (t-1)  Grijanje_K1  \\\n",
       "0             18.3         19.5        11.14          21.11            0   \n",
       "1             18.3         19.4        11.12          21.06            0   \n",
       "2             18.3         19.3        10.88          21.04            0   \n",
       "3             18.2         19.2        10.86          21.01            0   \n",
       "4             18.1         19.1        10.80          20.98            0   \n",
       "...            ...          ...          ...            ...          ...   \n",
       "15092         20.8         21.1        22.14          26.29            0   \n",
       "15093         20.9         21.1        21.04          26.18            0   \n",
       "15094         20.9         21.2        20.28          26.07            0   \n",
       "15095         20.9         21.2        20.12          25.99            0   \n",
       "15096         20.9         21.2        19.38          25.89            0   \n",
       "\n",
       "       Broj sati grijanja      Negrijano  Sat  Dan u sedmici  Mjesec  Godina  \\\n",
       "0                      -1   0.000000e+00    1              3      10    2015   \n",
       "1                      -1  3.702330e-212    2              3      10    2015   \n",
       "2                      -1  3.704228e-212    3              3      10    2015   \n",
       "3                      -1  3.706128e-212    4              3      10    2015   \n",
       "4                      -1  3.708027e-212    5              3      10    2015   \n",
       "...                   ...            ...  ...            ...     ...     ...   \n",
       "15092                  -1  9.999239e-207   19              5       4    2018   \n",
       "15093                  -1  1.000422e-206   20              5       4    2018   \n",
       "15094                  -1  1.000920e-206   21              5       4    2018   \n",
       "15095                  -1  1.001418e-206   22              5       4    2018   \n",
       "15096                  -1  1.001916e-206   23              5       4    2018   \n",
       "\n",
       "       Kvartal  Dan u godini  Dan u mjesecu     Datum i vrijeme  Temp   \n",
       "0            4           274              1 2015-10-01 01:00:00  21.06  \n",
       "1            4           274              1 2015-10-01 02:00:00  21.04  \n",
       "2            4           274              1 2015-10-01 03:00:00  21.01  \n",
       "3            4           274              1 2015-10-01 04:00:00  20.98  \n",
       "4            4           274              1 2015-10-01 05:00:00  20.94  \n",
       "...        ...           ...            ...                 ...    ...  \n",
       "15092        2           118             28 2018-04-28 19:00:00  26.18  \n",
       "15093        2           118             28 2018-04-28 20:00:00  26.07  \n",
       "15094        2           118             28 2018-04-28 21:00:00  25.99  \n",
       "15095        2           118             28 2018-04-28 22:00:00  25.89  \n",
       "15096        2           118             28 2018-04-28 23:00:00  25.83  \n",
       "\n",
       "[15097 rows x 16 columns]"
      ]
     },
     "execution_count": 84,
     "metadata": {},
     "output_type": "execute_result"
    }
   ],
   "source": [
    "univariate_df"
   ]
  },
  {
   "cell_type": "code",
   "execution_count": 85,
   "metadata": {},
   "outputs": [
    {
     "data": {
      "text/plain": [
       "Index(['T pol (t-1)', 'T pov (t-1)', 'T vanj(t-1)', 'T prost (t-1)',\n",
       "       'Grijanje_K1', 'Broj sati grijanja', 'Negrijano', 'Sat',\n",
       "       'Dan u sedmici', 'Mjesec', 'Godina', 'Kvartal', 'Dan u godini',\n",
       "       'Dan u mjesecu', 'Datum i vrijeme', 'Temp '],\n",
       "      dtype='object')"
      ]
     },
     "execution_count": 85,
     "metadata": {},
     "output_type": "execute_result"
    }
   ],
   "source": [
    "univariate_df.columns"
   ]
  },
  {
   "cell_type": "code",
   "execution_count": 86,
   "metadata": {},
   "outputs": [
    {
     "data": {
      "text/plain": [
       "['T pov (t-1)',\n",
       " 'T vanj(t-1)',\n",
       " 'T prost (t-1)',\n",
       " 'Grijanje_K1',\n",
       " 'Broj sati grijanja',\n",
       " 'Negrijano',\n",
       " 'Sat',\n",
       " 'Dan u sedmici',\n",
       " 'Mjesec',\n",
       " 'Godina',\n",
       " 'Kvartal',\n",
       " 'Dan u godini',\n",
       " 'Dan u mjesecu',\n",
       " 'Datum i vrijeme']"
      ]
     },
     "execution_count": 86,
     "metadata": {},
     "output_type": "execute_result"
    }
   ],
   "source": [
    "feature_columns = [\n",
    "    'T pol (t-1)',\n",
    "    'T pov (t-1)',\n",
    "    'T vanj(t-1)',\n",
    "    'T prost (t-1)',\n",
    "    'Grijanje_K1', 'Broj sati grijanja', 'Negrijano', 'Sat',\n",
    "       'Dan u sedmici', 'Mjesec', 'Godina', 'Kvartal', 'Dan u godini',\n",
    "       'Dan u mjesecu', 'Datum i vrijeme']\n",
    "target_column = ['Temp ']\n",
    "feature_columns[1:]"
   ]
  },
  {
   "cell_type": "code",
   "execution_count": 87,
   "metadata": {},
   "outputs": [
    {
     "data": {
      "text/html": [
       "<div>\n",
       "<style scoped>\n",
       "    .dataframe tbody tr th:only-of-type {\n",
       "        vertical-align: middle;\n",
       "    }\n",
       "\n",
       "    .dataframe tbody tr th {\n",
       "        vertical-align: top;\n",
       "    }\n",
       "\n",
       "    .dataframe thead th {\n",
       "        text-align: right;\n",
       "    }\n",
       "</style>\n",
       "<table border=\"1\" class=\"dataframe\">\n",
       "  <thead>\n",
       "    <tr style=\"text-align: right;\">\n",
       "      <th></th>\n",
       "      <th>ds</th>\n",
       "      <th>y</th>\n",
       "      <th>T pol (t-1)</th>\n",
       "      <th>T pov (t-1)</th>\n",
       "      <th>T vanj(t-1)</th>\n",
       "      <th>T prost (t-1)</th>\n",
       "      <th>Grijanje_K1</th>\n",
       "      <th>Broj sati grijanja</th>\n",
       "      <th>Negrijano</th>\n",
       "      <th>Sat</th>\n",
       "      <th>Dan u sedmici</th>\n",
       "      <th>Mjesec</th>\n",
       "      <th>Godina</th>\n",
       "      <th>Kvartal</th>\n",
       "      <th>Dan u godini</th>\n",
       "      <th>Dan u mjesecu</th>\n",
       "    </tr>\n",
       "  </thead>\n",
       "  <tbody>\n",
       "    <tr>\n",
       "      <th>0</th>\n",
       "      <td>2015-10-01 01:00:00</td>\n",
       "      <td>21.06</td>\n",
       "      <td>18.3</td>\n",
       "      <td>19.5</td>\n",
       "      <td>11.14</td>\n",
       "      <td>21.11</td>\n",
       "      <td>0</td>\n",
       "      <td>-1</td>\n",
       "      <td>0.000000e+00</td>\n",
       "      <td>1</td>\n",
       "      <td>3</td>\n",
       "      <td>10</td>\n",
       "      <td>2015</td>\n",
       "      <td>4</td>\n",
       "      <td>274</td>\n",
       "      <td>1</td>\n",
       "    </tr>\n",
       "    <tr>\n",
       "      <th>1</th>\n",
       "      <td>2015-10-01 02:00:00</td>\n",
       "      <td>21.04</td>\n",
       "      <td>18.3</td>\n",
       "      <td>19.4</td>\n",
       "      <td>11.12</td>\n",
       "      <td>21.06</td>\n",
       "      <td>0</td>\n",
       "      <td>-1</td>\n",
       "      <td>3.702330e-212</td>\n",
       "      <td>2</td>\n",
       "      <td>3</td>\n",
       "      <td>10</td>\n",
       "      <td>2015</td>\n",
       "      <td>4</td>\n",
       "      <td>274</td>\n",
       "      <td>1</td>\n",
       "    </tr>\n",
       "    <tr>\n",
       "      <th>2</th>\n",
       "      <td>2015-10-01 03:00:00</td>\n",
       "      <td>21.01</td>\n",
       "      <td>18.3</td>\n",
       "      <td>19.3</td>\n",
       "      <td>10.88</td>\n",
       "      <td>21.04</td>\n",
       "      <td>0</td>\n",
       "      <td>-1</td>\n",
       "      <td>3.704228e-212</td>\n",
       "      <td>3</td>\n",
       "      <td>3</td>\n",
       "      <td>10</td>\n",
       "      <td>2015</td>\n",
       "      <td>4</td>\n",
       "      <td>274</td>\n",
       "      <td>1</td>\n",
       "    </tr>\n",
       "    <tr>\n",
       "      <th>3</th>\n",
       "      <td>2015-10-01 04:00:00</td>\n",
       "      <td>20.98</td>\n",
       "      <td>18.2</td>\n",
       "      <td>19.2</td>\n",
       "      <td>10.86</td>\n",
       "      <td>21.01</td>\n",
       "      <td>0</td>\n",
       "      <td>-1</td>\n",
       "      <td>3.706128e-212</td>\n",
       "      <td>4</td>\n",
       "      <td>3</td>\n",
       "      <td>10</td>\n",
       "      <td>2015</td>\n",
       "      <td>4</td>\n",
       "      <td>274</td>\n",
       "      <td>1</td>\n",
       "    </tr>\n",
       "    <tr>\n",
       "      <th>4</th>\n",
       "      <td>2015-10-01 05:00:00</td>\n",
       "      <td>20.94</td>\n",
       "      <td>18.1</td>\n",
       "      <td>19.1</td>\n",
       "      <td>10.80</td>\n",
       "      <td>20.98</td>\n",
       "      <td>0</td>\n",
       "      <td>-1</td>\n",
       "      <td>3.708027e-212</td>\n",
       "      <td>5</td>\n",
       "      <td>3</td>\n",
       "      <td>10</td>\n",
       "      <td>2015</td>\n",
       "      <td>4</td>\n",
       "      <td>274</td>\n",
       "      <td>1</td>\n",
       "    </tr>\n",
       "  </tbody>\n",
       "</table>\n",
       "</div>"
      ],
      "text/plain": [
       "                   ds      y  T pol (t-1)  T pov (t-1)  T vanj(t-1)  \\\n",
       "0 2015-10-01 01:00:00  21.06         18.3         19.5        11.14   \n",
       "1 2015-10-01 02:00:00  21.04         18.3         19.4        11.12   \n",
       "2 2015-10-01 03:00:00  21.01         18.3         19.3        10.88   \n",
       "3 2015-10-01 04:00:00  20.98         18.2         19.2        10.86   \n",
       "4 2015-10-01 05:00:00  20.94         18.1         19.1        10.80   \n",
       "\n",
       "   T prost (t-1)  Grijanje_K1  Broj sati grijanja      Negrijano  Sat  \\\n",
       "0          21.11            0                  -1   0.000000e+00    1   \n",
       "1          21.06            0                  -1  3.702330e-212    2   \n",
       "2          21.04            0                  -1  3.704228e-212    3   \n",
       "3          21.01            0                  -1  3.706128e-212    4   \n",
       "4          20.98            0                  -1  3.708027e-212    5   \n",
       "\n",
       "   Dan u sedmici  Mjesec  Godina  Kvartal  Dan u godini  Dan u mjesecu  \n",
       "0              3      10    2015        4           274              1  \n",
       "1              3      10    2015        4           274              1  \n",
       "2              3      10    2015        4           274              1  \n",
       "3              3      10    2015        4           274              1  \n",
       "4              3      10    2015        4           274              1  "
      ]
     },
     "execution_count": 87,
     "metadata": {},
     "output_type": "execute_result"
    }
   ],
   "source": [
    "\n",
    "train_size = int(0.85 * len(univariate_df))\n",
    "\n",
    "multivariate_df = univariate_df[['Datum i vrijeme','Temp ','T pol (t-1)','T pov (t-1)',\n",
    " 'T vanj(t-1)',\n",
    " 'T prost (t-1)',\n",
    " 'Grijanje_K1',\n",
    " 'Broj sati grijanja',\n",
    " 'Negrijano',\n",
    " 'Sat',\n",
    " 'Dan u sedmici',\n",
    " 'Mjesec',\n",
    " 'Godina',\n",
    " 'Kvartal',\n",
    " 'Dan u godini',\n",
    " 'Dan u mjesecu']].copy()\n",
    "multivariate_df.columns = ['ds', 'y','T pol (t-1)','T pov (t-1)','T vanj(t-1)','T prost (t-1)','Grijanje_K1','Broj sati grijanja','Negrijano',\n",
    " 'Sat', 'Dan u sedmici','Mjesec','Godina','Kvartal','Dan u godini','Dan u mjesecu']\n",
    "\n",
    "train = multivariate_df.iloc[:train_size, :]\n",
    "x_train, y_train = pd.DataFrame(multivariate_df.iloc[:train_size, [0,2,3,4,5,6,7,8,9,10,11,12,13,14,15]]), pd.DataFrame(multivariate_df.iloc[:train_size, 1])\n",
    "x_valid, y_valid = pd.DataFrame(multivariate_df.iloc[train_size:, [0,2,3,4,5,6,7,8,9,10,11,12,13,14,15]]), pd.DataFrame(multivariate_df.iloc[train_size:, 1])\n",
    "\n",
    "train.head()\n"
   ]
  },
  {
   "cell_type": "code",
   "execution_count": 88,
   "metadata": {},
   "outputs": [
    {
     "name": "stdout",
     "output_type": "stream",
     "text": [
      "RMSE: 0.2594570940078345\n"
     ]
    }
   ],
   "source": [
    "# Train the model\n",
    "\n",
    "\n",
    "from fbprophet import Prophet\n",
    "\n",
    "\n",
    "# Train the model\n",
    "model = Prophet()\n",
    "\n",
    "model.add_regressor('T pol (t-1)')\n",
    "model.add_regressor('T pov (t-1)')\n",
    "model.add_regressor('T vanj(t-1)')\n",
    "model.add_regressor('T prost (t-1)')\n",
    "model.add_regressor('Grijanje_K1')\n",
    "model.add_regressor('Broj sati grijanja')\n",
    "model.add_regressor('Negrijano')\n",
    "model.add_regressor('Sat')\n",
    "model.add_regressor('Dan u sedmici')\n",
    "model.add_regressor('Mjesec')\n",
    "model.add_regressor('Godina')\n",
    "model.add_regressor('Kvartal')\n",
    "model.add_regressor('Dan u godini')\n",
    "model.add_regressor('Dan u mjesecu')\n",
    "\n",
    "\n",
    "# Fit the model with train set\n",
    "model.fit(train)\n",
    "\n",
    "# Predict on valid set\n",
    "y_pred = model.predict(x_valid)\n",
    "\n",
    "# Calcuate metrics\n",
    "score_mae = mean_absolute_error(y_valid, y_pred['yhat'])\n",
    "score_rmse = math.sqrt(mean_squared_error(y_valid, y_pred['yhat']))\n",
    "\n",
    "print('RMSE: {}'.format(score_rmse))"
   ]
  },
  {
   "cell_type": "code",
   "execution_count": null,
   "metadata": {},
   "outputs": [],
   "source": []
  },
  {
   "cell_type": "code",
   "execution_count": null,
   "metadata": {},
   "outputs": [],
   "source": []
  },
  {
   "cell_type": "code",
   "execution_count": null,
   "metadata": {},
   "outputs": [],
   "source": []
  },
  {
   "cell_type": "code",
   "execution_count": null,
   "metadata": {},
   "outputs": [],
   "source": [
    "from datetime import date\n",
    "d0 = date(2015, 10, 15)\n",
    "d1 = date(2016, 4, 15)\n",
    "delta = d1 - d0\n",
    "print(delta.days)"
   ]
  },
  {
   "cell_type": "code",
   "execution_count": 222,
   "metadata": {},
   "outputs": [],
   "source": [
    "from sklearn.preprocessing import MinMaxScaler\n",
    "\n",
    "data = univariate_df.filter([\"Temp \"])\n",
    "#Convert the dataframe to a numpy array\n",
    "dataset = data.values"
   ]
  },
  {
   "cell_type": "code",
   "execution_count": 154,
   "metadata": {},
   "outputs": [
    {
     "data": {
      "text/plain": [
       "array([21.06])"
      ]
     },
     "execution_count": 154,
     "metadata": {},
     "output_type": "execute_result"
    }
   ],
   "source": [
    "dataset[1,:]"
   ]
  },
  {
   "cell_type": "code",
   "execution_count": 216,
   "metadata": {},
   "outputs": [
    {
     "data": {
      "text/plain": [
       "array([[0.29726715],\n",
       "       [0.29168991],\n",
       "       [0.28945901],\n",
       "       ...,\n",
       "       [0.84160625],\n",
       "       [0.83045176],\n",
       "       [0.82375906]])"
      ]
     },
     "execution_count": 216,
     "metadata": {},
     "output_type": "execute_result"
    }
   ],
   "source": [
    "scaler = MinMaxScaler(feature_range=(-1, 1))\n",
    "scaled_data = scaler.fit_transform(dataset)\n",
    "\n",
    "scaled_data"
   ]
  },
  {
   "cell_type": "code",
   "execution_count": 162,
   "metadata": {},
   "outputs": [
    {
     "data": {
      "text/plain": [
       "(12857, 15)"
      ]
     },
     "execution_count": 162,
     "metadata": {},
     "output_type": "execute_result"
    }
   ],
   "source": [
    "x_train.shape"
   ]
  },
  {
   "cell_type": "code",
   "execution_count": 232,
   "metadata": {},
   "outputs": [],
   "source": [
    "x_test=x_valid"
   ]
  },
  {
   "cell_type": "code",
   "execution_count": 226,
   "metadata": {},
   "outputs": [
    {
     "data": {
      "text/plain": [
       "(2270, 15)"
      ]
     },
     "execution_count": 226,
     "metadata": {},
     "output_type": "execute_result"
    }
   ],
   "source": [
    "x_test.shape"
   ]
  },
  {
   "cell_type": "code",
   "execution_count": 218,
   "metadata": {},
   "outputs": [
    {
     "ename": "IndexError",
     "evalue": "tuple index out of range",
     "output_type": "error",
     "traceback": [
      "\u001b[1;31m---------------------------------------------------------------------------\u001b[0m",
      "\u001b[1;31mIndexError\u001b[0m                                Traceback (most recent call last)",
      "\u001b[1;32m<ipython-input-218-3871ff57eb9d>\u001b[0m in \u001b[0;36m<module>\u001b[1;34m\u001b[0m\n\u001b[0;32m      1\u001b[0m \u001b[1;31m# reshape input to be [samples, time steps, features]\u001b[0m\u001b[1;33m\u001b[0m\u001b[1;33m\u001b[0m\u001b[1;33m\u001b[0m\u001b[0m\n\u001b[0;32m      2\u001b[0m \u001b[1;33m\u001b[0m\u001b[0m\n\u001b[1;32m----> 3\u001b[1;33m \u001b[0mx_train\u001b[0m \u001b[1;33m=\u001b[0m \u001b[0mnp\u001b[0m\u001b[1;33m.\u001b[0m\u001b[0mreshape\u001b[0m\u001b[1;33m(\u001b[0m\u001b[0mx_train\u001b[0m\u001b[1;33m,\u001b[0m \u001b[1;33m(\u001b[0m\u001b[0mx_train\u001b[0m\u001b[1;33m.\u001b[0m\u001b[0mshape\u001b[0m\u001b[1;33m[\u001b[0m\u001b[1;36m0\u001b[0m\u001b[1;33m]\u001b[0m\u001b[1;33m,\u001b[0m \u001b[1;36m1\u001b[0m\u001b[1;33m,\u001b[0m \u001b[0mx_train\u001b[0m\u001b[1;33m.\u001b[0m\u001b[0mshape\u001b[0m\u001b[1;33m[\u001b[0m\u001b[1;36m1\u001b[0m\u001b[1;33m]\u001b[0m\u001b[1;33m)\u001b[0m\u001b[1;33m)\u001b[0m\u001b[1;33m\u001b[0m\u001b[1;33m\u001b[0m\u001b[0m\n\u001b[0m\u001b[0;32m      4\u001b[0m \u001b[0mx_test\u001b[0m \u001b[1;33m=\u001b[0m \u001b[0mnp\u001b[0m\u001b[1;33m.\u001b[0m\u001b[0mreshape\u001b[0m\u001b[1;33m(\u001b[0m\u001b[0mx_test\u001b[0m\u001b[1;33m,\u001b[0m \u001b[1;33m(\u001b[0m\u001b[0mx_test\u001b[0m\u001b[1;33m.\u001b[0m\u001b[0mshape\u001b[0m\u001b[1;33m[\u001b[0m\u001b[1;36m0\u001b[0m\u001b[1;33m]\u001b[0m\u001b[1;33m,\u001b[0m \u001b[1;36m1\u001b[0m\u001b[1;33m,\u001b[0m \u001b[1;36m0\u001b[0m\u001b[1;33m)\u001b[0m\u001b[1;33m)\u001b[0m\u001b[1;33m\u001b[0m\u001b[1;33m\u001b[0m\u001b[0m\n\u001b[0;32m      5\u001b[0m \u001b[1;33m\u001b[0m\u001b[0m\n",
      "\u001b[1;31mIndexError\u001b[0m: tuple index out of range"
     ]
    }
   ],
   "source": [
    "# reshape input to be [samples, time steps, features]\n",
    "\n",
    "x_train = np.reshape(x_train, (x_train.shape[0], 1, x_train.shape[1]))\n",
    "x_test = np.reshape(x_test, (x_test.shape[0], 1, 0))\n",
    "\n",
    "print(len(x_train), len(x_test))"
   ]
  },
  {
   "cell_type": "code",
   "execution_count": 138,
   "metadata": {},
   "outputs": [
    {
     "data": {
      "text/plain": [
       "(12857, 1, 1)"
      ]
     },
     "execution_count": 138,
     "metadata": {},
     "output_type": "execute_result"
    }
   ],
   "source": [
    "x_train.shape"
   ]
  },
  {
   "cell_type": "code",
   "execution_count": 228,
   "metadata": {},
   "outputs": [
    {
     "data": {
      "text/plain": [
       "(2270,)"
      ]
     },
     "execution_count": 228,
     "metadata": {},
     "output_type": "execute_result"
    }
   ],
   "source": [
    "y_test.shape"
   ]
  },
  {
   "cell_type": "code",
   "execution_count": 230,
   "metadata": {},
   "outputs": [],
   "source": [
    "x_train=np.reshape(x_train,(x_train.shape[0],1,x_train.shape[1]))"
   ]
  },
  {
   "cell_type": "code",
   "execution_count": 233,
   "metadata": {},
   "outputs": [
    {
     "ename": "ValueError",
     "evalue": "Must pass 2-d input. shape=(2270, 1, 15)",
     "output_type": "error",
     "traceback": [
      "\u001b[1;31m---------------------------------------------------------------------------\u001b[0m",
      "\u001b[1;31mValueError\u001b[0m                                Traceback (most recent call last)",
      "\u001b[1;32m<ipython-input-233-6f8b691d2092>\u001b[0m in \u001b[0;36m<module>\u001b[1;34m\u001b[0m\n\u001b[1;32m----> 1\u001b[1;33m \u001b[0mx_test\u001b[0m\u001b[1;33m=\u001b[0m\u001b[0mnp\u001b[0m\u001b[1;33m.\u001b[0m\u001b[0mreshape\u001b[0m\u001b[1;33m(\u001b[0m\u001b[0mx_test\u001b[0m\u001b[1;33m,\u001b[0m\u001b[1;33m(\u001b[0m\u001b[0mx_test\u001b[0m\u001b[1;33m.\u001b[0m\u001b[0mshape\u001b[0m\u001b[1;33m[\u001b[0m\u001b[1;36m0\u001b[0m\u001b[1;33m]\u001b[0m\u001b[1;33m,\u001b[0m\u001b[1;36m1\u001b[0m\u001b[1;33m,\u001b[0m\u001b[0mx_test\u001b[0m\u001b[1;33m.\u001b[0m\u001b[0mshape\u001b[0m\u001b[1;33m[\u001b[0m\u001b[1;36m1\u001b[0m\u001b[1;33m]\u001b[0m\u001b[1;33m)\u001b[0m\u001b[1;33m)\u001b[0m\u001b[1;33m\u001b[0m\u001b[1;33m\u001b[0m\u001b[0m\n\u001b[0m",
      "\u001b[1;32m<__array_function__ internals>\u001b[0m in \u001b[0;36mreshape\u001b[1;34m(*args, **kwargs)\u001b[0m\n",
      "\u001b[1;32m~\\anaconda3\\envs\\Ehlimana\\lib\\site-packages\\numpy\\core\\fromnumeric.py\u001b[0m in \u001b[0;36mreshape\u001b[1;34m(a, newshape, order)\u001b[0m\n\u001b[0;32m    299\u001b[0m            [5, 6]])\n\u001b[0;32m    300\u001b[0m     \"\"\"\n\u001b[1;32m--> 301\u001b[1;33m     \u001b[1;32mreturn\u001b[0m \u001b[0m_wrapfunc\u001b[0m\u001b[1;33m(\u001b[0m\u001b[0ma\u001b[0m\u001b[1;33m,\u001b[0m \u001b[1;34m'reshape'\u001b[0m\u001b[1;33m,\u001b[0m \u001b[0mnewshape\u001b[0m\u001b[1;33m,\u001b[0m \u001b[0morder\u001b[0m\u001b[1;33m=\u001b[0m\u001b[0morder\u001b[0m\u001b[1;33m)\u001b[0m\u001b[1;33m\u001b[0m\u001b[1;33m\u001b[0m\u001b[0m\n\u001b[0m\u001b[0;32m    302\u001b[0m \u001b[1;33m\u001b[0m\u001b[0m\n\u001b[0;32m    303\u001b[0m \u001b[1;33m\u001b[0m\u001b[0m\n",
      "\u001b[1;32m~\\anaconda3\\envs\\Ehlimana\\lib\\site-packages\\numpy\\core\\fromnumeric.py\u001b[0m in \u001b[0;36m_wrapfunc\u001b[1;34m(obj, method, *args, **kwds)\u001b[0m\n\u001b[0;32m     56\u001b[0m     \u001b[0mbound\u001b[0m \u001b[1;33m=\u001b[0m \u001b[0mgetattr\u001b[0m\u001b[1;33m(\u001b[0m\u001b[0mobj\u001b[0m\u001b[1;33m,\u001b[0m \u001b[0mmethod\u001b[0m\u001b[1;33m,\u001b[0m \u001b[1;32mNone\u001b[0m\u001b[1;33m)\u001b[0m\u001b[1;33m\u001b[0m\u001b[1;33m\u001b[0m\u001b[0m\n\u001b[0;32m     57\u001b[0m     \u001b[1;32mif\u001b[0m \u001b[0mbound\u001b[0m \u001b[1;32mis\u001b[0m \u001b[1;32mNone\u001b[0m\u001b[1;33m:\u001b[0m\u001b[1;33m\u001b[0m\u001b[1;33m\u001b[0m\u001b[0m\n\u001b[1;32m---> 58\u001b[1;33m         \u001b[1;32mreturn\u001b[0m \u001b[0m_wrapit\u001b[0m\u001b[1;33m(\u001b[0m\u001b[0mobj\u001b[0m\u001b[1;33m,\u001b[0m \u001b[0mmethod\u001b[0m\u001b[1;33m,\u001b[0m \u001b[1;33m*\u001b[0m\u001b[0margs\u001b[0m\u001b[1;33m,\u001b[0m \u001b[1;33m**\u001b[0m\u001b[0mkwds\u001b[0m\u001b[1;33m)\u001b[0m\u001b[1;33m\u001b[0m\u001b[1;33m\u001b[0m\u001b[0m\n\u001b[0m\u001b[0;32m     59\u001b[0m \u001b[1;33m\u001b[0m\u001b[0m\n\u001b[0;32m     60\u001b[0m     \u001b[1;32mtry\u001b[0m\u001b[1;33m:\u001b[0m\u001b[1;33m\u001b[0m\u001b[1;33m\u001b[0m\u001b[0m\n",
      "\u001b[1;32m~\\anaconda3\\envs\\Ehlimana\\lib\\site-packages\\numpy\\core\\fromnumeric.py\u001b[0m in \u001b[0;36m_wrapit\u001b[1;34m(obj, method, *args, **kwds)\u001b[0m\n\u001b[0;32m     49\u001b[0m         \u001b[1;32mif\u001b[0m \u001b[1;32mnot\u001b[0m \u001b[0misinstance\u001b[0m\u001b[1;33m(\u001b[0m\u001b[0mresult\u001b[0m\u001b[1;33m,\u001b[0m \u001b[0mmu\u001b[0m\u001b[1;33m.\u001b[0m\u001b[0mndarray\u001b[0m\u001b[1;33m)\u001b[0m\u001b[1;33m:\u001b[0m\u001b[1;33m\u001b[0m\u001b[1;33m\u001b[0m\u001b[0m\n\u001b[0;32m     50\u001b[0m             \u001b[0mresult\u001b[0m \u001b[1;33m=\u001b[0m \u001b[0masarray\u001b[0m\u001b[1;33m(\u001b[0m\u001b[0mresult\u001b[0m\u001b[1;33m)\u001b[0m\u001b[1;33m\u001b[0m\u001b[1;33m\u001b[0m\u001b[0m\n\u001b[1;32m---> 51\u001b[1;33m         \u001b[0mresult\u001b[0m \u001b[1;33m=\u001b[0m \u001b[0mwrap\u001b[0m\u001b[1;33m(\u001b[0m\u001b[0mresult\u001b[0m\u001b[1;33m)\u001b[0m\u001b[1;33m\u001b[0m\u001b[1;33m\u001b[0m\u001b[0m\n\u001b[0m\u001b[0;32m     52\u001b[0m     \u001b[1;32mreturn\u001b[0m \u001b[0mresult\u001b[0m\u001b[1;33m\u001b[0m\u001b[1;33m\u001b[0m\u001b[0m\n\u001b[0;32m     53\u001b[0m \u001b[1;33m\u001b[0m\u001b[0m\n",
      "\u001b[1;32m~\\anaconda3\\envs\\Ehlimana\\lib\\site-packages\\pandas\\core\\generic.py\u001b[0m in \u001b[0;36m__array_wrap__\u001b[1;34m(self, result, context)\u001b[0m\n\u001b[0;32m   2020\u001b[0m         \u001b[1;31m# error: Argument 1 to \"NDFrame\" has incompatible type \"ndarray\";\u001b[0m\u001b[1;33m\u001b[0m\u001b[1;33m\u001b[0m\u001b[1;33m\u001b[0m\u001b[0m\n\u001b[0;32m   2021\u001b[0m         \u001b[1;31m# expected \"BlockManager\"\u001b[0m\u001b[1;33m\u001b[0m\u001b[1;33m\u001b[0m\u001b[1;33m\u001b[0m\u001b[0m\n\u001b[1;32m-> 2022\u001b[1;33m         return self._constructor(res, **d).__finalize__(  # type: ignore[arg-type]\n\u001b[0m\u001b[0;32m   2023\u001b[0m             \u001b[0mself\u001b[0m\u001b[1;33m,\u001b[0m \u001b[0mmethod\u001b[0m\u001b[1;33m=\u001b[0m\u001b[1;34m\"__array_wrap__\"\u001b[0m\u001b[1;33m\u001b[0m\u001b[1;33m\u001b[0m\u001b[0m\n\u001b[0;32m   2024\u001b[0m         )\n",
      "\u001b[1;32m~\\anaconda3\\envs\\Ehlimana\\lib\\site-packages\\pandas\\core\\frame.py\u001b[0m in \u001b[0;36m__init__\u001b[1;34m(self, data, index, columns, dtype, copy)\u001b[0m\n\u001b[0;32m    670\u001b[0m                 )\n\u001b[0;32m    671\u001b[0m             \u001b[1;32melse\u001b[0m\u001b[1;33m:\u001b[0m\u001b[1;33m\u001b[0m\u001b[1;33m\u001b[0m\u001b[0m\n\u001b[1;32m--> 672\u001b[1;33m                 mgr = ndarray_to_mgr(\n\u001b[0m\u001b[0;32m    673\u001b[0m                     \u001b[0mdata\u001b[0m\u001b[1;33m,\u001b[0m\u001b[1;33m\u001b[0m\u001b[1;33m\u001b[0m\u001b[0m\n\u001b[0;32m    674\u001b[0m                     \u001b[0mindex\u001b[0m\u001b[1;33m,\u001b[0m\u001b[1;33m\u001b[0m\u001b[1;33m\u001b[0m\u001b[0m\n",
      "\u001b[1;32m~\\anaconda3\\envs\\Ehlimana\\lib\\site-packages\\pandas\\core\\internals\\construction.py\u001b[0m in \u001b[0;36mndarray_to_mgr\u001b[1;34m(values, index, columns, dtype, copy, typ)\u001b[0m\n\u001b[0;32m    302\u001b[0m         \u001b[1;31m# by definition an array here\u001b[0m\u001b[1;33m\u001b[0m\u001b[1;33m\u001b[0m\u001b[1;33m\u001b[0m\u001b[0m\n\u001b[0;32m    303\u001b[0m         \u001b[1;31m# the dtypes will be coerced to a single dtype\u001b[0m\u001b[1;33m\u001b[0m\u001b[1;33m\u001b[0m\u001b[1;33m\u001b[0m\u001b[0m\n\u001b[1;32m--> 304\u001b[1;33m         \u001b[0mvalues\u001b[0m \u001b[1;33m=\u001b[0m \u001b[0m_prep_ndarray\u001b[0m\u001b[1;33m(\u001b[0m\u001b[0mvalues\u001b[0m\u001b[1;33m,\u001b[0m \u001b[0mcopy\u001b[0m\u001b[1;33m=\u001b[0m\u001b[0mcopy\u001b[0m\u001b[1;33m)\u001b[0m\u001b[1;33m\u001b[0m\u001b[1;33m\u001b[0m\u001b[0m\n\u001b[0m\u001b[0;32m    305\u001b[0m \u001b[1;33m\u001b[0m\u001b[0m\n\u001b[0;32m    306\u001b[0m     \u001b[1;32mif\u001b[0m \u001b[0mdtype\u001b[0m \u001b[1;32mis\u001b[0m \u001b[1;32mnot\u001b[0m \u001b[1;32mNone\u001b[0m \u001b[1;32mand\u001b[0m \u001b[1;32mnot\u001b[0m \u001b[0mis_dtype_equal\u001b[0m\u001b[1;33m(\u001b[0m\u001b[0mvalues\u001b[0m\u001b[1;33m.\u001b[0m\u001b[0mdtype\u001b[0m\u001b[1;33m,\u001b[0m \u001b[0mdtype\u001b[0m\u001b[1;33m)\u001b[0m\u001b[1;33m:\u001b[0m\u001b[1;33m\u001b[0m\u001b[1;33m\u001b[0m\u001b[0m\n",
      "\u001b[1;32m~\\anaconda3\\envs\\Ehlimana\\lib\\site-packages\\pandas\\core\\internals\\construction.py\u001b[0m in \u001b[0;36m_prep_ndarray\u001b[1;34m(values, copy)\u001b[0m\n\u001b[0;32m    553\u001b[0m         \u001b[0mvalues\u001b[0m \u001b[1;33m=\u001b[0m \u001b[0mvalues\u001b[0m\u001b[1;33m.\u001b[0m\u001b[0mreshape\u001b[0m\u001b[1;33m(\u001b[0m\u001b[1;33m(\u001b[0m\u001b[0mvalues\u001b[0m\u001b[1;33m.\u001b[0m\u001b[0mshape\u001b[0m\u001b[1;33m[\u001b[0m\u001b[1;36m0\u001b[0m\u001b[1;33m]\u001b[0m\u001b[1;33m,\u001b[0m \u001b[1;36m1\u001b[0m\u001b[1;33m)\u001b[0m\u001b[1;33m)\u001b[0m\u001b[1;33m\u001b[0m\u001b[1;33m\u001b[0m\u001b[0m\n\u001b[0;32m    554\u001b[0m     \u001b[1;32melif\u001b[0m \u001b[0mvalues\u001b[0m\u001b[1;33m.\u001b[0m\u001b[0mndim\u001b[0m \u001b[1;33m!=\u001b[0m \u001b[1;36m2\u001b[0m\u001b[1;33m:\u001b[0m\u001b[1;33m\u001b[0m\u001b[1;33m\u001b[0m\u001b[0m\n\u001b[1;32m--> 555\u001b[1;33m         \u001b[1;32mraise\u001b[0m \u001b[0mValueError\u001b[0m\u001b[1;33m(\u001b[0m\u001b[1;34mf\"Must pass 2-d input. shape={values.shape}\"\u001b[0m\u001b[1;33m)\u001b[0m\u001b[1;33m\u001b[0m\u001b[1;33m\u001b[0m\u001b[0m\n\u001b[0m\u001b[0;32m    556\u001b[0m \u001b[1;33m\u001b[0m\u001b[0m\n\u001b[0;32m    557\u001b[0m     \u001b[1;32mreturn\u001b[0m \u001b[0mvalues\u001b[0m\u001b[1;33m\u001b[0m\u001b[1;33m\u001b[0m\u001b[0m\n",
      "\u001b[1;31mValueError\u001b[0m: Must pass 2-d input. shape=(2270, 1, 15)"
     ]
    }
   ],
   "source": [
    "x_test=np.reshape(x_test,(x_test.shape[0],1,x_test.shape[1]))"
   ]
  },
  {
   "cell_type": "code",
   "execution_count": 229,
   "metadata": {},
   "outputs": [
    {
     "name": "stdout",
     "output_type": "stream",
     "text": [
      "Epoch 1/5\n"
     ]
    },
    {
     "ename": "ValueError",
     "evalue": "in user code:\n\n    C:\\Users\\Ehlimana\\AppData\\Roaming\\Python\\Python38\\site-packages\\keras\\engine\\training.py:853 train_function  *\n        return step_function(self, iterator)\n    C:\\Users\\Ehlimana\\AppData\\Roaming\\Python\\Python38\\site-packages\\keras\\engine\\training.py:842 step_function  **\n        outputs = model.distribute_strategy.run(run_step, args=(data,))\n    C:\\Users\\Ehlimana\\AppData\\Roaming\\Python\\Python38\\site-packages\\tensorflow\\python\\distribute\\distribute_lib.py:1286 run\n        return self._extended.call_for_each_replica(fn, args=args, kwargs=kwargs)\n    C:\\Users\\Ehlimana\\AppData\\Roaming\\Python\\Python38\\site-packages\\tensorflow\\python\\distribute\\distribute_lib.py:2849 call_for_each_replica\n        return self._call_for_each_replica(fn, args, kwargs)\n    C:\\Users\\Ehlimana\\AppData\\Roaming\\Python\\Python38\\site-packages\\tensorflow\\python\\distribute\\distribute_lib.py:3632 _call_for_each_replica\n        return fn(*args, **kwargs)\n    C:\\Users\\Ehlimana\\AppData\\Roaming\\Python\\Python38\\site-packages\\keras\\engine\\training.py:835 run_step  **\n        outputs = model.train_step(data)\n    C:\\Users\\Ehlimana\\AppData\\Roaming\\Python\\Python38\\site-packages\\keras\\engine\\training.py:787 train_step\n        y_pred = self(x, training=True)\n    C:\\Users\\Ehlimana\\AppData\\Roaming\\Python\\Python38\\site-packages\\keras\\engine\\base_layer.py:1020 __call__\n        input_spec.assert_input_compatibility(self.input_spec, inputs, self.name)\n    C:\\Users\\Ehlimana\\AppData\\Roaming\\Python\\Python38\\site-packages\\keras\\engine\\input_spec.py:214 assert_input_compatibility\n        raise ValueError('Input ' + str(input_index) + ' of layer ' +\n\n    ValueError: Input 0 of layer sequential_5 is incompatible with the layer: expected ndim=3, found ndim=2. Full shape received: (1, 15)\n",
     "output_type": "error",
     "traceback": [
      "\u001b[1;31m---------------------------------------------------------------------------\u001b[0m",
      "\u001b[1;31mValueError\u001b[0m                                Traceback (most recent call last)",
      "\u001b[1;32m<ipython-input-229-4b55fab04ffc>\u001b[0m in \u001b[0;36m<module>\u001b[1;34m\u001b[0m\n\u001b[0;32m     13\u001b[0m \u001b[1;33m\u001b[0m\u001b[0m\n\u001b[0;32m     14\u001b[0m \u001b[1;31m#Train the model\u001b[0m\u001b[1;33m\u001b[0m\u001b[1;33m\u001b[0m\u001b[1;33m\u001b[0m\u001b[0m\n\u001b[1;32m---> 15\u001b[1;33m \u001b[0mmodel\u001b[0m\u001b[1;33m.\u001b[0m\u001b[0mfit\u001b[0m\u001b[1;33m(\u001b[0m\u001b[0mx_train\u001b[0m\u001b[1;33m,\u001b[0m \u001b[0my_train\u001b[0m\u001b[1;33m,\u001b[0m \u001b[0mbatch_size\u001b[0m\u001b[1;33m=\u001b[0m\u001b[1;36m1\u001b[0m\u001b[1;33m,\u001b[0m \u001b[0mepochs\u001b[0m\u001b[1;33m=\u001b[0m\u001b[1;36m5\u001b[0m\u001b[1;33m,\u001b[0m \u001b[0mvalidation_data\u001b[0m\u001b[1;33m=\u001b[0m\u001b[1;33m(\u001b[0m\u001b[0mx_test\u001b[0m\u001b[1;33m,\u001b[0m \u001b[0my_valid\u001b[0m\u001b[1;33m)\u001b[0m\u001b[1;33m)\u001b[0m\u001b[1;33m\u001b[0m\u001b[1;33m\u001b[0m\u001b[0m\n\u001b[0m\u001b[0;32m     16\u001b[0m \u001b[1;33m\u001b[0m\u001b[0m\n\u001b[0;32m     17\u001b[0m \u001b[0mmodel\u001b[0m\u001b[1;33m.\u001b[0m\u001b[0msummary\u001b[0m\u001b[1;33m(\u001b[0m\u001b[1;33m)\u001b[0m\u001b[1;33m\u001b[0m\u001b[1;33m\u001b[0m\u001b[0m\n",
      "\u001b[1;32m~\\AppData\\Roaming\\Python\\Python38\\site-packages\\keras\\engine\\training.py\u001b[0m in \u001b[0;36mfit\u001b[1;34m(self, x, y, batch_size, epochs, verbose, callbacks, validation_split, validation_data, shuffle, class_weight, sample_weight, initial_epoch, steps_per_epoch, validation_steps, validation_batch_size, validation_freq, max_queue_size, workers, use_multiprocessing)\u001b[0m\n\u001b[0;32m   1182\u001b[0m                 _r=1):\n\u001b[0;32m   1183\u001b[0m               \u001b[0mcallbacks\u001b[0m\u001b[1;33m.\u001b[0m\u001b[0mon_train_batch_begin\u001b[0m\u001b[1;33m(\u001b[0m\u001b[0mstep\u001b[0m\u001b[1;33m)\u001b[0m\u001b[1;33m\u001b[0m\u001b[1;33m\u001b[0m\u001b[0m\n\u001b[1;32m-> 1184\u001b[1;33m               \u001b[0mtmp_logs\u001b[0m \u001b[1;33m=\u001b[0m \u001b[0mself\u001b[0m\u001b[1;33m.\u001b[0m\u001b[0mtrain_function\u001b[0m\u001b[1;33m(\u001b[0m\u001b[0miterator\u001b[0m\u001b[1;33m)\u001b[0m\u001b[1;33m\u001b[0m\u001b[1;33m\u001b[0m\u001b[0m\n\u001b[0m\u001b[0;32m   1185\u001b[0m               \u001b[1;32mif\u001b[0m \u001b[0mdata_handler\u001b[0m\u001b[1;33m.\u001b[0m\u001b[0mshould_sync\u001b[0m\u001b[1;33m:\u001b[0m\u001b[1;33m\u001b[0m\u001b[1;33m\u001b[0m\u001b[0m\n\u001b[0;32m   1186\u001b[0m                 \u001b[0mcontext\u001b[0m\u001b[1;33m.\u001b[0m\u001b[0masync_wait\u001b[0m\u001b[1;33m(\u001b[0m\u001b[1;33m)\u001b[0m\u001b[1;33m\u001b[0m\u001b[1;33m\u001b[0m\u001b[0m\n",
      "\u001b[1;32m~\\AppData\\Roaming\\Python\\Python38\\site-packages\\tensorflow\\python\\eager\\def_function.py\u001b[0m in \u001b[0;36m__call__\u001b[1;34m(self, *args, **kwds)\u001b[0m\n\u001b[0;32m    883\u001b[0m \u001b[1;33m\u001b[0m\u001b[0m\n\u001b[0;32m    884\u001b[0m       \u001b[1;32mwith\u001b[0m \u001b[0mOptionalXlaContext\u001b[0m\u001b[1;33m(\u001b[0m\u001b[0mself\u001b[0m\u001b[1;33m.\u001b[0m\u001b[0m_jit_compile\u001b[0m\u001b[1;33m)\u001b[0m\u001b[1;33m:\u001b[0m\u001b[1;33m\u001b[0m\u001b[1;33m\u001b[0m\u001b[0m\n\u001b[1;32m--> 885\u001b[1;33m         \u001b[0mresult\u001b[0m \u001b[1;33m=\u001b[0m \u001b[0mself\u001b[0m\u001b[1;33m.\u001b[0m\u001b[0m_call\u001b[0m\u001b[1;33m(\u001b[0m\u001b[1;33m*\u001b[0m\u001b[0margs\u001b[0m\u001b[1;33m,\u001b[0m \u001b[1;33m**\u001b[0m\u001b[0mkwds\u001b[0m\u001b[1;33m)\u001b[0m\u001b[1;33m\u001b[0m\u001b[1;33m\u001b[0m\u001b[0m\n\u001b[0m\u001b[0;32m    886\u001b[0m \u001b[1;33m\u001b[0m\u001b[0m\n\u001b[0;32m    887\u001b[0m       \u001b[0mnew_tracing_count\u001b[0m \u001b[1;33m=\u001b[0m \u001b[0mself\u001b[0m\u001b[1;33m.\u001b[0m\u001b[0mexperimental_get_tracing_count\u001b[0m\u001b[1;33m(\u001b[0m\u001b[1;33m)\u001b[0m\u001b[1;33m\u001b[0m\u001b[1;33m\u001b[0m\u001b[0m\n",
      "\u001b[1;32m~\\AppData\\Roaming\\Python\\Python38\\site-packages\\tensorflow\\python\\eager\\def_function.py\u001b[0m in \u001b[0;36m_call\u001b[1;34m(self, *args, **kwds)\u001b[0m\n\u001b[0;32m    931\u001b[0m       \u001b[1;31m# This is the first call of __call__, so we have to initialize.\u001b[0m\u001b[1;33m\u001b[0m\u001b[1;33m\u001b[0m\u001b[1;33m\u001b[0m\u001b[0m\n\u001b[0;32m    932\u001b[0m       \u001b[0minitializers\u001b[0m \u001b[1;33m=\u001b[0m \u001b[1;33m[\u001b[0m\u001b[1;33m]\u001b[0m\u001b[1;33m\u001b[0m\u001b[1;33m\u001b[0m\u001b[0m\n\u001b[1;32m--> 933\u001b[1;33m       \u001b[0mself\u001b[0m\u001b[1;33m.\u001b[0m\u001b[0m_initialize\u001b[0m\u001b[1;33m(\u001b[0m\u001b[0margs\u001b[0m\u001b[1;33m,\u001b[0m \u001b[0mkwds\u001b[0m\u001b[1;33m,\u001b[0m \u001b[0madd_initializers_to\u001b[0m\u001b[1;33m=\u001b[0m\u001b[0minitializers\u001b[0m\u001b[1;33m)\u001b[0m\u001b[1;33m\u001b[0m\u001b[1;33m\u001b[0m\u001b[0m\n\u001b[0m\u001b[0;32m    934\u001b[0m     \u001b[1;32mfinally\u001b[0m\u001b[1;33m:\u001b[0m\u001b[1;33m\u001b[0m\u001b[1;33m\u001b[0m\u001b[0m\n\u001b[0;32m    935\u001b[0m       \u001b[1;31m# At this point we know that the initialization is complete (or less\u001b[0m\u001b[1;33m\u001b[0m\u001b[1;33m\u001b[0m\u001b[1;33m\u001b[0m\u001b[0m\n",
      "\u001b[1;32m~\\AppData\\Roaming\\Python\\Python38\\site-packages\\tensorflow\\python\\eager\\def_function.py\u001b[0m in \u001b[0;36m_initialize\u001b[1;34m(self, args, kwds, add_initializers_to)\u001b[0m\n\u001b[0;32m    757\u001b[0m     \u001b[0mself\u001b[0m\u001b[1;33m.\u001b[0m\u001b[0m_graph_deleter\u001b[0m \u001b[1;33m=\u001b[0m \u001b[0mFunctionDeleter\u001b[0m\u001b[1;33m(\u001b[0m\u001b[0mself\u001b[0m\u001b[1;33m.\u001b[0m\u001b[0m_lifted_initializer_graph\u001b[0m\u001b[1;33m)\u001b[0m\u001b[1;33m\u001b[0m\u001b[1;33m\u001b[0m\u001b[0m\n\u001b[0;32m    758\u001b[0m     self._concrete_stateful_fn = (\n\u001b[1;32m--> 759\u001b[1;33m         self._stateful_fn._get_concrete_function_internal_garbage_collected(  # pylint: disable=protected-access\n\u001b[0m\u001b[0;32m    760\u001b[0m             *args, **kwds))\n\u001b[0;32m    761\u001b[0m \u001b[1;33m\u001b[0m\u001b[0m\n",
      "\u001b[1;32m~\\AppData\\Roaming\\Python\\Python38\\site-packages\\tensorflow\\python\\eager\\function.py\u001b[0m in \u001b[0;36m_get_concrete_function_internal_garbage_collected\u001b[1;34m(self, *args, **kwargs)\u001b[0m\n\u001b[0;32m   3064\u001b[0m       \u001b[0margs\u001b[0m\u001b[1;33m,\u001b[0m \u001b[0mkwargs\u001b[0m \u001b[1;33m=\u001b[0m \u001b[1;32mNone\u001b[0m\u001b[1;33m,\u001b[0m \u001b[1;32mNone\u001b[0m\u001b[1;33m\u001b[0m\u001b[1;33m\u001b[0m\u001b[0m\n\u001b[0;32m   3065\u001b[0m     \u001b[1;32mwith\u001b[0m \u001b[0mself\u001b[0m\u001b[1;33m.\u001b[0m\u001b[0m_lock\u001b[0m\u001b[1;33m:\u001b[0m\u001b[1;33m\u001b[0m\u001b[1;33m\u001b[0m\u001b[0m\n\u001b[1;32m-> 3066\u001b[1;33m       \u001b[0mgraph_function\u001b[0m\u001b[1;33m,\u001b[0m \u001b[0m_\u001b[0m \u001b[1;33m=\u001b[0m \u001b[0mself\u001b[0m\u001b[1;33m.\u001b[0m\u001b[0m_maybe_define_function\u001b[0m\u001b[1;33m(\u001b[0m\u001b[0margs\u001b[0m\u001b[1;33m,\u001b[0m \u001b[0mkwargs\u001b[0m\u001b[1;33m)\u001b[0m\u001b[1;33m\u001b[0m\u001b[1;33m\u001b[0m\u001b[0m\n\u001b[0m\u001b[0;32m   3067\u001b[0m     \u001b[1;32mreturn\u001b[0m \u001b[0mgraph_function\u001b[0m\u001b[1;33m\u001b[0m\u001b[1;33m\u001b[0m\u001b[0m\n\u001b[0;32m   3068\u001b[0m \u001b[1;33m\u001b[0m\u001b[0m\n",
      "\u001b[1;32m~\\AppData\\Roaming\\Python\\Python38\\site-packages\\tensorflow\\python\\eager\\function.py\u001b[0m in \u001b[0;36m_maybe_define_function\u001b[1;34m(self, args, kwargs)\u001b[0m\n\u001b[0;32m   3461\u001b[0m \u001b[1;33m\u001b[0m\u001b[0m\n\u001b[0;32m   3462\u001b[0m           \u001b[0mself\u001b[0m\u001b[1;33m.\u001b[0m\u001b[0m_function_cache\u001b[0m\u001b[1;33m.\u001b[0m\u001b[0mmissed\u001b[0m\u001b[1;33m.\u001b[0m\u001b[0madd\u001b[0m\u001b[1;33m(\u001b[0m\u001b[0mcall_context_key\u001b[0m\u001b[1;33m)\u001b[0m\u001b[1;33m\u001b[0m\u001b[1;33m\u001b[0m\u001b[0m\n\u001b[1;32m-> 3463\u001b[1;33m           \u001b[0mgraph_function\u001b[0m \u001b[1;33m=\u001b[0m \u001b[0mself\u001b[0m\u001b[1;33m.\u001b[0m\u001b[0m_create_graph_function\u001b[0m\u001b[1;33m(\u001b[0m\u001b[0margs\u001b[0m\u001b[1;33m,\u001b[0m \u001b[0mkwargs\u001b[0m\u001b[1;33m)\u001b[0m\u001b[1;33m\u001b[0m\u001b[1;33m\u001b[0m\u001b[0m\n\u001b[0m\u001b[0;32m   3464\u001b[0m           \u001b[0mself\u001b[0m\u001b[1;33m.\u001b[0m\u001b[0m_function_cache\u001b[0m\u001b[1;33m.\u001b[0m\u001b[0mprimary\u001b[0m\u001b[1;33m[\u001b[0m\u001b[0mcache_key\u001b[0m\u001b[1;33m]\u001b[0m \u001b[1;33m=\u001b[0m \u001b[0mgraph_function\u001b[0m\u001b[1;33m\u001b[0m\u001b[1;33m\u001b[0m\u001b[0m\n\u001b[0;32m   3465\u001b[0m \u001b[1;33m\u001b[0m\u001b[0m\n",
      "\u001b[1;32m~\\AppData\\Roaming\\Python\\Python38\\site-packages\\tensorflow\\python\\eager\\function.py\u001b[0m in \u001b[0;36m_create_graph_function\u001b[1;34m(self, args, kwargs, override_flat_arg_shapes)\u001b[0m\n\u001b[0;32m   3296\u001b[0m     \u001b[0marg_names\u001b[0m \u001b[1;33m=\u001b[0m \u001b[0mbase_arg_names\u001b[0m \u001b[1;33m+\u001b[0m \u001b[0mmissing_arg_names\u001b[0m\u001b[1;33m\u001b[0m\u001b[1;33m\u001b[0m\u001b[0m\n\u001b[0;32m   3297\u001b[0m     graph_function = ConcreteFunction(\n\u001b[1;32m-> 3298\u001b[1;33m         func_graph_module.func_graph_from_py_func(\n\u001b[0m\u001b[0;32m   3299\u001b[0m             \u001b[0mself\u001b[0m\u001b[1;33m.\u001b[0m\u001b[0m_name\u001b[0m\u001b[1;33m,\u001b[0m\u001b[1;33m\u001b[0m\u001b[1;33m\u001b[0m\u001b[0m\n\u001b[0;32m   3300\u001b[0m             \u001b[0mself\u001b[0m\u001b[1;33m.\u001b[0m\u001b[0m_python_function\u001b[0m\u001b[1;33m,\u001b[0m\u001b[1;33m\u001b[0m\u001b[1;33m\u001b[0m\u001b[0m\n",
      "\u001b[1;32m~\\AppData\\Roaming\\Python\\Python38\\site-packages\\tensorflow\\python\\framework\\func_graph.py\u001b[0m in \u001b[0;36mfunc_graph_from_py_func\u001b[1;34m(name, python_func, args, kwargs, signature, func_graph, autograph, autograph_options, add_control_dependencies, arg_names, op_return_value, collections, capture_by_value, override_flat_arg_shapes, acd_record_initial_resource_uses)\u001b[0m\n\u001b[0;32m   1005\u001b[0m         \u001b[0m_\u001b[0m\u001b[1;33m,\u001b[0m \u001b[0moriginal_func\u001b[0m \u001b[1;33m=\u001b[0m \u001b[0mtf_decorator\u001b[0m\u001b[1;33m.\u001b[0m\u001b[0munwrap\u001b[0m\u001b[1;33m(\u001b[0m\u001b[0mpython_func\u001b[0m\u001b[1;33m)\u001b[0m\u001b[1;33m\u001b[0m\u001b[1;33m\u001b[0m\u001b[0m\n\u001b[0;32m   1006\u001b[0m \u001b[1;33m\u001b[0m\u001b[0m\n\u001b[1;32m-> 1007\u001b[1;33m       \u001b[0mfunc_outputs\u001b[0m \u001b[1;33m=\u001b[0m \u001b[0mpython_func\u001b[0m\u001b[1;33m(\u001b[0m\u001b[1;33m*\u001b[0m\u001b[0mfunc_args\u001b[0m\u001b[1;33m,\u001b[0m \u001b[1;33m**\u001b[0m\u001b[0mfunc_kwargs\u001b[0m\u001b[1;33m)\u001b[0m\u001b[1;33m\u001b[0m\u001b[1;33m\u001b[0m\u001b[0m\n\u001b[0m\u001b[0;32m   1008\u001b[0m \u001b[1;33m\u001b[0m\u001b[0m\n\u001b[0;32m   1009\u001b[0m       \u001b[1;31m# invariant: `func_outputs` contains only Tensors, CompositeTensors,\u001b[0m\u001b[1;33m\u001b[0m\u001b[1;33m\u001b[0m\u001b[1;33m\u001b[0m\u001b[0m\n",
      "\u001b[1;32m~\\AppData\\Roaming\\Python\\Python38\\site-packages\\tensorflow\\python\\eager\\def_function.py\u001b[0m in \u001b[0;36mwrapped_fn\u001b[1;34m(*args, **kwds)\u001b[0m\n\u001b[0;32m    666\u001b[0m         \u001b[1;31m# the function a weak reference to itself to avoid a reference cycle.\u001b[0m\u001b[1;33m\u001b[0m\u001b[1;33m\u001b[0m\u001b[1;33m\u001b[0m\u001b[0m\n\u001b[0;32m    667\u001b[0m         \u001b[1;32mwith\u001b[0m \u001b[0mOptionalXlaContext\u001b[0m\u001b[1;33m(\u001b[0m\u001b[0mcompile_with_xla\u001b[0m\u001b[1;33m)\u001b[0m\u001b[1;33m:\u001b[0m\u001b[1;33m\u001b[0m\u001b[1;33m\u001b[0m\u001b[0m\n\u001b[1;32m--> 668\u001b[1;33m           \u001b[0mout\u001b[0m \u001b[1;33m=\u001b[0m \u001b[0mweak_wrapped_fn\u001b[0m\u001b[1;33m(\u001b[0m\u001b[1;33m)\u001b[0m\u001b[1;33m.\u001b[0m\u001b[0m__wrapped__\u001b[0m\u001b[1;33m(\u001b[0m\u001b[1;33m*\u001b[0m\u001b[0margs\u001b[0m\u001b[1;33m,\u001b[0m \u001b[1;33m**\u001b[0m\u001b[0mkwds\u001b[0m\u001b[1;33m)\u001b[0m\u001b[1;33m\u001b[0m\u001b[1;33m\u001b[0m\u001b[0m\n\u001b[0m\u001b[0;32m    669\u001b[0m         \u001b[1;32mreturn\u001b[0m \u001b[0mout\u001b[0m\u001b[1;33m\u001b[0m\u001b[1;33m\u001b[0m\u001b[0m\n\u001b[0;32m    670\u001b[0m \u001b[1;33m\u001b[0m\u001b[0m\n",
      "\u001b[1;32m~\\AppData\\Roaming\\Python\\Python38\\site-packages\\tensorflow\\python\\framework\\func_graph.py\u001b[0m in \u001b[0;36mwrapper\u001b[1;34m(*args, **kwargs)\u001b[0m\n\u001b[0;32m    992\u001b[0m           \u001b[1;32mexcept\u001b[0m \u001b[0mException\u001b[0m \u001b[1;32mas\u001b[0m \u001b[0me\u001b[0m\u001b[1;33m:\u001b[0m  \u001b[1;31m# pylint:disable=broad-except\u001b[0m\u001b[1;33m\u001b[0m\u001b[1;33m\u001b[0m\u001b[0m\n\u001b[0;32m    993\u001b[0m             \u001b[1;32mif\u001b[0m \u001b[0mhasattr\u001b[0m\u001b[1;33m(\u001b[0m\u001b[0me\u001b[0m\u001b[1;33m,\u001b[0m \u001b[1;34m\"ag_error_metadata\"\u001b[0m\u001b[1;33m)\u001b[0m\u001b[1;33m:\u001b[0m\u001b[1;33m\u001b[0m\u001b[1;33m\u001b[0m\u001b[0m\n\u001b[1;32m--> 994\u001b[1;33m               \u001b[1;32mraise\u001b[0m \u001b[0me\u001b[0m\u001b[1;33m.\u001b[0m\u001b[0mag_error_metadata\u001b[0m\u001b[1;33m.\u001b[0m\u001b[0mto_exception\u001b[0m\u001b[1;33m(\u001b[0m\u001b[0me\u001b[0m\u001b[1;33m)\u001b[0m\u001b[1;33m\u001b[0m\u001b[1;33m\u001b[0m\u001b[0m\n\u001b[0m\u001b[0;32m    995\u001b[0m             \u001b[1;32melse\u001b[0m\u001b[1;33m:\u001b[0m\u001b[1;33m\u001b[0m\u001b[1;33m\u001b[0m\u001b[0m\n\u001b[0;32m    996\u001b[0m               \u001b[1;32mraise\u001b[0m\u001b[1;33m\u001b[0m\u001b[1;33m\u001b[0m\u001b[0m\n",
      "\u001b[1;31mValueError\u001b[0m: in user code:\n\n    C:\\Users\\Ehlimana\\AppData\\Roaming\\Python\\Python38\\site-packages\\keras\\engine\\training.py:853 train_function  *\n        return step_function(self, iterator)\n    C:\\Users\\Ehlimana\\AppData\\Roaming\\Python\\Python38\\site-packages\\keras\\engine\\training.py:842 step_function  **\n        outputs = model.distribute_strategy.run(run_step, args=(data,))\n    C:\\Users\\Ehlimana\\AppData\\Roaming\\Python\\Python38\\site-packages\\tensorflow\\python\\distribute\\distribute_lib.py:1286 run\n        return self._extended.call_for_each_replica(fn, args=args, kwargs=kwargs)\n    C:\\Users\\Ehlimana\\AppData\\Roaming\\Python\\Python38\\site-packages\\tensorflow\\python\\distribute\\distribute_lib.py:2849 call_for_each_replica\n        return self._call_for_each_replica(fn, args, kwargs)\n    C:\\Users\\Ehlimana\\AppData\\Roaming\\Python\\Python38\\site-packages\\tensorflow\\python\\distribute\\distribute_lib.py:3632 _call_for_each_replica\n        return fn(*args, **kwargs)\n    C:\\Users\\Ehlimana\\AppData\\Roaming\\Python\\Python38\\site-packages\\keras\\engine\\training.py:835 run_step  **\n        outputs = model.train_step(data)\n    C:\\Users\\Ehlimana\\AppData\\Roaming\\Python\\Python38\\site-packages\\keras\\engine\\training.py:787 train_step\n        y_pred = self(x, training=True)\n    C:\\Users\\Ehlimana\\AppData\\Roaming\\Python\\Python38\\site-packages\\keras\\engine\\base_layer.py:1020 __call__\n        input_spec.assert_input_compatibility(self.input_spec, inputs, self.name)\n    C:\\Users\\Ehlimana\\AppData\\Roaming\\Python\\Python38\\site-packages\\keras\\engine\\input_spec.py:214 assert_input_compatibility\n        raise ValueError('Input ' + str(input_index) + ' of layer ' +\n\n    ValueError: Input 0 of layer sequential_5 is incompatible with the layer: expected ndim=3, found ndim=2. Full shape received: (1, 15)\n"
     ]
    }
   ],
   "source": [
    "from tensorflow import keras\n",
    "from tensorflow.keras.models import Sequential\n",
    "from tensorflow.keras.layers import Dense, LSTM\n",
    "\n",
    "model = Sequential()\n",
    "model.add(LSTM(128, return_sequences=True, input_shape=(x_train.shape[0], x_train.shape[1])))\n",
    "model.add(LSTM(64, return_sequences=False))\n",
    "model.add(Dense(25))\n",
    "model.add(Dense(1))\n",
    "\n",
    "# Compile the model\n",
    "model.compile(optimizer='adam', loss='mean_squared_error')\n",
    "\n",
    "#Train the model\n",
    "model.fit(x_train, y_train, batch_size=1, epochs=5, validation_data=(x_test, y_valid))\n",
    "\n",
    "model.summary()"
   ]
  },
  {
   "cell_type": "code",
   "execution_count": null,
   "metadata": {},
   "outputs": [],
   "source": []
  },
  {
   "cell_type": "code",
   "execution_count": null,
   "metadata": {},
   "outputs": [],
   "source": [
    "# Lets predict with the model\n",
    "train_predict = model.predict(x_train)\n",
    "test_predict = model.predict(x_test)\n",
    "\n",
    "# invert predictions\n",
    "train_predict = scaler.inverse_transform(train_predict)\n",
    "y_train = scaler.inverse_transform([y_train])\n",
    "\n",
    "test_predict = scaler.inverse_transform(test_predict)\n",
    "y_test = scaler.inverse_transform([y_test])\n",
    "\n",
    "# Get the root mean squared error (RMSE) and MAE\n",
    "score_rmse = np.sqrt(mean_squared_error(y_test[0], test_predict[:,0]))\n",
    "score_mae = mean_absolute_error(y_test[0], test_predict[:,0])\n",
    "print('RMSE: {}'.format(score_rmse))"
   ]
  },
  {
   "cell_type": "code",
   "execution_count": null,
   "metadata": {},
   "outputs": [],
   "source": []
  }
 ],
 "metadata": {
  "kernelspec": {
   "display_name": "Python 3",
   "language": "python",
   "name": "python3"
  },
  "language_info": {
   "codemirror_mode": {
    "name": "ipython",
    "version": 3
   },
   "file_extension": ".py",
   "mimetype": "text/x-python",
   "name": "python",
   "nbconvert_exporter": "python",
   "pygments_lexer": "ipython3",
   "version": "3.7.1"
  }
 },
 "nbformat": 4,
 "nbformat_minor": 5
}
