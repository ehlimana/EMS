{
 "cells": [
  {
   "cell_type": "code",
   "execution_count": 170,
   "id": "466d714c",
   "metadata": {},
   "outputs": [],
   "source": [
    "import os\n",
    "import pandas as pd\n",
    "import numpy as np\n",
    "from datetime import datetime\n",
    "import matplotlib.pyplot as plt\n",
    "import seaborn as sns\n",
    "from sklearn.metrics import mean_absolute_error, mean_squared_error\n",
    "import math"
   ]
  },
  {
   "cell_type": "code",
   "execution_count": 171,
   "id": "c6b56ec5",
   "metadata": {},
   "outputs": [],
   "source": [
    "file=pd.read_excel(\"Merged files_1.xlsx\",header=0)"
   ]
  },
  {
   "cell_type": "code",
   "execution_count": 172,
   "id": "c2de1a5c",
   "metadata": {},
   "outputs": [],
   "source": [
    "X=file.loc[:,[\"Datum i vrijeme\",'Temp.senzor un.6 24007412Temperatura (°C) (t-1)','Kalorimetar 1 39024788Kum.protok (m3) (t-1)',\n",
    "       'Kalorimetar 1 39024788Temp.pov.voda (°C) (t-1)',\n",
    "              #'Kalorimetar 1 39024788Tren.protok (m3/h) (t-1)','Kalorimetar 1 39024788Temp.pov.voda (°C) (t-1)',\n",
    "       'Sat', #'Dan u sedmici',\n",
    "       #'Mjesec', 'Godina', 'Kvartal', 'Dan u godini', 'Dan u mjesecu',#'Temp.senzor un.6 24007412Temperatura (°C) (t-1)',\n",
    "        'Temp.senzor un.4 24004658Temperatura (°C) (t-1)',\"Praznik\",\"Radni sati\"]]\n",
    "        \n",
    "#'Kalorimetar 1 39024788Temp.pol.voda (°C)',\n",
    "       #'Kalorimetar 1 39024788Temp.pov.voda (°C)', \n",
    "        #'Temp.senzor vanj.1 25000099Temperatura (°C)',\n",
    "       #'Temp.senzor vanj.1 25000099Vlažnost (%)', \n",
    "        #'Grijanje_K1','Broj sati grijanja_K1','Negrijano',   #'Sedmica',"
   ]
  },
  {
   "cell_type": "code",
   "execution_count": 173,
   "id": "ab75caa0",
   "metadata": {},
   "outputs": [],
   "source": [
    "#nan_values = df[df['first_set'].isna()]\n",
    "\n",
    "#print (nan_values) #rijesiti"
   ]
  },
  {
   "cell_type": "code",
   "execution_count": 174,
   "id": "2df1a4b7",
   "metadata": {},
   "outputs": [
    {
     "data": {
      "text/html": [
       "<div>\n",
       "<style scoped>\n",
       "    .dataframe tbody tr th:only-of-type {\n",
       "        vertical-align: middle;\n",
       "    }\n",
       "\n",
       "    .dataframe tbody tr th {\n",
       "        vertical-align: top;\n",
       "    }\n",
       "\n",
       "    .dataframe thead th {\n",
       "        text-align: right;\n",
       "    }\n",
       "</style>\n",
       "<table border=\"1\" class=\"dataframe\">\n",
       "  <thead>\n",
       "    <tr style=\"text-align: right;\">\n",
       "      <th></th>\n",
       "      <th>Datum i vrijeme</th>\n",
       "      <th>Temp.senzor un.6 24007412Temperatura (°C) (t-1)</th>\n",
       "      <th>Kalorimetar 1 39024788Kum.protok (m3) (t-1)</th>\n",
       "      <th>Kalorimetar 1 39024788Temp.pov.voda (°C) (t-1)</th>\n",
       "      <th>Sat</th>\n",
       "      <th>Temp.senzor un.4 24004658Temperatura (°C) (t-1)</th>\n",
       "      <th>Praznik</th>\n",
       "      <th>Radni sati</th>\n",
       "    </tr>\n",
       "    <tr>\n",
       "      <th>Datum i vrijeme</th>\n",
       "      <th></th>\n",
       "      <th></th>\n",
       "      <th></th>\n",
       "      <th></th>\n",
       "      <th></th>\n",
       "      <th></th>\n",
       "      <th></th>\n",
       "      <th></th>\n",
       "    </tr>\n",
       "  </thead>\n",
       "  <tbody>\n",
       "    <tr>\n",
       "      <th>2015-10-01 00:00:00</th>\n",
       "      <td>2015-10-01 00:00:00</td>\n",
       "      <td>NaN</td>\n",
       "      <td>NaN</td>\n",
       "      <td>NaN</td>\n",
       "      <td>0</td>\n",
       "      <td>NaN</td>\n",
       "      <td>0</td>\n",
       "      <td>0</td>\n",
       "    </tr>\n",
       "    <tr>\n",
       "      <th>2015-10-01 01:00:00</th>\n",
       "      <td>2015-10-01 01:00:00</td>\n",
       "      <td>21.74</td>\n",
       "      <td>322693.0</td>\n",
       "      <td>19.5</td>\n",
       "      <td>1</td>\n",
       "      <td>21.11</td>\n",
       "      <td>0</td>\n",
       "      <td>0</td>\n",
       "    </tr>\n",
       "  </tbody>\n",
       "</table>\n",
       "</div>"
      ],
      "text/plain": [
       "                        Datum i vrijeme  \\\n",
       "Datum i vrijeme                           \n",
       "2015-10-01 00:00:00 2015-10-01 00:00:00   \n",
       "2015-10-01 01:00:00 2015-10-01 01:00:00   \n",
       "\n",
       "                     Temp.senzor un.6 24007412Temperatura (°C) (t-1)  \\\n",
       "Datum i vrijeme                                                        \n",
       "2015-10-01 00:00:00                                              NaN   \n",
       "2015-10-01 01:00:00                                            21.74   \n",
       "\n",
       "                     Kalorimetar 1 39024788Kum.protok (m3) (t-1)  \\\n",
       "Datum i vrijeme                                                    \n",
       "2015-10-01 00:00:00                                          NaN   \n",
       "2015-10-01 01:00:00                                     322693.0   \n",
       "\n",
       "                     Kalorimetar 1 39024788Temp.pov.voda (°C) (t-1)  Sat  \\\n",
       "Datum i vrijeme                                                            \n",
       "2015-10-01 00:00:00                                             NaN    0   \n",
       "2015-10-01 01:00:00                                            19.5    1   \n",
       "\n",
       "                     Temp.senzor un.4 24004658Temperatura (°C) (t-1)  Praznik  \\\n",
       "Datum i vrijeme                                                                 \n",
       "2015-10-01 00:00:00                                              NaN        0   \n",
       "2015-10-01 01:00:00                                            21.11        0   \n",
       "\n",
       "                     Radni sati  \n",
       "Datum i vrijeme                  \n",
       "2015-10-01 00:00:00           0  \n",
       "2015-10-01 01:00:00           0  "
      ]
     },
     "execution_count": 174,
     "metadata": {},
     "output_type": "execute_result"
    }
   ],
   "source": [
    "X.set_index(file[\"Datum i vrijeme\"]).head(2)"
   ]
  },
  {
   "cell_type": "code",
   "execution_count": 175,
   "id": "cf07a54d",
   "metadata": {},
   "outputs": [],
   "source": [
    "#X[\"Negrijano\"]=X[\"Negrijano\"].fillna(0)"
   ]
  },
  {
   "cell_type": "code",
   "execution_count": 176,
   "id": "1c5c6f25",
   "metadata": {},
   "outputs": [],
   "source": [
    "Y=file.loc[:, ['Temp.senzor un.4 24004658Temperatura (°C)']]"
   ]
  },
  {
   "cell_type": "code",
   "execution_count": 177,
   "id": "51ed203d",
   "metadata": {},
   "outputs": [],
   "source": [
    "feat_and_lab=pd.concat([X,Y],axis=1)"
   ]
  },
  {
   "cell_type": "code",
   "execution_count": 178,
   "id": "33f11233",
   "metadata": {},
   "outputs": [
    {
     "data": {
      "text/html": [
       "<div>\n",
       "<style scoped>\n",
       "    .dataframe tbody tr th:only-of-type {\n",
       "        vertical-align: middle;\n",
       "    }\n",
       "\n",
       "    .dataframe tbody tr th {\n",
       "        vertical-align: top;\n",
       "    }\n",
       "\n",
       "    .dataframe thead th {\n",
       "        text-align: right;\n",
       "    }\n",
       "</style>\n",
       "<table border=\"1\" class=\"dataframe\">\n",
       "  <thead>\n",
       "    <tr style=\"text-align: right;\">\n",
       "      <th></th>\n",
       "      <th>Datum i vrijeme</th>\n",
       "      <th>Temp.senzor un.6 24007412Temperatura (°C) (t-1)</th>\n",
       "      <th>Kalorimetar 1 39024788Kum.protok (m3) (t-1)</th>\n",
       "      <th>Kalorimetar 1 39024788Temp.pov.voda (°C) (t-1)</th>\n",
       "      <th>Sat</th>\n",
       "      <th>Temp.senzor un.4 24004658Temperatura (°C) (t-1)</th>\n",
       "      <th>Praznik</th>\n",
       "      <th>Radni sati</th>\n",
       "      <th>Temp.senzor un.4 24004658Temperatura (°C)</th>\n",
       "    </tr>\n",
       "  </thead>\n",
       "  <tbody>\n",
       "    <tr>\n",
       "      <th>0</th>\n",
       "      <td>2015-10-01 00:00:00</td>\n",
       "      <td>NaN</td>\n",
       "      <td>NaN</td>\n",
       "      <td>NaN</td>\n",
       "      <td>0</td>\n",
       "      <td>NaN</td>\n",
       "      <td>0</td>\n",
       "      <td>0</td>\n",
       "      <td>21.11</td>\n",
       "    </tr>\n",
       "    <tr>\n",
       "      <th>1</th>\n",
       "      <td>2015-10-01 01:00:00</td>\n",
       "      <td>21.74</td>\n",
       "      <td>322693.0</td>\n",
       "      <td>19.5</td>\n",
       "      <td>1</td>\n",
       "      <td>21.11</td>\n",
       "      <td>0</td>\n",
       "      <td>0</td>\n",
       "      <td>21.06</td>\n",
       "    </tr>\n",
       "  </tbody>\n",
       "</table>\n",
       "</div>"
      ],
      "text/plain": [
       "      Datum i vrijeme  Temp.senzor un.6 24007412Temperatura (°C) (t-1)  \\\n",
       "0 2015-10-01 00:00:00                                              NaN   \n",
       "1 2015-10-01 01:00:00                                            21.74   \n",
       "\n",
       "   Kalorimetar 1 39024788Kum.protok (m3) (t-1)  \\\n",
       "0                                          NaN   \n",
       "1                                     322693.0   \n",
       "\n",
       "   Kalorimetar 1 39024788Temp.pov.voda (°C) (t-1)  Sat  \\\n",
       "0                                             NaN    0   \n",
       "1                                            19.5    1   \n",
       "\n",
       "   Temp.senzor un.4 24004658Temperatura (°C) (t-1)  Praznik  Radni sati  \\\n",
       "0                                              NaN        0           0   \n",
       "1                                            21.11        0           0   \n",
       "\n",
       "   Temp.senzor un.4 24004658Temperatura (°C)  \n",
       "0                                      21.11  \n",
       "1                                      21.06  "
      ]
     },
     "execution_count": 178,
     "metadata": {},
     "output_type": "execute_result"
    }
   ],
   "source": [
    "feat_and_lab.head(2)"
   ]
  },
  {
   "cell_type": "code",
   "execution_count": 179,
   "id": "ef188253",
   "metadata": {},
   "outputs": [
    {
     "data": {
      "text/plain": [
       "Datum i vrijeme                                     0\n",
       "Temp.senzor un.6 24007412Temperatura (°C) (t-1)    30\n",
       "Kalorimetar 1 39024788Kum.protok (m3) (t-1)        30\n",
       "Kalorimetar 1 39024788Temp.pov.voda (°C) (t-1)     30\n",
       "Sat                                                 0\n",
       "Temp.senzor un.4 24004658Temperatura (°C) (t-1)    30\n",
       "Praznik                                             0\n",
       "Radni sati                                          0\n",
       "Temp.senzor un.4 24004658Temperatura (°C)          27\n",
       "dtype: int64"
      ]
     },
     "execution_count": 179,
     "metadata": {},
     "output_type": "execute_result"
    }
   ],
   "source": [
    "feat_and_lab.isna().sum()"
   ]
  },
  {
   "cell_type": "code",
   "execution_count": 180,
   "id": "eb7b624d",
   "metadata": {},
   "outputs": [],
   "source": [
    "feat_and_lab = feat_and_lab.dropna(subset=[#'Temp.senzor un.6 24007412Temperatura (°C) (t-1)',\n",
    "       'Temp.senzor un.4 24004658Temperatura (°C) (t-1)',\n",
    "       'Praznik',\n",
    "       'Radni sati',\n",
    "       'Temp.senzor un.4 24004658Temperatura (°C)',], how='any')"
   ]
  },
  {
   "cell_type": "code",
   "execution_count": 181,
   "id": "bcc5f74d",
   "metadata": {},
   "outputs": [
    {
     "data": {
      "text/plain": [
       "Index(['Datum i vrijeme', 'Temp.senzor un.6 24007412Temperatura (°C) (t-1)',\n",
       "       'Kalorimetar 1 39024788Kum.protok (m3) (t-1)',\n",
       "       'Kalorimetar 1 39024788Temp.pov.voda (°C) (t-1)', 'Sat',\n",
       "       'Temp.senzor un.4 24004658Temperatura (°C) (t-1)', 'Praznik',\n",
       "       'Radni sati', 'Temp.senzor un.4 24004658Temperatura (°C)'],\n",
       "      dtype='object')"
      ]
     },
     "execution_count": 181,
     "metadata": {},
     "output_type": "execute_result"
    }
   ],
   "source": [
    "feat_and_lab.columns"
   ]
  },
  {
   "cell_type": "code",
   "execution_count": 182,
   "id": "53cded8a",
   "metadata": {},
   "outputs": [],
   "source": [
    "#feat_and_lab[\"Diff_4_6\"]=feat_and_lab['Temp.senzor un.4 24004658Temperatura (°C) (t-1)']-feat_and_lab['Temp.senzor un.6 24007412Temperatura (°C) (t-1)']"
   ]
  },
  {
   "cell_type": "code",
   "execution_count": 183,
   "id": "7b3311a1",
   "metadata": {},
   "outputs": [],
   "source": [
    "#feat_and_lab[\"Diff_4_pov\"]=feat_and_lab['Temp.senzor un.4 24004658Temperatura (°C) (t-1)']-feat_and_lab[\"Kalorimetar 1 39024788Temp.pov.voda (°C) (t-1)\"]"
   ]
  },
  {
   "cell_type": "code",
   "execution_count": 184,
   "id": "5d4bf70b",
   "metadata": {},
   "outputs": [
    {
     "data": {
      "text/html": [
       "<div>\n",
       "<style scoped>\n",
       "    .dataframe tbody tr th:only-of-type {\n",
       "        vertical-align: middle;\n",
       "    }\n",
       "\n",
       "    .dataframe tbody tr th {\n",
       "        vertical-align: top;\n",
       "    }\n",
       "\n",
       "    .dataframe thead th {\n",
       "        text-align: right;\n",
       "    }\n",
       "</style>\n",
       "<table border=\"1\" class=\"dataframe\">\n",
       "  <thead>\n",
       "    <tr style=\"text-align: right;\">\n",
       "      <th></th>\n",
       "      <th>VIF</th>\n",
       "      <th>Column</th>\n",
       "    </tr>\n",
       "  </thead>\n",
       "  <tbody>\n",
       "    <tr>\n",
       "      <th>4</th>\n",
       "      <td>5320.776377</td>\n",
       "      <td>Temp.senzor un.4 24004658Temperatura (°C) (t-1)</td>\n",
       "    </tr>\n",
       "    <tr>\n",
       "      <th>7</th>\n",
       "      <td>5072.069716</td>\n",
       "      <td>Temp.senzor un.4 24004658Temperatura (°C)</td>\n",
       "    </tr>\n",
       "    <tr>\n",
       "      <th>0</th>\n",
       "      <td>534.996406</td>\n",
       "      <td>Temp.senzor un.6 24007412Temperatura (°C) (t-1)</td>\n",
       "    </tr>\n",
       "    <tr>\n",
       "      <th>1</th>\n",
       "      <td>60.037115</td>\n",
       "      <td>Kalorimetar 1 39024788Kum.protok (m3) (t-1)</td>\n",
       "    </tr>\n",
       "    <tr>\n",
       "      <th>2</th>\n",
       "      <td>17.618768</td>\n",
       "      <td>Kalorimetar 1 39024788Temp.pov.voda (°C) (t-1)</td>\n",
       "    </tr>\n",
       "    <tr>\n",
       "      <th>3</th>\n",
       "      <td>4.189645</td>\n",
       "      <td>Sat</td>\n",
       "    </tr>\n",
       "    <tr>\n",
       "      <th>6</th>\n",
       "      <td>2.462207</td>\n",
       "      <td>Radni sati</td>\n",
       "    </tr>\n",
       "    <tr>\n",
       "      <th>5</th>\n",
       "      <td>1.040853</td>\n",
       "      <td>Praznik</td>\n",
       "    </tr>\n",
       "  </tbody>\n",
       "</table>\n",
       "</div>"
      ],
      "text/plain": [
       "           VIF                                           Column\n",
       "4  5320.776377  Temp.senzor un.4 24004658Temperatura (°C) (t-1)\n",
       "7  5072.069716        Temp.senzor un.4 24004658Temperatura (°C)\n",
       "0   534.996406  Temp.senzor un.6 24007412Temperatura (°C) (t-1)\n",
       "1    60.037115      Kalorimetar 1 39024788Kum.protok (m3) (t-1)\n",
       "2    17.618768   Kalorimetar 1 39024788Temp.pov.voda (°C) (t-1)\n",
       "3     4.189645                                              Sat\n",
       "6     2.462207                                       Radni sati\n",
       "5     1.040853                                          Praznik"
      ]
     },
     "execution_count": 184,
     "metadata": {},
     "output_type": "execute_result"
    }
   ],
   "source": [
    "import statsmodels.api as sm\n",
    "from statsmodels.stats.outliers_influence import variance_inflation_factor\n",
    "\n",
    "X =feat_and_lab[list(feat_and_lab.columns[1:11])]\n",
    "#X=X.drop(['Temp.senzor un.4 24004658Temperatura (°C) (t-1)','Temp.senzor un.6 24007412Temperatura (°C) (t-1)'],axis=1)\n",
    "\n",
    "vif_info = pd.DataFrame()\n",
    "vif_info['VIF'] = [variance_inflation_factor(X.values, i) for i in range(X.shape[1])]\n",
    "vif_info['Column'] = X.columns\n",
    "vif_info.sort_values('VIF', ascending=False)"
   ]
  },
  {
   "cell_type": "code",
   "execution_count": 141,
   "id": "f2c1e7ca",
   "metadata": {},
   "outputs": [],
   "source": [
    "#X=X.drop(['Kalorimetar 1 39024788Temp.pov.voda (°C) (t-1)','Kalorimetar 1 39024788Kum.protok (m3) (t-1)'],axis=1)"
   ]
  },
  {
   "cell_type": "code",
   "execution_count": 185,
   "id": "d0cbc764",
   "metadata": {},
   "outputs": [
    {
     "data": {
      "text/html": [
       "<div>\n",
       "<style scoped>\n",
       "    .dataframe tbody tr th:only-of-type {\n",
       "        vertical-align: middle;\n",
       "    }\n",
       "\n",
       "    .dataframe tbody tr th {\n",
       "        vertical-align: top;\n",
       "    }\n",
       "\n",
       "    .dataframe thead th {\n",
       "        text-align: right;\n",
       "    }\n",
       "</style>\n",
       "<table border=\"1\" class=\"dataframe\">\n",
       "  <thead>\n",
       "    <tr style=\"text-align: right;\">\n",
       "      <th></th>\n",
       "      <th>VIF</th>\n",
       "      <th>Column</th>\n",
       "    </tr>\n",
       "  </thead>\n",
       "  <tbody>\n",
       "    <tr>\n",
       "      <th>4</th>\n",
       "      <td>5320.776377</td>\n",
       "      <td>Temp.senzor un.4 24004658Temperatura (°C) (t-1)</td>\n",
       "    </tr>\n",
       "    <tr>\n",
       "      <th>7</th>\n",
       "      <td>5072.069716</td>\n",
       "      <td>Temp.senzor un.4 24004658Temperatura (°C)</td>\n",
       "    </tr>\n",
       "    <tr>\n",
       "      <th>0</th>\n",
       "      <td>534.996406</td>\n",
       "      <td>Temp.senzor un.6 24007412Temperatura (°C) (t-1)</td>\n",
       "    </tr>\n",
       "    <tr>\n",
       "      <th>1</th>\n",
       "      <td>60.037115</td>\n",
       "      <td>Kalorimetar 1 39024788Kum.protok (m3) (t-1)</td>\n",
       "    </tr>\n",
       "    <tr>\n",
       "      <th>2</th>\n",
       "      <td>17.618768</td>\n",
       "      <td>Kalorimetar 1 39024788Temp.pov.voda (°C) (t-1)</td>\n",
       "    </tr>\n",
       "    <tr>\n",
       "      <th>3</th>\n",
       "      <td>4.189645</td>\n",
       "      <td>Sat</td>\n",
       "    </tr>\n",
       "    <tr>\n",
       "      <th>6</th>\n",
       "      <td>2.462207</td>\n",
       "      <td>Radni sati</td>\n",
       "    </tr>\n",
       "    <tr>\n",
       "      <th>5</th>\n",
       "      <td>1.040853</td>\n",
       "      <td>Praznik</td>\n",
       "    </tr>\n",
       "  </tbody>\n",
       "</table>\n",
       "</div>"
      ],
      "text/plain": [
       "           VIF                                           Column\n",
       "4  5320.776377  Temp.senzor un.4 24004658Temperatura (°C) (t-1)\n",
       "7  5072.069716        Temp.senzor un.4 24004658Temperatura (°C)\n",
       "0   534.996406  Temp.senzor un.6 24007412Temperatura (°C) (t-1)\n",
       "1    60.037115      Kalorimetar 1 39024788Kum.protok (m3) (t-1)\n",
       "2    17.618768   Kalorimetar 1 39024788Temp.pov.voda (°C) (t-1)\n",
       "3     4.189645                                              Sat\n",
       "6     2.462207                                       Radni sati\n",
       "5     1.040853                                          Praznik"
      ]
     },
     "execution_count": 185,
     "metadata": {},
     "output_type": "execute_result"
    }
   ],
   "source": [
    "vif_info = pd.DataFrame()\n",
    "vif_info['VIF'] = [variance_inflation_factor(X.values, i) for i in range(X.shape[1])]\n",
    "vif_info['Column'] = X.columns\n",
    "vif_info.sort_values('VIF', ascending=False)"
   ]
  },
  {
   "cell_type": "code",
   "execution_count": 143,
   "id": "380534bb",
   "metadata": {},
   "outputs": [],
   "source": [
    "#feat_and_lab=feat_and_lab.interpolate(method =\"bfill\")"
   ]
  },
  {
   "cell_type": "code",
   "execution_count": 144,
   "id": "36a02052",
   "metadata": {},
   "outputs": [],
   "source": [
    "from statsmodels.tsa.seasonal import seasonal_decompose\n",
    "\n",
    "core_columns =  [\"Temp.senzor un.4 24004658Temperatura (°C) (t-1)\"]\n",
    "\n",
    "for column in core_columns:\n",
    "    decomp = seasonal_decompose(feat_and_lab[column], period=24, model='additive', extrapolate_trend='freq')\n",
    "    feat_and_lab[f\"{column}_trend\"] = decomp.trend\n",
    "    feat_and_lab[f\"{column}_seasonal\"] = decomp.seasonal"
   ]
  },
  {
   "cell_type": "code",
   "execution_count": 145,
   "id": "076bfff9",
   "metadata": {},
   "outputs": [
    {
     "data": {
      "image/png": "[encoded data removed]",
      "text/plain": [
       "<Figure size 1152x576 with 4 Axes>"
      ]
     },
     "metadata": {
      "needs_background": "light"
     },
     "output_type": "display_data"
    }
   ],
   "source": [
    "fig, ax = plt.subplots(ncols=1, nrows=4, sharex=True, figsize=(16,8))\n",
    "\n",
    "#for i, column in enumerate(core_columns):\n",
    "    \n",
    "    #res = seasonal_decompose(feat_and_lab[column], freq=24, model='additive', extrapolate_trend='freq')\n",
    "\n",
    "   # ax[0,i].set_title('Decomposition of {}'.format(column), fontsize=16)\n",
    "   # res.observed.plot(ax=ax[0,i], legend=False, color='dodgerblue')\n",
    " #   ax[0,i].set_ylabel('Observed', fontsize=14)\n",
    "\n",
    "  #  res.trend.plot(ax=ax[1,i], legend=False, color='dodgerblue')\n",
    "#    ax[1,i].set_ylabel('Trend', fontsize=14)\n",
    "\n",
    "    #res.seasonal.plot(ax=ax[2,i], legend=False, color='dodgerblue')\n",
    "    #ax[2,i].set_ylabel('Seasonal', fontsize=14)\n",
    "    \n",
    "   # res.resid.plot(ax=ax[3,i], legend=False, color='dodgerblue')\n",
    "   # ax[3,i].set_ylabel('Residual', fontsize=14)\n",
    "\n",
    "#plt.show()"
   ]
  },
  {
   "cell_type": "markdown",
   "id": "7baafa85",
   "metadata": {},
   "source": [
    "#XGB"
   ]
  },
  {
   "cell_type": "code",
   "execution_count": 186,
   "id": "d8f7de79",
   "metadata": {},
   "outputs": [],
   "source": [
    "split_date = '10/01/2017  00:00:00 AM'\n",
    "feat_train = feat_and_lab.loc[feat_and_lab[\"Datum i vrijeme\"] <= split_date].copy()\n",
    "feat_test = feat_and_lab.loc[feat_and_lab[\"Datum i vrijeme\"]> split_date].copy()"
   ]
  },
  {
   "cell_type": "code",
   "execution_count": 187,
   "id": "1e2fe560",
   "metadata": {},
   "outputs": [
    {
     "data": {
      "text/plain": [
       "9"
      ]
     },
     "execution_count": 187,
     "metadata": {},
     "output_type": "execute_result"
    }
   ],
   "source": [
    "len(feat_train.columns)"
   ]
  },
  {
   "cell_type": "code",
   "execution_count": 188,
   "id": "40ad4c23",
   "metadata": {},
   "outputs": [
    {
     "data": {
      "text/plain": [
       "Index(['Datum i vrijeme', 'Temp.senzor un.6 24007412Temperatura (°C) (t-1)',\n",
       "       'Kalorimetar 1 39024788Kum.protok (m3) (t-1)',\n",
       "       'Kalorimetar 1 39024788Temp.pov.voda (°C) (t-1)', 'Sat',\n",
       "       'Temp.senzor un.4 24004658Temperatura (°C) (t-1)', 'Praznik',\n",
       "       'Radni sati', 'Temp.senzor un.4 24004658Temperatura (°C)'],\n",
       "      dtype='object')"
      ]
     },
     "execution_count": 188,
     "metadata": {},
     "output_type": "execute_result"
    }
   ],
   "source": [
    "feat_train.columns"
   ]
  },
  {
   "cell_type": "code",
   "execution_count": 189,
   "id": "62b3e1c9",
   "metadata": {},
   "outputs": [],
   "source": [
    "#feat_train=feat_train.drop(['Temp.senzor un.6 24007412Temperatura (°C) (t-1)',\n",
    "       #'Kalorimetar 1 39024788Kum.protok (m3) (t-1)','Temp.senzor un.4 24004658Temperatura (°C) (t-1)','Kalorimetar 1 39024788Temp.pov.voda (°C) (t-1)'],axis=1)"
   ]
  },
  {
   "cell_type": "code",
   "execution_count": 190,
   "id": "f1348a9f",
   "metadata": {},
   "outputs": [],
   "source": [
    "#%pip install xgboost\n",
    "import xgboost as xgb\n",
    "from xgboost import plot_importance"
   ]
  },
  {
   "cell_type": "code",
   "execution_count": 191,
   "id": "a9cd922a",
   "metadata": {},
   "outputs": [
    {
     "data": {
      "text/plain": [
       "Index(['Datum i vrijeme', 'Temp.senzor un.6 24007412Temperatura (°C) (t-1)',\n",
       "       'Kalorimetar 1 39024788Kum.protok (m3) (t-1)',\n",
       "       'Kalorimetar 1 39024788Temp.pov.voda (°C) (t-1)', 'Sat',\n",
       "       'Temp.senzor un.4 24004658Temperatura (°C) (t-1)', 'Praznik',\n",
       "       'Radni sati', 'Temp.senzor un.4 24004658Temperatura (°C)'],\n",
       "      dtype='object')"
      ]
     },
     "execution_count": 191,
     "metadata": {},
     "output_type": "execute_result"
    }
   ],
   "source": [
    "feat_train.columns"
   ]
  },
  {
   "cell_type": "code",
   "execution_count": 152,
   "id": "505976eb",
   "metadata": {},
   "outputs": [],
   "source": [
    "new_cols = ['Datum i vrijeme', 'Sat', 'Praznik', 'Radni sati',\n",
    "       'Diff_4_6', 'Diff_4_pov','Temp.senzor un.4 24004658Temperatura (°C)',\n",
    "       'Temp.senzor un.4 24004658Temperatura (°C) (t-1)_trend',\n",
    "       'Temp.senzor un.4 24004658Temperatura (°C) (t-1)_seasonal']\n",
    "\n",
    "feat_train=feat_train.reindex(columns=new_cols)\n",
    "feat_test=feat_test.reindex(columns=new_cols)"
   ]
  },
  {
   "cell_type": "code",
   "execution_count": 192,
   "id": "83335d92",
   "metadata": {},
   "outputs": [
    {
     "data": {
      "text/plain": [
       "XGBRegressor(base_score=0.5, booster='gbtree', colsample_bylevel=1,\n",
       "             colsample_bynode=1, colsample_bytree=1, gamma=0, gpu_id=-1,\n",
       "             importance_type='gain', interaction_constraints='',\n",
       "             learning_rate=0.300000012, max_delta_step=0, max_depth=6,\n",
       "             min_child_weight=1, missing=nan, monotone_constraints='()',\n",
       "             n_estimators=10000, n_jobs=8, num_parallel_tree=1, random_state=0,\n",
       "             reg_alpha=0, reg_lambda=1, scale_pos_weight=1, subsample=1,\n",
       "             tree_method='exact', validate_parameters=1, verbosity=None)"
      ]
     },
     "execution_count": 192,
     "metadata": {},
     "output_type": "execute_result"
    }
   ],
   "source": [
    "reg = xgb.XGBRegressor(n_estimators=10000)\n",
    "reg.fit(feat_train.iloc[:,1:8], feat_train.iloc[:,8],\n",
    "        eval_set=[(feat_train.iloc[:,1:8], feat_train.iloc[:,8]), (feat_test.iloc[:,1:8], feat_test.iloc[:,8])],\n",
    "        early_stopping_rounds=50,\n",
    "       verbose=False) # Change verbose to True if you want to see it train"
   ]
  },
  {
   "cell_type": "code",
   "execution_count": 193,
   "id": "acf08651",
   "metadata": {},
   "outputs": [
    {
     "data": {
      "image/png": "[encoded data removed]",
      "text/plain": [
       "<Figure size 432x288 with 1 Axes>"
      ]
     },
     "metadata": {
      "needs_background": "light"
     },
     "output_type": "display_data"
    }
   ],
   "source": [
    "plot_importance(reg, height=0.9)\n",
    "plt.show()"
   ]
  },
  {
   "cell_type": "code",
   "execution_count": 194,
   "id": "973670f3",
   "metadata": {},
   "outputs": [
    {
     "data": {
      "text/plain": [
       "Index(['Datum i vrijeme', 'Temp.senzor un.6 24007412Temperatura (°C) (t-1)',\n",
       "       'Kalorimetar 1 39024788Kum.protok (m3) (t-1)',\n",
       "       'Kalorimetar 1 39024788Temp.pov.voda (°C) (t-1)', 'Sat',\n",
       "       'Temp.senzor un.4 24004658Temperatura (°C) (t-1)', 'Praznik',\n",
       "       'Radni sati', 'Temp.senzor un.4 24004658Temperatura (°C)'],\n",
       "      dtype='object')"
      ]
     },
     "execution_count": 194,
     "metadata": {},
     "output_type": "execute_result"
    }
   ],
   "source": [
    "feat_test.columns"
   ]
  },
  {
   "cell_type": "code",
   "execution_count": 196,
   "id": "8d97c2df",
   "metadata": {},
   "outputs": [],
   "source": [
    "feat_test['Prediction'] = reg.predict(feat_test.iloc[:,1:8])"
   ]
  },
  {
   "cell_type": "code",
   "execution_count": 197,
   "id": "f13a9a26",
   "metadata": {},
   "outputs": [
    {
     "data": {
      "image/png": "[encoded data removed]",
      "text/plain": [
       "<Figure size 1080x360 with 1 Axes>"
      ]
     },
     "metadata": {
      "needs_background": "light"
     },
     "output_type": "display_data"
    }
   ],
   "source": [
    "feat_test[['Temp.senzor un.4 24004658Temperatura (°C)','Prediction']].plot(figsize=(15, 5))\n",
    "plt.show()"
   ]
  },
  {
   "cell_type": "code",
   "execution_count": 198,
   "id": "6831a6b5",
   "metadata": {},
   "outputs": [],
   "source": [
    "feat_test['error'] =feat_test['Temp.senzor un.4 24004658Temperatura (°C)'] - feat_test['Prediction']\n",
    "feat_test['abs_error'] = feat_test['error'].apply(np.abs)\n",
    "#error_by_day = feat_test.groupby(['Godina','Mjesec','Dan u mjesecu']).mean()[['Temp.senzor un.4 24004658Temperatura (°C)','Prediction','error','abs_error']]"
   ]
  },
  {
   "cell_type": "code",
   "execution_count": 199,
   "id": "5924291e",
   "metadata": {},
   "outputs": [],
   "source": [
    "#error_by_day.sort_values('error', ascending=True).head(10)"
   ]
  },
  {
   "cell_type": "code",
   "execution_count": 200,
   "id": "473b5f39",
   "metadata": {},
   "outputs": [],
   "source": [
    "#error_by_day.sort_values('abs_error', ascending=True).head(10)"
   ]
  },
  {
   "cell_type": "code",
   "execution_count": 201,
   "id": "190411cf",
   "metadata": {},
   "outputs": [
    {
     "data": {
      "image/png": "[encoded data removed]",
      "text/plain": [
       "<Figure size 720x360 with 1 Axes>"
      ]
     },
     "metadata": {
      "needs_background": "light"
     },
     "output_type": "display_data"
    }
   ],
   "source": [
    "f, ax = plt.subplots(1)\n",
    "f.set_figheight(5)\n",
    "f.set_figwidth(10)\n",
    "_ =feat_test[['Prediction','Temp.senzor un.4 24004658Temperatura (°C)']].plot(ax=ax,\n",
    "                                              style=['-','.'])\n",
    "ax.set_xbound(lower=feat_test[feat_test[\"Datum i vrijeme\"]=='11/12/2017  00:00:00 AM'].index.values, upper=feat_test[feat_test[\"Datum i vrijeme\"]=='11/12/2017  11:00:00 PM'].index.values)\n",
    "plot = plt.suptitle('Oct 4, 2017 - Best Predicted Day')\n",
    "plt.show()"
   ]
  },
  {
   "cell_type": "code",
   "execution_count": 202,
   "id": "395321cd",
   "metadata": {},
   "outputs": [
    {
     "data": {
      "image/png": "[encoded data removed]",
      "text/plain": [
       "<Figure size 720x360 with 1 Axes>"
      ]
     },
     "metadata": {
      "needs_background": "light"
     },
     "output_type": "display_data"
    }
   ],
   "source": [
    "f, ax = plt.subplots(1)\n",
    "f.set_figheight(5)\n",
    "f.set_figwidth(10)\n",
    "_ =feat_test[['Prediction','Temp.senzor un.4 24004658Temperatura (°C)']].plot(ax=ax,\n",
    "                                              style=['-','.'])\n",
    "ax.set_xbound(lower=feat_test[feat_test[\"Datum i vrijeme\"]=='11/22/2017  00:00:00 AM'].index.values, upper=feat_test[feat_test[\"Datum i vrijeme\"]=='11/22/2017  11:00:00 PM'].index.values)\n",
    "plot = plt.suptitle('Nov 22, 2017 - Worst Predicted Day')\n",
    "plt.show()"
   ]
  },
  {
   "cell_type": "code",
   "execution_count": 203,
   "id": "dcd698d8",
   "metadata": {},
   "outputs": [
    {
     "name": "stdout",
     "output_type": "stream",
     "text": [
      "RMSE: 0.5359063404064365\n"
     ]
    }
   ],
   "source": [
    "# Calcuate metrics\n",
    "\n",
    "\n",
    "score_mae = mean_absolute_error(feat_test['Temp.senzor un.4 24004658Temperatura (°C)'], feat_test['Prediction'])\n",
    "score_rmse = math.sqrt(mean_absolute_error(feat_test['Temp.senzor un.4 24004658Temperatura (°C)'], feat_test['Prediction']))\n",
    "\n",
    "print('RMSE: {}'.format(score_rmse))"
   ]
  },
  {
   "cell_type": "code",
   "execution_count": 40,
   "id": "97d58255",
   "metadata": {},
   "outputs": [],
   "source": [
    "#for col in feat_and_lab.columns:\n",
    "    #feat_and_lab[col] = feat_and_lab[col].interpolate(method=\"bfill\")"
   ]
  },
  {
   "cell_type": "code",
   "execution_count": 41,
   "id": "e37ec484",
   "metadata": {},
   "outputs": [],
   "source": [
    "#feat_and_lab.columns"
   ]
  },
  {
   "cell_type": "code",
   "execution_count": 42,
   "id": "b2d53f80",
   "metadata": {},
   "outputs": [],
   "source": [
    "#columns1=feat_and_lab.columns\n",
    "#downsample=feat_and_lab[columns1].resample(\"1D\", on=\"Datum i vrijeme\").mean()\n",
    "\n",
    "#feat_and_lab_1= downsample.copy()"
   ]
  },
  {
   "cell_type": "code",
   "execution_count": null,
   "id": "3109f34b",
   "metadata": {},
   "outputs": [],
   "source": []
  },
  {
   "cell_type": "code",
   "execution_count": 43,
   "id": "e9396580",
   "metadata": {},
   "outputs": [
    {
     "data": {
      "text/plain": [
       "Datum i vrijeme                                             0\n",
       "Sat                                                         0\n",
       "Temp.senzor un.4 24004658Temperatura (°C) (t-1)             0\n",
       "Praznik                                                     0\n",
       "Radni sati                                                  0\n",
       "Temp.senzor un.4 24004658Temperatura (°C)                   0\n",
       "Temp.senzor un.4 24004658Temperatura (°C) (t-1)_trend       0\n",
       "Temp.senzor un.4 24004658Temperatura (°C) (t-1)_seasonal    0\n",
       "dtype: int64"
      ]
     },
     "execution_count": 43,
     "metadata": {},
     "output_type": "execute_result"
    }
   ],
   "source": [
    "feat_and_lab.isna().sum()"
   ]
  },
  {
   "cell_type": "code",
   "execution_count": 44,
   "id": "0d13f67f",
   "metadata": {},
   "outputs": [],
   "source": [
    "\n",
    "\n",
    "#feat_and_lab ['Sezona'] = feat_and_lab['Mjesec'] % 12 // 3 + 1\n"
   ]
  },
  {
   "cell_type": "code",
   "execution_count": 45,
   "id": "f43397ad",
   "metadata": {},
   "outputs": [],
   "source": [
    "from statsmodels.tsa.arima_model import ARIMA\n",
    "#aa=feat_and_lab.index.values\n",
    "aa=feat_and_lab.index"
   ]
  },
  {
   "cell_type": "code",
   "execution_count": 46,
   "id": "902b43d0",
   "metadata": {},
   "outputs": [
    {
     "data": {
      "text/plain": [
       "Index(['Datum i vrijeme', 'Sat',\n",
       "       'Temp.senzor un.4 24004658Temperatura (°C) (t-1)', 'Praznik',\n",
       "       'Radni sati', 'Temp.senzor un.4 24004658Temperatura (°C)',\n",
       "       'Temp.senzor un.4 24004658Temperatura (°C) (t-1)_trend',\n",
       "       'Temp.senzor un.4 24004658Temperatura (°C) (t-1)_seasonal'],\n",
       "      dtype='object')"
      ]
     },
     "execution_count": 46,
     "metadata": {},
     "output_type": "execute_result"
    }
   ],
   "source": [
    "feat_and_lab.columns"
   ]
  },
  {
   "cell_type": "code",
   "execution_count": 47,
   "id": "b6416a9c",
   "metadata": {},
   "outputs": [],
   "source": [
    "#univariate_df[\"Datum i vrijeme\"]=aa\n",
    "univariate_df=pd.DataFrame()\n",
    "univariate_df[ 'Datum i vrijeme']=feat_and_lab[ 'Datum i vrijeme'].values\n",
    "#univariate_df[\"Temp.senzor vanj.1 25000099Temperatura (°C)\"]=feat_and_lab_1[\"Temp.senzor vanj.1 25000099Temperatura (°C)\"].values\n",
    "#univariate_df['Temp.senzor un.6 (t-1)']=feat_and_lab['Temp.senzor un.6 24007412Temperatura (°C) (t-1)'].values\n",
    "univariate_df['Temp.senzor un.4(t-1)']=feat_and_lab['Temp.senzor un.4 24004658Temperatura (°C) (t-1)'].values\n",
    "univariate_df[ 'Sat']=feat_and_lab[ 'Sat'].values\n",
    "#univariate_df[ 'Dan u sedmici']=feat_and_lab[ 'Dan u sedmici'].values\n",
    "#univariate_df[  'Mjesec']=feat_and_lab[ 'Mjesec'].values\n",
    "#univariate_df[ 'Godina']=feat_and_lab[ 'Godina'].values\n",
    "#Univariate_df[ 'Kvartal']=feat_and_lab[ 'Kvartal'].values\n",
    "#univariate_df[ 'Dan u godini']=feat_and_lab['Dan u godini'].values\n",
    "#univariate_df[ 'Dan u mjesecu']=feat_and_lab[ 'Dan u mjesecu'].values\n",
    "univariate_df[ 'Praznik']=feat_and_lab[ 'Praznik'].values\n",
    "univariate_df['Radni sati']=feat_and_lab[ 'Radni sati'].values\n",
    "univariate_df[\"Temp \"]=feat_and_lab['Temp.senzor un.4 24004658Temperatura (°C)'].values\n",
    "\n",
    "\n",
    "\n",
    "#univariate_df[\"Plin, m3\"]=feat_and_lab_1[\"Plin, m3\"].values"
   ]
  },
  {
   "cell_type": "code",
   "execution_count": 48,
   "id": "93368449",
   "metadata": {},
   "outputs": [
    {
     "data": {
      "text/html": [
       "<div>\n",
       "<style scoped>\n",
       "    .dataframe tbody tr th:only-of-type {\n",
       "        vertical-align: middle;\n",
       "    }\n",
       "\n",
       "    .dataframe tbody tr th {\n",
       "        vertical-align: top;\n",
       "    }\n",
       "\n",
       "    .dataframe thead th {\n",
       "        text-align: right;\n",
       "    }\n",
       "</style>\n",
       "<table border=\"1\" class=\"dataframe\">\n",
       "  <thead>\n",
       "    <tr style=\"text-align: right;\">\n",
       "      <th></th>\n",
       "      <th>Temp.senzor un.4(t-1)</th>\n",
       "      <th>Sat</th>\n",
       "      <th>Praznik</th>\n",
       "      <th>Radni sati</th>\n",
       "      <th>Temp</th>\n",
       "    </tr>\n",
       "  </thead>\n",
       "  <tbody>\n",
       "    <tr>\n",
       "      <th>Temp.senzor un.4(t-1)</th>\n",
       "      <td>1.000000</td>\n",
       "      <td>0.218989</td>\n",
       "      <td>-0.114618</td>\n",
       "      <td>0.291507</td>\n",
       "      <td>0.979458</td>\n",
       "    </tr>\n",
       "    <tr>\n",
       "      <th>Sat</th>\n",
       "      <td>0.218989</td>\n",
       "      <td>1.000000</td>\n",
       "      <td>0.000235</td>\n",
       "      <td>0.131601</td>\n",
       "      <td>0.185366</td>\n",
       "    </tr>\n",
       "    <tr>\n",
       "      <th>Praznik</th>\n",
       "      <td>-0.114618</td>\n",
       "      <td>0.000235</td>\n",
       "      <td>1.000000</td>\n",
       "      <td>-0.026929</td>\n",
       "      <td>-0.115848</td>\n",
       "    </tr>\n",
       "    <tr>\n",
       "      <th>Radni sati</th>\n",
       "      <td>0.291507</td>\n",
       "      <td>0.131601</td>\n",
       "      <td>-0.026929</td>\n",
       "      <td>1.000000</td>\n",
       "      <td>0.335170</td>\n",
       "    </tr>\n",
       "    <tr>\n",
       "      <th>Temp</th>\n",
       "      <td>0.979458</td>\n",
       "      <td>0.185366</td>\n",
       "      <td>-0.115848</td>\n",
       "      <td>0.335170</td>\n",
       "      <td>1.000000</td>\n",
       "    </tr>\n",
       "  </tbody>\n",
       "</table>\n",
       "</div>"
      ],
      "text/plain": [
       "                       Temp.senzor un.4(t-1)       Sat   Praznik  Radni sati  \\\n",
       "Temp.senzor un.4(t-1)               1.000000  0.218989 -0.114618    0.291507   \n",
       "Sat                                 0.218989  1.000000  0.000235    0.131601   \n",
       "Praznik                            -0.114618  0.000235  1.000000   -0.026929   \n",
       "Radni sati                          0.291507  0.131601 -0.026929    1.000000   \n",
       "Temp                                0.979458  0.185366 -0.115848    0.335170   \n",
       "\n",
       "                          Temp   \n",
       "Temp.senzor un.4(t-1)  0.979458  \n",
       "Sat                    0.185366  \n",
       "Praznik               -0.115848  \n",
       "Radni sati             0.335170  \n",
       "Temp                   1.000000  "
      ]
     },
     "execution_count": 48,
     "metadata": {},
     "output_type": "execute_result"
    }
   ],
   "source": [
    "univariate_df.corr()"
   ]
  },
  {
   "cell_type": "code",
   "execution_count": 49,
   "id": "3b9d6cdc",
   "metadata": {},
   "outputs": [
    {
     "data": {
      "text/plain": [
       "6"
      ]
     },
     "execution_count": 49,
     "metadata": {},
     "output_type": "execute_result"
    }
   ],
   "source": [
    "len(univariate_df.columns)\n"
   ]
  },
  {
   "cell_type": "code",
   "execution_count": 50,
   "id": "0a68529d",
   "metadata": {},
   "outputs": [
    {
     "name": "stdout",
     "output_type": "stream",
     "text": [
      "12829 2265\n"
     ]
    }
   ],
   "source": [
    "train_size = int(0.85 * len(feat_and_lab))\n",
    "test_size = len(feat_and_lab) - train_size\n",
    "\n",
    "\n",
    "train = univariate_df.iloc[:train_size, :]\n",
    "\n",
    "x_train, y_train = pd.DataFrame((univariate_df.iloc[:train_size, :5])),  pd.DataFrame((univariate_df.iloc[:train_size,5]))\n",
    "x_valid, y_valid = pd.DataFrame((univariate_df.iloc[train_size:,:5])), pd.DataFrame((univariate_df.iloc[train_size:, 5]))\n",
    "\n",
    "print(len(train), len(x_valid))"
   ]
  },
  {
   "cell_type": "code",
   "execution_count": 51,
   "id": "382581d1",
   "metadata": {},
   "outputs": [
    {
     "data": {
      "text/html": [
       "<div>\n",
       "<style scoped>\n",
       "    .dataframe tbody tr th:only-of-type {\n",
       "        vertical-align: middle;\n",
       "    }\n",
       "\n",
       "    .dataframe tbody tr th {\n",
       "        vertical-align: top;\n",
       "    }\n",
       "\n",
       "    .dataframe thead th {\n",
       "        text-align: right;\n",
       "    }\n",
       "</style>\n",
       "<table border=\"1\" class=\"dataframe\">\n",
       "  <thead>\n",
       "    <tr style=\"text-align: right;\">\n",
       "      <th></th>\n",
       "      <th>Temp</th>\n",
       "    </tr>\n",
       "  </thead>\n",
       "  <tbody>\n",
       "    <tr>\n",
       "      <th>12829</th>\n",
       "      <td>22.12</td>\n",
       "    </tr>\n",
       "    <tr>\n",
       "      <th>12830</th>\n",
       "      <td>22.22</td>\n",
       "    </tr>\n",
       "    <tr>\n",
       "      <th>12831</th>\n",
       "      <td>21.67</td>\n",
       "    </tr>\n",
       "    <tr>\n",
       "      <th>12832</th>\n",
       "      <td>21.12</td>\n",
       "    </tr>\n",
       "    <tr>\n",
       "      <th>12833</th>\n",
       "      <td>20.83</td>\n",
       "    </tr>\n",
       "    <tr>\n",
       "      <th>...</th>\n",
       "      <td>...</td>\n",
       "    </tr>\n",
       "    <tr>\n",
       "      <th>15089</th>\n",
       "      <td>26.18</td>\n",
       "    </tr>\n",
       "    <tr>\n",
       "      <th>15090</th>\n",
       "      <td>26.07</td>\n",
       "    </tr>\n",
       "    <tr>\n",
       "      <th>15091</th>\n",
       "      <td>25.99</td>\n",
       "    </tr>\n",
       "    <tr>\n",
       "      <th>15092</th>\n",
       "      <td>25.89</td>\n",
       "    </tr>\n",
       "    <tr>\n",
       "      <th>15093</th>\n",
       "      <td>25.83</td>\n",
       "    </tr>\n",
       "  </tbody>\n",
       "</table>\n",
       "<p>2265 rows × 1 columns</p>\n",
       "</div>"
      ],
      "text/plain": [
       "       Temp \n",
       "12829  22.12\n",
       "12830  22.22\n",
       "12831  21.67\n",
       "12832  21.12\n",
       "12833  20.83\n",
       "...      ...\n",
       "15089  26.18\n",
       "15090  26.07\n",
       "15091  25.99\n",
       "15092  25.89\n",
       "15093  25.83\n",
       "\n",
       "[2265 rows x 1 columns]"
      ]
     },
     "execution_count": 51,
     "metadata": {},
     "output_type": "execute_result"
    }
   ],
   "source": [
    "y_valid"
   ]
  },
  {
   "cell_type": "code",
   "execution_count": 52,
   "id": "aa6f3757",
   "metadata": {},
   "outputs": [],
   "source": [
    "from sklearn.metrics import mean_absolute_error, mean_squared_error\n",
    "import math"
   ]
  },
  {
   "cell_type": "code",
   "execution_count": 53,
   "id": "24e69bfe",
   "metadata": {},
   "outputs": [
    {
     "data": {
      "text/html": [
       "<div>\n",
       "<style scoped>\n",
       "    .dataframe tbody tr th:only-of-type {\n",
       "        vertical-align: middle;\n",
       "    }\n",
       "\n",
       "    .dataframe tbody tr th {\n",
       "        vertical-align: top;\n",
       "    }\n",
       "\n",
       "    .dataframe thead th {\n",
       "        text-align: right;\n",
       "    }\n",
       "</style>\n",
       "<table border=\"1\" class=\"dataframe\">\n",
       "  <thead>\n",
       "    <tr style=\"text-align: right;\">\n",
       "      <th></th>\n",
       "      <th>Temp</th>\n",
       "    </tr>\n",
       "  </thead>\n",
       "  <tbody>\n",
       "    <tr>\n",
       "      <th>0</th>\n",
       "      <td>21.06</td>\n",
       "    </tr>\n",
       "    <tr>\n",
       "      <th>1</th>\n",
       "      <td>21.04</td>\n",
       "    </tr>\n",
       "    <tr>\n",
       "      <th>2</th>\n",
       "      <td>21.01</td>\n",
       "    </tr>\n",
       "    <tr>\n",
       "      <th>3</th>\n",
       "      <td>20.98</td>\n",
       "    </tr>\n",
       "    <tr>\n",
       "      <th>4</th>\n",
       "      <td>20.94</td>\n",
       "    </tr>\n",
       "    <tr>\n",
       "      <th>...</th>\n",
       "      <td>...</td>\n",
       "    </tr>\n",
       "    <tr>\n",
       "      <th>12824</th>\n",
       "      <td>20.28</td>\n",
       "    </tr>\n",
       "    <tr>\n",
       "      <th>12825</th>\n",
       "      <td>20.90</td>\n",
       "    </tr>\n",
       "    <tr>\n",
       "      <th>12826</th>\n",
       "      <td>21.43</td>\n",
       "    </tr>\n",
       "    <tr>\n",
       "      <th>12827</th>\n",
       "      <td>21.82</td>\n",
       "    </tr>\n",
       "    <tr>\n",
       "      <th>12828</th>\n",
       "      <td>21.98</td>\n",
       "    </tr>\n",
       "  </tbody>\n",
       "</table>\n",
       "<p>12829 rows × 1 columns</p>\n",
       "</div>"
      ],
      "text/plain": [
       "       Temp \n",
       "0      21.06\n",
       "1      21.04\n",
       "2      21.01\n",
       "3      20.98\n",
       "4      20.94\n",
       "...      ...\n",
       "12824  20.28\n",
       "12825  20.90\n",
       "12826  21.43\n",
       "12827  21.82\n",
       "12828  21.98\n",
       "\n",
       "[12829 rows x 1 columns]"
      ]
     },
     "execution_count": 53,
     "metadata": {},
     "output_type": "execute_result"
    }
   ],
   "source": [
    "y_train"
   ]
  },
  {
   "cell_type": "code",
   "execution_count": 47,
   "id": "620a12d7",
   "metadata": {},
   "outputs": [
    {
     "data": {
      "text/plain": [
       "Temp     0\n",
       "dtype: int64"
      ]
     },
     "execution_count": 47,
     "metadata": {},
     "output_type": "execute_result"
    }
   ],
   "source": [
    "y_train.isna().sum()"
   ]
  },
  {
   "cell_type": "code",
   "execution_count": 48,
   "id": "7677b6a9",
   "metadata": {},
   "outputs": [
    {
     "data": {
      "text/html": [
       "<div>\n",
       "<style scoped>\n",
       "    .dataframe tbody tr th:only-of-type {\n",
       "        vertical-align: middle;\n",
       "    }\n",
       "\n",
       "    .dataframe tbody tr th {\n",
       "        vertical-align: top;\n",
       "    }\n",
       "\n",
       "    .dataframe thead th {\n",
       "        text-align: right;\n",
       "    }\n",
       "</style>\n",
       "<table border=\"1\" class=\"dataframe\">\n",
       "  <thead>\n",
       "    <tr style=\"text-align: right;\">\n",
       "      <th></th>\n",
       "      <th>Temp</th>\n",
       "    </tr>\n",
       "  </thead>\n",
       "  <tbody>\n",
       "    <tr>\n",
       "      <th>0</th>\n",
       "      <td>21.06</td>\n",
       "    </tr>\n",
       "    <tr>\n",
       "      <th>1</th>\n",
       "      <td>21.04</td>\n",
       "    </tr>\n",
       "    <tr>\n",
       "      <th>2</th>\n",
       "      <td>21.01</td>\n",
       "    </tr>\n",
       "    <tr>\n",
       "      <th>3</th>\n",
       "      <td>20.98</td>\n",
       "    </tr>\n",
       "    <tr>\n",
       "      <th>4</th>\n",
       "      <td>20.94</td>\n",
       "    </tr>\n",
       "    <tr>\n",
       "      <th>...</th>\n",
       "      <td>...</td>\n",
       "    </tr>\n",
       "    <tr>\n",
       "      <th>12799</th>\n",
       "      <td>21.76</td>\n",
       "    </tr>\n",
       "    <tr>\n",
       "      <th>12800</th>\n",
       "      <td>22.16</td>\n",
       "    </tr>\n",
       "    <tr>\n",
       "      <th>12801</th>\n",
       "      <td>22.60</td>\n",
       "    </tr>\n",
       "    <tr>\n",
       "      <th>12802</th>\n",
       "      <td>22.84</td>\n",
       "    </tr>\n",
       "    <tr>\n",
       "      <th>12803</th>\n",
       "      <td>22.91</td>\n",
       "    </tr>\n",
       "  </tbody>\n",
       "</table>\n",
       "<p>12804 rows × 1 columns</p>\n",
       "</div>"
      ],
      "text/plain": [
       "       Temp \n",
       "0      21.06\n",
       "1      21.04\n",
       "2      21.01\n",
       "3      20.98\n",
       "4      20.94\n",
       "...      ...\n",
       "12799  21.76\n",
       "12800  22.16\n",
       "12801  22.60\n",
       "12802  22.84\n",
       "12803  22.91\n",
       "\n",
       "[12804 rows x 1 columns]"
      ]
     },
     "execution_count": 48,
     "metadata": {},
     "output_type": "execute_result"
    }
   ],
   "source": [
    "y_train.interpolate()"
   ]
  },
  {
   "cell_type": "code",
   "execution_count": 49,
   "id": "c3ea220b",
   "metadata": {},
   "outputs": [
    {
     "name": "stderr",
     "output_type": "stream",
     "text": [
      "C:\\Users\\Ehlimana\\anaconda3\\envs\\Ehlimana\\lib\\site-packages\\statsmodels\\tsa\\arima_model.py:472: FutureWarning: \n",
      "statsmodels.tsa.arima_model.ARMA and statsmodels.tsa.arima_model.ARIMA have\n",
      "been deprecated in favor of statsmodels.tsa.arima.model.ARIMA (note the .\n",
      "between arima and model) and\n",
      "statsmodels.tsa.SARIMAX. These will be removed after the 0.12 release.\n",
      "\n",
      "statsmodels.tsa.arima.model.ARIMA makes use of the statespace framework and\n",
      "is both well tested and maintained.\n",
      "\n",
      "To silence this warning and continue using ARMA and ARIMA until they are\n",
      "removed, use:\n",
      "\n",
      "import warnings\n",
      "warnings.filterwarnings('ignore', 'statsmodels.tsa.arima_model.ARMA',\n",
      "                        FutureWarning)\n",
      "warnings.filterwarnings('ignore', 'statsmodels.tsa.arima_model.ARIMA',\n",
      "                        FutureWarning)\n",
      "\n",
      "  warnings.warn(ARIMA_DEPRECATION_WARN, FutureWarning)\n"
     ]
    },
    {
     "name": "stdout",
     "output_type": "stream",
     "text": [
      "RMSE: 2.1662073085433136\n"
     ]
    }
   ],
   "source": [
    "# Fit model\n",
    "model = ARIMA(y_train.interpolate(), order=(2,0,1))\n",
    "model_fit = model.fit()\n",
    "\n",
    "# Prediction with ARIMA\n",
    "y_pred, se, conf = model_fit.forecast(2260)\n",
    "\n",
    "# Calcuate metrics\n",
    "score_mae = mean_absolute_error(y_valid, y_pred)\n",
    "score_rmse = math.sqrt(mean_squared_error(y_valid, y_pred))\n",
    "\n",
    "print('RMSE: {}'.format(score_rmse))"
   ]
  },
  {
   "cell_type": "code",
   "execution_count": 50,
   "id": "be057357",
   "metadata": {},
   "outputs": [
    {
     "name": "stdout",
     "output_type": "stream",
     "text": [
      "Performing stepwise search to minimize aic\n",
      " ARIMA(1,0,1)(0,0,0)[0]             : AIC=4900.666, Time=1.76 sec\n",
      " ARIMA(0,0,0)(0,0,0)[0]             : AIC=114127.760, Time=0.16 sec\n",
      " ARIMA(1,0,0)(0,0,0)[0]             : AIC=inf, Time=0.78 sec\n",
      " ARIMA(0,0,1)(0,0,0)[0]             : AIC=inf, Time=2.31 sec\n",
      " ARIMA(2,0,1)(0,0,0)[0]             : AIC=4313.949, Time=2.03 sec\n",
      " ARIMA(2,0,0)(0,0,0)[0]             : AIC=inf, Time=0.58 sec\n",
      " ARIMA(3,0,1)(0,0,0)[0]             : AIC=4308.919, Time=4.73 sec\n",
      " ARIMA(3,0,0)(0,0,0)[0]             : AIC=inf, Time=6.18 sec\n",
      " ARIMA(3,0,2)(0,0,0)[0]             : AIC=inf, Time=17.94 sec\n",
      " ARIMA(2,0,2)(0,0,0)[0]             : AIC=4303.476, Time=3.51 sec\n",
      " ARIMA(1,0,2)(0,0,0)[0]             : AIC=4446.394, Time=2.01 sec\n",
      " ARIMA(2,0,3)(0,0,0)[0]             : AIC=4300.089, Time=7.37 sec\n",
      " ARIMA(1,0,3)(0,0,0)[0]             : AIC=4303.523, Time=2.74 sec\n",
      " ARIMA(3,0,3)(0,0,0)[0]             : AIC=4308.175, Time=20.66 sec\n",
      " ARIMA(2,0,3)(0,0,0)[0] intercept   : AIC=3848.341, Time=28.90 sec\n",
      " ARIMA(1,0,3)(0,0,0)[0] intercept   : AIC=3935.378, Time=25.84 sec\n",
      " ARIMA(2,0,2)(0,0,0)[0] intercept   : AIC=3846.398, Time=19.79 sec\n",
      " ARIMA(1,0,2)(0,0,0)[0] intercept   : AIC=4138.366, Time=17.47 sec\n",
      " ARIMA(2,0,1)(0,0,0)[0] intercept   : AIC=3844.597, Time=19.79 sec\n",
      " ARIMA(1,0,1)(0,0,0)[0] intercept   : AIC=4662.548, Time=12.43 sec\n",
      " ARIMA(2,0,0)(0,0,0)[0] intercept   : AIC=4019.102, Time=2.24 sec\n",
      " ARIMA(3,0,1)(0,0,0)[0] intercept   : AIC=3846.412, Time=27.85 sec\n",
      " ARIMA(1,0,0)(0,0,0)[0] intercept   : AIC=6508.667, Time=1.11 sec\n",
      " ARIMA(3,0,0)(0,0,0)[0] intercept   : AIC=3855.133, Time=2.78 sec\n",
      " ARIMA(3,0,2)(0,0,0)[0] intercept   : AIC=3848.393, Time=22.37 sec\n",
      "\n",
      "Best model:  ARIMA(2,0,1)(0,0,0)[0] intercept\n",
      "Total fit time: 253.377 seconds\n",
      "                               SARIMAX Results                                \n",
      "==============================================================================\n",
      "Dep. Variable:                      y   No. Observations:                12804\n",
      "Model:               SARIMAX(2, 0, 1)   Log Likelihood               -1917.298\n",
      "Date:                Sat, 09 Oct 2021   AIC                           3844.597\n",
      "Time:                        17:59:40   BIC                           3881.884\n",
      "Sample:                             0   HQIC                          3857.065\n",
      "                              - 12804                                         \n",
      "Covariance Type:                  opg                                         \n",
      "==============================================================================\n",
      "                 coef    std err          z      P>|z|      [0.025      0.975]\n",
      "------------------------------------------------------------------------------\n",
      "intercept      0.5973      0.018     33.476      0.000       0.562       0.632\n",
      "ar.L1          1.6055      0.009    170.450      0.000       1.587       1.624\n",
      "ar.L2         -0.6342      0.009    -67.467      0.000      -0.653      -0.616\n",
      "ma.L1         -0.2693      0.010    -26.310      0.000      -0.289      -0.249\n",
      "sigma2         0.0790      0.000    287.056      0.000       0.078       0.080\n",
      "===================================================================================\n",
      "Ljung-Box (L1) (Q):                   0.00   Jarque-Bera (JB):            692255.01\n",
      "Prob(Q):                              0.94   Prob(JB):                         0.00\n",
      "Heteroskedasticity (H):               1.18   Skew:                             1.70\n",
      "Prob(H) (two-sided):                  0.00   Kurtosis:                        38.86\n",
      "===================================================================================\n",
      "\n",
      "Warnings:\n",
      "[1] Covariance matrix calculated using the outer product of gradients (complex-step).\n"
     ]
    }
   ],
   "source": [
    "from statsmodels.tsa.arima_model import ARIMA\n",
    "import pmdarima as pm\n",
    "model = pm.auto_arima(y_train.interpolate(), start_p=1, start_q=1,\n",
    "                      test='adf',       # use adftest to find optimal 'd'\n",
    "                      max_p=3, max_q=3, # maximum p and q\n",
    "                      m=1,              # frequency of series\n",
    "                      d=None,           # let model determine 'd'\n",
    "                      seasonal=False,   # No Seasonality\n",
    "                      start_P=0, \n",
    "                      D=0, \n",
    "                      trace=True,\n",
    "                      error_action='ignore',  \n",
    "                      suppress_warnings=True, \n",
    "                      stepwise=True)\n",
    "\n",
    "print(model.summary())"
   ]
  },
  {
   "cell_type": "code",
   "execution_count": 51,
   "id": "23993af5",
   "metadata": {},
   "outputs": [
    {
     "name": "stderr",
     "output_type": "stream",
     "text": [
      "C:\\Users\\Ehlimana\\anaconda3\\envs\\Ehlimana\\lib\\site-packages\\statsmodels\\graphics\\gofplots.py:993: UserWarning: marker is redundantly defined by the 'marker' keyword argument and the fmt string \"bo\" (-> marker='o'). The keyword argument will take precedence.\n",
      "  ax.plot(x, y, fmt, **plot_style)\n"
     ]
    },
    {
     "data": {
      "image/png": "[encoded data removed]",
      "text/plain": [
       "<Figure size 1600x800 with 4 Axes>"
      ]
     },
     "metadata": {},
     "output_type": "display_data"
    }
   ],
   "source": [
    "model.plot_diagnostics(figsize=(16,8))\n",
    "plt.show()\n"
   ]
  },
  {
   "cell_type": "code",
   "execution_count": 52,
   "id": "e05a68c9",
   "metadata": {},
   "outputs": [
    {
     "data": {
      "image/png": "[encoded data removed]",
      "text/plain": [
       "<Figure size 1500x600 with 1 Axes>"
      ]
     },
     "metadata": {},
     "output_type": "display_data"
    }
   ],
   "source": [
    "f, ax = plt.subplots(1)\n",
    "f.set_figheight(6)\n",
    "f.set_figwidth(15)\n",
    "\n",
    "model_fit.plot_predict(1, 2270, ax=ax)\n",
    "sns.lineplot(x=x_valid.index, y=y_valid['Temp '], ax=ax, color='orange', label='Ground truth') #navajowhite\n",
    "\n",
    "ax.set_title(f'Prediction \\n MAE: {score_mae:.2f}, RMSE: {score_rmse:.2f}', fontsize=14)\n",
    "ax.set_xlabel(xlabel='Date', fontsize=14)\n",
    "ax.set_ylabel(ylabel='Depth to Groundwater', fontsize=14)\n",
    "\n",
    "plt.show()"
   ]
  },
  {
   "cell_type": "code",
   "execution_count": 53,
   "id": "406d0504",
   "metadata": {},
   "outputs": [],
   "source": [
    "#univariate_df[\"Datum i vrijeme\"]=aa\n",
    "#univariate_df=pd.DataFrame()\n",
    "#univariate_df[\"Temp.senzor vanj.1 25000099Temperatura (°C)\"]=feat_and_lab_1[\"Temp.senzor vanj.1 25000099Temperatura (°C)\"].values\n",
    "#univariate_df['T pol (t-1)']=feat_and_lab['T pol (t-1)'].values\n",
    "#univariate_df['T pov (t-1)']=feat_and_lab['T pov (t-1)'].values\n",
    "#univariate_df['T vanj(t-1)']=feat_and_lab['T vanj(t-1)'].values\n",
    "#univariate_df['T prost (t-1)']=feat_and_lab['T prost (t-1)'].values\n",
    "#univariate_df['Grijanje_K1']=feat_and_lab['Grijanje_K1'].values\n",
    "#univariate_df[ 'Broj sati grijanja']=feat_and_lab[ 'Broj sati grijanja_K1'].values\n",
    "#univariate_df[ 'Negrijano']=feat_and_lab[ 'Negrijano'].values\n",
    "#univariate_df[ 'Sat']=feat_and_lab[ 'Sat'].values\n",
    "#univariate_df[ 'Dan u sedmici']=feat_and_lab[ 'Dan u sedmici'].values\n",
    "#univariate_df[  'Mjesec']=feat_and_lab[ 'Mjesec'].values\n",
    "#univariate_df[ 'Godina']=feat_and_lab[ 'Godina'].values\n",
    "#univariate_df[ 'Kvartal']=feat_and_lab[ 'Kvartal'].values\n",
    "#univariate_df[ 'Dan u godini']=feat_and_lab['Dan u godini'].values\n",
    "#univariate_df[ 'Dan u mjesecu']=feat_and_lab[ 'Dan u mjesecu'].values\n",
    "#univariate_df[ 'Datum i vrijeme']=feat_and_lab[ 'Datum i vrijeme'].values\n",
    "\n",
    "#univariate_df[\"Temp \"]=feat_and_lab['Temp.senzor un.4 24004658Temperatura (°C)'].values\n",
    "\n",
    "\n",
    "\n",
    "#univariate_df[\"Plin, m3\"]=feat_and_lab_1[\"Plin, m3\"].values"
   ]
  },
  {
   "cell_type": "code",
   "execution_count": 59,
   "id": "d0316b9e",
   "metadata": {},
   "outputs": [
    {
     "data": {
      "text/html": [
       "<div>\n",
       "<style scoped>\n",
       "    .dataframe tbody tr th:only-of-type {\n",
       "        vertical-align: middle;\n",
       "    }\n",
       "\n",
       "    .dataframe tbody tr th {\n",
       "        vertical-align: top;\n",
       "    }\n",
       "\n",
       "    .dataframe thead th {\n",
       "        text-align: right;\n",
       "    }\n",
       "</style>\n",
       "<table border=\"1\" class=\"dataframe\">\n",
       "  <thead>\n",
       "    <tr style=\"text-align: right;\">\n",
       "      <th></th>\n",
       "      <th>Datum i vrijeme</th>\n",
       "      <th>Temp.senzor un.4(t-1)</th>\n",
       "      <th>Sat</th>\n",
       "      <th>Praznik</th>\n",
       "      <th>Radni sati</th>\n",
       "      <th>Temp</th>\n",
       "    </tr>\n",
       "  </thead>\n",
       "  <tbody>\n",
       "    <tr>\n",
       "      <th>0</th>\n",
       "      <td>2015-10-01 01:00:00</td>\n",
       "      <td>21.11</td>\n",
       "      <td>1</td>\n",
       "      <td>0.0</td>\n",
       "      <td>0.0</td>\n",
       "      <td>21.06</td>\n",
       "    </tr>\n",
       "    <tr>\n",
       "      <th>1</th>\n",
       "      <td>2015-10-01 02:00:00</td>\n",
       "      <td>21.06</td>\n",
       "      <td>2</td>\n",
       "      <td>0.0</td>\n",
       "      <td>0.0</td>\n",
       "      <td>21.04</td>\n",
       "    </tr>\n",
       "    <tr>\n",
       "      <th>2</th>\n",
       "      <td>2015-10-01 03:00:00</td>\n",
       "      <td>21.04</td>\n",
       "      <td>3</td>\n",
       "      <td>0.0</td>\n",
       "      <td>0.0</td>\n",
       "      <td>21.01</td>\n",
       "    </tr>\n",
       "    <tr>\n",
       "      <th>3</th>\n",
       "      <td>2015-10-01 04:00:00</td>\n",
       "      <td>21.01</td>\n",
       "      <td>4</td>\n",
       "      <td>0.0</td>\n",
       "      <td>0.0</td>\n",
       "      <td>20.98</td>\n",
       "    </tr>\n",
       "    <tr>\n",
       "      <th>4</th>\n",
       "      <td>2015-10-01 05:00:00</td>\n",
       "      <td>20.98</td>\n",
       "      <td>5</td>\n",
       "      <td>0.0</td>\n",
       "      <td>0.0</td>\n",
       "      <td>20.94</td>\n",
       "    </tr>\n",
       "    <tr>\n",
       "      <th>...</th>\n",
       "      <td>...</td>\n",
       "      <td>...</td>\n",
       "      <td>...</td>\n",
       "      <td>...</td>\n",
       "      <td>...</td>\n",
       "      <td>...</td>\n",
       "    </tr>\n",
       "    <tr>\n",
       "      <th>15059</th>\n",
       "      <td>2018-04-27 13:00:00</td>\n",
       "      <td>25.56</td>\n",
       "      <td>13</td>\n",
       "      <td>0.0</td>\n",
       "      <td>0.0</td>\n",
       "      <td>25.33</td>\n",
       "    </tr>\n",
       "    <tr>\n",
       "      <th>15060</th>\n",
       "      <td>2018-04-27 14:00:00</td>\n",
       "      <td>25.33</td>\n",
       "      <td>14</td>\n",
       "      <td>0.0</td>\n",
       "      <td>0.0</td>\n",
       "      <td>25.18</td>\n",
       "    </tr>\n",
       "    <tr>\n",
       "      <th>15061</th>\n",
       "      <td>2018-04-27 15:00:00</td>\n",
       "      <td>25.18</td>\n",
       "      <td>15</td>\n",
       "      <td>0.0</td>\n",
       "      <td>0.0</td>\n",
       "      <td>25.36</td>\n",
       "    </tr>\n",
       "    <tr>\n",
       "      <th>15062</th>\n",
       "      <td>2018-04-27 16:00:00</td>\n",
       "      <td>25.36</td>\n",
       "      <td>16</td>\n",
       "      <td>0.0</td>\n",
       "      <td>0.0</td>\n",
       "      <td>25.38</td>\n",
       "    </tr>\n",
       "    <tr>\n",
       "      <th>15063</th>\n",
       "      <td>2018-04-27 17:00:00</td>\n",
       "      <td>25.38</td>\n",
       "      <td>17</td>\n",
       "      <td>0.0</td>\n",
       "      <td>0.0</td>\n",
       "      <td>25.34</td>\n",
       "    </tr>\n",
       "  </tbody>\n",
       "</table>\n",
       "<p>15064 rows × 6 columns</p>\n",
       "</div>"
      ],
      "text/plain": [
       "          Datum i vrijeme  Temp.senzor un.4(t-1)  Sat  Praznik  Radni sati  \\\n",
       "0     2015-10-01 01:00:00                  21.11    1      0.0         0.0   \n",
       "1     2015-10-01 02:00:00                  21.06    2      0.0         0.0   \n",
       "2     2015-10-01 03:00:00                  21.04    3      0.0         0.0   \n",
       "3     2015-10-01 04:00:00                  21.01    4      0.0         0.0   \n",
       "4     2015-10-01 05:00:00                  20.98    5      0.0         0.0   \n",
       "...                   ...                    ...  ...      ...         ...   \n",
       "15059 2018-04-27 13:00:00                  25.56   13      0.0         0.0   \n",
       "15060 2018-04-27 14:00:00                  25.33   14      0.0         0.0   \n",
       "15061 2018-04-27 15:00:00                  25.18   15      0.0         0.0   \n",
       "15062 2018-04-27 16:00:00                  25.36   16      0.0         0.0   \n",
       "15063 2018-04-27 17:00:00                  25.38   17      0.0         0.0   \n",
       "\n",
       "       Temp   \n",
       "0      21.06  \n",
       "1      21.04  \n",
       "2      21.01  \n",
       "3      20.98  \n",
       "4      20.94  \n",
       "...      ...  \n",
       "15059  25.33  \n",
       "15060  25.18  \n",
       "15061  25.36  \n",
       "15062  25.38  \n",
       "15063  25.34  \n",
       "\n",
       "[15064 rows x 6 columns]"
      ]
     },
     "execution_count": 59,
     "metadata": {},
     "output_type": "execute_result"
    }
   ],
   "source": [
    "univariate_df"
   ]
  },
  {
   "cell_type": "code",
   "execution_count": 60,
   "id": "88404759",
   "metadata": {},
   "outputs": [
    {
     "data": {
      "text/plain": [
       "Index(['Datum i vrijeme', 'Temp.senzor un.4(t-1)', 'Sat', 'Praznik',\n",
       "       'Radni sati', 'Temp '],\n",
       "      dtype='object')"
      ]
     },
     "execution_count": 60,
     "metadata": {},
     "output_type": "execute_result"
    }
   ],
   "source": [
    "univariate_df.columns"
   ]
  },
  {
   "cell_type": "code",
   "execution_count": 61,
   "id": "1f15e851",
   "metadata": {},
   "outputs": [],
   "source": [
    "feature_columns = [#'Temp.senzor un.6 (t-1)', \n",
    "    'Temp.senzor un.4(t-1)', 'Sat',\n",
    "       #'Dan u sedmici', 'Mjesec', 'Godina', 'Kvartal', 'Dan u godini',\n",
    "       #'Dan u mjesecu',\n",
    "    \"Datum i vrijeme\" ,'Praznik', 'Radni sati', ]\n",
    "target_column = ['Temp ']\n"
   ]
  },
  {
   "cell_type": "code",
   "execution_count": 62,
   "id": "27e19246",
   "metadata": {},
   "outputs": [
    {
     "data": {
      "text/html": [
       "<div>\n",
       "<style scoped>\n",
       "    .dataframe tbody tr th:only-of-type {\n",
       "        vertical-align: middle;\n",
       "    }\n",
       "\n",
       "    .dataframe tbody tr th {\n",
       "        vertical-align: top;\n",
       "    }\n",
       "\n",
       "    .dataframe thead th {\n",
       "        text-align: right;\n",
       "    }\n",
       "</style>\n",
       "<table border=\"1\" class=\"dataframe\">\n",
       "  <thead>\n",
       "    <tr style=\"text-align: right;\">\n",
       "      <th></th>\n",
       "      <th>ds</th>\n",
       "      <th>y</th>\n",
       "      <th>Temp.senzor un.4(t-1)</th>\n",
       "      <th>Sat</th>\n",
       "      <th>Praznik</th>\n",
       "      <th>Radni sati</th>\n",
       "    </tr>\n",
       "  </thead>\n",
       "  <tbody>\n",
       "    <tr>\n",
       "      <th>0</th>\n",
       "      <td>2015-10-01 01:00:00</td>\n",
       "      <td>21.06</td>\n",
       "      <td>21.11</td>\n",
       "      <td>1</td>\n",
       "      <td>0.0</td>\n",
       "      <td>0.0</td>\n",
       "    </tr>\n",
       "    <tr>\n",
       "      <th>1</th>\n",
       "      <td>2015-10-01 02:00:00</td>\n",
       "      <td>21.04</td>\n",
       "      <td>21.06</td>\n",
       "      <td>2</td>\n",
       "      <td>0.0</td>\n",
       "      <td>0.0</td>\n",
       "    </tr>\n",
       "    <tr>\n",
       "      <th>2</th>\n",
       "      <td>2015-10-01 03:00:00</td>\n",
       "      <td>21.01</td>\n",
       "      <td>21.04</td>\n",
       "      <td>3</td>\n",
       "      <td>0.0</td>\n",
       "      <td>0.0</td>\n",
       "    </tr>\n",
       "    <tr>\n",
       "      <th>3</th>\n",
       "      <td>2015-10-01 04:00:00</td>\n",
       "      <td>20.98</td>\n",
       "      <td>21.01</td>\n",
       "      <td>4</td>\n",
       "      <td>0.0</td>\n",
       "      <td>0.0</td>\n",
       "    </tr>\n",
       "    <tr>\n",
       "      <th>4</th>\n",
       "      <td>2015-10-01 05:00:00</td>\n",
       "      <td>20.94</td>\n",
       "      <td>20.98</td>\n",
       "      <td>5</td>\n",
       "      <td>0.0</td>\n",
       "      <td>0.0</td>\n",
       "    </tr>\n",
       "  </tbody>\n",
       "</table>\n",
       "</div>"
      ],
      "text/plain": [
       "                   ds      y  Temp.senzor un.4(t-1)  Sat  Praznik  Radni sati\n",
       "0 2015-10-01 01:00:00  21.06                  21.11    1      0.0         0.0\n",
       "1 2015-10-01 02:00:00  21.04                  21.06    2      0.0         0.0\n",
       "2 2015-10-01 03:00:00  21.01                  21.04    3      0.0         0.0\n",
       "3 2015-10-01 04:00:00  20.98                  21.01    4      0.0         0.0\n",
       "4 2015-10-01 05:00:00  20.94                  20.98    5      0.0         0.0"
      ]
     },
     "execution_count": 62,
     "metadata": {},
     "output_type": "execute_result"
    }
   ],
   "source": [
    "\n",
    "train_size = int(0.85 * len(univariate_df))\n",
    "\n",
    "multivariate_df = univariate_df[['Datum i vrijeme','Temp ',#'Temp.senzor un.6 (t-1)',\n",
    "                                 'Temp.senzor un.4(t-1)',\n",
    " 'Sat',\n",
    " #'Dan u sedmici', 'Mjesec', 'Godina', 'Kvartal', 'Dan u godini',\n",
    "       #'Dan u mjesecu',\n",
    "                                 \"Praznik\", 'Radni sati']].copy()\n",
    "multivariate_df.columns = ['ds', 'y',#'Temp.senzor un.6 (t-1)',\n",
    "                           'Temp.senzor un.4(t-1)',\n",
    " 'Sat',\n",
    "                           #'Dan u sedmici', 'Mjesec', 'Godina', 'Kvartal', 'Dan u godini',\n",
    "     #  'Dan u mjesecu',\n",
    "                           \"Praznik\", 'Radni sati']\n",
    "\n",
    "train = multivariate_df.iloc[:train_size, :]\n",
    "train.interpolate(\"bfill\")\n",
    "x_train, y_train = pd.DataFrame(multivariate_df.iloc[:train_size, [0,2,3,4,5]]), pd.DataFrame(multivariate_df.iloc[:train_size, 1])\n",
    "x_valid, y_valid = pd.DataFrame(multivariate_df.iloc[train_size:, [0,2,3,4,5]]), pd.DataFrame(multivariate_df.iloc[train_size:, 1])\n",
    "\n",
    "train.head()\n"
   ]
  },
  {
   "cell_type": "code",
   "execution_count": 63,
   "id": "9dc9d3da",
   "metadata": {},
   "outputs": [
    {
     "name": "stdout",
     "output_type": "stream",
     "text": [
      "RMSE: 0.2675702926926881\n"
     ]
    }
   ],
   "source": [
    "# Train the model\n",
    "\n",
    "\n",
    "from fbprophet import Prophet\n",
    "\n",
    "\n",
    "# Train the model\n",
    "model = Prophet()\n",
    "\n",
    "#model.add_regressor('Temp.senzor un.6 (t-1)')\n",
    "model.add_regressor('Temp.senzor un.4(t-1)')\n",
    "model.add_regressor('Sat')\n",
    "#model.add_regressor('Dan u sedmici')\n",
    "#model.add_regressor('Mjesec')\n",
    "#model.add_regressor('Godina')\n",
    "#model.add_regressor('Kvartal')\n",
    "#model.add_regressor('Dan u godini')\n",
    "#model.add_regressor('Dan u mjesecu')\n",
    "\n",
    "model.add_regressor(\"Praznik\")\n",
    "model.add_regressor('Radni sati') \n",
    "\n",
    "# Fit the model with train set\n",
    "model.fit(train)\n",
    "\n",
    "# Predict on valid set\n",
    "y_pred = model.predict(x_valid)\n",
    "\n",
    "# Calcuate metrics\n",
    "score_mae = mean_absolute_error(y_valid, y_pred['yhat'])\n",
    "score_rmse = math.sqrt(mean_squared_error(y_valid, y_pred['yhat']))\n",
    "\n",
    "print('RMSE: {}'.format(score_rmse))"
   ]
  },
  {
   "cell_type": "code",
   "execution_count": 65,
   "id": "857bddc7",
   "metadata": {},
   "outputs": [
    {
     "data": {
      "text/plain": [
       "array([[-0.33790738],\n",
       "       [-0.33905089],\n",
       "       [-0.34076615],\n",
       "       [-0.34248142],\n",
       "       [-0.34476844],\n",
       "       [-0.34591195],\n",
       "       [-0.34762722],\n",
       "       [-0.34991424],\n",
       "       [-0.34877073],\n",
       "       [-0.34705546]])"
      ]
     },
     "execution_count": 65,
     "metadata": {},
     "output_type": "execute_result"
    }
   ],
   "source": [
    "from sklearn.preprocessing import MinMaxScaler\n",
    "\n",
    "data = multivariate_df.filter(['y'])\n",
    "#Convert the dataframe to a numpy array\n",
    "dataset = data.values\n",
    "\n",
    "scaler = MinMaxScaler(feature_range=(-1, 0))\n",
    "scaled_data = scaler.fit_transform(dataset)\n",
    "\n",
    "scaled_data[:10]"
   ]
  },
  {
   "cell_type": "code",
   "execution_count": 76,
   "id": "55a3c538",
   "metadata": {},
   "outputs": [],
   "source": [
    "look_back = 1\n",
    "train_size = int(0.85 * len(scaled_data))\n",
    "test_size = len(scaled_data) - train_size\n",
    "\n",
    "train, test = scaled_data[:train_size-look_back,:], scaled_data[train_size-look_back:,:]"
   ]
  },
  {
   "cell_type": "code",
   "execution_count": 77,
   "id": "064f54af",
   "metadata": {},
   "outputs": [],
   "source": [
    "def create_dataset(dataset, look_back=1):\n",
    "    X, Y = [], []\n",
    "    for i in range(look_back, len(dataset)):\n",
    "        a = dataset[i-look_back:i, 0]\n",
    "        X.append(a)\n",
    "        Y.append(dataset[i, 0])\n",
    "    return np.array(X), np.array(Y)\n",
    "\n",
    "x_train, y_train = create_dataset(train,1)\n",
    "x_test, y_test = create_dataset(test, 1)\n"
   ]
  },
  {
   "cell_type": "code",
   "execution_count": 78,
   "id": "85c03404",
   "metadata": {},
   "outputs": [
    {
     "name": "stdout",
     "output_type": "stream",
     "text": [
      "12802 2260\n"
     ]
    }
   ],
   "source": [
    "# reshape input to be [samples, time steps, features]\n",
    "x_train = np.reshape(x_train, (x_train.shape[0], 1, x_train.shape[1]))\n",
    "x_test = np.reshape(x_test, (x_test.shape[0], 1, x_test.shape[1]))\n",
    "\n",
    "print(len(x_train), len(x_test))"
   ]
  },
  {
   "cell_type": "code",
   "execution_count": null,
   "id": "7a124c50",
   "metadata": {},
   "outputs": [],
   "source": [
    "# reshape input to be [samples, time steps, features]\n",
    "\n",
    "x_train = np.reshape(x_train, (x_train.shape[0], 1, x_train.shape[1]))\n",
    "x_test = np.reshape(x_test, (x_test.shape[0], 1, 0))\n",
    "\n",
    "print(len(x_train), len(x_test))"
   ]
  },
  {
   "cell_type": "code",
   "execution_count": 79,
   "id": "ba7c0db6",
   "metadata": {},
   "outputs": [
    {
     "name": "stderr",
     "output_type": "stream",
     "text": [
      "WARNING:tensorflow:Model was constructed with shape (None, 12802, 1) for input KerasTensor(type_spec=TensorSpec(shape=(None, 12802, 1), dtype=tf.float32, name='lstm_2_input'), name='lstm_2_input', description=\"created by layer 'lstm_2_input'\"), but it was called on an input with incompatible shape (1, 1, 1).\n"
     ]
    },
    {
     "name": "stdout",
     "output_type": "stream",
     "text": [
      "Epoch 1/5\n"
     ]
    },
    {
     "name": "stderr",
     "output_type": "stream",
     "text": [
      "WARNING:tensorflow:Model was constructed with shape (None, 12802, 1) for input KerasTensor(type_spec=TensorSpec(shape=(None, 12802, 1), dtype=tf.float32, name='lstm_2_input'), name='lstm_2_input', description=\"created by layer 'lstm_2_input'\"), but it was called on an input with incompatible shape (1, 1, 1).\n"
     ]
    },
    {
     "name": "stdout",
     "output_type": "stream",
     "text": [
      "12797/12802 [============================>.] - ETA: 0s - loss: 6.8494e-04"
     ]
    },
    {
     "name": "stderr",
     "output_type": "stream",
     "text": [
      "WARNING:tensorflow:Model was constructed with shape (None, 12802, 1) for input KerasTensor(type_spec=TensorSpec(shape=(None, 12802, 1), dtype=tf.float32, name='lstm_2_input'), name='lstm_2_input', description=\"created by layer 'lstm_2_input'\"), but it was called on an input with incompatible shape (1, 1, 1).\n"
     ]
    },
    {
     "name": "stdout",
     "output_type": "stream",
     "text": [
      "12802/12802 [==============================] - 69s 5ms/step - loss: 6.8468e-04 - val_loss: 516.6784\n",
      "Epoch 2/5\n",
      "12802/12802 [==============================] - 63s 5ms/step - loss: 4.6490e-04 - val_loss: 515.9976\n",
      "Epoch 3/5\n",
      "12802/12802 [==============================] - 62s 5ms/step - loss: 4.3730e-04 - val_loss: 516.6555\n",
      "Epoch 4/5\n",
      "12802/12802 [==============================] - 62s 5ms/step - loss: 4.1153e-04 - val_loss: 516.3453\n",
      "Epoch 5/5\n",
      "12802/12802 [==============================] - 63s 5ms/step - loss: 4.0819e-04 - val_loss: 516.3394\n",
      "Model: \"sequential_1\"\n",
      "_________________________________________________________________\n",
      "Layer (type)                 Output Shape              Param #   \n",
      "=================================================================\n",
      "lstm_2 (LSTM)                (None, 12802, 128)        66560     \n",
      "_________________________________________________________________\n",
      "lstm_3 (LSTM)                (None, 64)                49408     \n",
      "_________________________________________________________________\n",
      "dense_2 (Dense)              (None, 25)                1625      \n",
      "_________________________________________________________________\n",
      "dense_3 (Dense)              (None, 1)                 26        \n",
      "=================================================================\n",
      "Total params: 117,619\n",
      "Trainable params: 117,619\n",
      "Non-trainable params: 0\n",
      "_________________________________________________________________\n"
     ]
    }
   ],
   "source": [
    "from tensorflow import keras\n",
    "from tensorflow.keras.models import Sequential\n",
    "from tensorflow.keras.layers import Dense, LSTM\n",
    "\n",
    "model = Sequential()\n",
    "model.add(LSTM(128, return_sequences=True, input_shape=(x_train.shape[0], x_train.shape[1])))\n",
    "model.add(LSTM(64, return_sequences=False))\n",
    "model.add(Dense(25))\n",
    "model.add(Dense(1))\n",
    "\n",
    "# Compile the model\n",
    "model.compile(optimizer='adam', loss='mean_squared_error')\n",
    "\n",
    "#Train the model\n",
    "model.fit(x_train, y_train, batch_size=1, epochs=5, validation_data=(x_test, y_valid))\n",
    "\n",
    "model.summary()"
   ]
  },
  {
   "cell_type": "code",
   "execution_count": 80,
   "id": "5b283757",
   "metadata": {},
   "outputs": [
    {
     "name": "stderr",
     "output_type": "stream",
     "text": [
      "WARNING:tensorflow:Model was constructed with shape (None, 12802, 1) for input KerasTensor(type_spec=TensorSpec(shape=(None, 12802, 1), dtype=tf.float32, name='lstm_2_input'), name='lstm_2_input', description=\"created by layer 'lstm_2_input'\"), but it was called on an input with incompatible shape (None, 1, 1).\n"
     ]
    },
    {
     "name": "stdout",
     "output_type": "stream",
     "text": [
      "RMSE: 0.3764342882723686\n"
     ]
    }
   ],
   "source": [
    "# Lets predict with the model\n",
    "train_predict = model.predict(x_train)\n",
    "test_predict = model.predict(x_test)\n",
    "\n",
    "# invert predictions\n",
    "train_predict = scaler.inverse_transform(train_predict)\n",
    "y_train = scaler.inverse_transform([y_train])\n",
    "\n",
    "test_predict = scaler.inverse_transform(test_predict)\n",
    "y_test = scaler.inverse_transform([y_test])\n",
    "\n",
    "# Get the root mean squared error (RMSE) and MAE\n",
    "score_rmse = np.sqrt(mean_squared_error(y_test[0], test_predict[:,0]))\n",
    "score_mae = mean_absolute_error(y_test[0], test_predict[:,0])\n",
    "print('RMSE: {}'.format(score_rmse))"
   ]
  },
  {
   "cell_type": "code",
   "execution_count": null,
   "id": "5e948f84",
   "metadata": {},
   "outputs": [],
   "source": []
  }
 ],
 "metadata": {
  "kernelspec": {
   "display_name": "Python 3",
   "language": "python",
   "name": "python3"
  },
  "language_info": {
   "codemirror_mode": {
    "name": "ipython",
    "version": 3
   },
   "file_extension": ".py",
   "mimetype": "text/x-python",
   "name": "python",
   "nbconvert_exporter": "python",
   "pygments_lexer": "ipython3",
   "version": "3.8.8"
  }
 },
 "nbformat": 4,
 "nbformat_minor": 5
}
