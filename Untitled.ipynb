{
 "cells": [
  {
   "cell_type": "code",
   "execution_count": null,
   "metadata": {},
   "outputs": [],
   "source": [
    "import os\n",
    "import pandas as pd\n",
    "import numpy as np\n",
    "from datetime import datetime\n",
    "import matplotlib.pyplot as plt\n",
    "import seaborn as sns"
   ]
  },
  {
   "cell_type": "code",
   "execution_count": null,
   "metadata": {},
   "outputs": [],
   "source": [
    "\n",
    "file=pd.read_excel(\"Merged files.xlsx\",header=0)"
   ]
  },
  {
   "cell_type": "code",
   "execution_count": null,
   "metadata": {},
   "outputs": [],
   "source": [
    "file.head(3)"
   ]
  },
  {
   "cell_type": "code",
   "execution_count": null,
   "metadata": {},
   "outputs": [],
   "source": [
    "file['Datum i vrijeme'] = pd.to_datetime(file['Datum i vrijeme'],yearfirst=True)"
   ]
  },
  {
   "cell_type": "code",
   "execution_count": null,
   "metadata": {},
   "outputs": [],
   "source": [
    "#Merged files has been manually modified \n",
    "file[\"Sat\"]=file[\"Datum i vrijeme\"].dt.hour\n",
    "file[\"Dan u sedmici\"]=file[\"Datum i vrijeme\"].dt.dayofweek\n",
    "file[\"Mjesec\"]=file[\"Datum i vrijeme\"].dt.month\n",
    "file[\"Godina\"]=file[\"Datum i vrijeme\"].dt.year\n",
    "file['Kvartal'] =file['Datum i vrijeme'].dt.quarter\n",
    "file['Dan u godini'] =file['Datum i vrijeme'].dt.dayofyear\n",
    "file['Dan u mjesecu'] = file['Datum i vrijeme'].dt.day\n",
    "file['Sedmica'] = file['Datum i vrijeme'].dt.weekofyear"
   ]
  },
  {
   "cell_type": "code",
   "execution_count": null,
   "metadata": {},
   "outputs": [],
   "source": [
    "file.to_excel(\"Merged files_1.xlsx\", index=False)"
   ]
  },
  {
   "cell_type": "code",
   "execution_count": null,
   "metadata": {},
   "outputs": [],
   "source": [
    "file=file.sort_values(by=[\"Godina\",\"Dan u godini\",\"Sat\"])"
   ]
  },
  {
   "cell_type": "code",
   "execution_count": null,
   "metadata": {},
   "outputs": [],
   "source": [
    "X=file[file.columns[46:]].drop(['Plinomjer zap.zgrada 20526377Plin (m3)'],axis=1)"
   ]
  },
  {
   "cell_type": "code",
   "execution_count": null,
   "metadata": {},
   "outputs": [],
   "source": [
    "X.set_index(file[\"Datum i vrijeme\"])"
   ]
  },
  {
   "cell_type": "code",
   "execution_count": null,
   "metadata": {},
   "outputs": [],
   "source": [
    "X[\"Datum i vrijeme\"]=file[\"Datum i vrijeme\"]"
   ]
  },
  {
   "cell_type": "code",
   "execution_count": null,
   "metadata": {},
   "outputs": [],
   "source": [
    "Y=file.loc[:, [\"Plinomjer ist.zgrada 00062313Plin (m3)\", 'Plinomjer zap.zgrada 20526377Plin (m3)']]\n",
    "Y[\"Plinomjer ist.zgrada 00062313Plin (m3)\"]=pd.to_numeric(Y[\"Plinomjer ist.zgrada 00062313Plin (m3)\"],errors=\"coerce\")\n",
    "Y['Plinomjer zap.zgrada 20526377Plin (m3)']=pd.to_numeric(Y['Plinomjer zap.zgrada 20526377Plin (m3)'],errors=\"coerce\")"
   ]
  },
  {
   "cell_type": "code",
   "execution_count": null,
   "metadata": {},
   "outputs": [],
   "source": [
    "Y[\"Plin, m3\"]=pd.to_numeric(file[\"Plinomjer ist.zgrada 00062313Plin (m3)\"])+pd.to_numeric(file['Plinomjer zap.zgrada 20526377Plin (m3)'],errors = 'coerce')"
   ]
  },
  {
   "cell_type": "code",
   "execution_count": null,
   "metadata": {},
   "outputs": [],
   "source": [
    "Z=file.loc[:, ['Kalorimetar 1 39024788Topl.energija (MWh)','Kalorimetar 3 39024787Topl.energija (MWh)']]\n",
    "Z['Kalorimetar 1 39024788Topl.energija (MWh)']=pd.to_numeric(Z['Kalorimetar 1 39024788Topl.energija (MWh)'],errors=\"coerce\")\n",
    "Z[ 'Kalorimetar 3 39024787Topl.energija (MWh)']=pd.to_numeric(Z['Kalorimetar 3 39024787Topl.energija (MWh)'],errors=\"coerce\")\n",
    "\n",
    "Z[\"Kalorimetar, (MWh)\"]=pd.to_numeric(file['Kalorimetar 1 39024788Topl.energija (MWh)'],errors=\"coerce\")+file['Kalorimetar 3 39024787Topl.energija (MWh)']"
   ]
  },
  {
   "cell_type": "code",
   "execution_count": null,
   "metadata": {},
   "outputs": [],
   "source": [
    "feat_and_lab=pd.concat([X,Y,Z],axis=1)"
   ]
  },
  {
   "cell_type": "code",
   "execution_count": null,
   "metadata": {},
   "outputs": [],
   "source": [
    "feat_and_lab.head(2)"
   ]
  },
  {
   "cell_type": "code",
   "execution_count": null,
   "metadata": {},
   "outputs": [],
   "source": [
    "feat_and_lab_1=feat_and_lab.groupby([\"Godina\"]).sum()"
   ]
  },
  {
   "cell_type": "code",
   "execution_count": null,
   "metadata": {},
   "outputs": [],
   "source": [
    "plt.subplot(2,3,1)\n",
    "feat_and_lab_1.plot(y=\"Plinomjer ist.zgrada 00062313Plin (m3)\",kind=\"bar\",ax=plt.gca(),figsize=(17,10))\n",
    "plt.title(\"Plinomjer ist.zgrada 00062313Plin (m3)\")\n",
    "plt.subplot(2,3,2)\n",
    "feat_and_lab_1.plot(y=\"Plinomjer zap.zgrada 20526377Plin (m3)\",kind=\"bar\",ax=plt.gca(),figsize=(17,10))\n",
    "plt.title(\"Plinomjer zap.zgrada 20526377Plin (m3)\")\n",
    "plt.subplot(2,3,3)\n",
    "feat_and_lab_1.plot(y=\"Plin, m3\",kind=\"bar\",ax=plt.gca(),figsize=(17,10))\n",
    "plt.title(\"Plin, m3 - ukupno\")\n",
    "plt.subplot(2,3,4)\n",
    "feat_and_lab_1.plot(y=\"Kalorimetar 1 39024788Topl.energija (MWh)\",kind=\"bar\",ax=plt.gca(),figsize=(17,10))\n",
    "plt.title(\"Kalorimetar 1 39024788Topl.energija (MWh)\")\n",
    "plt.subplot(2,3,5)\n",
    "feat_and_lab_1.plot(y=\"Kalorimetar 3 39024787Topl.energija (MWh)\",kind=\"bar\",ax=plt.gca(),figsize=(17,10))\n",
    "plt.title(\"Kalorimetar 3 39024787Topl.energija (MWh)\")\n",
    "plt.subplot(2,3,6)\n",
    "feat_and_lab_1.plot(y=\"Kalorimetar, (MWh)\",kind=\"bar\",ax=plt.gca(),figsize=(17,10))\n",
    "plt.title(\"Kalorimetar, (MWh)\")\n",
    "plt.show()"
   ]
  },
  {
   "cell_type": "code",
   "execution_count": null,
   "metadata": {},
   "outputs": [],
   "source": [
    "feat_and_lab_2=feat_and_lab.groupby([\"Godina\",\"Mjesec\"]).sum()\n",
    "feat_and_lab_2.head()"
   ]
  },
  {
   "cell_type": "code",
   "execution_count": null,
   "metadata": {},
   "outputs": [],
   "source": [
    "plt.figure()\n",
    "feat_and_lab_2.plot(y=\"Plin, m3\",kind=\"bar\")\n",
    "plt.show()"
   ]
  },
  {
   "cell_type": "code",
   "execution_count": null,
   "metadata": {},
   "outputs": [],
   "source": [
    "feat_and_lab_3=feat_and_lab.groupby([\"Godina\",\"Mjesec\",\"Sat\"]).mean()\n",
    "plt.subplot(1,2,1)\n",
    "feat_and_lab_3.plot(y=\"Temp.senzor vanj.1 25000099Temperatura (°C)\",kind=\"line\",figsize=(15,5),ax=plt.gca())\n",
    "plt.subplot(1,2,2)\n",
    "feat_and_lab_4=feat_and_lab.groupby([\"Sat\"]).mean()\n",
    "feat_and_lab_4.plot(y=\"Temp.senzor vanj.1 25000099Temperatura (°C)\",kind=\"line\",figsize=(15,5),ax=plt.gca())\n",
    "plt.show()"
   ]
  },
  {
   "cell_type": "code",
   "execution_count": null,
   "metadata": {},
   "outputs": [],
   "source": [
    "sns.lineplot(x=feat_and_lab[\"Sat\"],y=feat_and_lab[\"Temp.senzor vanj.1 25000099Temperatura (°C)\"],hue=feat_and_lab[\"Godina\"],ci=False)\n",
    "plt.show()"
   ]
  },
  {
   "cell_type": "code",
   "execution_count": null,
   "metadata": {},
   "outputs": [],
   "source": [
    "f, ax = plt.subplots(nrows=1, ncols=2, figsize=(15, 7))\n",
    "sns.lineplot(x=feat_and_lab[\"Sat\"],y=feat_and_lab[\"Plin, m3\"],hue=feat_and_lab[\"Godina\"],ci=False,ax=ax[0])\n",
    "sns.lineplot(x=feat_and_lab[\"Sat\"],y=feat_and_lab[\"Kalorimetar, (MWh)\"],hue=feat_and_lab[\"Godina\"],ci=False,ax=ax[1])\n",
    "plt.show()"
   ]
  },
  {
   "cell_type": "code",
   "execution_count": null,
   "metadata": {},
   "outputs": [],
   "source": [
    "feat_and_lab_3=feat_and_lab.groupby([\"Sat\"]).sum()\n",
    "plt.subplot(1,2,1)\n",
    "feat_and_lab_3.plot(y=\"Plin, m3\",kind=\"line\",figsize=(7,5),ax=plt.gca())\n",
    "plt.ylabel(\"Plin, m3\")\n",
    "plt.subplot(1,2,2)\n",
    "feat_and_lab_3.plot(y=\"Kalorimetar 3 39024787Topl.energija (MWh)\",kind=\"line\",figsize=(15,5),ax=plt.gca())\n",
    "plt.ylabel(\"Kalorimetar 3 39024787Topl.energija (MWh)\")\n",
    "plt.show()"
   ]
  },
  {
   "cell_type": "code",
   "execution_count": null,
   "metadata": {},
   "outputs": [],
   "source": [
    "f, ax = plt.subplots(nrows=7, ncols=1, figsize=(15, 30))\n",
    "columns=[\"Temp.senzor vanj.1 25000099Temperatura (°C)\",\"Plinomjer ist.zgrada 00062313Plin (m3)\",\"Plinomjer zap.zgrada 20526377Plin (m3)\",\"Plin, m3\",\"Kalorimetar 1 39024788Topl.energija (MWh)\",\"Kalorimetar 3 39024787Topl.energija (MWh)\",\"Kalorimetar, (MWh)\"]\n",
    "for i, column in enumerate(columns):\n",
    "    sns.lineplot(x=file['Datum i vrijeme'], y=feat_and_lab[column].fillna(method='ffill'), ax=ax[i], color='dodgerblue')\n",
    "    ax[i].set_title('Feature: {}'.format(column), fontsize=10)\n",
    "    ax[i].set_ylabel(ylabel=column, fontsize=10)\n",
    "                      "
   ]
  },
  {
   "cell_type": "code",
   "execution_count": null,
   "metadata": {},
   "outputs": [],
   "source": [
    "feat_and_lab.isna().sum()"
   ]
  },
  {
   "cell_type": "code",
   "execution_count": null,
   "metadata": {},
   "outputs": [],
   "source": [
    "f, ax = plt.subplots(nrows=6, ncols=1, figsize=(15, 15))\n",
    "\n",
    "old_temp = feat_and_lab['Temp.senzor vanj.1 25000099Temperatura (°C)'].copy()\n",
    "feat_and_lab['Temp.senzor vanj.1 25000099Temperatura (°C)']= feat_and_lab['Temp.senzor vanj.1 25000099Temperatura (°C)'].copy().replace(0, np.nan)\n",
    "\n",
    "sns.lineplot(x=file['Datum i vrijeme'], y=old_temp, ax=ax[0], color='darkorange', label='original')\n",
    "sns.lineplot(x=file['Datum i vrijeme'], y=feat_and_lab['Temp.senzor vanj.1 25000099Temperatura (°C)'].fillna(np.inf), ax=ax[0], color='dodgerblue', label='modified')\n",
    "ax[0].set_title('Feature: Temperatura', fontsize=14)\n",
    "ax[0].set_ylabel(ylabel='Temperatura', fontsize=14)\n",
    "\n",
    "\n",
    "old_gas_east = feat_and_lab['Plinomjer ist.zgrada 00062313Plin (m3)'].copy()\n",
    "feat_and_lab['Plinomjer ist.zgrada 00062313Plin (m3)'] = feat_and_lab['Plinomjer ist.zgrada 00062313Plin (m3)'].replace(0, np.nan)\n",
    "\n",
    "sns.lineplot(x=file['Datum i vrijeme'], y=old_gas_east, ax=ax[1], color='darkorange', label='original')\n",
    "sns.lineplot(x=file['Datum i vrijeme'], y=feat_and_lab['Plinomjer ist.zgrada 00062313Plin (m3)'].fillna(np.inf), ax=ax[1], color='dodgerblue', label='modified')\n",
    "ax[1].set_title('Feature: Gas - east', fontsize=14)\n",
    "ax[1].set_ylabel(ylabel='Gas - east', fontsize=14)\n",
    "\n",
    "old_gas_west = feat_and_lab['Plinomjer zap.zgrada 20526377Plin (m3)'].copy()\n",
    "feat_and_lab['Plinomjer zap.zgrada 20526377Plin (m3)'] = feat_and_lab['Plinomjer zap.zgrada 20526377Plin (m3)'].replace(0, np.nan)\n",
    "\n",
    "sns.lineplot(x=file['Datum i vrijeme'], y=old_gas_west, ax=ax[2], color='darkorange', label='original')\n",
    "sns.lineplot(x=file['Datum i vrijeme'], y=feat_and_lab['Plinomjer zap.zgrada 20526377Plin (m3)'].fillna(np.inf), ax=ax[2], color='dodgerblue', label='modified')\n",
    "ax[2].set_title('Feature: Gas - west', fontsize=14)\n",
    "ax[2].set_ylabel(ylabel='Gas - west', fontsize=14)\n",
    "\n",
    "old_cal_1 = feat_and_lab[\"Kalorimetar 1 39024788Topl.energija (MWh)\"].copy()\n",
    "feat_and_lab[\"Kalorimetar 1 39024788Topl.energija (MWh)\"] = feat_and_lab[\"Kalorimetar 1 39024788Topl.energija (MWh)\"].replace(0, np.nan)\n",
    "\n",
    "sns.lineplot(x=file['Datum i vrijeme'], y=old_cal_1, ax=ax[3], color='darkorange', label='original')\n",
    "sns.lineplot(x=file['Datum i vrijeme'], y=feat_and_lab[\"Kalorimetar 1 39024788Topl.energija (MWh)\"].fillna(np.inf), ax=ax[3], color='dodgerblue', label='modified')\n",
    "ax[3].set_title('Feature: Kalorimetar 1', fontsize=14)\n",
    "ax[3].set_ylabel(ylabel='Kalorimetar 1', fontsize=14)\n",
    "\n",
    "old_cal_3 = feat_and_lab[\"Kalorimetar 3 39024787Topl.energija (MWh)\"].copy()\n",
    "feat_and_lab[\"Kalorimetar 3 39024787Topl.energija (MWh)\"] = feat_and_lab[\"Kalorimetar 3 39024787Topl.energija (MWh)\"].replace(0, np.nan)\n",
    "\n",
    "sns.lineplot(x=file['Datum i vrijeme'], y=old_cal_3, ax=ax[4], color='darkorange', label='original')\n",
    "sns.lineplot(x=file['Datum i vrijeme'], y=feat_and_lab[\"Kalorimetar 3 39024787Topl.energija (MWh)\"].fillna(np.inf), ax=ax[4], color='dodgerblue', label='modified')\n",
    "ax[4].set_title('Feature: Kalorimetar 3', fontsize=14)\n",
    "ax[4].set_ylabel(ylabel='Kalorimetar 3', fontsize=14)\n",
    "\n",
    "old_cal = feat_and_lab[\"Kalorimetar, (MWh)\"].copy()\n",
    "feat_and_lab[\"Kalorimetar, (MWh)\"] = feat_and_lab[\"Kalorimetar, (MWh)\"].replace(0, np.nan)\n",
    "\n",
    "sns.lineplot(x=file['Datum i vrijeme'], y=old_cal, ax=ax[5], color='darkorange', label='original')\n",
    "sns.lineplot(x=file['Datum i vrijeme'], y=feat_and_lab[\"Kalorimetar, (MWh)\"].fillna(np.inf), ax=ax[5], color='dodgerblue', label='modified')\n",
    "ax[5].set_title('Feature: Kalorimetar -ukupno', fontsize=14)\n",
    "ax[5].set_ylabel(ylabel='Kalorimetar-ukupno ', fontsize=14)"
   ]
  },
  {
   "cell_type": "code",
   "execution_count": null,
   "metadata": {},
   "outputs": [],
   "source": [
    "for col in columns:\n",
    "    feat_and_lab[col] = feat_and_lab[col].interpolate()\n"
   ]
  },
  {
   "cell_type": "code",
   "execution_count": null,
   "metadata": {},
   "outputs": [],
   "source": [
    "column1=[\"Datum i vrijeme\",\"Temp.senzor vanj.1 25000099Temperatura (°C)\",\"Plinomjer ist.zgrada 00062313Plin (m3)\",\"Plinomjer zap.zgrada 20526377Plin (m3)\",\"Plin, m3\",\"Kalorimetar 1 39024788Topl.energija (MWh)\",\"Kalorimetar 3 39024787Topl.energija (MWh)\",\"Kalorimetar, (MWh)\"]\n",
    "downsample = feat_and_lab[column1].resample('7D', on=\"Datum i vrijeme\").mean()\n",
    "\n",
    "feat_and_lab_1 = downsample.copy()"
   ]
  },
  {
   "cell_type": "code",
   "execution_count": null,
   "metadata": {},
   "outputs": [],
   "source": [
    "#Merged files has been manually modified \n",
    "feat_and_lab_1 [\"Dan u sedmici\"]=pd.DatetimeIndex(feat_and_lab_1.index).dayofweek\n",
    "feat_and_lab_1 [\"Mjesec\"]=pd.DatetimeIndex(feat_and_lab_1.index).month\n",
    "feat_and_lab_1 [\"Godina\"]=pd.DatetimeIndex(feat_and_lab_1.index).year\n",
    "feat_and_lab_1 ['Kvartal'] =pd.DatetimeIndex(feat_and_lab_1.index).quarter\n",
    "feat_and_lab_1 ['Dan u godini'] =pd.DatetimeIndex(feat_and_lab_1.index).dayofyear\n",
    "feat_and_lab_1 ['Dan u mjesecu'] = pd.DatetimeIndex(feat_and_lab_1.index).day\n",
    "feat_and_lab_1 ['Sedmica'] =pd.DatetimeIndex(feat_and_lab_1.index).weekofyear\n",
    "feat_and_lab_1 ['Sezona'] = feat_and_lab_1 ['Mjesec'] % 12 // 3 + 1\n",
    "\n",
    "feat_and_lab_1 [[ \"Dan u sedmici\", \"Mjesec\", \"Godina\", 'Kvartal', 'Dan u godini', 'Dan u mjesecu', 'Sedmica',\"Sezona\"]].head()"
   ]
  },
  {
   "cell_type": "code",
   "execution_count": null,
   "metadata": {},
   "outputs": [],
   "source": [
    "for col in feat_and_lab_1.columns:\n",
    "    feat_and_lab_1[col] = feat_and_lab_1[col].interpolate()\n",
    "feat_and_lab_1.isna().sum()"
   ]
  },
  {
   "cell_type": "code",
   "execution_count": null,
   "metadata": {},
   "outputs": [],
   "source": [
    "from statsmodels.tsa.seasonal import seasonal_decompose\n",
    "\n",
    "core_columns =  [\"Temp.senzor vanj.1 25000099Temperatura (°C)\",\"Plinomjer ist.zgrada 00062313Plin (m3)\",\"Plinomjer zap.zgrada 20526377Plin (m3)\",\"Plin, m3\",\"Kalorimetar 1 39024788Topl.energija (MWh)\",\"Kalorimetar 3 39024787Topl.energija (MWh)\",\"Kalorimetar, (MWh)\"\n",
    "]\n",
    "\n",
    "for column in core_columns:\n",
    "    decomp = seasonal_decompose(feat_and_lab_1[column], period=52, model='additive', extrapolate_trend='freq')\n",
    "    feat_and_lab_1[f\"{column}_trend\"] = decomp.trend\n",
    "    feat_and_lab_1[f\"{column}_seasonal\"] = decomp.seasonal"
   ]
  },
  {
   "cell_type": "code",
   "execution_count": null,
   "metadata": {},
   "outputs": [],
   "source": [
    "fig, ax = plt.subplots(ncols=2, nrows=4, sharex=True, figsize=(16,8))\n",
    "\n",
    "for i, column in enumerate(['Temp.senzor vanj.1 25000099Temperatura (°C)',\"Plinomjer ist.zgrada 00062313Plin (m3)\"]):\n",
    "    \n",
    "    res = seasonal_decompose(feat_and_lab_1[column], freq=52, model='additive', extrapolate_trend='freq')\n",
    "\n",
    "    ax[0,i].set_title('Decomposition of {}'.format(column), fontsize=16)\n",
    "    res.observed.plot(ax=ax[0,i], legend=False, color='dodgerblue')\n",
    "    ax[0,i].set_ylabel('Observed', fontsize=14)\n",
    "\n",
    "    res.trend.plot(ax=ax[1,i], legend=False, color='dodgerblue')\n",
    "    ax[1,i].set_ylabel('Trend', fontsize=14)\n",
    "\n",
    "    res.seasonal.plot(ax=ax[2,i], legend=False, color='dodgerblue')\n",
    "    ax[2,i].set_ylabel('Seasonal', fontsize=14)\n",
    "    \n",
    "    res.resid.plot(ax=ax[3,i], legend=False, color='dodgerblue')\n",
    "    ax[3,i].set_ylabel('Residual', fontsize=14)\n",
    "\n",
    "plt.show()"
   ]
  },
  {
   "cell_type": "code",
   "execution_count": null,
   "metadata": {},
   "outputs": [],
   "source": []
  }
 ],
 "metadata": {
  "kernelspec": {
   "display_name": "Python 3",
   "language": "python",
   "name": "python3"
  },
  "language_info": {
   "codemirror_mode": {
    "name": "ipython",
    "version": 3
   },
   "file_extension": ".py",
   "mimetype": "text/x-python",
   "name": "python",
   "nbconvert_exporter": "python",
   "pygments_lexer": "ipython3",
   "version": "3.7.6"
  }
 },
 "nbformat": 4,
 "nbformat_minor": 5
}
