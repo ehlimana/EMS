{
 "cells": [
  {
   "cell_type": "code",
   "execution_count": 1,
   "metadata": {},
   "outputs": [],
   "source": [
    "import os\n",
    "import pandas as pd\n",
    "import numpy as np\n",
    "from datetime import datetime\n",
    "import matplotlib.pyplot as plt\n",
    "import seaborn as sns\n",
    "from sklearn.metrics import mean_absolute_error, mean_squared_error\n",
    "import math"
   ]
  },
  {
   "cell_type": "code",
   "execution_count": 2,
   "metadata": {},
   "outputs": [],
   "source": [
    "H_ext_wall1=3.21#W/K)\n",
    "H_ext_wall2=9.75#W/K)\n",
    "H_int_wall1=3.26#W/K)\n",
    "H_int_wall2=2.98#W/K)\n",
    "H_windows=9.72 #W/K\n",
    "H_doors=4.75 #W/K\n",
    "H_int_wall3=8.09#W/K\n",
    "H_int_wall4=10.78#W/K)\n",
    "\n",
    "room_width=3.4 #m\n",
    "room_length=6.7 #m\n",
    "\n",
    "floor_area=room_width*room_length-(1.9+0.175)*(2*0.175)\n",
    "room_height=3.4#m\n",
    "room_volume=floor_area*room_height\n",
    "min_air_ch=0.5 #/h\n",
    "air_ch=3.1 #/h\n",
    "e=0\n",
    "epsilon=1\n",
    "addit_heat_coef=11 #W/m^2\n",
    "addit_heat=addit_heat_coef*floor_area #W\n",
    "\n",
    "min_ex= room_volume*min_air_ch #m3/h\n",
    "natural_inf=0\n",
    "delta_t_nom=60 #degree C\n",
    "Qrad_nom=152 #W/reb\n",
    "Qrad=Qrad_nom*18 #num of reb\n",
    "\n",
    "Hvent=0.34*min_ex"
   ]
  },
  {
   "cell_type": "code",
   "execution_count": 3,
   "metadata": {},
   "outputs": [
    {
     "data": {
      "text/plain": [
       "242.59125"
      ]
     },
     "execution_count": 3,
     "metadata": {},
     "output_type": "execute_result"
    }
   ],
   "source": [
    "addit_heat_coef*floor_area"
   ]
  },
  {
   "cell_type": "code",
   "execution_count": 4,
   "metadata": {},
   "outputs": [],
   "source": [
    "\n",
    "file=pd.read_excel(\"Merged files.xlsx\",header=0)\n",
    "file['Datum i vrijeme'] = pd.to_datetime(file['Datum i vrijeme'],yearfirst=True)"
   ]
  },
  {
   "cell_type": "code",
   "execution_count": 5,
   "metadata": {},
   "outputs": [
    {
     "data": {
      "text/plain": [
       "Index(['Datum i vrijeme', 'Plinomjer ist.zgrada 00062313Plin (m3)',\n",
       "       'Brojilo el.energije su 35649294El.energija VT (kWh)',\n",
       "       'Brojilo el.energije su 35649294El.energija MT (kWh)',\n",
       "       'Brojilo el.energije tr 35649314El.energija VT (kWh)',\n",
       "       'Brojilo el.energije tr 35649314El.energija MT (kWh)',\n",
       "       'Vodomjer stara 09249850Voda (m3)', 'Vodomjer nova 09249847Voda (m3)',\n",
       "       'Vodomjer hidrant 10058705Voda (m3)',\n",
       "       'Brojilo el.energije ko 46621646El.energija VT (kWh)',\n",
       "       'Brojilo el.energije ko 46621646El.energija MT (kWh)',\n",
       "       'Brojilo el.energije po 38878959El.energija VT (kWh)',\n",
       "       'Brojilo el.energije po 38878959El.energija MT (kWh)',\n",
       "       'Brojilo el.energije kl 46868995El.energija VT (kWh)',\n",
       "       'Brojilo el.energije kl 46868995El.energija MT (kWh)',\n",
       "       'Kalorimetar 1 39024788Topl.energija (MWh)',\n",
       "       'Kalorimetar 1 39024788Kum.protok (m3)',\n",
       "       'Kalorimetar 1 39024788Tren.protok (m3/h)',\n",
       "       'Kalorimetar 1 39024788Temp.pol.voda (°C)',\n",
       "       'Kalorimetar 1 39024788Temp.pov.voda (°C)',\n",
       "       'Kalorimetar 2 39024724Topl.energija (MWh)',\n",
       "       'Kalorimetar 2 39024724Kum.protok (m3)',\n",
       "       'Kalorimetar 2 39024724Tren.protok (m3/h)',\n",
       "       'Kalorimetar 2 39024724Temp.pol.voda (°C)',\n",
       "       'Kalorimetar 2 39024724Temp.pov.voda (°C)',\n",
       "       'Kalorimetar 3 39024787Topl.energija (MWh)',\n",
       "       'Kalorimetar 3 39024787Kum.protok (m3)',\n",
       "       'Kalorimetar 3 39024787Tren.protok (m3/h)',\n",
       "       'Kalorimetar 3 39024787Temp.pol.voda (°C)',\n",
       "       'Kalorimetar 3 39024787Temp.pov.voda (°C)',\n",
       "       'Temp.senzor un.1 24003403Temperatura (°C)',\n",
       "       'Temp.senzor un.1 24003403Vlažnost (%)',\n",
       "       'Temp.senzor un.2 24004659Temperatura (°C)',\n",
       "       'Temp.senzor un.2 24004659Vlažnost (%)',\n",
       "       'Temp.senzor un.3 24003393Temperatura (°C)',\n",
       "       'Temp.senzor un.3 24003393Vlažnost (%)',\n",
       "       'Temp.senzor un.4 24004658Temperatura (°C)',\n",
       "       'Temp.senzor un.4 24004658Vlažnost (%)',\n",
       "       'Temp.senzor un.5 24007590Temperatura (°C)',\n",
       "       'Temp.senzor un.5 24007590Vlažnost (%)',\n",
       "       'Temp.senzor un.6 24007412Temperatura (°C)',\n",
       "       'Temp.senzor un.6 24007412Vlažnost (%)',\n",
       "       'Temp.senzor un.7 24007548Temperatura (°C)',\n",
       "       'Temp.senzor un.7 24007548Vlažnost (%)',\n",
       "       'Temp.senzor un.8 24007403Temperatura (°C)',\n",
       "       'Temp.senzor un.8 24007403Vlažnost (%)',\n",
       "       'Temp.senzor vanj.1 25000099Temperatura (°C)',\n",
       "       'Temp.senzor vanj.1 25000099Vlažnost (%)',\n",
       "       'Plinomjer zap.zgrada 20526377Plin (m3)', 'Sat', 'Dan u sedmici',\n",
       "       'Mjesec', 'Godina', 'Kvartal', 'Dan u godini', 'Dan u mjesecu',\n",
       "       'Sedmica'],\n",
       "      dtype='object')"
      ]
     },
     "execution_count": 5,
     "metadata": {},
     "output_type": "execute_result"
    }
   ],
   "source": [
    "file.columns"
   ]
  },
  {
   "cell_type": "code",
   "execution_count": 6,
   "metadata": {},
   "outputs": [],
   "source": [
    "#Qt_1=-(H_ext_wall1+H_ext_wall2+H_windows)*(Tint-Text)\n",
    "#Qv=-Hvent*(Tint-Text)\n",
    "#Qint1=-(H_int_wall1+H_doors)*5#HALL\n",
    "#Qint2=(H_int_wall3+H_int_wall4)*2#EXTRA ROOM\n",
    "#Qadd=addit_heat\n",
    "#Qint3=H_int_wall2*delta t\n",
    "\n",
    "#ADJACENT ROOM\n"
   ]
  },
  {
   "cell_type": "code",
   "execution_count": 7,
   "metadata": {},
   "outputs": [],
   "source": [
    "file=file.drop(['Brojilo el.energije ko 46621646El.energija VT (kWh)', 'Brojilo el.energije ko 46621646El.energija MT (kWh)','Brojilo el.energije po 38878959El.energija VT (kWh)',\n",
    "       'Brojilo el.energije po 38878959El.energija MT (kWh)',\n",
    "       'Brojilo el.energije kl 46868995El.energija VT (kWh)',\n",
    "       'Brojilo el.energije kl 46868995El.energija MT (kWh)', \n",
    "        'Kalorimetar 2 39024724Topl.energija (MWh)',\"Kalorimetar 2 39024724Temp.pol.voda (°C)\",\n",
    "        \"Kalorimetar 2 39024724Temp.pov.voda (°C)\",\n",
    "        'Temp.senzor un.1 24003403Temperatura (°C)',\n",
    "       'Temp.senzor un.1 24003403Vlažnost (%)',\n",
    "       'Temp.senzor un.2 24004659Temperatura (°C)',\n",
    "       'Temp.senzor un.2 24004659Vlažnost (%)',\n",
    "       'Temp.senzor un.3 24003393Temperatura (°C)',\n",
    "       'Temp.senzor un.3 24003393Vlažnost (%)',\n",
    "      # 'Temp.senzor un.4 24004658Temperatura (°C)',\n",
    "      # 'Temp.senzor un.4 24004658Vlažnost (%)',\n",
    "       'Temp.senzor un.5 24007590Temperatura (°C)',\n",
    "       'Temp.senzor un.5 24007590Vlažnost (%)',\n",
    "       #'Temp.senzor un.6 24007412Temperatura (°C)',\n",
    "       #'Temp.senzor un.6 24007412Vlažnost (%)',\n",
    "       'Temp.senzor un.7 24007548Temperatura (°C)',\n",
    "       'Temp.senzor un.7 24007548Vlažnost (%)',\n",
    "       'Temp.senzor un.8 24007403Temperatura (°C)',\n",
    "       'Temp.senzor un.8 24007403Vlažnost (%)',\n",
    "       #'Temp.senzor vanj.1 25000099Temperatura (°C)',\n",
    "      # 'Temp.senzor vanj.1 25000099Vlažnost (%)',       \n",
    "                ],axis=1)"
   ]
  },
  {
   "cell_type": "code",
   "execution_count": 8,
   "metadata": {},
   "outputs": [],
   "source": [
    "#file=file.drop([\"Brojilo el.energije tr 35649314El.energija VT (kWh)\",\"Brojilo el.energije tr 35649314El.energija MT (kWh)\",\n",
    "              # \"Vodomjer stara 09249850Voda (m3)\",\"Vodomjer nova 09249847Voda (m3)\",\"Vodomjer hidrant 10058705Voda (m3)\"],axis=1)"
   ]
  },
  {
   "cell_type": "code",
   "execution_count": 9,
   "metadata": {},
   "outputs": [],
   "source": [
    "file[\"QT_1\"]=-(H_ext_wall1+H_ext_wall2+H_windows)*(file[\"Temp.senzor un.4 24004658Temperatura (°C)\"]-file['Temp.senzor vanj.1 25000099Temperatura (°C)'])"
   ]
  },
  {
   "cell_type": "code",
   "execution_count": 10,
   "metadata": {},
   "outputs": [],
   "source": [
    "file[\"Qv\"]=-Hvent*(file[\"Temp.senzor un.4 24004658Temperatura (°C)\"]-file['Temp.senzor vanj.1 25000099Temperatura (°C)'])"
   ]
  },
  {
   "cell_type": "code",
   "execution_count": 11,
   "metadata": {},
   "outputs": [],
   "source": [
    "file[\"Qint1-Hall\"]=-(H_int_wall1+H_doors)*5#HALL\n",
    "file[\"Qint2-Extra room\"]=(H_int_wall3+H_int_wall4)*2#EXTRA ROOM\n",
    "file[\"Qadd\"]=addit_heat\n",
    "file[\"Qint3-Adj room\"]=H_int_wall2*(file[\"Temp.senzor un.4 24004658Temperatura (°C)\"]-file['Temp.senzor un.6 24007412Temperatura (°C)'])\n",
    "for k,value in enumerate(file[\"Qint3-Adj room\"].values):\n",
    "    if value>0:\n",
    "        file[\"Qint3-Adj room\"].values[k]=-file[\"Qint3-Adj room\"].values[k]\n",
    "    elif value<0:\n",
    "        file[\"Qint3-Adj room\"].values[k]=-file[\"Qint3-Adj room\"].values[k]\n",
    "    else:\n",
    "        pass\n",
    "        #ADJACENT ROOM"
   ]
  },
  {
   "cell_type": "code",
   "execution_count": 12,
   "metadata": {},
   "outputs": [],
   "source": [
    "delta_t_nom=60\n",
    "t_room_set=20\n",
    "file[\"Delta t\"]=(file['Kalorimetar 1 39024788Temp.pol.voda (°C)']+file['Kalorimetar 1 39024788Temp.pov.voda (°C)'])/2-t_room_set\n",
    "       "
   ]
  },
  {
   "cell_type": "code",
   "execution_count": 13,
   "metadata": {},
   "outputs": [],
   "source": [
    "file[\"Qrad\"]=Qrad*(file[\"Delta t\"]/delta_t_nom)**1.33"
   ]
  },
  {
   "cell_type": "code",
   "execution_count": 14,
   "metadata": {},
   "outputs": [],
   "source": [
    "file[\"Qgub\"]=np.NaN\n",
    "file[\"Qplus\"]=np.NaN\n",
    "file[\"Balance\"]=np.NaN\n",
    "for k,value in enumerate(file[\"Qint3-Adj room\"].values):\n",
    "    if value<0:\n",
    "        file[\"Qgub\"].values[k]=np.abs(file[\"QT_1\"].values[k]+file[\"Qv\"].values[k]+file[\"Qint3-Adj room\"].values[k]+file[\"Qint1-Hall\"].values[k])\n",
    "        file[\"Qplus\"].values[k]=np.abs(file[\"Qrad\"].values[k]+file[\"Qadd\"].values[k]+file[\"Qint2-Extra room\"].values[k])\n",
    "    elif value>0:\n",
    "        file[\"Qgub\"].values[k]=np.abs(file[\"QT_1\"].values[k]+file[\"Qv\"].values[k]+file[\"Qint1-Hall\"].values[k])\n",
    "        file[\"Qplus\"].values[k]=np.abs(file[\"Qrad\"].values[k]+file[\"Qadd\"].values[k]+file[\"Qint2-Extra room\"].values[k]+file[\"Qint3-Adj room\"].values[k])\n",
    "    else:\n",
    "        pass\n",
    "file[\"Balance\"]=np.abs(file[\"Qplus\"]-file[\"Qgub\"])"
   ]
  },
  {
   "cell_type": "code",
   "execution_count": 15,
   "metadata": {},
   "outputs": [
    {
     "data": {
      "text/plain": [
       "<function matplotlib.pyplot.show(*args, **kw)>"
      ]
     },
     "execution_count": 15,
     "metadata": {},
     "output_type": "execute_result"
    },
    {
     "data": {
      "image/png": "[encoded data removed]",
      "text/plain": [
       "<Figure size 432x288 with 1 Axes>"
      ]
     },
     "metadata": {
      "needs_background": "light"
     },
     "output_type": "display_data"
    }
   ],
   "source": [
    "a=np.abs(file[\"Qgub\"])\n",
    "b=np.abs(file[\"Balance\"])\n",
    "\n",
    "file.plot(x=\"Datum i vrijeme\", y=[\"Qgub\",\"Qplus\",\"Balance\"], kind=\"line\")\n",
    "plt.show\n"
   ]
  },
  {
   "cell_type": "code",
   "execution_count": null,
   "metadata": {},
   "outputs": [],
   "source": []
  }
 ],
 "metadata": {
  "kernelspec": {
   "display_name": "Python 3",
   "language": "python",
   "name": "python3"
  },
  "language_info": {
   "codemirror_mode": {
    "name": "ipython",
    "version": 3
   },
   "file_extension": ".py",
   "mimetype": "text/x-python",
   "name": "python",
   "nbconvert_exporter": "python",
   "pygments_lexer": "ipython3",
   "version": "3.7.6"
  }
 },
 "nbformat": 4,
 "nbformat_minor": 4
}
