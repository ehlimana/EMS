{
 "cells": [
  {
   "cell_type": "code",
   "execution_count": null,
   "metadata": {},
   "outputs": [],
   "source": [
    "import os\n",
    "import pandas as pd\n",
    "import numpy as np\n",
    "from datetime import datetime"
   ]
  },
  {
   "cell_type": "code",
   "execution_count": null,
   "metadata": {},
   "outputs": [],
   "source": [
    "scope_traces=[] #this will be the list of dataframes\n",
    "file_names=os.listdir('Measurement data')"
   ]
  },
  {
   "cell_type": "markdown",
   "metadata": {},
   "source": [
    "Provjera upload-a:"
   ]
  },
  {
   "cell_type": "code",
   "execution_count": null,
   "metadata": {},
   "outputs": [],
   "source": [
    "file_names[0]"
   ]
  },
  {
   "cell_type": "markdown",
   "metadata": {},
   "source": [
    "Odabir kolona iz Excel sheetova za svaki fajl:"
   ]
  },
  {
   "cell_type": "code",
   "execution_count": null,
   "metadata": {},
   "outputs": [],
   "source": [
    "column_indices1=list(range(2))\n",
    "column_indices2=list((np.arange(1,3)))\n",
    "column_indices3=list((np.arange(1,6)))\n",
    "columns_from_sheets={'Plinomjer istočna zgra 00039413':column_indices1,'Brojilo el.energije su 35649294':column_indices2,\"Brojilo el.energije tr 35649314\":column_indices2,'Vodomjer stara 09249850':[1],'Vodomjer nova 09249847':[1],'Vodomjer hidrant 10058705':[1],'Brojilo el.energije ko 46621646':column_indices2,\n",
    "'Brojilo el.energije po 38878959':column_indices2,'Brojilo el.energije kl 46868995':column_indices2,'Kalorimetar 1 39024788':column_indices3,\n",
    " 'Kalorimetar 2 39024724':column_indices3,'Kalorimetar 3 39024787':column_indices3,'Temp.senzor un.1 24003403':column_indices2,'Temp.senzor un.2 24004659':column_indices2,\n",
    " 'Temp.senzor un.3 24003393':column_indices2,'Temp.senzor un.4 24004658':column_indices2,'Temp.senzor un.5 24007590':column_indices2,'Temp.senzor un.6 24007412':column_indices2,'Temp.senzor un.7 24007548':column_indices2,'Temp.senzor un.8 24007403':column_indices2, 'Temp.senzor vanj.1 25000099':column_indices2,'Plinomjer zapadna zgra 20526379':[1]   }"
   ]
  },
  {
   "cell_type": "markdown",
   "metadata": {},
   "source": [
    "Preuzimanje podataka iz svakog sheet-a i spajanje u jedan sheet za svaki dan pojedinačno. Iz odabira je isključen sheet 'Brojilo el.energije Lo 46622131', jer je prazan. Sheetovi imaju različite nazive kroz fajlove, pa se moraju staviti u petlju. Ovaj korak malo duže traje prilikom izvršavanja."
   ]
  },
  {
   "cell_type": "code",
   "execution_count": null,
   "metadata": {},
   "outputs": [],
   "source": [
    "df_all_files=[None]*len(file_names)\n",
    "\n",
    "column_indices=list(columns_from_sheets.values())\n",
    "for file in file_names:\n",
    "    xls=pd.ExcelFile('Measurement data\\\\'+file)\n",
    "    sheet_names=xls.sheet_names\n",
    "    delete_names=['Brojilo el.energije Lo 46622131',]\n",
    "    selected_sheet_names=[ele for ele in sheet_names if ele not in delete_names]\n",
    "    \n",
    "    df=[None]*len(selected_sheet_names)\n",
    "    df=[pd.read_excel('Measurement data\\\\'+file, sheet_name=i, usecols=column_indices[selected_sheet_names.index(i)]) for i in selected_sheet_names]\n",
    "    df1=pd.concat(df[:],axis=1,)\n",
    "    df_all_files[file_names.index(file)]=df1\n",
    "print(selected_sheet_names)"
   ]
  },
  {
   "cell_type": "markdown",
   "metadata": {},
   "source": [
    "Provjera da li postoje podaci za svaki dan u opsegu 00:00 do 23:00. Na osnovu toga su određeni listovi (kolona: Datum i vrijeme) popunjeni satima koji nedostaju, a vrijednosti podataka su prazne ćelije. "
   ]
  },
  {
   "cell_type": "code",
   "execution_count": null,
   "metadata": {},
   "outputs": [],
   "source": [
    "def check_empty(trace,i):\n",
    "    empty_cell=(trace['Datum i vrijeme'].isnull().values.any())\n",
    "    if empty_cell==True:\n",
    "        print(\"Empty_cell\",i)\n",
    "    else:\n",
    "        pass"
   ]
  },
  {
   "cell_type": "code",
   "execution_count": null,
   "metadata": {},
   "outputs": [],
   "source": [
    "for i in range(len(df_all_files)): #check for all files\n",
    "    print(i, end=\"\\r\") \n",
    "    check_empty(df_all_files[i],i)"
   ]
  },
  {
   "cell_type": "code",
   "execution_count": null,
   "metadata": {},
   "outputs": [],
   "source": [
    "df_all_files[32]"
   ]
  },
  {
   "cell_type": "markdown",
   "metadata": {},
   "source": [
    "Spajanje dnevnih podataka u jedan veliki fajl za sve 3 godine:"
   ]
  },
  {
   "cell_type": "code",
   "execution_count": null,
   "metadata": {
    "scrolled": true
   },
   "outputs": [],
   "source": [
    "df_total=pd.concat(df_all_files[:],axis=0, ignore_index=True)\n",
    "df_total.tail(100)"
   ]
  },
  {
   "cell_type": "code",
   "execution_count": null,
   "metadata": {},
   "outputs": [],
   "source": [
    "import datetime as dt"
   ]
  },
  {
   "cell_type": "code",
   "execution_count": null,
   "metadata": {},
   "outputs": [],
   "source": [
    "df_total['Datum i vrijeme'] = pd.to_datetime(df_total['Datum i vrijeme'], dayfirst=True)"
   ]
  },
  {
   "cell_type": "code",
   "execution_count": null,
   "metadata": {},
   "outputs": [],
   "source": [
    "df_total[\"hour\"]=df_total[\"Datum i vrijeme\"].dt.hour\n",
    "df_total[\"dayofweek\"]=df_total[\"Datum i vrijeme\"].dt.dayofweek\n",
    "df_total[\"Month\"]=df_total[\"Datum i vrijeme\"].dt.month\n",
    "df_total[\"Year\"]=df_total[\"Datum i vrijeme\"].dt.year\n",
    "df_total['quarter'] =df_total['Datum i vrijeme'].dt.quarter\n",
    "df_total['dayofyear'] =df_total['Datum i vrijeme'].dt.dayofyear\n",
    "df_total['dayofmonth'] = df_total['Datum i vrijeme'].dt.day\n",
    "df_total['weekofyear'] = df_total['Datum i vrijeme'].dt.weekofyear\n",
    "df_total.head(50)"
   ]
  },
  {
   "cell_type": "code",
   "execution_count": null,
   "metadata": {},
   "outputs": [],
   "source": [
    "df_total=df_total.sort_values(by=[\"Year\",\"dayofyear\",\"hour\"])"
   ]
  },
  {
   "cell_type": "markdown",
   "metadata": {},
   "source": [
    "Promjena naziva kolona prema sheetovima iz kojih dolaze. Ovo je bilo neophodno jer se npr. kolona *Temperatura* i *Vlažnost* ponavljaju kroz sheet-ove pa da se zna odakle koja dolazi."
   ]
  },
  {
   "cell_type": "code",
   "execution_count": null,
   "metadata": {},
   "outputs": [],
   "source": [
    "new_names=[\"\",selected_sheet_names[0],selected_sheet_names[1],selected_sheet_names[1],selected_sheet_names[2],selected_sheet_names[2],\n",
    "selected_sheet_names[3],selected_sheet_names[4],selected_sheet_names[5],selected_sheet_names[6],selected_sheet_names[6],selected_sheet_names[7],\n",
    "selected_sheet_names[7],selected_sheet_names[8],selected_sheet_names[8],selected_sheet_names[9],\n",
    "selected_sheet_names[9],selected_sheet_names[9],selected_sheet_names[9],selected_sheet_names[9],selected_sheet_names[10],\n",
    "selected_sheet_names[10],selected_sheet_names[10],selected_sheet_names[10],selected_sheet_names[10],\n",
    "selected_sheet_names[11],selected_sheet_names[11],selected_sheet_names[11],selected_sheet_names[11],selected_sheet_names[11],\n",
    "selected_sheet_names[12],selected_sheet_names[12],selected_sheet_names[13],selected_sheet_names[13],\n",
    "selected_sheet_names[14],selected_sheet_names[14],selected_sheet_names[15],selected_sheet_names[15],\n",
    "selected_sheet_names[16],selected_sheet_names[16],selected_sheet_names[17],selected_sheet_names[17],\n",
    "selected_sheet_names[18],selected_sheet_names[18],selected_sheet_names[19],selected_sheet_names[19],\n",
    "selected_sheet_names[20],selected_sheet_names[20],selected_sheet_names[21]]#\"Sat\",\"Dan u sedmici\",\"Mjesec\",\"Godina\",'Kvartal','Dan u godini','Dan u mjesecu','Sedmica'"
   ]
  },
  {
   "cell_type": "code",
   "execution_count": null,
   "metadata": {},
   "outputs": [],
   "source": [
    "new_names1=df_total.columns[0:49]\n",
    "new_names2=list(new_names+new_names1)\n"
   ]
  },
  {
   "cell_type": "code",
   "execution_count": null,
   "metadata": {},
   "outputs": [],
   "source": [
    "new_names2\n",
    "new_names2.extend([\"Sat\",\"Dan u sedmici\",\"Mjesec\",\"Godina\",'Kvartal','Dan u godini','Dan u mjesecu','Sedmica'])"
   ]
  },
  {
   "cell_type": "code",
   "execution_count": null,
   "metadata": {},
   "outputs": [],
   "source": [
    "df_total.shape"
   ]
  },
  {
   "cell_type": "code",
   "execution_count": null,
   "metadata": {},
   "outputs": [],
   "source": [
    "df_total.columns  = new_names2"
   ]
  },
  {
   "cell_type": "code",
   "execution_count": null,
   "metadata": {
    "scrolled": false
   },
   "outputs": [],
   "source": [
    "df_total.head()"
   ]
  },
  {
   "cell_type": "markdown",
   "metadata": {},
   "source": [
    "Spašavanje fajla:"
   ]
  },
  {
   "cell_type": "code",
   "execution_count": null,
   "metadata": {},
   "outputs": [],
   "source": [
    "df_total.to_excel(\"Merged files.xlsx\", index=False)"
   ]
  },
  {
   "cell_type": "code",
   "execution_count": null,
   "metadata": {},
   "outputs": [],
   "source": []
  }
 ],
 "metadata": {
  "kernelspec": {
   "display_name": "Python 3",
   "language": "python",
   "name": "python3"
  },
  "language_info": {
   "codemirror_mode": {
    "name": "ipython",
    "version": 3
   },
   "file_extension": ".py",
   "mimetype": "text/x-python",
   "name": "python",
   "nbconvert_exporter": "python",
   "pygments_lexer": "ipython3",
   "version": "3.7.1"
  }
 },
 "nbformat": 4,
 "nbformat_minor": 4
}
