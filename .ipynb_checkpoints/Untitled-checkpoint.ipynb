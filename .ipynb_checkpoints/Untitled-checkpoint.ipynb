{
 "cells": [
  {
   "cell_type": "code",
   "execution_count": null,
   "id": "3b18aebc",
   "metadata": {},
   "outputs": [],
   "source": [
    "\n",
    "import os\n",
    "import pandas as pd\n",
    "import numpy as np\n",
    "from datetime import datetime\n",
    "import matplotlib.pyplot as plt\n",
    "import seaborn as sns"
   ]
  },
  {
   "cell_type": "code",
   "execution_count": null,
   "id": "5481ce8e",
   "metadata": {},
   "outputs": [],
   "source": [
    "file=pd.read_excel(\"Merged files.xlsx\",index_col=0,header=0)"
   ]
  },
  {
   "cell_type": "code",
   "execution_count": null,
   "id": "aacaab5a",
   "metadata": {},
   "outputs": [],
   "source": [
    "file.head(3)"
   ]
  },
  {
   "cell_type": "code",
   "execution_count": null,
   "id": "2f25d8d4",
   "metadata": {},
   "outputs": [],
   "source": [
    "X=file[file.columns[45:]].drop(['Plinomjer zap.zgrada 20526377Plin (m3)'],axis=1)"
   ]
  },
  {
   "cell_type": "code",
   "execution_count": null,
   "id": "975fd285",
   "metadata": {},
   "outputs": [],
   "source": [
    "Y=file.loc[:, [\"Plinomjer ist.zgrada 00062313Plin (m3)\", 'Plinomjer zap.zgrada 20526377Plin (m3)']]\n",
    "Y[\"Plinomjer ist.zgrada 00062313Plin (m3)\"]=pd.to_numeric(Y[\"Plinomjer ist.zgrada 00062313Plin (m3)\"],errors=\"coerce\")\n",
    "Y['Plinomjer zap.zgrada 20526377Plin (m3)']=pd.to_numeric(Y['Plinomjer zap.zgrada 20526377Plin (m3)'],errors=\"coerce\")"
   ]
  },
  {
   "cell_type": "code",
   "execution_count": null,
   "id": "3fde11e6",
   "metadata": {},
   "outputs": [],
   "source": [
    "Y[\"Plin, m3\"]=pd.to_numeric(file[\"Plinomjer ist.zgrada 00062313Plin (m3)\"])+pd.to_numeric(file['Plinomjer zap.zgrada 20526377Plin (m3)'],errors = 'coerce')"
   ]
  },
  {
   "cell_type": "code",
   "execution_count": null,
   "id": "65e3ccf2",
   "metadata": {},
   "outputs": [],
   "source": [
    "feat_and_lab=pd.concat([X,Y],axis=1)"
   ]
  },
  {
   "cell_type": "code",
   "execution_count": null,
   "id": "472400b7",
   "metadata": {},
   "outputs": [],
   "source": [
    "feat_and_lab.head(2)"
   ]
  },
  {
   "cell_type": "code",
   "execution_count": null,
   "id": "48d959c6",
   "metadata": {},
   "outputs": [],
   "source": [
    "feat_and_lab_1=feat_and_lab.groupby(\"Godina\").sum()\n",
    "feat_and_lab_1.plot(y=\"Plinomjer ist.zgrada 00062313Plin (m3)\",kind=\"bar\")\n",
    "plt.title(\"Plinomjer ist.zgrada 00062313Plin (m3)\")\n",
    "plt.show()"
   ]
  },
  {
   "cell_type": "code",
   "execution_count": null,
   "id": "dd07e093",
   "metadata": {},
   "outputs": [],
   "source": [
    "feat_and_lab_1.plot(y=\"Plinomjer zap.zgrada 20526377Plin (m3)\",kind=\"bar\")\n",
    "plt.title(\"Plinomjer zap.zgrada 20526377Plin (m3)\")\n",
    "plt.show()"
   ]
  },
  {
   "cell_type": "code",
   "execution_count": null,
   "id": "7db6637d",
   "metadata": {},
   "outputs": [],
   "source": [
    "feat_and_lab_1.plot(y=\"Plin, m3\",kind=\"bar\")\n",
    "plt.title(\"Plin, m3 - ukupno\")\n",
    "plt.show()"
   ]
  },
  {
   "cell_type": "code",
   "execution_count": null,
   "id": "564781d4",
   "metadata": {},
   "outputs": [],
   "source": [
    "feat_and_lab_2=feat_and_lab.groupby([\"Godina\",\"Mjesec\"]).sum()\n",
    "feat_and_lab_2.head()"
   ]
  },
  {
   "cell_type": "code",
   "execution_count": null,
   "id": "2e855e80",
   "metadata": {},
   "outputs": [],
   "source": [
    "plt.figure()\n",
    "feat_and_lab_2.plot(y=\"Plin, m3\",kind=\"bar\")\n",
    "plt.show()"
   ]
  },
  {
   "cell_type": "code",
   "execution_count": null,
   "id": "0f9ebc60",
   "metadata": {},
   "outputs": [],
   "source": [
    "feat_and_lab_3=feat_and_lab.groupby([\"Godina\",\"Mjesec\",\"Sat\"]).mean()\n",
    "feat_and_lab_3.plot(y=\"Temp.senzor vanj.1 25000099Temperatura (°C)\",kind=\"line\",figsize=(15,7))\n",
    "plt.show()"
   ]
  },
  {
   "cell_type": "code",
   "execution_count": null,
   "id": "cd0c6886",
   "metadata": {},
   "outputs": [],
   "source": [
    "feat_and_lab_3=feat_and_lab.groupby([\"Sat\"]).mean()\n",
    "feat_and_lab_3.plot(y=\"Temp.senzor vanj.1 25000099Temperatura (°C)\",kind=\"line\",figsize=(15,7))\n",
    "plt.show()"
   ]
  },
  {
   "cell_type": "code",
   "execution_count": null,
   "id": "e45aac27",
   "metadata": {},
   "outputs": [],
   "source": [
    "sns.lineplot(x=feat_and_lab[\"Sat\"],y=feat_and_lab[\"Temp.senzor vanj.1 25000099Temperatura (°C)\"],hue=feat_and_lab[\"Godina\"],ci=False)\n",
    "plt.show()"
   ]
  },
  {
   "cell_type": "code",
   "execution_count": null,
   "id": "aae367f8",
   "metadata": {},
   "outputs": [],
   "source": [
    "sns.lineplot(x=feat_and_lab[\"Sat\"],y=feat_and_lab[\"Plin, m3\"],hue=feat_and_lab[\"Godina\"],ci=False)\n",
    "plt.show()"
   ]
  },
  {
   "cell_type": "code",
   "execution_count": null,
   "id": "807f7dc1",
   "metadata": {},
   "outputs": [],
   "source": [
    "feat_and_lab_3=feat_and_lab.groupby([\"Sat\"]).mean()\n",
    "feat_and_lab_3.plot(y=\"Plin, m3\",kind=\"line\",figsize=(15,7))\n",
    "plt.show()"
   ]
  },
  {
   "cell_type": "code",
   "execution_count": null,
   "id": "b31438ef",
   "metadata": {},
   "outputs": [],
   "source": [
    "\n",
    "\n",
    "sns.set_theme(style=\"dark\")\n",
    "flights = sns.load_dataset(\"flights\")\n",
    "\n",
    "# Plot each year's time series in its own facet\n",
    "g = sns.relplot(\n",
    "    data=feat_and_lab,\n",
    "    x=\"Mjesec\", y=\"Plin, m3\", col=\"Godina\", hue=\"Godina\",\n",
    "    kind=\"line\", palette=\"crest\", linewidth=4, zorder=5,\n",
    "    col_wrap=3, height=2, aspect=1.5, legend=False,\n",
    ")\n",
    "\n",
    "for year, ax in g.axes_dict.items():\n",
    "\n",
    "    # Add the title as an annotation within the plot\n",
    "    ax.text(.8, .85, year, transform=ax.transAxes, fontweight=\"bold\")\n",
    "\n",
    "    \n",
    "\n",
    "# Reduce the frequency of the x axis ticks\n",
    "ax.set_xticks(ax.get_xticks()[::2])\n",
    "\n",
    "# Tweak the supporting aspects of the plot\n",
    "g.set_titles(\"\")\n",
    "g.set_axis_labels(\"\", \"Plin, m3\")\n",
    "g.tight_layout()\n",
    "plt.show()"
   ]
  },
  {
   "cell_type": "code",
   "execution_count": null,
   "id": "4815526c",
   "metadata": {},
   "outputs": [],
   "source": []
  }
 ],
 "metadata": {
  "kernelspec": {
   "display_name": "Python 3",
   "language": "python",
   "name": "python3"
  },
  "language_info": {
   "codemirror_mode": {
    "name": "ipython",
    "version": 3
   },
   "file_extension": ".py",
   "mimetype": "text/x-python",
   "name": "python",
   "nbconvert_exporter": "python",
   "pygments_lexer": "ipython3",
   "version": "3.8.11"
  }
 },
 "nbformat": 4,
 "nbformat_minor": 5
}
