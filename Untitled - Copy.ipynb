{
 "cells": [
  {
   "cell_type": "code",
   "execution_count": null,
   "id": "4409d53e",
   "metadata": {},
   "outputs": [],
   "source": [
    "import os\n",
    "import pandas as pd\n",
    "import numpy as np\n",
    "from datetime import datetime\n",
    "import matplotlib.pyplot as plt\n",
    "import seaborn as sns"
   ]
  },
  {
   "cell_type": "code",
   "execution_count": null,
   "id": "d9a2bce9",
   "metadata": {},
   "outputs": [],
   "source": [
    "\n",
    "file=pd.read_excel(\"Merged files.xlsx\",header=0)"
   ]
  },
  {
   "cell_type": "code",
   "execution_count": null,
   "id": "843ac1cb",
   "metadata": {},
   "outputs": [],
   "source": [
    "file.head(3)"
   ]
  },
  {
   "cell_type": "code",
   "execution_count": null,
   "id": "907f76eb",
   "metadata": {},
   "outputs": [],
   "source": [
    "file['Datum i vrijeme'] = pd.to_datetime(file['Datum i vrijeme'],yearfirst=True)"
   ]
  },
  {
   "cell_type": "code",
   "execution_count": null,
   "id": "5cb7fc44",
   "metadata": {},
   "outputs": [],
   "source": [
    "#Merged files has been manually modified \n",
    "file[\"Sat\"]=file[\"Datum i vrijeme\"].dt.hour\n",
    "file[\"Dan u sedmici\"]=file[\"Datum i vrijeme\"].dt.dayofweek\n",
    "file[\"Mjesec\"]=file[\"Datum i vrijeme\"].dt.month\n",
    "file[\"Godina\"]=file[\"Datum i vrijeme\"].dt.year\n",
    "file['Kvartal'] =file['Datum i vrijeme'].dt.quarter\n",
    "file['Dan u godini'] =file['Datum i vrijeme'].dt.dayofyear\n",
    "file['Dan u mjesecu'] = file['Datum i vrijeme'].dt.day\n",
    "file['Sedmica'] = file['Datum i vrijeme'].dt.weekofyear"
   ]
  },
  {
   "cell_type": "code",
   "execution_count": null,
   "id": "0654db39",
   "metadata": {},
   "outputs": [],
   "source": [
    "f, ax = plt.subplots(nrows=48, ncols=1, figsize=(15, 200))\n",
    "\n",
    "for i, column in enumerate(file.columns[1:49]):\n",
    "    sns.lineplot(x=file['Datum i vrijeme'], y=file[column].fillna(method='ffill'), ax=ax[i], color='dodgerblue')\n",
    "    ax[i].set_title('Feature: {}'.format(column), fontsize=10)\n",
    "    ax[i].set_ylabel(ylabel=column, fontsize=10)"
   ]
  },
  {
   "cell_type": "code",
   "execution_count": null,
   "id": "af659b6d",
   "metadata": {},
   "outputs": [],
   "source": [
    "file[:46].describe()"
   ]
  },
  {
   "cell_type": "code",
   "execution_count": null,
   "id": "e5dbd894",
   "metadata": {},
   "outputs": [],
   "source": [
    "file=file.drop(['Vodomjer hidrant 10058705Voda (m3)', 'Brojilo el.energije ko 46621646El.energija VT (kWh)', 'Brojilo el.energije ko 46621646El.energija MT (kWh)','Brojilo el.energije po 38878959El.energija VT (kWh)',\n",
    "       'Brojilo el.energije po 38878959El.energija MT (kWh)',\n",
    "       'Brojilo el.energije kl 46868995El.energija VT (kWh)',\n",
    "       'Brojilo el.energije kl 46868995El.energija MT (kWh)', 'Kalorimetar 2 39024724Topl.energija (MWh)','Kalorimetar 3 39024787Temp.pol.voda (°C)','Kalorimetar 3 39024787Temp.pov.voda (°C)'],axis=1)"
   ]
  },
  {
   "cell_type": "code",
   "execution_count": null,
   "id": "a28817fe",
   "metadata": {},
   "outputs": [],
   "source": [
    "file.to_excel(\"Merged files_1.xlsx\", index=False)"
   ]
  },
  {
   "cell_type": "code",
   "execution_count": null,
   "id": "c99a8c10",
   "metadata": {},
   "outputs": [],
   "source": [
    "file=file.sort_values(by=[\"Godina\",\"Dan u godini\",\"Sat\"])"
   ]
  },
  {
   "cell_type": "code",
   "execution_count": null,
   "id": "dae3cc60",
   "metadata": {},
   "outputs": [],
   "source": [
    "file.columns\n"
   ]
  },
  {
   "cell_type": "code",
   "execution_count": null,
   "id": "bc20ce16",
   "metadata": {},
   "outputs": [],
   "source": [
    "X=file[file.columns[18:20]]"
   ]
  },
  {
   "cell_type": "code",
   "execution_count": null,
   "id": "9a75b6a7",
   "metadata": {},
   "outputs": [],
   "source": [
    "X[\"Temp_vanj\"]=file['Temp.senzor vanj.1 25000099Temperatura (°C)']"
   ]
  },
  {
   "cell_type": "code",
   "execution_count": null,
   "id": "4ad4f4bb",
   "metadata": {},
   "outputs": [],
   "source": [
    "X.set_index(file[\"Datum i vrijeme\"])"
   ]
  },
  {
   "cell_type": "code",
   "execution_count": null,
   "id": "4e61a0c9",
   "metadata": {},
   "outputs": [],
   "source": [
    "X[\"Datum i vrijeme\"]=file[\"Datum i vrijeme\"].values"
   ]
  },
  {
   "cell_type": "code",
   "execution_count": null,
   "id": "c21329de",
   "metadata": {},
   "outputs": [],
   "source": [
    "Y=file.loc[:, ['Temp.senzor un.4 24004658Temperatura (°C)']]"
   ]
  },
  {
   "cell_type": "code",
   "execution_count": null,
   "id": "7f8c842d",
   "metadata": {},
   "outputs": [],
   "source": [
    "feat_and_lab=pd.concat([X,Y],axis=1)"
   ]
  },
  {
   "cell_type": "code",
   "execution_count": null,
   "id": "9e7921a5",
   "metadata": {},
   "outputs": [],
   "source": [
    "feat_and_lab.head(2)"
   ]
  },
  {
   "cell_type": "code",
   "execution_count": null,
   "id": "e7bd7e38",
   "metadata": {},
   "outputs": [],
   "source": [
    "feat_and_lab.isna().sum()"
   ]
  },
  {
   "cell_type": "code",
   "execution_count": null,
   "id": "ab4beb90",
   "metadata": {},
   "outputs": [],
   "source": [
    "for col in feat_and_lab.columns:\n",
    "    feat_and_lab[col] = feat_and_lab[col].interpolate(method=\"bfill\")"
   ]
  },
  {
   "cell_type": "code",
   "execution_count": null,
   "id": "6f2cda6e",
   "metadata": {},
   "outputs": [],
   "source": [
    "feat_and_lab.isna().sum()"
   ]
  },
  {
   "cell_type": "code",
   "execution_count": null,
   "id": "d720c72d",
   "metadata": {},
   "outputs": [],
   "source": [
    "feat_and_lab.columns"
   ]
  },
  {
   "cell_type": "code",
   "execution_count": null,
   "id": "fabe99f7",
   "metadata": {},
   "outputs": [],
   "source": [
    "columns1=feat_and_lab.columns\n",
    "downsample=feat_and_lab[columns1].resample(\"1D\", on=\"Datum i vrijeme\").mean()\n",
    "\n",
    "feat_and_lab_1= downsample.copy()"
   ]
  },
  {
   "cell_type": "code",
   "execution_count": null,
   "id": "203cf2c5",
   "metadata": {},
   "outputs": [],
   "source": [
    "feat_and_lab.isna().sum()"
   ]
  },
  {
   "cell_type": "code",
   "execution_count": null,
   "id": "af9dbfdf",
   "metadata": {},
   "outputs": [],
   "source": [
    "#Merged files has been manually modified \n",
    "feat_and_lab_[\"Dan u sedmici\"]=pd.DatetimeIndex(feat_and_lab_1.index).dayofweek\n",
    "feat_and_lab_[\"Mjesec\"]=pd.DatetimeIndex(feat_and_lab_1.index).month\n",
    "feat_and_lab_[\"Godina\"]=pd.DatetimeIndex(feat_and_lab_1.index).year\n",
    "feat_and_lab_1 ['Kvartal'] =pd.DatetimeIndex(feat_and_lab_1.index).quarter\n",
    "feat_and_lab_1 ['Dan u godini'] =pd.DatetimeIndex(feat_and_lab_1.index).dayofyear\n",
    "feat_and_lab_1 ['Dan u mjesecu'] = pd.DatetimeIndex(feat_and_lab_1.index).day\n",
    "feat_and_lab_1 ['Sedmica'] =pd.DatetimeIndex(feat_and_lab_1.index).weekofyear\n",
    "feat_and_lab_1 ['Sezona'] = feat_and_lab_1 ['Mjesec'] % 12 // 3 + 1\n",
    "\n",
    "feat_and_lab_1 [[ \"Dan u sedmici\", \"Mjesec\", \"Godina\", 'Kvartal', 'Dan u godini', 'Dan u mjesecu', 'Sedmica',\"Sezona\"]].head()"
   ]
  },
  {
   "cell_type": "code",
   "execution_count": null,
   "id": "028beb41",
   "metadata": {},
   "outputs": [],
   "source": [
    "for col in feat_and_lab_1.columns:\n",
    "    feat_and_lab_1[col] = feat_and_lab_1[col].interpolate()\n",
    "feat_and_lab_1.isna().sum()"
   ]
  },
  {
   "cell_type": "code",
   "execution_count": null,
   "id": "047cbf81",
   "metadata": {},
   "outputs": [],
   "source": [
    "from statsmodels.tsa.seasonal import seasonal_decompose\n",
    "\n",
    "core_columns =  [\"Temp.senzor vanj.1 25000099Temperatura (°C)\",\"Plinomjer ist.zgrada 00062313Plin (m3)\",\"Plinomjer zap.zgrada 20526377Plin (m3)\",\"Plin, m3\",\"Kalorimetar 1 39024788Topl.energija (MWh)\",\"Kalorimetar 3 39024787Topl.energija (MWh)\",\"Kalorimetar, (MWh)\"\n",
    "]\n",
    "\n",
    "for column in core_columns:\n",
    "    decomp = seasonal_decompose(feat_and_lab_1[column], period=27, model='additive', extrapolate_trend='freq')\n",
    "    feat_and_lab_1[f\"{column}_trend\"] = decomp.trend\n",
    "    feat_and_lab_1[f\"{column}_seasonal\"] = decomp.seasonal"
   ]
  },
  {
   "cell_type": "code",
   "execution_count": null,
   "id": "4f580b58",
   "metadata": {},
   "outputs": [],
   "source": [
    "fig, ax = plt.subplots(ncols=len(core_columns), nrows=4, sharex=True, figsize=(20,8))\n",
    "\n",
    "for i, column in enumerate(core_columns):\n",
    "    \n",
    "    res = seasonal_decompose(feat_and_lab_1[column], freq=52, model='additive', extrapolate_trend='freq')\n",
    "\n",
    "    ax[0,i].set_title('Decomposition of {}'.format(column), fontsize=16)\n",
    "    res.observed.plot(ax=ax[0,i], legend=False, color='dodgerblue')\n",
    "    ax[0,i].set_ylabel('Observed', fontsize=7)\n",
    "\n",
    "    res.trend.plot(ax=ax[1,i], legend=False, color='dodgerblue')\n",
    "    ax[1,i].set_ylabel('Trend', fontsize=7)\n",
    "\n",
    "    res.seasonal.plot(ax=ax[2,i], legend=False, color='dodgerblue')\n",
    "    ax[2,i].set_ylabel('Seasonal', fontsize=7)\n",
    "    \n",
    "    res.resid.plot(ax=ax[3,i], legend=False, color='dodgerblue')\n",
    "    ax[3,i].set_ylabel('Residual', fontsize=7)\n",
    "\n",
    "plt.show()"
   ]
  },
  {
   "cell_type": "code",
   "execution_count": null,
   "id": "2595454b",
   "metadata": {},
   "outputs": [],
   "source": [
    "feat_and_lab"
   ]
  },
  {
   "cell_type": "code",
   "execution_count": null,
   "id": "561295b7",
   "metadata": {},
   "outputs": [],
   "source": [
    "from statsmodels.tsa.arima_model import ARIMA\n",
    "#aa=feat_and_lab.index.values\n",
    "aa=feat_and_lab.index"
   ]
  },
  {
   "cell_type": "code",
   "execution_count": null,
   "id": "4c5119c1",
   "metadata": {},
   "outputs": [],
   "source": [
    "#univariate_df[\"Datum i vrijeme\"]=aa\n",
    "univariate_df=pd.DataFrame(aa)\n",
    "#univariate_df[\"Temp.senzor vanj.1 25000099Temperatura (°C)\"]=feat_and_lab_1[\"Temp.senzor vanj.1 25000099Temperatura (°C)\"].values\n",
    "univariate_df[\"Temp pol\"]=feat_and_lab['Temp.senzor un.1 24003403Temp.pol.voda (°C)'].values\n",
    "univariate_df[\"Temp pov\"]=feat_and_lab['Temp.senzor un.1 24003403Temp.pov.voda (°C)'].values\n",
    "univariate_df[\"Temp vanj\"]=feat_and_lab['Temp_vanj'].values\n",
    "univariate_df[\"Temp \"]=feat_and_lab['Temp.senzor un.4 24004658Temperatura (°C)'].values\n",
    "#univariate_df[\"Plin, m3\"]=feat_and_lab_1[\"Plin, m3\"].values"
   ]
  },
  {
   "cell_type": "code",
   "execution_count": null,
   "id": "3f822735",
   "metadata": {},
   "outputs": [],
   "source": [
    "univariate_df"
   ]
  },
  {
   "cell_type": "code",
   "execution_count": null,
   "id": "37401249",
   "metadata": {},
   "outputs": [],
   "source": [
    "train_size = int(0.85 * len(feat_and_lab))\n",
    "test_size = len(feat_and_lab) - train_size\n",
    "\n",
    "\n",
    "train = univariate_df.iloc[:train_size, :]\n",
    "\n",
    "x_train, y_train = pd.DataFrame((univariate_df.iloc[:train_size, :4])),  pd.DataFrame((univariate_df.iloc[:train_size,4 ]))\n",
    "x_valid, y_valid = pd.DataFrame((univariate_df.iloc[train_size:,:4])), pd.DataFrame((univariate_df.iloc[train_size:, 4]))\n",
    "\n",
    "print(len(train), len(x_valid))"
   ]
  },
  {
   "cell_type": "code",
   "execution_count": null,
   "id": "8cfeb9fc",
   "metadata": {},
   "outputs": [],
   "source": [
    "y_valid"
   ]
  },
  {
   "cell_type": "code",
   "execution_count": null,
   "id": "7f623cd3",
   "metadata": {},
   "outputs": [],
   "source": [
    "from sklearn.metrics import mean_absolute_error, mean_squared_error\n",
    "import math"
   ]
  },
  {
   "cell_type": "code",
   "execution_count": null,
   "id": "21fe97aa",
   "metadata": {},
   "outputs": [],
   "source": [
    "y_train"
   ]
  },
  {
   "cell_type": "code",
   "execution_count": null,
   "id": "dc29cb54",
   "metadata": {},
   "outputs": [],
   "source": [
    "y_train.isna().sum()"
   ]
  },
  {
   "cell_type": "code",
   "execution_count": null,
   "id": "756dbb90",
   "metadata": {},
   "outputs": [],
   "source": [
    "y_train.interpolate()"
   ]
  },
  {
   "cell_type": "code",
   "execution_count": null,
   "id": "226bf91a",
   "metadata": {},
   "outputs": [],
   "source": [
    "# Fit model\n",
    "model = ARIMA(y_train.interpolate(), order=(2,0,1))\n",
    "model_fit = model.fit()\n",
    "\n",
    "# Prediction with ARIMA\n",
    "y_pred, se, conf = model_fit.forecast(2270)\n",
    "\n",
    "# Calcuate metrics\n",
    "score_mae = mean_absolute_error(y_valid, y_pred)\n",
    "score_rmse = math.sqrt(mean_squared_error(y_valid, y_pred))\n",
    "\n",
    "print('RMSE: {}'.format(score_rmse))"
   ]
  },
  {
   "cell_type": "code",
   "execution_count": null,
   "id": "4ea196c5",
   "metadata": {},
   "outputs": [],
   "source": []
  },
  {
   "cell_type": "code",
   "execution_count": null,
   "id": "ded64185",
   "metadata": {},
   "outputs": [],
   "source": [
    "from statsmodels.tsa.arima_model import ARIMA\n",
    "import pmdarima as pm\n",
    "model = pm.auto_arima(y_train.interpolate(), start_p=1, start_q=1,\n",
    "                      test='adf',       # use adftest to find optimal 'd'\n",
    "                      max_p=3, max_q=3, # maximum p and q\n",
    "                      m=1,              # frequency of series\n",
    "                      d=None,           # let model determine 'd'\n",
    "                      seasonal=False,   # No Seasonality\n",
    "                      start_P=0, \n",
    "                      D=0, \n",
    "                      trace=True,\n",
    "                      error_action='ignore',  \n",
    "                      suppress_warnings=True, \n",
    "                      stepwise=True)\n",
    "\n",
    "print(model.summary())"
   ]
  },
  {
   "cell_type": "code",
   "execution_count": null,
   "id": "247a7e6c",
   "metadata": {},
   "outputs": [],
   "source": [
    "model.plot_diagnostics(figsize=(16,8))\n",
    "plt.show()\n"
   ]
  },
  {
   "cell_type": "code",
   "execution_count": null,
   "id": "a065744d",
   "metadata": {},
   "outputs": [],
   "source": [
    "y_valid.columns\n"
   ]
  },
  {
   "cell_type": "code",
   "execution_count": null,
   "id": "ac4f6bdf",
   "metadata": {},
   "outputs": [],
   "source": [
    "f, ax = plt.subplots(1)\n",
    "f.set_figheight(6)\n",
    "f.set_figwidth(15)\n",
    "\n",
    "model_fit.plot_predict(1, 2270, ax=ax)\n",
    "sns.lineplot(x=x_valid.index, y=y_valid['Temp '], ax=ax, color='orange', label='Ground truth') #navajowhite\n",
    "\n",
    "ax.set_title(f'Prediction \\n MAE: {score_mae:.2f}, RMSE: {score_rmse:.2f}', fontsize=14)\n",
    "ax.set_xlabel(xlabel='Date', fontsize=14)\n",
    "ax.set_ylabel(ylabel='Depth to Groundwater', fontsize=14)\n",
    "\n",
    "plt.show()"
   ]
  },
  {
   "cell_type": "code",
   "execution_count": null,
   "id": "07048a37",
   "metadata": {},
   "outputs": [],
   "source": [
    "from datetime import date\n",
    "d0 = date(2015, 10, 15)\n",
    "d1 = date(2016, 4, 15)\n",
    "delta = d1 - d0\n",
    "print(delta.days)"
   ]
  },
  {
   "cell_type": "code",
   "execution_count": null,
   "id": "dcaa4a72",
   "metadata": {},
   "outputs": [],
   "source": [
    "from sklearn.preprocessing import MinMaxScaler\n",
    "\n",
    "data = univariate_df.filter([\"Temp \"])\n",
    "#Convert the dataframe to a numpy array\n",
    "dataset = data.values"
   ]
  },
  {
   "cell_type": "code",
   "execution_count": null,
   "id": "4766f350",
   "metadata": {},
   "outputs": [],
   "source": [
    "dataset"
   ]
  },
  {
   "cell_type": "code",
   "execution_count": null,
   "id": "1534a7b7",
   "metadata": {},
   "outputs": [],
   "source": [
    "scaler = MinMaxScaler(feature_range=(-1, 0))\n",
    "scaled_data = scaler.fit_transform(dataset)\n",
    "\n",
    "scaled_data[:10]"
   ]
  },
  {
   "cell_type": "code",
   "execution_count": null,
   "id": "ba47a8d9",
   "metadata": {},
   "outputs": [],
   "source": [
    "x_train.shape[1]"
   ]
  },
  {
   "cell_type": "code",
   "execution_count": null,
   "id": "4b717676",
   "metadata": {},
   "outputs": [],
   "source": [
    "train"
   ]
  },
  {
   "cell_type": "code",
   "execution_count": null,
   "id": "7c9f4e29",
   "metadata": {},
   "outputs": [],
   "source": [
    "\n",
    "look_back = 0\n",
    "# Split into train and test sets\n",
    "train, test = scaled_data[:train_size-look_back,:], scaled_data[train_size-look_back:,:]\n",
    "\n",
    "def create_dataset(dataset, look_back=0):\n",
    "    X, Y = [], []\n",
    "    for i in range(len(dataset)):\n",
    "        a = train[i, :4]\n",
    "        X.append(a)\n",
    "        Y.append(dataset[i, 0])\n",
    "    return np.array(X), np.array(Y)\n",
    "\n",
    "x_train, y_train = create_dataset(train, 0)\n",
    "x_test, y_test = create_dataset(test, 0)\n",
    "\n",
    "x_train, y_train = create_dataset(train)\n",
    "x_test, y_test = create_dataset(test)\n",
    "# reshape input to be [samples, time steps, features]\n",
    "x_train = np.reshape(x_train, (x_train.shape[0], 1, x_train.shape[1]))\n",
    "x_test = np.reshape(x_test, (x_test.shape[0], 1, x_test.shape[1]))\n",
    "\n",
    "print(len(x_train), len(x_test))"
   ]
  },
  {
   "cell_type": "code",
   "execution_count": null,
   "id": "1d8d8f24",
   "metadata": {},
   "outputs": [],
   "source": [
    "x_train, y_train = pd.DataFrame((univariate_df.iloc[:train_size, :4])),  pd.DataFrame((univariate_df.iloc[:train_size,4 ]))\n",
    "x_valid, y_valid = pd.DataFrame((univariate_df.iloc[train_size:,:4])), pd.DataFrame((univariate_df.iloc[train_size:, 4]))\n",
    "x_train = np.reshape(x_train, (x_train.shape[0], 1, x_train.shape[1]))\n",
    "x_test = np.reshape(x_test, (x_test.shape[0], 1, x_test.shape[1]))\n",
    "\n",
    "print(len(x_train), len(x_test))"
   ]
  },
  {
   "cell_type": "code",
   "execution_count": null,
   "id": "476ee6f0",
   "metadata": {},
   "outputs": [],
   "source": [
    "x_train.shape\n"
   ]
  },
  {
   "cell_type": "code",
   "execution_count": null,
   "id": "e06d3d26",
   "metadata": {},
   "outputs": [],
   "source": [
    "from tensorflow import keras\n",
    "from tensorflow.keras.models import Sequential\n",
    "from tensorflow.keras.layers import Dense, LSTM\n",
    "\n",
    "model = Sequential()\n",
    "model.add(LSTM(128, return_sequences=True, input_shape=(x_train.shape[0], x_train.shape[1])))\n",
    "model.add(LSTM(64, return_sequences=False))\n",
    "model.add(Dense(25))\n",
    "model.add(Dense(1))\n",
    "\n",
    "# Compile the model\n",
    "model.compile(optimizer='adam', loss='mean_squared_error')\n",
    "\n",
    "#Train the model\n",
    "model.fit(x_train, y_train, batch_size=1, epochs=5, validation_data=(x_test, y_test))\n",
    "\n",
    "model.summary()"
   ]
  },
  {
   "cell_type": "code",
   "execution_count": null,
   "id": "917c245e",
   "metadata": {},
   "outputs": [],
   "source": [
    "# Lets predict with the model\n",
    "train_predict = model.predict(x_train)\n",
    "test_predict = model.predict(x_test)\n",
    "\n",
    "# invert predictions\n",
    "train_predict = scaler.inverse_transform(train_predict)\n",
    "y_train = scaler.inverse_transform([y_train])\n",
    "\n",
    "test_predict = scaler.inverse_transform(test_predict)\n",
    "y_test = scaler.inverse_transform([y_test])\n",
    "\n",
    "# Get the root mean squared error (RMSE) and MAE\n",
    "score_rmse = np.sqrt(mean_squared_error(y_test[0], test_predict[:,0]))\n",
    "score_mae = mean_absolute_error(y_test[0], test_predict[:,0])\n",
    "print('RMSE: {}'.format(score_rmse))"
   ]
  },
  {
   "cell_type": "code",
   "execution_count": null,
   "id": "7475c920",
   "metadata": {},
   "outputs": [],
   "source": []
  }
 ],
 "metadata": {
  "kernelspec": {
   "display_name": "Python 3",
   "language": "python",
   "name": "python3"
  },
  "language_info": {
   "codemirror_mode": {
    "name": "ipython",
    "version": 3
   },
   "file_extension": ".py",
   "mimetype": "text/x-python",
   "name": "python",
   "nbconvert_exporter": "python",
   "pygments_lexer": "ipython3",
   "version": "3.8.11"
  }
 },
 "nbformat": 4,
 "nbformat_minor": 5
}
