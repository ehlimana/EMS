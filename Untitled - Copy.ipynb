{
 "cells": [
  {
   "cell_type": "code",
   "execution_count": null,
   "id": "7fea6e3d",
   "metadata": {},
   "outputs": [],
   "source": [
    "import os\n",
    "import pandas as pd\n",
    "import numpy as np\n",
    "from datetime import datetime\n",
    "import matplotlib.pyplot as plt\n",
    "import seaborn as sns"
   ]
  },
  {
   "cell_type": "code",
   "execution_count": null,
   "id": "48232ebd",
   "metadata": {},
   "outputs": [],
   "source": [
    "\n",
    "file=pd.read_excel(\"Merged files.xlsx\",header=0)"
   ]
  },
  {
   "cell_type": "code",
   "execution_count": null,
   "id": "ebaff3a6",
   "metadata": {},
   "outputs": [],
   "source": [
    "file.head(3)"
   ]
  },
  {
   "cell_type": "code",
   "execution_count": null,
   "id": "47a411af",
   "metadata": {},
   "outputs": [],
   "source": [
    "file['Datum i vrijeme'] = pd.to_datetime(file['Datum i vrijeme'],yearfirst=True)"
   ]
  },
  {
   "cell_type": "code",
   "execution_count": null,
   "id": "2e7991b3",
   "metadata": {},
   "outputs": [],
   "source": [
    "#Merged files has been manually modified \n",
    "file[\"Sat\"]=file[\"Datum i vrijeme\"].dt.hour\n",
    "file[\"Dan u sedmici\"]=file[\"Datum i vrijeme\"].dt.dayofweek\n",
    "file[\"Mjesec\"]=file[\"Datum i vrijeme\"].dt.month\n",
    "file[\"Godina\"]=file[\"Datum i vrijeme\"].dt.year\n",
    "file['Kvartal'] =file['Datum i vrijeme'].dt.quarter\n",
    "file['Dan u godini'] =file['Datum i vrijeme'].dt.dayofyear\n",
    "file['Dan u mjesecu'] = file['Datum i vrijeme'].dt.day\n",
    "file['Sedmica'] = file['Datum i vrijeme'].dt.weekofyear"
   ]
  },
  {
   "cell_type": "code",
   "execution_count": null,
   "id": "8d59cbc6",
   "metadata": {},
   "outputs": [],
   "source": [
    "f, ax = plt.subplots(nrows=48, ncols=1, figsize=(15, 200))\n",
    "\n",
    "for i, column in enumerate(file.columns[1:49]):\n",
    "    sns.lineplot(x=file['Datum i vrijeme'], y=file[column].fillna(method='ffill'), ax=ax[i], color='dodgerblue')\n",
    "    ax[i].set_title('Feature: {}'.format(column), fontsize=10)\n",
    "    ax[i].set_ylabel(ylabel=column, fontsize=10)"
   ]
  },
  {
   "cell_type": "code",
   "execution_count": null,
   "id": "ae6adce9",
   "metadata": {},
   "outputs": [],
   "source": [
    "file[:46].describe()"
   ]
  },
  {
   "cell_type": "code",
   "execution_count": null,
   "id": "72a17142",
   "metadata": {},
   "outputs": [],
   "source": [
    "file=file.drop(['Vodomjer hidrant 10058705Voda (m3)', 'Brojilo el.energije ko 46621646El.energija VT (kWh)', 'Brojilo el.energije ko 46621646El.energija MT (kWh)','Brojilo el.energije po 38878959El.energija VT (kWh)',\n",
    "       'Brojilo el.energije po 38878959El.energija MT (kWh)',\n",
    "       'Brojilo el.energije kl 46868995El.energija VT (kWh)',\n",
    "       'Brojilo el.energije kl 46868995El.energija MT (kWh)', 'Kalorimetar 2 39024724Topl.energija (MWh)','Kalorimetar 3 39024787Temp.pol.voda (°C)','Kalorimetar 3 39024787Temp.pov.voda (°C)'],axis=1)"
   ]
  },
  {
   "cell_type": "code",
   "execution_count": null,
   "id": "9506b87b",
   "metadata": {},
   "outputs": [],
   "source": [
    "file.to_excel(\"Merged files_1.xlsx\", index=False)"
   ]
  },
  {
   "cell_type": "code",
   "execution_count": null,
   "id": "81815363",
   "metadata": {},
   "outputs": [],
   "source": [
    "file=file.sort_values(by=[\"Godina\",\"Dan u godini\",\"Sat\"])"
   ]
  },
  {
   "cell_type": "code",
   "execution_count": null,
   "id": "7a1206e6",
   "metadata": {},
   "outputs": [],
   "source": [
    "file.columns\n"
   ]
  },
  {
   "cell_type": "code",
   "execution_count": null,
   "id": "948defb0",
   "metadata": {},
   "outputs": [],
   "source": [
    "X=file[file.columns[18:20]]"
   ]
  },
  {
   "cell_type": "code",
   "execution_count": null,
   "id": "4ab18fda",
   "metadata": {},
   "outputs": [],
   "source": [
    "X.set_index(file[\"Datum i vrijeme\"])"
   ]
  },
  {
   "cell_type": "code",
   "execution_count": null,
   "id": "99450242",
   "metadata": {},
   "outputs": [],
   "source": [
    "X[\"Datum i vrijeme\"]=file[\"Datum i vrijeme\"].values"
   ]
  },
  {
   "cell_type": "code",
   "execution_count": null,
   "id": "ec67df3c",
   "metadata": {},
   "outputs": [],
   "source": [
    "Y=file.loc[:, ['Temp.senzor un.4 24004658Temperatura (°C)']]"
   ]
  },
  {
   "cell_type": "code",
   "execution_count": null,
   "id": "cd3b43f4",
   "metadata": {},
   "outputs": [],
   "source": [
    "Z=file.loc[:, ['Kalorimetar 1 39024788Topl.energija (MWh)','Kalorimetar 3 39024787Topl.energija (MWh)']]\n",
    "Z['Kalorimetar 1 39024788Topl.energija (MWh)']=pd.to_numeric(Z['Kalorimetar 1 39024788Topl.energija (MWh)'],errors=\"coerce\")\n",
    "Z[ 'Kalorimetar 3 39024787Topl.energija (MWh)']=pd.to_numeric(Z['Kalorimetar 3 39024787Topl.energija (MWh)'],errors=\"coerce\")\n",
    "\n",
    "Z[\"Kalorimetar, (MWh)\"]=pd.to_numeric(file['Kalorimetar 1 39024788Topl.energija (MWh)'],errors=\"coerce\")+file['Kalorimetar 3 39024787Topl.energija (MWh)']"
   ]
  },
  {
   "cell_type": "code",
   "execution_count": null,
   "id": "e6a5aea7",
   "metadata": {},
   "outputs": [],
   "source": [
    "feat_and_lab=pd.concat([X,Y],axis=1)"
   ]
  },
  {
   "cell_type": "code",
   "execution_count": null,
   "id": "5b10fe94",
   "metadata": {},
   "outputs": [],
   "source": [
    "feat_and_lab.head(2)"
   ]
  },
  {
   "cell_type": "code",
   "execution_count": null,
   "id": "d934a620",
   "metadata": {},
   "outputs": [],
   "source": [
    "feat_and_lab_1=feat_and_lab.groupby([\"Godina\"]).sum()"
   ]
  },
  {
   "cell_type": "code",
   "execution_count": null,
   "id": "bc006cde",
   "metadata": {},
   "outputs": [],
   "source": [
    "plt.subplot(2,3,1)\n",
    "feat_and_lab_1.plot(y=\"Plinomjer ist.zgrada 00062313Plin (m3)\",kind=\"bar\",ax=plt.gca(),figsize=(17,10))\n",
    "plt.title(\"Plinomjer ist.zgrada 00062313Plin (m3)\")\n",
    "plt.subplot(2,3,2)\n",
    "feat_and_lab_1.plot(y=\"Plinomjer zap.zgrada 20526377Plin (m3)\",kind=\"bar\",ax=plt.gca(),figsize=(17,10))\n",
    "plt.title(\"Plinomjer zap.zgrada 20526377Plin (m3)\")\n",
    "plt.subplot(2,3,3)\n",
    "feat_and_lab_1.plot(y=\"Plin, m3\",kind=\"bar\",ax=plt.gca(),figsize=(17,10))\n",
    "plt.title(\"Plin, m3 - ukupno\")\n",
    "plt.subplot(2,3,4)\n",
    "feat_and_lab_1.plot(y=\"Kalorimetar 1 39024788Topl.energija (MWh)\",kind=\"bar\",ax=plt.gca(),figsize=(17,10))\n",
    "plt.title(\"Kalorimetar 1 39024788Topl.energija (MWh)\")\n",
    "plt.subplot(2,3,5)\n",
    "feat_and_lab_1.plot(y=\"Kalorimetar 3 39024787Topl.energija (MWh)\",kind=\"bar\",ax=plt.gca(),figsize=(17,10))\n",
    "plt.title(\"Kalorimetar 3 39024787Topl.energija (MWh)\")\n",
    "plt.subplot(2,3,6)\n",
    "feat_and_lab_1.plot(y=\"Kalorimetar, (MWh)\",kind=\"bar\",ax=plt.gca(),figsize=(17,10))\n",
    "plt.title(\"Kalorimetar, (MWh)\")\n",
    "plt.show()"
   ]
  },
  {
   "cell_type": "code",
   "execution_count": null,
   "id": "3cdfeb04",
   "metadata": {},
   "outputs": [],
   "source": [
    "feat_and_lab_2=feat_and_lab.groupby([\"Godina\",\"Mjesec\"]).sum()\n",
    "feat_and_lab_2.head()"
   ]
  },
  {
   "cell_type": "code",
   "execution_count": null,
   "id": "284110b9",
   "metadata": {},
   "outputs": [],
   "source": [
    "plt.figure()\n",
    "feat_and_lab_2.plot(y=\"Plin, m3\",kind=\"bar\")\n",
    "plt.show()"
   ]
  },
  {
   "cell_type": "code",
   "execution_count": null,
   "id": "93ca2d46",
   "metadata": {},
   "outputs": [],
   "source": [
    "feat_and_lab_3=feat_and_lab.groupby([\"Godina\",\"Mjesec\",\"Sat\"]).mean()\n",
    "plt.subplot(1,2,1)\n",
    "feat_and_lab_3.plot(y=\"Temp.senzor vanj.1 25000099Temperatura (°C)\",kind=\"line\",figsize=(15,5),ax=plt.gca())\n",
    "plt.subplot(1,2,2)\n",
    "feat_and_lab_4=feat_and_lab.groupby([\"Sat\"]).mean()\n",
    "feat_and_lab_4.plot(y=\"Temp.senzor vanj.1 25000099Temperatura (°C)\",kind=\"line\",figsize=(15,5),ax=plt.gca())\n",
    "plt.show()"
   ]
  },
  {
   "cell_type": "code",
   "execution_count": null,
   "id": "3b46ae02",
   "metadata": {},
   "outputs": [],
   "source": [
    "sns.lineplot(x=feat_and_lab[\"Sat\"],y=feat_and_lab[\"Temp.senzor vanj.1 25000099Temperatura (°C)\"],hue=feat_and_lab[\"Godina\"],ci=False)\n",
    "plt.show()"
   ]
  },
  {
   "cell_type": "code",
   "execution_count": null,
   "id": "ad20d280",
   "metadata": {},
   "outputs": [],
   "source": [
    "f, ax = plt.subplots(nrows=1, ncols=2, figsize=(15, 7))\n",
    "sns.lineplot(x=feat_and_lab[\"Sat\"],y=feat_and_lab[\"Plin, m3\"],hue=feat_and_lab[\"Godina\"],ci=False,ax=ax[0])\n",
    "sns.lineplot(x=feat_and_lab[\"Sat\"],y=feat_and_lab[\"Kalorimetar, (MWh)\"],hue=feat_and_lab[\"Godina\"],ci=False,ax=ax[1])\n",
    "plt.show()"
   ]
  },
  {
   "cell_type": "code",
   "execution_count": null,
   "id": "84354399",
   "metadata": {},
   "outputs": [],
   "source": [
    "feat_and_lab_3=feat_and_lab.groupby([\"Sat\"]).sum()\n",
    "plt.subplot(1,2,1)\n",
    "feat_and_lab_3.plot(y=\"Plin, m3\",kind=\"line\",figsize=(7,5),ax=plt.gca())\n",
    "plt.ylabel(\"Plin, m3\")\n",
    "plt.subplot(1,2,2)\n",
    "feat_and_lab_3.plot(y=\"Kalorimetar 3 39024787Topl.energija (MWh)\",kind=\"line\",figsize=(15,5),ax=plt.gca())\n",
    "plt.ylabel(\"Kalorimetar 3 39024787Topl.energija (MWh)\")\n",
    "plt.show()"
   ]
  },
  {
   "cell_type": "code",
   "execution_count": null,
   "id": "cf8b9b28",
   "metadata": {},
   "outputs": [],
   "source": [
    "f, ax = plt.subplots(nrows=7, ncols=1, figsize=(15, 30))\n",
    "columns=[\"Temp.senzor vanj.1 25000099Temperatura (°C)\",\"Plinomjer ist.zgrada 00062313Plin (m3)\",\"Plinomjer zap.zgrada 20526377Plin (m3)\",\"Plin, m3\",\"Kalorimetar 1 39024788Topl.energija (MWh)\",\"Kalorimetar 3 39024787Topl.energija (MWh)\",\"Kalorimetar, (MWh)\"]\n",
    "for i, column in enumerate(columns):\n",
    "    sns.lineplot(x=file['Datum i vrijeme'], y=feat_and_lab[column].fillna(method='ffill'), ax=ax[i], color='dodgerblue')\n",
    "    ax[i].set_title('Feature: {}'.format(column), fontsize=10)\n",
    "    ax[i].set_ylabel(ylabel=column, fontsize=10)\n",
    "                      "
   ]
  },
  {
   "cell_type": "code",
   "execution_count": null,
   "id": "8fa28068",
   "metadata": {},
   "outputs": [],
   "source": [
    "feat_and_lab.isna().sum()"
   ]
  },
  {
   "cell_type": "code",
   "execution_count": null,
   "id": "ce4aff32",
   "metadata": {},
   "outputs": [],
   "source": [
    "f, ax = plt.subplots(nrows=6, ncols=1, figsize=(15, 15))\n",
    "\n",
    "old_temp = feat_and_lab['Temp.senzor vanj.1 25000099Temperatura (°C)'].copy()\n",
    "feat_and_lab['Temp.senzor vanj.1 25000099Temperatura (°C)']= feat_and_lab['Temp.senzor vanj.1 25000099Temperatura (°C)'].copy().replace(0, np.nan)\n",
    "\n",
    "sns.lineplot(x=file['Datum i vrijeme'], y=old_temp, ax=ax[0], color='darkorange', label='original')\n",
    "sns.lineplot(x=file['Datum i vrijeme'], y=feat_and_lab['Temp.senzor vanj.1 25000099Temperatura (°C)'].fillna(np.inf), ax=ax[0], color='dodgerblue', label='modified')\n",
    "ax[0].set_title('Feature: Temperatura', fontsize=14)\n",
    "ax[0].set_ylabel(ylabel='Temperatura', fontsize=14)\n",
    "\n",
    "\n",
    "old_gas_east = feat_and_lab['Plinomjer ist.zgrada 00062313Plin (m3)'].copy()\n",
    "feat_and_lab['Plinomjer ist.zgrada 00062313Plin (m3)'] = feat_and_lab['Plinomjer ist.zgrada 00062313Plin (m3)'].replace(0, np.nan)\n",
    "\n",
    "sns.lineplot(x=file['Datum i vrijeme'], y=old_gas_east, ax=ax[1], color='darkorange', label='original')\n",
    "sns.lineplot(x=file['Datum i vrijeme'], y=feat_and_lab['Plinomjer ist.zgrada 00062313Plin (m3)'].fillna(np.inf), ax=ax[1], color='dodgerblue', label='modified')\n",
    "ax[1].set_title('Feature: Gas - east', fontsize=14)\n",
    "ax[1].set_ylabel(ylabel='Gas - east', fontsize=14)\n",
    "\n",
    "old_gas_west = feat_and_lab['Plinomjer zap.zgrada 20526377Plin (m3)'].copy()\n",
    "feat_and_lab['Plinomjer zap.zgrada 20526377Plin (m3)'] = feat_and_lab['Plinomjer zap.zgrada 20526377Plin (m3)'].replace(0, np.nan)\n",
    "\n",
    "sns.lineplot(x=file['Datum i vrijeme'], y=old_gas_west, ax=ax[2], color='darkorange', label='original')\n",
    "sns.lineplot(x=file['Datum i vrijeme'], y=feat_and_lab['Plinomjer zap.zgrada 20526377Plin (m3)'].fillna(np.inf), ax=ax[2], color='dodgerblue', label='modified')\n",
    "ax[2].set_title('Feature: Gas - west', fontsize=14)\n",
    "ax[2].set_ylabel(ylabel='Gas - west', fontsize=14)\n",
    "\n",
    "old_cal_1 = feat_and_lab[\"Kalorimetar 1 39024788Topl.energija (MWh)\"].copy()\n",
    "feat_and_lab[\"Kalorimetar 1 39024788Topl.energija (MWh)\"] = feat_and_lab[\"Kalorimetar 1 39024788Topl.energija (MWh)\"].replace(0, np.nan)\n",
    "\n",
    "sns.lineplot(x=file['Datum i vrijeme'], y=old_cal_1, ax=ax[3], color='darkorange', label='original')\n",
    "sns.lineplot(x=file['Datum i vrijeme'], y=feat_and_lab[\"Kalorimetar 1 39024788Topl.energija (MWh)\"].fillna(np.inf), ax=ax[3], color='dodgerblue', label='modified')\n",
    "ax[3].set_title('Feature: Kalorimetar 1', fontsize=14)\n",
    "ax[3].set_ylabel(ylabel='Kalorimetar 1', fontsize=14)\n",
    "\n",
    "old_cal_3 = feat_and_lab[\"Kalorimetar 3 39024787Topl.energija (MWh)\"].copy()\n",
    "feat_and_lab[\"Kalorimetar 3 39024787Topl.energija (MWh)\"] = feat_and_lab[\"Kalorimetar 3 39024787Topl.energija (MWh)\"].replace(0, np.nan)\n",
    "\n",
    "sns.lineplot(x=file['Datum i vrijeme'], y=old_cal_3, ax=ax[4], color='darkorange', label='original')\n",
    "sns.lineplot(x=file['Datum i vrijeme'], y=feat_and_lab[\"Kalorimetar 3 39024787Topl.energija (MWh)\"].fillna(np.inf), ax=ax[4], color='dodgerblue', label='modified')\n",
    "ax[4].set_title('Feature: Kalorimetar 3', fontsize=14)\n",
    "ax[4].set_ylabel(ylabel='Kalorimetar 3', fontsize=14)\n",
    "\n",
    "old_cal = feat_and_lab[\"Kalorimetar, (MWh)\"].copy()\n",
    "feat_and_lab[\"Kalorimetar, (MWh)\"] = feat_and_lab[\"Kalorimetar, (MWh)\"].replace(0, np.nan)\n",
    "\n",
    "sns.lineplot(x=file['Datum i vrijeme'], y=old_cal, ax=ax[5], color='darkorange', label='original')\n",
    "sns.lineplot(x=file['Datum i vrijeme'], y=feat_and_lab[\"Kalorimetar, (MWh)\"].fillna(np.inf), ax=ax[5], color='dodgerblue', label='modified')\n",
    "ax[5].set_title('Feature: Kalorimetar -ukupno', fontsize=14)\n",
    "ax[5].set_ylabel(ylabel='Kalorimetar-ukupno ', fontsize=14)"
   ]
  },
  {
   "cell_type": "code",
   "execution_count": null,
   "id": "f4584839",
   "metadata": {},
   "outputs": [],
   "source": [
    "for col in feat_and_lab.columns:\n",
    "    feat_and_lab[col] = feat_and_lab[col].interpolate(method=\"bfill\")"
   ]
  },
  {
   "cell_type": "code",
   "execution_count": null,
   "id": "bc06b9d9",
   "metadata": {},
   "outputs": [],
   "source": [
    "feat_and_lab.isna().sum()"
   ]
  },
  {
   "cell_type": "code",
   "execution_count": null,
   "id": "556370df",
   "metadata": {},
   "outputs": [],
   "source": [
    "feat_and_lab.columns"
   ]
  },
  {
   "cell_type": "code",
   "execution_count": null,
   "id": "2ac031a8",
   "metadata": {},
   "outputs": [],
   "source": [
    "columns1=feat_and_lab.columns\n",
    "downsample=feat_and_lab[columns1].resample(\"7D\", on=\"Datum i vrijeme\").mean()\n",
    "\n",
    "feat_and_lab_1= downsample.copy()"
   ]
  },
  {
   "cell_type": "code",
   "execution_count": null,
   "id": "52ea0edf",
   "metadata": {},
   "outputs": [],
   "source": [
    "feat_and_lab.isna().sum()"
   ]
  },
  {
   "cell_type": "code",
   "execution_count": null,
   "id": "f9fb19d2",
   "metadata": {},
   "outputs": [],
   "source": [
    "#Merged files has been manually modified \n",
    "feat_and_lab_1 [\"Dan u sedmici\"]=pd.DatetimeIndex(feat_and_lab_1.index).dayofweek\n",
    "feat_and_lab_1 [\"Mjesec\"]=pd.DatetimeIndex(feat_and_lab_1.index).month\n",
    "feat_and_lab_1 [\"Godina\"]=pd.DatetimeIndex(feat_and_lab_1.index).year\n",
    "feat_and_lab_1 ['Kvartal'] =pd.DatetimeIndex(feat_and_lab_1.index).quarter\n",
    "feat_and_lab_1 ['Dan u godini'] =pd.DatetimeIndex(feat_and_lab_1.index).dayofyear\n",
    "feat_and_lab_1 ['Dan u mjesecu'] = pd.DatetimeIndex(feat_and_lab_1.index).day\n",
    "feat_and_lab_1 ['Sedmica'] =pd.DatetimeIndex(feat_and_lab_1.index).weekofyear\n",
    "feat_and_lab_1 ['Sezona'] = feat_and_lab_1 ['Mjesec'] % 12 // 3 + 1\n",
    "\n",
    "feat_and_lab_1 [[ \"Dan u sedmici\", \"Mjesec\", \"Godina\", 'Kvartal', 'Dan u godini', 'Dan u mjesecu', 'Sedmica',\"Sezona\"]].head()"
   ]
  },
  {
   "cell_type": "code",
   "execution_count": null,
   "id": "49d33f53",
   "metadata": {},
   "outputs": [],
   "source": [
    "for col in feat_and_lab_1.columns:\n",
    "    feat_and_lab_1[col] = feat_and_lab_1[col].interpolate()\n",
    "feat_and_lab_1.isna().sum()"
   ]
  },
  {
   "cell_type": "code",
   "execution_count": null,
   "id": "20b66be2",
   "metadata": {},
   "outputs": [],
   "source": [
    "from statsmodels.tsa.seasonal import seasonal_decompose\n",
    "\n",
    "core_columns =  [\"Temp.senzor vanj.1 25000099Temperatura (°C)\",\"Plinomjer ist.zgrada 00062313Plin (m3)\",\"Plinomjer zap.zgrada 20526377Plin (m3)\",\"Plin, m3\",\"Kalorimetar 1 39024788Topl.energija (MWh)\",\"Kalorimetar 3 39024787Topl.energija (MWh)\",\"Kalorimetar, (MWh)\"\n",
    "]\n",
    "\n",
    "for column in core_columns:\n",
    "    decomp = seasonal_decompose(feat_and_lab_1[column], period=27, model='additive', extrapolate_trend='freq')\n",
    "    feat_and_lab_1[f\"{column}_trend\"] = decomp.trend\n",
    "    feat_and_lab_1[f\"{column}_seasonal\"] = decomp.seasonal"
   ]
  },
  {
   "cell_type": "code",
   "execution_count": null,
   "id": "4ae38a6a",
   "metadata": {},
   "outputs": [],
   "source": [
    "fig, ax = plt.subplots(ncols=len(core_columns), nrows=4, sharex=True, figsize=(20,8))\n",
    "\n",
    "for i, column in enumerate(core_columns):\n",
    "    \n",
    "    res = seasonal_decompose(feat_and_lab_1[column], freq=52, model='additive', extrapolate_trend='freq')\n",
    "\n",
    "    ax[0,i].set_title('Decomposition of {}'.format(column), fontsize=16)\n",
    "    res.observed.plot(ax=ax[0,i], legend=False, color='dodgerblue')\n",
    "    ax[0,i].set_ylabel('Observed', fontsize=7)\n",
    "\n",
    "    res.trend.plot(ax=ax[1,i], legend=False, color='dodgerblue')\n",
    "    ax[1,i].set_ylabel('Trend', fontsize=7)\n",
    "\n",
    "    res.seasonal.plot(ax=ax[2,i], legend=False, color='dodgerblue')\n",
    "    ax[2,i].set_ylabel('Seasonal', fontsize=7)\n",
    "    \n",
    "    res.resid.plot(ax=ax[3,i], legend=False, color='dodgerblue')\n",
    "    ax[3,i].set_ylabel('Residual', fontsize=7)\n",
    "\n",
    "plt.show()"
   ]
  },
  {
   "cell_type": "code",
   "execution_count": null,
   "id": "fc4ba998",
   "metadata": {},
   "outputs": [],
   "source": [
    "f, ax = plt.subplots(nrows=1, ncols=1, figsize=(20, 3))\n",
    "\n",
    "sns.lineplot(x=feat_and_lab_1.index, y=feat_and_lab_1['Mjesec'], color='dodgerblue')\n",
    "\n",
    "plt.show()"
   ]
  },
  {
   "cell_type": "code",
   "execution_count": null,
   "id": "eed8b46d",
   "metadata": {},
   "outputs": [],
   "source": [
    "month_in_year = 12\n",
    "feat_and_lab_1['month_sin'] = np.sin(2*np.pi*feat_and_lab_1['Mjesec']/month_in_year)\n",
    "feat_and_lab_1['month_cos'] = np.cos(2*np.pi*feat_and_lab_1['Mjesec']/month_in_year)\n",
    "\n",
    "f, ax = plt.subplots(nrows=1, ncols=1, figsize=(6, 6))\n",
    "\n",
    "sns.scatterplot(x=feat_and_lab_1.month_sin, y=feat_and_lab_1.month_cos, color='dodgerblue')\n",
    "plt.show()"
   ]
  },
  {
   "cell_type": "code",
   "execution_count": null,
   "id": "f89f9d10",
   "metadata": {},
   "outputs": [],
   "source": [
    "f, ax = plt.subplots(nrows=len(core_columns), ncols=1, figsize=(15, 20))\n",
    "f.suptitle('Seasonal Components of Features', fontsize=10)\n",
    "\n",
    "for i, column in enumerate(core_columns):\n",
    "    sns.lineplot(x=feat_and_lab_1.index, y=feat_and_lab_1[column + '_seasonal'], ax=ax[i], color='dodgerblue', label='P25')\n",
    "    ax[i].set_ylabel(ylabel=column, fontsize=10)\n",
    "\n",
    "plt.tight_layout()\n",
    "plt.show()"
   ]
  },
  {
   "cell_type": "code",
   "execution_count": null,
   "id": "1089bea7",
   "metadata": {},
   "outputs": [],
   "source": [
    "feat_and_lab_1.columns\n"
   ]
  },
  {
   "cell_type": "code",
   "execution_count": null,
   "id": "82934235",
   "metadata": {},
   "outputs": [],
   "source": [
    "feat_and_lab"
   ]
  },
  {
   "cell_type": "code",
   "execution_count": null,
   "id": "4364bdcb",
   "metadata": {},
   "outputs": [],
   "source": [
    "from statsmodels.tsa.arima_model import ARIMA\n",
    "#aa=feat_and_lab.index.values\n",
    "aa=feat_and_lab_1.index"
   ]
  },
  {
   "cell_type": "code",
   "execution_count": null,
   "id": "0fe27fdc",
   "metadata": {},
   "outputs": [],
   "source": [
    "#univariate_df[\"Datum i vrijeme\"]=aa\n",
    "univariate_df=pd.DataFrame(aa)\n",
    "#univariate_df[\"Temp.senzor vanj.1 25000099Temperatura (°C)\"]=feat_and_lab_1[\"Temp.senzor vanj.1 25000099Temperatura (°C)\"].values\n",
    "univariate_df[\"Temp pol\"]=feat_and_lab_1['Temp.senzor un.1 24003403Temp.pol.voda (°C)'].values\n",
    "univariate_df[\"Temp pov\"]=feat_and_lab_1['Temp.senzor un.1 24003403Temp.pov.voda (°C)'].values\n",
    "univariate_df[\"Temp \"]=feat_and_lab_1['Temp.senzor un.4 24004658Temperatura (°C)'].values\n",
    "#univariate_df[\"Plin, m3\"]=feat_and_lab_1[\"Plin, m3\"].values"
   ]
  },
  {
   "cell_type": "code",
   "execution_count": null,
   "id": "89fe6a8d",
   "metadata": {},
   "outputs": [],
   "source": [
    "univariate_df"
   ]
  },
  {
   "cell_type": "code",
   "execution_count": null,
   "id": "050bb44b",
   "metadata": {},
   "outputs": [],
   "source": [
    "train_size = int(0.85 * len(feat_and_lab_1))\n",
    "test_size = len(feat_and_lab_1) - train_size\n",
    "\n",
    "\n",
    "train = univariate_df.iloc[:train_size, :]\n",
    "\n",
    "x_train, y_train = pd.DataFrame((univariate_df.iloc[:train_size, :3])),  pd.DataFrame((univariate_df.iloc[:train_size,3 ]))\n",
    "x_valid, y_valid = pd.DataFrame((univariate_df.iloc[train_size:,:3])), pd.DataFrame((univariate_df.iloc[train_size:, 3]))\n",
    "\n",
    "print(len(train), len(x_valid))"
   ]
  },
  {
   "cell_type": "code",
   "execution_count": null,
   "id": "9982458d",
   "metadata": {},
   "outputs": [],
   "source": [
    "y_valid"
   ]
  },
  {
   "cell_type": "code",
   "execution_count": null,
   "id": "f98d2950",
   "metadata": {},
   "outputs": [],
   "source": [
    "from sklearn.metrics import mean_absolute_error, mean_squared_error\n",
    "import math"
   ]
  },
  {
   "cell_type": "code",
   "execution_count": null,
   "id": "cb74b696",
   "metadata": {},
   "outputs": [],
   "source": [
    "y_train"
   ]
  },
  {
   "cell_type": "code",
   "execution_count": null,
   "id": "9c289556",
   "metadata": {},
   "outputs": [],
   "source": [
    "y_train.isna().sum()"
   ]
  },
  {
   "cell_type": "code",
   "execution_count": null,
   "id": "36c46451",
   "metadata": {},
   "outputs": [],
   "source": [
    "y_train.interpolate()"
   ]
  },
  {
   "cell_type": "code",
   "execution_count": null,
   "id": "7bff46a3",
   "metadata": {},
   "outputs": [],
   "source": [
    "# Fit model\n",
    "model = ARIMA(y_train.interpolate(), order=(1,0,1))\n",
    "model_fit = model.fit()\n",
    "\n",
    "# Prediction with ARIMA\n",
    "y_pred, se, conf = model_fit.forecast(21)\n",
    "\n",
    "# Calcuate metrics\n",
    "score_mae = mean_absolute_error(y_valid, y_pred)\n",
    "score_rmse = math.sqrt(mean_squared_error(y_valid, y_pred))\n",
    "\n",
    "print('RMSE: {}'.format(score_rmse))"
   ]
  },
  {
   "cell_type": "code",
   "execution_count": null,
   "id": "d1397ada",
   "metadata": {},
   "outputs": [],
   "source": [
    "from statsmodels.tsa.arima_model import ARIMA\n",
    "import pmdarima as pm\n",
    "model = pm.auto_arima(y_train.interpolate(), start_p=1, start_q=1,\n",
    "                      test='adf',       # use adftest to find optimal 'd'\n",
    "                      max_p=3, max_q=3, # maximum p and q\n",
    "                      m=1,              # frequency of series\n",
    "                      d=None,           # let model determine 'd'\n",
    "                      seasonal=False,   # No Seasonality\n",
    "                      start_P=0, \n",
    "                      D=0, \n",
    "                      trace=True,\n",
    "                      error_action='ignore',  \n",
    "                      suppress_warnings=True, \n",
    "                      stepwise=True)\n",
    "\n",
    "print(model.summary())"
   ]
  },
  {
   "cell_type": "code",
   "execution_count": null,
   "id": "239369d1",
   "metadata": {},
   "outputs": [],
   "source": [
    "model.ARIMAResults.plot_diagnostics(figsize=(16,8))\n",
    "plt.show()\n"
   ]
  },
  {
   "cell_type": "code",
   "execution_count": null,
   "id": "bf317ee5",
   "metadata": {},
   "outputs": [],
   "source": [
    "y_valid.columns\n"
   ]
  },
  {
   "cell_type": "code",
   "execution_count": null,
   "id": "3a2b5fa0",
   "metadata": {},
   "outputs": [],
   "source": [
    "f, ax = plt.subplots(1)\n",
    "f.set_figheight(6)\n",
    "f.set_figwidth(15)\n",
    "\n",
    "model_fit.plot_predict(1, 134, ax=ax)\n",
    "sns.lineplot(x=x_valid.index, y=y_valid['Temp '], ax=ax, color='orange', label='Ground truth') #navajowhite\n",
    "\n",
    "ax.set_title(f'Prediction \\n MAE: {score_mae:.2f}, RMSE: {score_rmse:.2f}', fontsize=14)\n",
    "ax.set_xlabel(xlabel='Date', fontsize=14)\n",
    "ax.set_ylabel(ylabel='Depth to Groundwater', fontsize=14)\n",
    "\n",
    "plt.show()"
   ]
  },
  {
   "cell_type": "code",
   "execution_count": null,
   "id": "87c0cb1e",
   "metadata": {},
   "outputs": [],
   "source": [
    "from datetime import date\n",
    "d0 = date(2015, 10, 15)\n",
    "d1 = date(2016, 4, 15)\n",
    "delta = d1 - d0\n",
    "print(delta.days)"
   ]
  },
  {
   "cell_type": "code",
   "execution_count": null,
   "id": "b9ab479f",
   "metadata": {},
   "outputs": [],
   "source": [
    "from sklearn.preprocessing import MinMaxScaler\n",
    "\n",
    "data = univariate_df.filter([\"Temp \"])\n",
    "#Convert the dataframe to a numpy array\n",
    "dataset = data.values"
   ]
  },
  {
   "cell_type": "code",
   "execution_count": null,
   "id": "101a8fce",
   "metadata": {},
   "outputs": [],
   "source": [
    "dataset"
   ]
  },
  {
   "cell_type": "code",
   "execution_count": null,
   "id": "d93383d8",
   "metadata": {},
   "outputs": [],
   "source": [
    "scaler = MinMaxScaler(feature_range=(-1, 0))\n",
    "scaled_data = scaler.fit_transform(dataset)\n",
    "\n",
    "scaled_data[:10]"
   ]
  },
  {
   "cell_type": "code",
   "execution_count": null,
   "id": "3724a82f",
   "metadata": {},
   "outputs": [],
   "source": [
    "# Defines the rolling window\n",
    "\n",
    "# reshape input to be [samples, time steps, features]\n",
    "x_train = np.reshape(x_train, (x_train.shape[0], 1, x_train.shape[1]))\n",
    "x_test = np.reshape(x_test, (x_test.shape[0], 1, x_test.shape[1]))\n",
    "\n",
    "print(len(x_train), len(x_test))"
   ]
  },
  {
   "cell_type": "code",
   "execution_count": null,
   "id": "931bf641",
   "metadata": {},
   "outputs": [],
   "source": [
    "x_train"
   ]
  },
  {
   "cell_type": "code",
   "execution_count": null,
   "id": "11d5297a",
   "metadata": {},
   "outputs": [],
   "source": [
    "from tensorflow import keras\n",
    "from tensorflow.keras.models import Sequential\n",
    "from tensorflow.keras.layers import Dense, LSTM\n",
    "\n",
    "model = Sequential()\n",
    "model.add(LSTM(128, return_sequences=True, input_shape=(x_train.shape[0], x_train.shape[1])))\n",
    "model.add(LSTM(64, return_sequences=False))\n",
    "model.add(Dense(25))\n",
    "model.add(Dense(1))\n",
    "\n",
    "# Compile the model\n",
    "model.compile(optimizer='adam', loss='mean_squared_error')\n",
    "\n",
    "#Train the model\n",
    "model.fit(x_train, y_train, batch_size=1, epochs=5, validation_data=(x_test, y_test))\n",
    "\n",
    "model.summary()"
   ]
  },
  {
   "cell_type": "code",
   "execution_count": null,
   "id": "13fb404e",
   "metadata": {},
   "outputs": [],
   "source": [
    "# Lets predict with the model\n",
    "train_predict = model.predict(x_train)\n",
    "test_predict = model.predict(x_test)\n",
    "\n",
    "# invert predictions\n",
    "train_predict = scaler.inverse_transform(train_predict)\n",
    "y_train = scaler.inverse_transform([y_train])\n",
    "\n",
    "test_predict = scaler.inverse_transform(test_predict)\n",
    "y_test = scaler.inverse_transform([y_test])\n",
    "\n",
    "# Get the root mean squared error (RMSE) and MAE\n",
    "score_rmse = np.sqrt(mean_squared_error(y_test[0], test_predict[:,0]))\n",
    "score_mae = mean_absolute_error(y_test[0], test_predict[:,0])\n",
    "print('RMSE: {}'.format(score_rmse))"
   ]
  },
  {
   "cell_type": "code",
   "execution_count": null,
   "id": "abad6e7b",
   "metadata": {},
   "outputs": [],
   "source": []
  }
 ],
 "metadata": {
  "kernelspec": {
   "display_name": "Python 3",
   "language": "python",
   "name": "python3"
  },
  "language_info": {
   "codemirror_mode": {
    "name": "ipython",
    "version": 3
   },
   "file_extension": ".py",
   "mimetype": "text/x-python",
   "name": "python",
   "nbconvert_exporter": "python",
   "pygments_lexer": "ipython3",
   "version": "3.8.11"
  }
 },
 "nbformat": 4,
 "nbformat_minor": 5
}
